{
 "cells": [
  {
   "cell_type": "markdown",
   "id": "53876e26",
   "metadata": {},
   "source": [
    "# Notebook Context\n",
    "\n",
    "This is 4 of 6 Jupyter Notebooks associated with the used car project.\n",
    "\n",
    "Data cleaning, feature engineering and merging of data sources are performed before presenting some exploratory data analysis. This notebook takes input data from [01_AutoTrader_scrape](https://github.com/rgdavies92/used-car-value/blob/main/01_AutoTrader_scrape.ipynb), [02_Carsized_scrape](https://github.com/rgdavies92/used-car-value/blob/main/02_Carsized_scrape.ipynb) and [03_GeoCoding](https://github.com/rgdavies92/used-car-value/blob/main/03_GeoCoding.ipynb)."
   ]
  },
  {
   "cell_type": "code",
   "execution_count": 1,
   "id": "830b6570",
   "metadata": {
    "ExecuteTime": {
     "end_time": "2022-03-09T21:28:22.573347Z",
     "start_time": "2022-03-09T21:28:19.439173Z"
    },
    "code_folding": [
     0
    ]
   },
   "outputs": [],
   "source": [
    "# Import packages \n",
    "\n",
    "import pandas as pd\n",
    "import glob\n",
    "import numpy as np\n",
    "import re\n",
    "import regex\n",
    "import time\n",
    "import random\n",
    "import scipy.stats as stats\n",
    "import itertools\n",
    "from tqdm import tqdm\n",
    "from sklearn.preprocessing import LabelEncoder\n",
    "import requests\n",
    "import cloudscraper\n",
    "from bs4 import BeautifulSoup\n",
    "import urllib.parse\n",
    "import matplotlib.pyplot as plt\n",
    "import seaborn as sns\n",
    "import warnings\n",
    "from statsmodels.tools.tools import add_constant\n",
    "from statsmodels.stats.outliers_influence import variance_inflation_factor\n",
    "warnings.simplefilter(action='ignore', category=FutureWarning)"
   ]
  },
  {
   "cell_type": "markdown",
   "id": "d23ae169",
   "metadata": {},
   "source": [
    "# Import and clean cars"
   ]
  },
  {
   "cell_type": "markdown",
   "id": "f3f7668a",
   "metadata": {},
   "source": [
    "The scraped cars will be cleaned in four different batches.\n",
    "\n",
    "* Used cars - not electric\n",
    "    * Starting with 374854 cars and ending with 373912\n",
    "* Used cars - electric\n",
    "    * Starting with 4887 cars and ending with 4740\n",
    "* New cars - not electric\n",
    "    * Starting with 18906 cars and ending with 18890\n",
    "* New cars - electric\n",
    "    * Starting with 2816 cars and ending with 2764\n",
    "\n",
    "The cleaning method is very similar for each batch, with differences occurring in the way engine size is handled for electric/non-electric vehicles. \n",
    "\n",
    "I have heavily commented the code for the *Used cars - not electric* cleaning section with a slightly liter code commenting approach on the subsequent 3 batches as the method is very repetitive. If ever the approach is unclear, I would suggest checking the corresponding cleaning stage in the *Used cars - not electric* section."
   ]
  },
  {
   "cell_type": "markdown",
   "id": "ef393a5c",
   "metadata": {},
   "source": [
    "## Used cars - not electric"
   ]
  },
  {
   "cell_type": "code",
   "execution_count": 2,
   "id": "d49f0c28",
   "metadata": {
    "ExecuteTime": {
     "end_time": "2022-03-09T21:28:33.361446Z",
     "start_time": "2022-03-09T21:28:22.577061Z"
    },
    "code_folding": [
     0
    ]
   },
   "outputs": [
    {
     "name": "stdout",
     "output_type": "stream",
     "text": [
      "DataFrame shape: (374854, 20)\n"
     ]
    }
   ],
   "source": [
    "# Import all detailed files and make cars df, including year \n",
    "\n",
    "path = r'/Users/robertdavies/Desktop/DSI/GA_P2/LargeDatasets/raw/df_detailed'\n",
    "\n",
    "li=[]\n",
    "\n",
    "# For each year between 1990 and 2021, import each used car file with glob package\n",
    "for year in range(1990,2022):\n",
    "    year_files = glob.glob(path + f\"/*{year}*used.csv\")\n",
    "    for filename in year_files:\n",
    "        # Make it into a dataframe\n",
    "        df = pd.read_csv(filename, index_col=None, header=0 )\n",
    "        # Assign YR variable - this was only possible because of the way in which they were gathered\n",
    "        df['YR'] = year\n",
    "        # Drop diplicates within a file - highly possible because of the AutoTrader searching method implemented\n",
    "        df.drop_duplicates(subset=['link'], keep='first', inplace=True)\n",
    "        # Append to a list of dataframes\n",
    "        li.append(df)\n",
    "\n",
    "# Concatenate all dataframes and drop duplicates again\n",
    "ucars = pd.concat(li, axis=0, ignore_index=True)\n",
    "ucars.drop_duplicates(subset=['link'], keep='first', inplace=True)\n",
    "print('DataFrame shape:',ucars.shape)"
   ]
  },
  {
   "cell_type": "code",
   "execution_count": 3,
   "id": "c0f7ca2f",
   "metadata": {
    "ExecuteTime": {
     "end_time": "2022-03-09T21:31:06.930611Z",
     "start_time": "2022-03-09T21:28:33.364491Z"
    },
    "code_folding": [
     0
    ]
   },
   "outputs": [
    {
     "name": "stdout",
     "output_type": "stream",
     "text": [
      "DataFrame shape: (374854, 20)\n"
     ]
    }
   ],
   "source": [
    "# Clean cars.body \n",
    "\n",
    "# This block of code uses label encoder to transform the body variable, then imputs the missing body data\n",
    "# with the modal value for the specified car name. \n",
    "\n",
    "# In hindsight there may be a better way to do this without using label encoder but it isn't broken so I won't\n",
    "# try to fix it here. \n",
    "\n",
    "#Create df of cars will null body\n",
    "nabody = ucars[ucars['body'].isnull()].copy()\n",
    "\n",
    "#Encode body column but don't overwrite\n",
    "to_encode = ['body']\n",
    "cars_e = ucars.copy()\n",
    "for col in to_encode:\n",
    "    le = LabelEncoder()\n",
    "    cars_e[col] = le.fit_transform(cars_e[col]) \n",
    "\n",
    "#Iterate through null-body cars and replace with corresponding modal body value based on name column grouping\n",
    "for index, car in nabody.iterrows():\n",
    "    carname=nabody.loc[index,'name']\n",
    "    body=nabody.loc[index,'body']\n",
    "    nabody.loc[index,'body'] = cars_e[cars_e['name']==carname].body.mode()[0]\n",
    "    cars_e.loc[index,'body'] = cars_e[cars_e['name']==carname].body.mode()[0]     \n",
    "\n",
    "#Reverse the encoding    \n",
    "for col in to_encode:\n",
    "    ucars[col] = le.inverse_transform(cars_e[col]) \n",
    "\n",
    "#After checking the remaining cars without a body, it is clear that they are all vans!    \n",
    "ucars.body = ['Van' if pd.Series(x).isnull()[0]==True else x for x in ucars.body]        \n",
    "\n",
    "print('DataFrame shape:',ucars.shape)"
   ]
  },
  {
   "cell_type": "code",
   "execution_count": 4,
   "id": "5bb7fbd3",
   "metadata": {
    "ExecuteTime": {
     "end_time": "2022-03-09T21:31:08.654056Z",
     "start_time": "2022-03-09T21:31:06.937421Z"
    },
    "code_folding": [
     0
    ]
   },
   "outputs": [
    {
     "name": "stdout",
     "output_type": "stream",
     "text": [
      "DataFrame shape: (374590, 20)\n"
     ]
    }
   ],
   "source": [
    "# Clean cars.BHP, taking values from cars.engine where necessary. Drop remaining 264 NaN. \n",
    "\n",
    "# Unmerge some of the BHP entries which have engine size in there too.\n",
    "for index, car in ucars[ucars['BHP'].str.contains('L', regex=True, na=False)].iterrows():\n",
    "    ucars.loc[index, 'engine'] = str(ucars.loc[index, 'BHP']).split(' ')[0]\n",
    "    ucars.loc[index, 'BHP'] = str(ucars.loc[index, 'BHP']).split(' ')[1].strip('()') \n",
    "\n",
    "# Drop NaN BHP - this is only 264 cars\n",
    "ucars.dropna(subset=['BHP'],inplace=True)\n",
    "\n",
    "# This function is necessary because some BHP stats were reported in terms of PS, the German (almost) equivalent.\n",
    "# It does what it says on the tin - standardises BHP stats to be in units of BHP.\n",
    "def standardise_bhp(x):\n",
    "    lenbhp = len(str(x).split(' '))\n",
    "    bhp=x\n",
    "    if lenbhp == 1:\n",
    "        if 'BHP' in x:\n",
    "            bhp=float(re.findall('[0-9]+', x)[0])       \n",
    "        elif 'PS' in x:\n",
    "            ps=float(re.findall('[0-9]+', x)[0])\n",
    "            bhp = ps/1.014        \n",
    "    elif lenbhp == 2:\n",
    "        x=str(x.split(' ')[-1])\n",
    "        if 'BHP' in x:\n",
    "            bhp=float(re.findall('[0-9]+', x)[0])      \n",
    "        elif 'PS' in x:\n",
    "            ps=float(re.findall('[0-9]+', x)[0])\n",
    "            bhp = ps/1.014\n",
    "    else:\n",
    "        bhp=np.nan   \n",
    "    return bhp    \n",
    "\n",
    "#Standardise remaining BHP (convert from PS)\n",
    "ucars.BHP = ucars.BHP.apply(lambda x: standardise_bhp(x))\n",
    "\n",
    "print('DataFrame shape:',ucars.shape)"
   ]
  },
  {
   "cell_type": "code",
   "execution_count": 5,
   "id": "dd1bd36f",
   "metadata": {
    "ExecuteTime": {
     "end_time": "2022-03-09T21:31:36.637420Z",
     "start_time": "2022-03-09T21:31:08.656798Z"
    },
    "code_folding": []
   },
   "outputs": [
    {
     "name": "stdout",
     "output_type": "stream",
     "text": [
      "DataFrame shape: (374590, 21)\n"
     ]
    }
   ],
   "source": [
    "# Compile the best location variable. Retain dealer_city and dealer_area. Don't drop remaining NaN. \n",
    "\n",
    "# Split href0 into city and area\n",
    "ucars['dealer_city_temp'] = [x.split('/')[3] if type(x)==str and len(x.split('/'))>3 else x for x in ucars.href0]\n",
    "ucars['dealer_area'] = [x.split('/')[2] if type(x)==str and len(x.split('/'))>3 else x for x in ucars.href0]\n",
    "\n",
    "# There are some seller ratings in seller0, move them to seller1\n",
    "# This line causes a warning. In the end I don't even use the seller ratings in the model so\n",
    "# I have left this alone. It could even be commented out with no impact on the project.\n",
    "ucars[ucars['seller0'].str.contains('[+-]?([0-9]*[.])?[0-9]+', regex=True, na=False)].seller1 = ucars[ucars['seller0'].str.contains('[+-]?([0-9]*[.])?[0-9]+', regex=True, na=False)].seller0\n",
    "\n",
    "# Make seller ratings in seller0 np.nan\n",
    "ucars.seller0 =[np.nan if '4' in str(x) or '5' in str(x) else x for x in ucars.seller0]\n",
    "\n",
    "# If the seller0 column is np.nan, use the dealer_city \n",
    "for index, car in ucars.iterrows():\n",
    "    if pd.isnull(ucars.loc[index,'seller0']):\n",
    "        ucars.loc[index,'seller0']=ucars.loc[index,'dealer_city_temp']\n",
    "        \n",
    "# Define dealer_city column and drop surplus data\n",
    "ucars['dealer_city'] = ucars['seller0']\n",
    "ucars.drop(['seller0','dealer_city_temp'],inplace=True, axis=1)\n",
    "\n",
    "print('DataFrame shape:',ucars.shape)"
   ]
  },
  {
   "cell_type": "code",
   "execution_count": 6,
   "id": "c340e413",
   "metadata": {
    "ExecuteTime": {
     "end_time": "2022-03-09T21:31:38.339311Z",
     "start_time": "2022-03-09T21:31:36.640437Z"
    },
    "code_folding": [
     0
    ]
   },
   "outputs": [
    {
     "name": "stdout",
     "output_type": "stream",
     "text": [
      "DataFrame shape: (374485, 21)\n"
     ]
    }
   ],
   "source": [
    "# Iterate over missing engine rows and use RegEx on name_subtitle to extract engine size where possible. \n",
    "\n",
    "# As mentioned above, if the engine data is null, try to recover it from the name_subtitle with RegEx\n",
    "for index, car in ucars[ucars['engine'].isnull()].iterrows():\n",
    "    car_subname = ucars.loc[index, 'name_subtitle']\n",
    "    try:\n",
    "        enginesize = re.findall('([0-9][.][0-9]+)',car_subname)[0]\n",
    "    except: \n",
    "        enginesize = np.nan\n",
    "    ucars.loc[index,'engine'] = float(enginesize)\n",
    "\n",
    "# Remove L from each engine size.\n",
    "ucars.engine= ucars.engine.apply(lambda x: float(str(x).replace('L','')))\n",
    "\n",
    "# Drop remaining 105 used cars without engine size.\n",
    "ucars.dropna(subset=['engine'],inplace=True)\n",
    "\n",
    "print('DataFrame shape:',ucars.shape)"
   ]
  },
  {
   "cell_type": "code",
   "execution_count": 7,
   "id": "c2a63b83",
   "metadata": {
    "ExecuteTime": {
     "end_time": "2022-03-09T21:32:40.592905Z",
     "start_time": "2022-03-09T21:31:38.343075Z"
    },
    "code_folding": [
     0
    ]
   },
   "outputs": [
    {
     "name": "stdout",
     "output_type": "stream",
     "text": [
      "DataFrame shape: (374231, 22)\n"
     ]
    }
   ],
   "source": [
    "# Make cars.doors \n",
    "\n",
    "# Function to pull the number of doors out of the name_subtitle column.\n",
    "# Strucutre of the door information was studied and captured in these four RegEx expressions.\n",
    "def extract_drs(x):\n",
    "    drs = re.findall('( [1-8]d[Rr]?)',x, re.I)\n",
    "    if len(drs) > 0:\n",
    "        drs = str(drs[0]).lower()\n",
    "    else:\n",
    "        drs = re.findall('([1-8][ ]?door)',x, re.I)\n",
    "        if len(drs) > 0:\n",
    "            drs = str(drs[0])[0]+'dr'\n",
    "        else:\n",
    "            drs = re.findall('([1-8]dr)',x, re.I)\n",
    "            if len(drs) > 0:\n",
    "                drs = str(drs[0])[0]+'dr'\n",
    "            else:\n",
    "                drs = re.findall('(D-4D)',x, re.I)\n",
    "                if len(drs) > 0:\n",
    "                    drs = '4dr'\n",
    "                else:\n",
    "                    drs='0dr'\n",
    "                \n",
    "    if ('r' or 'R') not in drs:\n",
    "        drs = drs.replace('d','dr')\n",
    "    return drs.strip()\n",
    "\n",
    "# Apply the extract_drs function to name_subtitle\n",
    "ucars['doors'] = ucars.name_subtitle.apply(lambda x: extract_drs(x))\n",
    "\n",
    "# Now I pursue the same logice as with car body, replacing the 0drs cars number of doors with the modal value\n",
    "# for that specific name of car.\n",
    "\n",
    "#Create df of cars with 0 doors\n",
    "zerodoors = ucars[ucars['doors']=='0dr'].copy()\n",
    "\n",
    "#Encode doors column but don't overwrite\n",
    "to_encode = ['doors']\n",
    "cars_e = ucars.copy()\n",
    "for col in to_encode:\n",
    "    le = LabelEncoder()\n",
    "    cars_e[col] = le.fit_transform(cars_e[col]) \n",
    "\n",
    "#Iterate through zero door cars and replace with corresponding num doors based on name column grouping\n",
    "for index, car in zerodoors.iterrows():\n",
    "    carname=zerodoors.loc[index,'name']\n",
    "    cars_e.loc[index,'doors'] = cars_e[cars_e['name']==carname].doors.mode()[0]     \n",
    "\n",
    "#Reverse the encoding    \n",
    "for col in to_encode:\n",
    "    ucars[col] = le.inverse_transform(cars_e[col]) \n",
    "\n",
    "#Drop the remaining 254 cars without door information    \n",
    "ucars=ucars[ucars.doors!='0dr'].copy()\n",
    "ucars.dropna(subset=['doors'],inplace=True)\n",
    "    \n",
    "print('DataFrame shape:',ucars.shape)"
   ]
  },
  {
   "cell_type": "code",
   "execution_count": 8,
   "id": "bc5c34a7",
   "metadata": {
    "ExecuteTime": {
     "end_time": "2022-03-09T21:32:40.721379Z",
     "start_time": "2022-03-09T21:32:40.596846Z"
    },
    "code_folding": [
     0
    ]
   },
   "outputs": [
    {
     "name": "stdout",
     "output_type": "stream",
     "text": [
      "DataFrame shape: (373936, 22)\n"
     ]
    }
   ],
   "source": [
    "# Clean cars.mileage \n",
    "\n",
    "#Drop the NaN values - only 295 so I'm not overly worried\n",
    "ucars.dropna(subset=['mileage'],inplace=True)\n",
    "\n",
    "print('DataFrame shape:',ucars.shape)"
   ]
  },
  {
   "cell_type": "code",
   "execution_count": 9,
   "id": "5a623f04",
   "metadata": {
    "ExecuteTime": {
     "end_time": "2022-03-09T21:32:40.901987Z",
     "start_time": "2022-03-09T21:32:40.726040Z"
    },
    "code_folding": [
     0
    ]
   },
   "outputs": [
    {
     "name": "stdout",
     "output_type": "stream",
     "text": [
      "DataFrame shape: (373916, 22)\n"
     ]
    }
   ],
   "source": [
    "# Clean cars.fuel \n",
    "\n",
    "#Drop the NaN values - only 20 so I'm not overly worried\n",
    "ucars.dropna(subset=['fuel'],inplace=True)\n",
    "\n",
    "print('DataFrame shape:',ucars.shape)"
   ]
  },
  {
   "cell_type": "code",
   "execution_count": 10,
   "id": "96352500",
   "metadata": {
    "ExecuteTime": {
     "end_time": "2022-03-09T21:32:41.896261Z",
     "start_time": "2022-03-09T21:32:40.910383Z"
    },
    "code_folding": [
     0
    ]
   },
   "outputs": [
    {
     "name": "stdout",
     "output_type": "stream",
     "text": [
      "DataFrame shape: (373916, 23)\n"
     ]
    }
   ],
   "source": [
    "# Clean cars.price, make cars.ID, clean cars.year \n",
    "\n",
    "to_dummy=['drivetrain','make','body','transmission','fuel']\n",
    "\n",
    "ucars.price=ucars.price.apply(lambda x: x.replace('£',''))\n",
    "ucars.price=ucars.price.apply(lambda x: float(x.replace(',','')))\n",
    "ucars['id'] =[x.split('/')[-1] for x in ucars.link]\n",
    "ucars['year_reg']=ucars.year\n",
    "ucars['year']=ucars.YR\n",
    "ucars.drop('YR',inplace=True, axis=1)\n",
    "\n",
    "print('DataFrame shape:',ucars.shape)"
   ]
  },
  {
   "cell_type": "code",
   "execution_count": 11,
   "id": "fc504bf8",
   "metadata": {
    "ExecuteTime": {
     "end_time": "2022-03-09T21:32:44.213128Z",
     "start_time": "2022-03-09T21:32:41.899333Z"
    },
    "code_folding": [
     0
    ]
   },
   "outputs": [
    {
     "data": {
      "image/png": "[encoded data removed]",
      "text/plain": [
       "<Figure size 1152x576 with 4 Axes>"
      ]
     },
     "metadata": {
      "needs_background": "light"
     },
     "output_type": "display_data"
    }
   ],
   "source": [
    "# Have a peek at the price and mileage distribution. \n",
    "\n",
    "# This is really just a quick look. No outliers have been dropped.\n",
    "# You'll notice that I make a log-transofrm of the price and mileage data when obbserving the\n",
    "# distributions - this will be discussed later.\n",
    "\n",
    "ucars['log_price']=ucars.price.apply(lambda x: np.log(x))\n",
    "ucars['log_mileage']=ucars.mileage.apply(lambda x: np.log(x))\n",
    "\n",
    "# Logic to drop some outliers if wanted\n",
    "\n",
    "#mask = np.abs((ucars.price - ucars.price.mean(0)) / ucars.price.std(0)) > 3\n",
    "#ucars= ucars[~mask]\n",
    "#ucars.price.plot(kind='hist', bins=50, title='Car Price after outlier removal', xlabel='£');\n",
    "#mask = np.abs((ucars.mileage - ucars.mileage.mean(0)) / ucars.mileage.std(0)) > 3\n",
    "#ucars= ucars[~mask]\n",
    "#ucars.mileage.plot(kind='hist', bins=50, title='Car Mileage');\n",
    "\n",
    "fig, ax = plt.subplots(nrows=2, ncols=2, figsize=(16,8))\n",
    "ax[0,0].hist(ucars.price, bins=60)\n",
    "ax[0,1].hist(ucars.log_price, bins=60)\n",
    "ax[1,0].hist(ucars.mileage, bins=60)\n",
    "ax[1,1].hist(ucars.log_mileage, bins=60)\n",
    "ax[0,0].set_xlabel('£')\n",
    "ax[0,1].set_xlabel('£')\n",
    "ax[1,0].set_xlabel('Miles')\n",
    "ax[1,1].set_xlabel('Miles')\n",
    "ax[0,0].set_title('Price')\n",
    "ax[0,1].set_title('Log price')\n",
    "ax[1,0].set_title('Mileage')\n",
    "ax[1,1].set_title('Log-mileage')\n",
    "plt.tight_layout()\n",
    "plt.show()"
   ]
  },
  {
   "cell_type": "code",
   "execution_count": 12,
   "id": "f8eac958",
   "metadata": {
    "ExecuteTime": {
     "end_time": "2022-03-09T21:33:24.925957Z",
     "start_time": "2022-03-09T21:32:44.216206Z"
    },
    "code_folding": [
     9
    ],
    "tags": []
   },
   "outputs": [
    {
     "name": "stdout",
     "output_type": "stream",
     "text": [
      "DataFrame shape: (373916, 26)\n"
     ]
    }
   ],
   "source": [
    "# Simplify the cars.name column. Probably not perfect.\n",
    "\n",
    "# Save off the original name as on car listing\n",
    "ucars['orig_name'] = ucars.name\n",
    "ucars['lname']=ucars.name.apply(lambda x: x.lower())\n",
    "\n",
    "# Lists of potential car bodies and names from Carsized.com, see associated notebook.\n",
    "body =[\"coupe\", \"convertible\", \"estate\", \"hatchback\", \"MPV\", \"pickup\", \n",
    "       \"SUV\", \"saloon\",\"cabriolet\",\"sedan\"]\n",
    "name_list_from_carsized = ['abarth 500', 'acura nsx', 'alfa-romeo 147', 'alfa-romeo 156',\n",
    "       'alfa-romeo 159', 'alfa-romeo 164', 'alfa-romeo 4c',\n",
    "       'alfa-romeo giulia', 'alfa-romeo giulietta', 'alfa-romeo mito',\n",
    "       'alfa-romeo sprint', 'alfa-romeo stelvio', 'alvis tc 108',\n",
    "       'aston-martin db11', 'aston-martin dbx', 'aston-martin rapide',\n",
    "       'aston-martin vantage', 'audi 100', 'audi a1', 'audi a2',\n",
    "       'audi a3', 'audi a4', 'audi a5', 'audi a6', 'audi a7', 'audi a8',\n",
    "       'audi e tron', 'audi e tron gt', 'audi q2', 'audi q3',\n",
    "       'audi q4 e tron', 'audi q5', 'audi q7', 'audi q8', 'audi r8',\n",
    "       'audi tt', 'austin 7', 'austin healey 3000', 'bentley 3 5 litre',\n",
    "       'bentley bentayga', 'bentley continental flying spur',\n",
    "       'bentley continental gt', 'bentley flying spur', 'bmw 1 series', 'bmw 2 series',\n",
    "       'bmw 3 series', 'bmw 4 series', 'bmw 5 series', 'bmw 6 series', 'bmw 7 series', 'bmw 8 series',\n",
    "       'bmw i3', 'bmw i8', 'bmw isetta', 'bmw ix', 'bmw x1', 'bmw x2',\n",
    "       'bmw x3', 'bmw x4', 'bmw x5', 'bmw x6', 'bmw x7', 'bmw z4',\n",
    "       'buick skylark', 'cadillac ats', 'cadillac bls', 'cadillac cts',\n",
    "       'cadillac eldorado', 'cadillac escalade', 'cadillac seville',\n",
    "       'cadillac srx', 'cadillac xt5', 'chevrolet aveo',\n",
    "       'chevrolet bel air', 'chevrolet camaro', 'chevrolet caprice',\n",
    "       'chevrolet captiva', 'chevrolet corvette', 'chevrolet cruze',\n",
    "       'chevrolet epica', 'chevrolet equinox', 'chevrolet impala',\n",
    "       'chevrolet malibu', 'chevrolet matiz', 'chevrolet spark',\n",
    "       'chevrolet tahoe', 'chrysler 300', 'chrysler pt cruiser',\n",
    "       'chrysler sebring', 'chrysler voyager', 'citroen b14',\n",
    "       'citroen berlingo', 'citroen c crosser', 'citroen c elysee',\n",
    "       'citroen c1', 'citroen c3', 'citroen c3 aircross', 'citroen c4',\n",
    "       'citroen c4 cactus', 'citroen c4 picasso', 'citroen c5',\n",
    "       'citroen c5 aircross', 'citroen c8', 'citroen ds', 'citroen ds5',\n",
    "       'citroen jumpy', 'citroen space tourer', 'cupra ateca',\n",
    "       'cupra born', 'cupra formentor', 'cupra leon', 'dacia dokker',\n",
    "       'dacia duster', 'dacia lodgy', 'dacia logan', 'dacia sandero',\n",
    "       'daewoo lacetti', 'daihatsu sirion', 'daihatsu terios',\n",
    "       'daimler 250 v8', 'daimler six', 'dodge 880', 'dodge caliber',\n",
    "       'dodge challenger', 'dodge charger', 'dodge durango',\n",
    "       'dodge journey', 'dodge nitro', 'dodge ram', 'dodge viper', 'ds 3',\n",
    "       'ds 3 crossback', 'ds 4', 'ds 7 crossback', 'excalibur series ii',\n",
    "       'ferrari 458', 'ferrari 488', 'ferrari 512', 'ferrari california',\n",
    "       'ferrari california t', 'ferrari ff', 'ferrari gtc4lusso',\n",
    "       'ferrari sf90', 'ferrari testarossa', 'fiat 1100', 'fiat 500',\n",
    "       'fiat 500l', 'fiat 500x', 'fiat 600', 'fiat bravo', 'fiat croma',\n",
    "       'fiat freemont', 'fiat fullback', 'fiat panda', 'fiat punto',\n",
    "       'fiat qubo', 'fiat tipo', 'fisker karma', 'ford b max','fiat ducato'\n",
    "       'ford c max', 'ford cougar', 'ford ecosport', 'ford edge',\n",
    "       'ford escape', 'ford explorer', 'ford f150',\n",
    "       'ford fairlane 500 skyliner', 'ford fiesta', 'ford focus',\n",
    "       'ford galaxy', 'ford ka', 'ford kuga', 'ford model 48',\n",
    "       'ford model t', 'ford mondeo', 'ford mustang',\n",
    "       'ford mustang mach e', 'ford puma', 'ford ranger', 'ford s max',\n",
    "       'ford scorpio', 'ford taurus', 'ford tourneo',\n",
    "       'ford tourneo connect', 'ford tourneo courier', 'genesis g70',\n",
    "       'genesis g80', 'genesis gv70', 'genesis gv80', 'gmc sierra',\n",
    "       'gmc terrain', 'gmc yukon xl', 'honda accord', 'honda city',\n",
    "       'honda civic', 'honda cr v', 'honda e', 'honda hr v',\n",
    "       'honda jazz fit', 'honda nsx', 'honda odyssey', 'honda s',\n",
    "       'hummer h2', 'hyundai getz', 'hyundai i10', 'hyundai i20',\n",
    "       'hyundai i30', 'hyundai i40', 'hyundai ioniq', 'hyundai ioniq 5',\n",
    "       'hyundai ix20', 'hyundai kona', 'hyundai nexo', 'hyundai santa fe',\n",
    "       'hyundai tiburon', 'hyundai tucson', 'hyundai veloster',\n",
    "       'infinity fx', 'infinity q30', 'infiniti q50 sedan',\n",
    "       'infinity qx80', 'isuzu d max', 'jac refine e s2', 'jaguar e pace',\n",
    "       'jaguar e type', 'jaguar f pace', 'jaguar f type', 'jaguar i pace',\n",
    "       'jaguar x type', 'jaguar xe', 'jaguar xf', 'jaguar xj',\n",
    "       'jaguar xk', 'jaguar xk120', 'jeep cherokee', 'jeep compass',\n",
    "       'jeep wrangler', 'jeep grand cherokee', 'jeep renegade',\n",
    "       'kia carens', 'kia ceed', 'kia ev6', 'kia magentis', 'kia niro',\n",
    "       'kia picanto', 'kia rio', 'kia sorento', 'kia soul',\n",
    "       'kia sportage', 'kia stinger', 'kia stonic', 'kia venga',\n",
    "       'lada 2102', 'lada 4x4', 'lamborghini aventador',\n",
    "       'lamborghini huracan', 'lamborghini urus', 'lancia delta',\n",
    "       'lancia phedra', 'lancia ypsilon', 'land rover defender',\n",
    "       'land rover discovery', 'land rover discovery sport',\n",
    "       'land rover freelander', 'land rover range rover',\n",
    "       'land rover range rover evoque', 'land rover range rover sport',\n",
    "       'land rover range rover velar', 'lexus ct', 'lexus gs', 'lexus is',\n",
    "       'lexus ls', 'lexus lx', 'lexus nx', 'lexus rx', 'lexus sc',\n",
    "       'lexus ux', 'lincoln mkx', 'lincoln navigator', 'lincoln town car',\n",
    "       'lotus elan', 'lotus elise', 'maserati ghibli',\n",
    "       'maserati granturismo', 'maserati levante',\n",
    "       'maserati quattroporte', 'maybach 57', 'mazda 2', 'mazda 3',\n",
    "       'mazda 5', 'mazda 6', 'mazda cx 3', 'mazda cx 30', 'mazda cx 5',\n",
    "       'mazda cx 7', 'mazda cx 9', 'mazda mx 30', 'mazda mx 5',\n",
    "       'mclaren 12c', 'mclaren 650s', 'mclaren 720s', 'mercedes-benz 123',\n",
    "       'mercedes-benz 170 s', 'mercedes-benz 220', 'mercedes-benz 220 s',\n",
    "       'mercedes-benz a class', 'mercedes-benz amg gt', 'mercedes-benz b class',\n",
    "       'mercedes-benz c class', 'mercedes-benz citan', 'mercedes-benz cl class',\n",
    "       'mercedes-benz cla class', 'mercedes-benz clk class', 'mercedes-benz cls class',\n",
    "       'mercedes-benz e class', 'mercedes-benz 3', 'mercedes-benz eqa',\n",
    "       'mercedes-benz eqc class', 'mercedes-benz eqs class', 'mercedes-benz g class',\n",
    "       'mercedes-benz gl class', 'mercedes-benz gla class', 'mercedes-benz glb class',\n",
    "       'mercedes-benz glc class', 'mercedes-benz gle class', 'mercedes-benz glk class',\n",
    "       'mercedes-benz gls class', 'mercedes-benz m class', 'mercedes-benz r class',\n",
    "       'mercedes-benz s class', 'mercedes-benz sl', 'mercedes-benz slk',\n",
    "       'mercedes-benz v class', 'mercedes-benz vito', 'mercedes-benz w114',\n",
    "       'mercedes-benz x class', 'mercury cougar', 'mg f', 'mg mgb', 'mg tf',\n",
    "       'mini clubman', 'mini cooper', 'mini countryman', 'mini paceman',\n",
    "       'mitsubishi asx', 'mitsubishi colt', 'mitsubishi i miev',\n",
    "       'mitsubishi l200', 'mitsubishi lancer', 'mitsubishi mirage',\n",
    "       'mitsubishi outlander', 'mitsubishi pajero', 'moskvitch 400',\n",
    "       'nissan 370z', 'nissan altima', 'nissan juke', 'nissan leaf',\n",
    "       'nissan micra', 'nissan murano', 'nissan navara', 'nissan note',\n",
    "       'nissan nv200', 'nissan pathfinder', 'nissan pixo',\n",
    "       'nissan qashqai', 'nissan x trail', 'oldsmobile 88',\n",
    "       'oldsmobile cutlass supreme', 'vauxhall adam', 'vauxhall agila',\n",
    "       'vauxhall ampera', 'vauxhall astra', 'vauxhall calibra', 'vauxhall cascada',\n",
    "       'vauxhall corsa', 'vauxhall crossland x', 'vauxhall grandland',\n",
    "       'vauxhall insignia', 'vauxhall karl', 'vauxhall meriva', 'vauxhall mokka',\n",
    "       'vauxhall tigra', 'vauxhall vectra', 'vauxhall zafira', 'peugeot 1007',\n",
    "       'peugeot 108', 'peugeot 206', 'peugeot 207', 'peugeot 208', 'peugeot 2008'\n",
    "       'peugeot 3008', 'peugeot 306', 'peugeot 307', 'peugeot 308',\n",
    "       'peugeot 4007', 'peugeot 4008', 'peugeot 406', 'peugeot 407',\n",
    "       'peugeot 5008', 'peugeot 508', 'peugeot 807', 'peugeot expert',\n",
    "       'peugeot partner', 'peugeot traveller', 'plymouth volare',\n",
    "       'polestar 2', 'pontiac firebird', 'pontiac gto', 'porsche 356',\n",
    "       'porsche 718', 'porsche 718 cayman', 'porsche 911', 'porsche 928',\n",
    "       'porsche cayenne 5 door coupe suv', 'porsche cayenne',\n",
    "       'porsche macan', 'porsche panamera', 'porsche taycan',\n",
    "       'renault captur', 'renault clio', 'renault espace',\n",
    "       'renault fluence', 'renault fuego', 'renault kadjar',\n",
    "       'renault kangoo', 'renault koleos', 'renault laguna',\n",
    "       'renault megane', 'renault modus', 'renault scenic',\n",
    "       'renault talisman', 'renault twingo', 'renault twizy',\n",
    "       'renault zoe', 'rolls-royce corniche', 'rolls-royce cullinan',\n",
    "       'rolls-royce ghost', 'rolls-royce phantom',\n",
    "       'rolls-royce silver shadow', 'rolls-royce silver spirit',\n",
    "       'rolls-royce wraith', 'rover sd1', 'saab 9 3', 'saab 9 5',\n",
    "       'seat alhambra', 'seat altea', 'seat arona', 'seat ateca',\n",
    "       'seat exeo', 'seat ibiza', 'seat leon', 'seat mii', 'seat tarraco',\n",
    "       'skoda citigo', 'skoda enyaq iv', 'skoda fabia', 'skoda kamiq',\n",
    "       'skoda karoq', 'skoda kodiaq', 'skoda octavia', 'skoda rapid',\n",
    "       'skoda scala', 'skoda superb', 'skoda yeti', 'smart forfour',\n",
    "       'smart fortwo', 'smart roadster', 'ssang yong korando',\n",
    "       'ssang yong kyron', 'ssang yong rexton', 'ssang yong tivoli',\n",
    "       'subaru forester', 'subaru impreza', 'subaru justy',\n",
    "       'subaru legacy', 'subaru levorg', 'subaru outback',\n",
    "       'subaru xv crosstrek', 'suzuki across', 'suzuki ignis',\n",
    "       'suzuki jimny', 'suzuki liana', 'suzuki swift', 'suzuki sx4',\n",
    "       'suzuki vitara', 'tatra 603', 'tesla model 3', 'tesla model s',\n",
    "       'tesla model x', 'tesla model y', 'toyota auris', 'toyota avensis',\n",
    "       'toyota aygo', 'toyota c hr', 'toyota celica', 'toyota corolla',\n",
    "       'toyota corolla verso', 'toyota gt 86', 'toyota highlander',\n",
    "       'toyota hilux', 'toyota iq', 'toyota land cruiser prado',\n",
    "       'toyota landcruiser', 'toyota previa', 'toyota prius',\n",
    "       'toyota prius plus', 'toyota proace verso', 'toyota rav4',\n",
    "       'toyota sienna', 'toyota supra', 'toyota tundra',\n",
    "       'toyota urban cruiser', 'toyota verso', 'toyota yaris',\n",
    "       'toyota yaris cross', 'triumph spitfire', 'triumph tr7',\n",
    "       'tvr cerbera', 'volkswagen 1600', 'volkswagen amarok',\n",
    "       'volkswagen arteon', 'volkswagen beetle', 'volkswagen bora',\n",
    "       'volkswagen caddy', 'volkswagen california',\n",
    "       'volkswagen caravelle', 'volkswagen eos', 'volkswagen fox',\n",
    "       'volkswagen golf', 'volkswagen id3', 'volkswagen id4',\n",
    "       'volkswagen jetta', 'volkswagen passat', 'volkswagen passat cc',\n",
    "       'volkswagen phaeton', 'volkswagen polo', 'volkswagen scirocco',\n",
    "       'volkswagen sharan', 'volkswagen t cross', 'volkswagen t roc',\n",
    "       'volkswagen tiguan', 'volkswagen touareg', 'volkswagen touran',\n",
    "       'volkswagen up', 'volvo 780', 'volvo 900', 'volvo c30',\n",
    "       'volvo s60', 'volvo s80', 'volvo s90', 'volvo v40', 'volvo v50',\n",
    "       'volvo v60', 'volvo v70', 'volvo v90', 'volvo xc40', 'volvo xc60',\n",
    "       'volvo xc70', 'volvo xc90', 'wartburg 353']\n",
    "\n",
    "# The aim is to standardise the car.name column a little in terms. I was just curious to see if this would work\n",
    "# and it will come in useful for the further work when I try to merge carsized.com data with autotrader data.\n",
    "\n",
    "results = []\n",
    "# Iterate over all cars, extracting the lowercase name\n",
    "for index, car in ucars.iterrows():\n",
    "    lname = car[-1]\n",
    "    # Set dummy variable to lowercase car name\n",
    "    dummy = lname\n",
    "    \n",
    "    # Check if the lowercase name matches any in the name_list_from_carsized\n",
    "    for cname in name_list_from_carsized:\n",
    "        if cname in lname:\n",
    "            dummy = cname\n",
    "    \n",
    "    # Iterate over bodies in body\n",
    "    for bod in body:\n",
    "        if bod in dummy:\n",
    "            # Remove body information from the carname saved under dummy variable\n",
    "            dummy = re.sub(' '+bod,'',dummy)\n",
    "    \n",
    "    # Append car name to results\n",
    "    results.append(dummy)\n",
    "\n",
    "# Overwrite name with this new carsized standardised name and drop the lname variable.\n",
    "ucars['name']=results\n",
    "ucars=ucars.drop('lname', axis=1)\n",
    "\n",
    "print('DataFrame shape:',ucars.shape)"
   ]
  },
  {
   "cell_type": "code",
   "execution_count": 13,
   "id": "3a7080e6",
   "metadata": {
    "ExecuteTime": {
     "end_time": "2022-03-09T21:33:24.939413Z",
     "start_time": "2022-03-09T21:33:24.929280Z"
    },
    "code_folding": [
     0
    ]
   },
   "outputs": [
    {
     "name": "stdout",
     "output_type": "stream",
     "text": [
      "DataFrame shape: (373916, 28)\n"
     ]
    }
   ],
   "source": [
    "# Add cars.used and cars.e_engine_kWh columns to be compatible with other datasets \n",
    "\n",
    "ucars['used']=1\n",
    "ucars['e_engine_kWh']= np.nan\n",
    "\n",
    "print('DataFrame shape:',ucars.shape)"
   ]
  },
  {
   "cell_type": "code",
   "execution_count": 14,
   "id": "9eee8ef1",
   "metadata": {
    "ExecuteTime": {
     "end_time": "2022-03-09T21:33:25.705573Z",
     "start_time": "2022-03-09T21:33:24.943422Z"
    },
    "code_folding": []
   },
   "outputs": [
    {
     "name": "stdout",
     "output_type": "stream",
     "text": [
      "DataFrame shape: (373912, 28)\n"
     ]
    }
   ],
   "source": [
    "# Removing some data enrty errors which have been identified by EDA later in the project.\n",
    "\n",
    "#Remove SKODA 911 which stands as an aggressive outlier - data entry error\n",
    "ucars[ucars.make=='SKODA'].sort_values(by='price',ascending=False).head(1)\n",
    "dropindex = ucars[ucars.make=='SKODA'].sort_values(by='price',ascending=False).head(1).index.tolist()\n",
    "ucars.drop(index=dropindex, inplace=True)\n",
    "\n",
    "# Remove Mercedes missing a decimal which stands as an aggressive outlier - data entry error\n",
    "ucars[ucars.make=='Mercedes-Benz'].sort_values(by='price',ascending=False).head(1)\n",
    "dropindex = ucars[ucars.make=='Mercedes-Benz'].sort_values(by='price',ascending=False).head(1).index.tolist()\n",
    "ucars.drop(index=dropindex, inplace=True)\n",
    "\n",
    "# Remove two clear BHP errors which stand as an aggressive outlier - data entry error\n",
    "ucars.BHP.sort_values(ascending=False).head(2)\n",
    "dropindex = ucars.BHP.sort_values(ascending=False).head(2).index.tolist()\n",
    "ucars.drop(index=dropindex, inplace=True)\n",
    "\n",
    "print('DataFrame shape:',ucars.shape)"
   ]
  },
  {
   "cell_type": "code",
   "execution_count": 15,
   "id": "c70104d0",
   "metadata": {
    "ExecuteTime": {
     "end_time": "2022-03-09T21:33:33.402222Z",
     "start_time": "2022-03-09T21:33:25.708696Z"
    },
    "code_folding": [
     0
    ]
   },
   "outputs": [
    {
     "name": "stdout",
     "output_type": "stream",
     "text": [
      "DataFrame shape: (373912, 28)\n"
     ]
    }
   ],
   "source": [
    "# Output clean used cars data \n",
    "ucars=ucars[['name','name_subtitle','year','price','body','mileage','BHP','doors'\n",
    "            ,'transmission','make','fuel','mpg','drivertrain','engine','owners'\n",
    "            ,'ULEZ','dealer_area','dealer_city','seller1','used', 'e_engine_kWh'\n",
    "            ,'log_price','log_mileage','orig_name','id','year_reg','link','href0']]\n",
    "ucars_abspath = r'/Users/robertdavies/Desktop/DSI/GA_P2/LargeDatasets/00_clean_used_cars.csv'\n",
    "ucars.to_csv(ucars_abspath, index=False, header=ucars.columns )\n",
    "\n",
    "print('DataFrame shape:',ucars.shape)"
   ]
  },
  {
   "cell_type": "code",
   "execution_count": 16,
   "id": "76d6dd19",
   "metadata": {
    "ExecuteTime": {
     "end_time": "2022-03-09T21:33:34.329352Z",
     "start_time": "2022-03-09T21:33:33.405084Z"
    }
   },
   "outputs": [
    {
     "name": "stdout",
     "output_type": "stream",
     "text": [
      "<class 'pandas.core.frame.DataFrame'>\n",
      "Int64Index: 373912 entries, 0 to 594731\n",
      "Data columns (total 28 columns):\n",
      " #   Column         Non-Null Count   Dtype  \n",
      "---  ------         --------------   -----  \n",
      " 0   name           373912 non-null  object \n",
      " 1   name_subtitle  373912 non-null  object \n",
      " 2   year           373912 non-null  int64  \n",
      " 3   price          373912 non-null  float64\n",
      " 4   body           373912 non-null  object \n",
      " 5   mileage        373912 non-null  float64\n",
      " 6   BHP            373912 non-null  float64\n",
      " 7   doors          373912 non-null  object \n",
      " 8   transmission   373912 non-null  object \n",
      " 9   make           373912 non-null  object \n",
      " 10  fuel           373912 non-null  object \n",
      " 11  mpg            373912 non-null  object \n",
      " 12  drivertrain    373912 non-null  object \n",
      " 13  engine         373912 non-null  float64\n",
      " 14  owners         191966 non-null  float64\n",
      " 15  ULEZ           325815 non-null  object \n",
      " 16  dealer_area    318102 non-null  object \n",
      " 17  dealer_city    373640 non-null  object \n",
      " 18  seller1        307186 non-null  float64\n",
      " 19  used           373912 non-null  int64  \n",
      " 20  e_engine_kWh   0 non-null       float64\n",
      " 21  log_price      373912 non-null  float64\n",
      " 22  log_mileage    373912 non-null  float64\n",
      " 23  orig_name      373912 non-null  object \n",
      " 24  id             373912 non-null  object \n",
      " 25  year_reg       365722 non-null  object \n",
      " 26  link           373912 non-null  object \n",
      " 27  href0          318102 non-null  object \n",
      "dtypes: float64(9), int64(2), object(17)\n",
      "memory usage: 82.7+ MB\n"
     ]
    }
   ],
   "source": [
    "ucars.info()"
   ]
  },
  {
   "cell_type": "markdown",
   "id": "8e991632",
   "metadata": {},
   "source": [
    "Note that not all of these variables are fully populated for all cars. This is not the list of variable to go into modelling, only the list of variables after cleaning."
   ]
  },
  {
   "cell_type": "code",
   "execution_count": 17,
   "id": "835ee1c1",
   "metadata": {
    "ExecuteTime": {
     "end_time": "2022-03-09T21:33:34.571105Z",
     "start_time": "2022-03-09T21:33:34.332479Z"
    }
   },
   "outputs": [
    {
     "data": {
      "text/html": [
       "<div>\n",
       "<style scoped>\n",
       "    .dataframe tbody tr th:only-of-type {\n",
       "        vertical-align: middle;\n",
       "    }\n",
       "\n",
       "    .dataframe tbody tr th {\n",
       "        vertical-align: top;\n",
       "    }\n",
       "\n",
       "    .dataframe thead th {\n",
       "        text-align: right;\n",
       "    }\n",
       "</style>\n",
       "<table border=\"1\" class=\"dataframe\">\n",
       "  <thead>\n",
       "    <tr style=\"text-align: right;\">\n",
       "      <th></th>\n",
       "      <th>year</th>\n",
       "      <th>price</th>\n",
       "      <th>mileage</th>\n",
       "      <th>BHP</th>\n",
       "      <th>engine</th>\n",
       "      <th>owners</th>\n",
       "      <th>seller1</th>\n",
       "      <th>used</th>\n",
       "      <th>e_engine_kWh</th>\n",
       "      <th>log_price</th>\n",
       "      <th>log_mileage</th>\n",
       "    </tr>\n",
       "  </thead>\n",
       "  <tbody>\n",
       "    <tr>\n",
       "      <th>count</th>\n",
       "      <td>373912.000000</td>\n",
       "      <td>3.739120e+05</td>\n",
       "      <td>3.739120e+05</td>\n",
       "      <td>373912.000000</td>\n",
       "      <td>373912.000000</td>\n",
       "      <td>191966.000000</td>\n",
       "      <td>307186.000000</td>\n",
       "      <td>373912.0</td>\n",
       "      <td>0.0</td>\n",
       "      <td>373912.000000</td>\n",
       "      <td>373912.000000</td>\n",
       "    </tr>\n",
       "    <tr>\n",
       "      <th>mean</th>\n",
       "      <td>2016.316286</td>\n",
       "      <td>1.839089e+04</td>\n",
       "      <td>4.037482e+04</td>\n",
       "      <td>155.388408</td>\n",
       "      <td>1.745712</td>\n",
       "      <td>1.865575</td>\n",
       "      <td>4.639705</td>\n",
       "      <td>1.0</td>\n",
       "      <td>NaN</td>\n",
       "      <td>9.602695</td>\n",
       "      <td>10.209382</td>\n",
       "    </tr>\n",
       "    <tr>\n",
       "      <th>std</th>\n",
       "      <td>3.514855</td>\n",
       "      <td>1.240517e+04</td>\n",
       "      <td>3.293635e+04</td>\n",
       "      <td>67.717272</td>\n",
       "      <td>0.557113</td>\n",
       "      <td>1.139197</td>\n",
       "      <td>0.441332</td>\n",
       "      <td>0.0</td>\n",
       "      <td>NaN</td>\n",
       "      <td>0.718112</td>\n",
       "      <td>1.077991</td>\n",
       "    </tr>\n",
       "    <tr>\n",
       "      <th>min</th>\n",
       "      <td>1994.000000</td>\n",
       "      <td>2.500000e+02</td>\n",
       "      <td>2.000000e+00</td>\n",
       "      <td>1.000000</td>\n",
       "      <td>0.600000</td>\n",
       "      <td>1.000000</td>\n",
       "      <td>1.000000</td>\n",
       "      <td>1.0</td>\n",
       "      <td>NaN</td>\n",
       "      <td>5.521461</td>\n",
       "      <td>0.693147</td>\n",
       "    </tr>\n",
       "    <tr>\n",
       "      <th>25%</th>\n",
       "      <td>2015.000000</td>\n",
       "      <td>1.049100e+04</td>\n",
       "      <td>1.600000e+04</td>\n",
       "      <td>113.000000</td>\n",
       "      <td>1.400000</td>\n",
       "      <td>1.000000</td>\n",
       "      <td>4.500000</td>\n",
       "      <td>1.0</td>\n",
       "      <td>NaN</td>\n",
       "      <td>9.258273</td>\n",
       "      <td>9.680344</td>\n",
       "    </tr>\n",
       "    <tr>\n",
       "      <th>50%</th>\n",
       "      <td>2017.000000</td>\n",
       "      <td>1.669000e+04</td>\n",
       "      <td>3.059200e+04</td>\n",
       "      <td>138.067061</td>\n",
       "      <td>1.600000</td>\n",
       "      <td>2.000000</td>\n",
       "      <td>4.700000</td>\n",
       "      <td>1.0</td>\n",
       "      <td>NaN</td>\n",
       "      <td>9.722565</td>\n",
       "      <td>10.328494</td>\n",
       "    </tr>\n",
       "    <tr>\n",
       "      <th>75%</th>\n",
       "      <td>2019.000000</td>\n",
       "      <td>2.349500e+04</td>\n",
       "      <td>5.660000e+04</td>\n",
       "      <td>187.376726</td>\n",
       "      <td>2.000000</td>\n",
       "      <td>2.000000</td>\n",
       "      <td>4.900000</td>\n",
       "      <td>1.0</td>\n",
       "      <td>NaN</td>\n",
       "      <td>10.064543</td>\n",
       "      <td>10.943764</td>\n",
       "    </tr>\n",
       "    <tr>\n",
       "      <th>max</th>\n",
       "      <td>2021.000000</td>\n",
       "      <td>1.250000e+06</td>\n",
       "      <td>1.113000e+06</td>\n",
       "      <td>972.386588</td>\n",
       "      <td>5.500000</td>\n",
       "      <td>26.000000</td>\n",
       "      <td>5.000000</td>\n",
       "      <td>1.0</td>\n",
       "      <td>NaN</td>\n",
       "      <td>14.038654</td>\n",
       "      <td>13.922570</td>\n",
       "    </tr>\n",
       "  </tbody>\n",
       "</table>\n",
       "</div>"
      ],
      "text/plain": [
       "                year         price       mileage            BHP  \\\n",
       "count  373912.000000  3.739120e+05  3.739120e+05  373912.000000   \n",
       "mean     2016.316286  1.839089e+04  4.037482e+04     155.388408   \n",
       "std         3.514855  1.240517e+04  3.293635e+04      67.717272   \n",
       "min      1994.000000  2.500000e+02  2.000000e+00       1.000000   \n",
       "25%      2015.000000  1.049100e+04  1.600000e+04     113.000000   \n",
       "50%      2017.000000  1.669000e+04  3.059200e+04     138.067061   \n",
       "75%      2019.000000  2.349500e+04  5.660000e+04     187.376726   \n",
       "max      2021.000000  1.250000e+06  1.113000e+06     972.386588   \n",
       "\n",
       "              engine         owners        seller1      used  e_engine_kWh  \\\n",
       "count  373912.000000  191966.000000  307186.000000  373912.0           0.0   \n",
       "mean        1.745712       1.865575       4.639705       1.0           NaN   \n",
       "std         0.557113       1.139197       0.441332       0.0           NaN   \n",
       "min         0.600000       1.000000       1.000000       1.0           NaN   \n",
       "25%         1.400000       1.000000       4.500000       1.0           NaN   \n",
       "50%         1.600000       2.000000       4.700000       1.0           NaN   \n",
       "75%         2.000000       2.000000       4.900000       1.0           NaN   \n",
       "max         5.500000      26.000000       5.000000       1.0           NaN   \n",
       "\n",
       "           log_price    log_mileage  \n",
       "count  373912.000000  373912.000000  \n",
       "mean        9.602695      10.209382  \n",
       "std         0.718112       1.077991  \n",
       "min         5.521461       0.693147  \n",
       "25%         9.258273       9.680344  \n",
       "50%         9.722565      10.328494  \n",
       "75%        10.064543      10.943764  \n",
       "max        14.038654      13.922570  "
      ]
     },
     "execution_count": 17,
     "metadata": {},
     "output_type": "execute_result"
    }
   ],
   "source": [
    "ucars.describe()"
   ]
  },
  {
   "cell_type": "code",
   "execution_count": 19,
   "id": "bc6fab32",
   "metadata": {
    "ExecuteTime": {
     "end_time": "2022-03-09T21:33:34.664335Z",
     "start_time": "2022-03-09T21:33:34.622053Z"
    }
   },
   "outputs": [
    {
     "data": {
      "text/html": [
       "<div>\n",
       "<style scoped>\n",
       "    .dataframe tbody tr th:only-of-type {\n",
       "        vertical-align: middle;\n",
       "    }\n",
       "\n",
       "    .dataframe tbody tr th {\n",
       "        vertical-align: top;\n",
       "    }\n",
       "\n",
       "    .dataframe thead th {\n",
       "        text-align: right;\n",
       "    }\n",
       "</style>\n",
       "<table border=\"1\" class=\"dataframe\">\n",
       "  <thead>\n",
       "    <tr style=\"text-align: right;\">\n",
       "      <th></th>\n",
       "      <th>name</th>\n",
       "      <th>name_subtitle</th>\n",
       "      <th>year</th>\n",
       "      <th>price</th>\n",
       "      <th>body</th>\n",
       "      <th>mileage</th>\n",
       "      <th>BHP</th>\n",
       "      <th>doors</th>\n",
       "      <th>transmission</th>\n",
       "      <th>make</th>\n",
       "      <th>...</th>\n",
       "      <th>seller1</th>\n",
       "      <th>used</th>\n",
       "      <th>e_engine_kWh</th>\n",
       "      <th>log_price</th>\n",
       "      <th>log_mileage</th>\n",
       "      <th>orig_name</th>\n",
       "      <th>id</th>\n",
       "      <th>year_reg</th>\n",
       "      <th>link</th>\n",
       "      <th>href0</th>\n",
       "    </tr>\n",
       "  </thead>\n",
       "  <tbody>\n",
       "    <tr>\n",
       "      <th>109181</th>\n",
       "      <td>audi q7</td>\n",
       "      <td>3.0 TDI V6 S line Tiptronic quattro (s/s) 5dr</td>\n",
       "      <td>2015</td>\n",
       "      <td>29950.0</td>\n",
       "      <td>SUV</td>\n",
       "      <td>86000.0</td>\n",
       "      <td>268.244576</td>\n",
       "      <td>5dr</td>\n",
       "      <td>Automatic</td>\n",
       "      <td>Audi</td>\n",
       "      <td>...</td>\n",
       "      <td>NaN</td>\n",
       "      <td>1</td>\n",
       "      <td>NaN</td>\n",
       "      <td>10.307285</td>\n",
       "      <td>11.362103</td>\n",
       "      <td>Audi Q7</td>\n",
       "      <td>202111099396340</td>\n",
       "      <td>NaN</td>\n",
       "      <td>https://www.autotrader.co.uk/car-details/20211...</td>\n",
       "      <td>NaN</td>\n",
       "    </tr>\n",
       "    <tr>\n",
       "      <th>108385</th>\n",
       "      <td>mercedes-benz slk</td>\n",
       "      <td>2.1 SLK250 CDI BlueEFFICIENCY AMG Sport 7G-Tro...</td>\n",
       "      <td>2015</td>\n",
       "      <td>15000.0</td>\n",
       "      <td>Convertible</td>\n",
       "      <td>29847.0</td>\n",
       "      <td>204.000000</td>\n",
       "      <td>2dr</td>\n",
       "      <td>Automatic</td>\n",
       "      <td>Mercedes-Benz</td>\n",
       "      <td>...</td>\n",
       "      <td>3.1</td>\n",
       "      <td>1</td>\n",
       "      <td>NaN</td>\n",
       "      <td>9.615805</td>\n",
       "      <td>10.303840</td>\n",
       "      <td>Mercedes-Benz SLK</td>\n",
       "      <td>202112070309652</td>\n",
       "      <td>2015 (15 reg)</td>\n",
       "      <td>https://www.autotrader.co.uk/car-details/20211...</td>\n",
       "      <td>/dealers/stirlingshire/stirling/motorchoice-st...</td>\n",
       "    </tr>\n",
       "    <tr>\n",
       "      <th>19728</th>\n",
       "      <td>mini hatch</td>\n",
       "      <td>1.6 Cooper 3dr</td>\n",
       "      <td>2009</td>\n",
       "      <td>2995.0</td>\n",
       "      <td>Hatchback</td>\n",
       "      <td>84000.0</td>\n",
       "      <td>120.000000</td>\n",
       "      <td>3dr</td>\n",
       "      <td>Manual</td>\n",
       "      <td>MINI</td>\n",
       "      <td>...</td>\n",
       "      <td>4.7</td>\n",
       "      <td>1</td>\n",
       "      <td>NaN</td>\n",
       "      <td>8.004700</td>\n",
       "      <td>11.338572</td>\n",
       "      <td>MINI Hatch</td>\n",
       "      <td>202112180642140</td>\n",
       "      <td>2009 (59 reg)</td>\n",
       "      <td>https://www.autotrader.co.uk/car-details/20211...</td>\n",
       "      <td>/dealers/warwickshire/birmingham/motor-island-...</td>\n",
       "    </tr>\n",
       "    <tr>\n",
       "      <th>300060</th>\n",
       "      <td>mini hatch</td>\n",
       "      <td>2.0 Cooper S Steptronic (s/s) 3dr</td>\n",
       "      <td>2018</td>\n",
       "      <td>19995.0</td>\n",
       "      <td>Hatchback</td>\n",
       "      <td>25921.0</td>\n",
       "      <td>189.349112</td>\n",
       "      <td>3dr</td>\n",
       "      <td>Automatic</td>\n",
       "      <td>MINI</td>\n",
       "      <td>...</td>\n",
       "      <td>4.8</td>\n",
       "      <td>1</td>\n",
       "      <td>NaN</td>\n",
       "      <td>9.903238</td>\n",
       "      <td>10.162809</td>\n",
       "      <td>MINI Hatch</td>\n",
       "      <td>202112020158764</td>\n",
       "      <td>2018 (68 reg)</td>\n",
       "      <td>https://www.autotrader.co.uk/car-details/20211...</td>\n",
       "      <td>/dealers/dorset/gillingham/jason-mead-car-sale...</td>\n",
       "    </tr>\n",
       "    <tr>\n",
       "      <th>194420</th>\n",
       "      <td>kia sportage</td>\n",
       "      <td>CRDI 2 ISG 1.7 5dr</td>\n",
       "      <td>2017</td>\n",
       "      <td>12990.0</td>\n",
       "      <td>SUV</td>\n",
       "      <td>78702.0</td>\n",
       "      <td>114.398422</td>\n",
       "      <td>5dr</td>\n",
       "      <td>Manual</td>\n",
       "      <td>KIA</td>\n",
       "      <td>...</td>\n",
       "      <td>2.3</td>\n",
       "      <td>1</td>\n",
       "      <td>NaN</td>\n",
       "      <td>9.471935</td>\n",
       "      <td>11.273424</td>\n",
       "      <td>KIA Sportage</td>\n",
       "      <td>202112130464196</td>\n",
       "      <td>NaN</td>\n",
       "      <td>https://www.autotrader.co.uk/car-details/20211...</td>\n",
       "      <td>/dealers/northern-ireland/belfast/agnew-autoex...</td>\n",
       "    </tr>\n",
       "  </tbody>\n",
       "</table>\n",
       "<p>5 rows × 28 columns</p>\n",
       "</div>"
      ],
      "text/plain": [
       "                     name                                      name_subtitle  \\\n",
       "109181            audi q7      3.0 TDI V6 S line Tiptronic quattro (s/s) 5dr   \n",
       "108385  mercedes-benz slk  2.1 SLK250 CDI BlueEFFICIENCY AMG Sport 7G-Tro...   \n",
       "19728          mini hatch                                     1.6 Cooper 3dr   \n",
       "300060         mini hatch                  2.0 Cooper S Steptronic (s/s) 3dr   \n",
       "194420       kia sportage                                 CRDI 2 ISG 1.7 5dr   \n",
       "\n",
       "        year    price         body  mileage         BHP doors transmission  \\\n",
       "109181  2015  29950.0          SUV  86000.0  268.244576   5dr    Automatic   \n",
       "108385  2015  15000.0  Convertible  29847.0  204.000000   2dr    Automatic   \n",
       "19728   2009   2995.0    Hatchback  84000.0  120.000000   3dr       Manual   \n",
       "300060  2018  19995.0    Hatchback  25921.0  189.349112   3dr    Automatic   \n",
       "194420  2017  12990.0          SUV  78702.0  114.398422   5dr       Manual   \n",
       "\n",
       "                 make  ... seller1 used e_engine_kWh  log_price  log_mileage  \\\n",
       "109181           Audi  ...     NaN    1          NaN  10.307285    11.362103   \n",
       "108385  Mercedes-Benz  ...     3.1    1          NaN   9.615805    10.303840   \n",
       "19728            MINI  ...     4.7    1          NaN   8.004700    11.338572   \n",
       "300060           MINI  ...     4.8    1          NaN   9.903238    10.162809   \n",
       "194420            KIA  ...     2.3    1          NaN   9.471935    11.273424   \n",
       "\n",
       "                orig_name               id       year_reg  \\\n",
       "109181            Audi Q7  202111099396340            NaN   \n",
       "108385  Mercedes-Benz SLK  202112070309652  2015 (15 reg)   \n",
       "19728          MINI Hatch  202112180642140  2009 (59 reg)   \n",
       "300060         MINI Hatch  202112020158764  2018 (68 reg)   \n",
       "194420       KIA Sportage  202112130464196            NaN   \n",
       "\n",
       "                                                     link  \\\n",
       "109181  https://www.autotrader.co.uk/car-details/20211...   \n",
       "108385  https://www.autotrader.co.uk/car-details/20211...   \n",
       "19728   https://www.autotrader.co.uk/car-details/20211...   \n",
       "300060  https://www.autotrader.co.uk/car-details/20211...   \n",
       "194420  https://www.autotrader.co.uk/car-details/20211...   \n",
       "\n",
       "                                                    href0  \n",
       "109181                                                NaN  \n",
       "108385  /dealers/stirlingshire/stirling/motorchoice-st...  \n",
       "19728   /dealers/warwickshire/birmingham/motor-island-...  \n",
       "300060  /dealers/dorset/gillingham/jason-mead-car-sale...  \n",
       "194420  /dealers/northern-ireland/belfast/agnew-autoex...  \n",
       "\n",
       "[5 rows x 28 columns]"
      ]
     },
     "execution_count": 19,
     "metadata": {},
     "output_type": "execute_result"
    }
   ],
   "source": [
    "ucars.sample(5)"
   ]
  },
  {
   "cell_type": "markdown",
   "id": "5df3b1fe",
   "metadata": {},
   "source": [
    "## Used cars - electric"
   ]
  },
  {
   "cell_type": "code",
   "execution_count": 20,
   "id": "89142ee5",
   "metadata": {
    "ExecuteTime": {
     "end_time": "2022-03-09T21:33:34.813021Z",
     "start_time": "2022-03-09T21:33:34.668861Z"
    }
   },
   "outputs": [
    {
     "data": {
      "text/plain": [
       "(4887, 20)"
      ]
     },
     "execution_count": 20,
     "metadata": {},
     "output_type": "execute_result"
    }
   ],
   "source": [
    "# Import all detailed files and make cars df, including year \n",
    "\n",
    "path = r'/Users/robertdavies/Desktop/DSI/GA_P2/LargeDatasets/raw/df_detailed_ev/'\n",
    "\n",
    "li=[]\n",
    "year_files = glob.glob(path + f\"/*electric_used.csv\")\n",
    "for filename in year_files:\n",
    "    df = pd.read_csv(filename, index_col=None, header=0 )\n",
    "    df.drop_duplicates(subset=['link'], keep='first', inplace=True)\n",
    "    li.append(df)\n",
    "\n",
    "uecars = pd.concat(li, axis=0, ignore_index=True)\n",
    "uecars.drop_duplicates(subset=['link'], keep='first', inplace=True)\n",
    "uecars.shape    "
   ]
  },
  {
   "cell_type": "code",
   "execution_count": 21,
   "id": "fcedc1f1",
   "metadata": {
    "ExecuteTime": {
     "end_time": "2022-03-09T21:33:34.824775Z",
     "start_time": "2022-03-09T21:33:34.816143Z"
    }
   },
   "outputs": [
    {
     "data": {
      "text/plain": [
       "0"
      ]
     },
     "execution_count": 21,
     "metadata": {},
     "output_type": "execute_result"
    }
   ],
   "source": [
    "uecars.body.isnull().sum()"
   ]
  },
  {
   "cell_type": "code",
   "execution_count": 22,
   "id": "e2918d4b",
   "metadata": {
    "ExecuteTime": {
     "end_time": "2022-03-09T21:33:34.838191Z",
     "start_time": "2022-03-09T21:33:34.828405Z"
    },
    "code_folding": []
   },
   "outputs": [
    {
     "data": {
      "text/plain": [
       "(4887, 20)"
      ]
     },
     "execution_count": 22,
     "metadata": {},
     "output_type": "execute_result"
    }
   ],
   "source": [
    "# Body is fine. No cleaning needed.\n",
    "uecars.body.isnull().sum()\n",
    "\n",
    "uecars.shape"
   ]
  },
  {
   "cell_type": "code",
   "execution_count": 23,
   "id": "3cb5e9b6",
   "metadata": {
    "ExecuteTime": {
     "end_time": "2022-03-09T21:33:34.878499Z",
     "start_time": "2022-03-09T21:33:34.841608Z"
    },
    "code_folding": [
     0
    ]
   },
   "outputs": [
    {
     "data": {
      "text/plain": [
       "(4823, 20)"
      ]
     },
     "execution_count": 23,
     "metadata": {},
     "output_type": "execute_result"
    }
   ],
   "source": [
    "# Clean BHP.\n",
    "\n",
    "# Drop NaN BHP\n",
    "uecars.dropna(subset=['BHP'],inplace=True)\n",
    "\n",
    "def standardise_bhp(x):\n",
    "    lenbhp = len(str(x).split(' '))\n",
    "    bhp=x\n",
    "    if lenbhp == 1:\n",
    "        if 'BHP' in x:\n",
    "            bhp=float(re.findall('[0-9]+', x)[0])       \n",
    "        elif 'PS' in x:\n",
    "            ps=float(re.findall('[0-9]+', x)[0])\n",
    "            bhp = ps/1.014        \n",
    "    elif lenbhp == 2:\n",
    "        x=str(x.split(' ')[-1])\n",
    "        if 'BHP' in x:\n",
    "            bhp=float(re.findall('[0-9]+', x)[0])      \n",
    "        elif 'PS' in x:\n",
    "            ps=float(re.findall('[0-9]+', x)[0])\n",
    "            bhp = ps/1.014\n",
    "    else:\n",
    "        bhp=np.nan   \n",
    "    return bhp    \n",
    "\n",
    "#Standardise remaining BHP (convert from PS)\n",
    "uecars.BHP = uecars.BHP.apply(lambda x: standardise_bhp(x))\n",
    "\n",
    "uecars.shape"
   ]
  },
  {
   "cell_type": "code",
   "execution_count": 24,
   "id": "2ffdbd93",
   "metadata": {
    "ExecuteTime": {
     "end_time": "2022-03-09T21:33:35.573959Z",
     "start_time": "2022-03-09T21:33:34.882002Z"
    },
    "code_folding": []
   },
   "outputs": [
    {
     "data": {
      "text/plain": [
       "(4823, 21)"
      ]
     },
     "execution_count": 24,
     "metadata": {},
     "output_type": "execute_result"
    }
   ],
   "source": [
    "# Compile the best location variable. Retain dealer_city and dealer_area. Don't drop remaining NaN.\n",
    "\n",
    "#split href0 into city and area\n",
    "uecars['dealer_city_temp'] = [x.split('/')[3] if type(x)==str and len(x.split('/'))>3 else x for x in uecars.href0]\n",
    "uecars['dealer_area'] = [x.split('/')[2] if type(x)==str and len(x.split('/'))>3 else x for x in uecars.href0]\n",
    "\n",
    "#If there are some seller ratings in seller0, move them to seller1\n",
    "uecars[uecars['seller0'].str.contains('[+-]?([0-9]*[.])?[0-9]+', regex=True, na=False)].seller1 = uecars[uecars['seller0'].str.contains('[+-]?([0-9]*[.])?[0-9]+', regex=True, na=False)].seller0\n",
    "\n",
    "#Make seller ratings in seller0 np.nan\n",
    "uecars.seller0 =[np.nan if '4' in str(x) or '5' in str(x) else x for x in uecars.seller0]\n",
    "\n",
    "#If the seller0 column is np.nan, use the dealer_city \n",
    "for index, car in uecars.iterrows():\n",
    "    if pd.isnull(uecars.loc[index,'seller0']):\n",
    "        uecars.loc[index,'seller0']=uecars.loc[index,'dealer_city_temp']\n",
    "    #Tiny number of cars don't have a location, and they're all from one dealer in Oldbury.    \n",
    "    if pd.isnull(uecars.loc[index,'seller0']):\n",
    "        uecars.loc[index,'seller0']= 'Oldbury'\n",
    "        \n",
    "uecars['dealer_city'] = uecars['seller0']\n",
    "uecars.drop(['seller0','dealer_city_temp'],inplace=True, axis=1)\n",
    "\n",
    "uecars.shape"
   ]
  },
  {
   "cell_type": "code",
   "execution_count": 25,
   "id": "f08c26d6",
   "metadata": {
    "ExecuteTime": {
     "end_time": "2022-03-09T21:33:36.566394Z",
     "start_time": "2022-03-09T21:33:35.577535Z"
    },
    "code_folding": [
     0
    ]
   },
   "outputs": [
    {
     "data": {
      "text/plain": [
       "(4823, 22)"
      ]
     },
     "execution_count": 25,
     "metadata": {},
     "output_type": "execute_result"
    }
   ],
   "source": [
    "# Populate uecars.e_engine_kWh from name_subtitle ~20% NaN. Not great but BHP supersedes it.\n",
    "\n",
    "# For electric cars we can't measure engline volume in litres. This is a pain but not too problematic\n",
    "# because fortunately BHP supersedes it. This won't be used in modelling. \n",
    "uecars['e_engine_kWh']=''\n",
    "uecars['engine']=np.nan\n",
    "\n",
    "for index, car in uecars.iterrows():\n",
    "    car_subname = uecars.loc[index, 'name_subtitle']\n",
    "    try:\n",
    "        eenginesize = re.findall('[\\d]+[.]?[\\d]+[ ]?kwh',car_subname, flags=re.I)[0]\n",
    "    except: \n",
    "        eenginesize = np.nan\n",
    "    uecars.loc[index,'e_engine_kWh'] = eenginesize\n",
    "    \n",
    "uecars.e_engine_kWh= uecars.e_engine_kWh.apply(lambda x: float(str(x).lower().replace('kwh','')))\n",
    "#uecars.dropna(subset=['engine'],inplace=True)\n",
    "\n",
    "uecars.shape"
   ]
  },
  {
   "cell_type": "code",
   "execution_count": 26,
   "id": "08b66e15",
   "metadata": {
    "ExecuteTime": {
     "end_time": "2022-03-09T21:33:36.604042Z",
     "start_time": "2022-03-09T21:33:36.570050Z"
    },
    "code_folding": [
     0
    ]
   },
   "outputs": [
    {
     "data": {
      "text/plain": [
       "(4770, 23)"
      ]
     },
     "execution_count": 26,
     "metadata": {},
     "output_type": "execute_result"
    }
   ],
   "source": [
    "# Make doors column. Drop 53 without info. \n",
    "     \n",
    "uecars['doors'] = uecars.name_subtitle.apply(lambda x: extract_drs(x))\n",
    "\n",
    "# Drop the remaining 53 uecars without door information    \n",
    "uecars.drop(uecars[uecars.doors=='0dr'].index, inplace=True)\n",
    "\n",
    "uecars.shape"
   ]
  },
  {
   "cell_type": "code",
   "execution_count": 27,
   "id": "d268752c",
   "metadata": {
    "ExecuteTime": {
     "end_time": "2022-03-09T21:33:36.660745Z",
     "start_time": "2022-03-09T21:33:36.608350Z"
    },
    "code_folding": [
     0
    ]
   },
   "outputs": [
    {
     "data": {
      "text/plain": [
       "(4770, 24)"
      ]
     },
     "execution_count": 27,
     "metadata": {},
     "output_type": "execute_result"
    }
   ],
   "source": [
    "# Clean uecars.price, make uecars.ID, clean uecars.year. Fix uecars.ULEZ \n",
    "to_dummy=['mpg','drivetrain','make','body','transmission','fuel']\n",
    "\n",
    "uecars.price=uecars.price.apply(lambda x: x.replace('£',''))\n",
    "uecars.price=uecars.price.apply(lambda x: float(x.replace(',','')))\n",
    "uecars['id'] =[x.split('/')[-1] for x in uecars.link]\n",
    "uecars['year_reg']=uecars['year']\n",
    "uecars['year']=uecars['YR']\n",
    "uecars.drop('YR',inplace=True, axis=1)\n",
    "uecars.owners=int(0)\n",
    "uecars.ULEZ='ULEZ'\n",
    "\n",
    "\n",
    "uecars.shape"
   ]
  },
  {
   "cell_type": "code",
   "execution_count": 28,
   "id": "7bb2f945",
   "metadata": {
    "ExecuteTime": {
     "end_time": "2022-03-09T21:33:36.702642Z",
     "start_time": "2022-03-09T21:33:36.697421Z"
    },
    "code_folding": [
     0
    ]
   },
   "outputs": [],
   "source": [
    "# Set uecars.used = 1.\n",
    "\n",
    "uecars['used']=1\n"
   ]
  },
  {
   "cell_type": "code",
   "execution_count": 29,
   "id": "ef2e8645",
   "metadata": {
    "ExecuteTime": {
     "end_time": "2022-03-09T21:33:37.412901Z",
     "start_time": "2022-03-09T21:33:36.706152Z"
    },
    "code_folding": [
     0
    ]
   },
   "outputs": [
    {
     "data": {
      "image/png": "[encoded data removed]",
      "text/plain": [
       "<Figure size 1152x288 with 2 Axes>"
      ]
     },
     "metadata": {
      "needs_background": "light"
     },
     "output_type": "display_data"
    }
   ],
   "source": [
    "# Have a peek at the price and mileage distribution\n",
    "\n",
    "uecars.drop(uecars[uecars.mileage.isnull()].index, inplace=True)\n",
    "uecars['log_price']=uecars.price.apply(lambda x: np.log(x))\n",
    "uecars['mileage']=uecars.mileage.apply(lambda x: float(x))\n",
    "uecars['log_mileage']=uecars.mileage.apply(lambda x: np.log(x))\n",
    "\n",
    "#mask = np.abs((ncars.price - ncars.price.mean(0)) / ncars.price.std(0)) > 3\n",
    "#ncars= ncars[~mask]\n",
    "#ncars.price.plot(kind='hist', bins=50, title='Car Price after outlier removal', xlabel='£');\n",
    "\n",
    "fig, ax = plt.subplots(ncols=2, figsize=(16,4))\n",
    "ax[0].hist(uecars.price, bins=60)\n",
    "ax[1].hist(uecars.log_price, bins=60)\n",
    "ax[0].set_xlabel('£')\n",
    "ax[1].set_xlabel('£')\n",
    "ax[0].set_title('Price')\n",
    "ax[1].set_title('Log price')\n",
    "plt.tight_layout()\n",
    "plt.show()"
   ]
  },
  {
   "cell_type": "code",
   "execution_count": 30,
   "id": "362aad5b",
   "metadata": {
    "ExecuteTime": {
     "end_time": "2022-03-09T21:33:37.927627Z",
     "start_time": "2022-03-09T21:33:37.416151Z"
    },
    "code_folding": [
     5
    ],
    "tags": []
   },
   "outputs": [
    {
     "data": {
      "text/plain": [
       "(4740, 28)"
      ]
     },
     "execution_count": 30,
     "metadata": {},
     "output_type": "execute_result"
    }
   ],
   "source": [
    "# Simplify the name column a little. Probably not perfect \n",
    "\n",
    "uecars['orig_name'] = uecars.name\n",
    "uecars['lname']=uecars.name.apply(lambda x: x.lower())\n",
    "\n",
    "body =[\"coupe\", \"convertible\", \"estate\", \"hatchback\", \"MPV\", \"pickup\", \n",
    "        \"SUV\", \"saloon\",\"cabriolet\",\"sedan\"]\n",
    "\n",
    "results = []\n",
    "for index, car in uecars.iterrows():\n",
    "    lname = car[-1]\n",
    "    dummy = lname\n",
    "    for cname in name_list_from_carsized:\n",
    "        if cname in lname:\n",
    "            dummy = cname\n",
    "    for bod in body:\n",
    "        if bod in dummy:\n",
    "            dummy = re.sub(' '+bod,'',dummy)\n",
    "    results.append(dummy)\n",
    "\n",
    "uecars['name']=results\n",
    "uecars=uecars.drop('lname', axis=1)\n",
    "\n",
    "uecars.shape"
   ]
  },
  {
   "cell_type": "code",
   "execution_count": 31,
   "id": "0cf6c621",
   "metadata": {
    "ExecuteTime": {
     "end_time": "2022-03-09T21:33:38.039690Z",
     "start_time": "2022-03-09T21:33:37.931408Z"
    },
    "code_folding": []
   },
   "outputs": [],
   "source": [
    "# Output clean used cars data \n",
    "uecars=uecars[['name','name_subtitle','year','price','body','mileage','BHP','doors'\n",
    "            ,'transmission','make','fuel','mpg','drivertrain','engine','owners'\n",
    "            ,'ULEZ','dealer_area','dealer_city','seller1','used', 'e_engine_kWh'\n",
    "            ,'log_price','log_mileage','orig_name','id','year_reg','link','href0']]\n",
    "uecars_abspath = r'/Users/robertdavies/Desktop/DSI/GA_P2/LargeDatasets/00_clean_used_electric_cars.csv'\n",
    "uecars.to_csv(uecars_abspath, index=False, header=uecars.columns )"
   ]
  },
  {
   "cell_type": "code",
   "execution_count": 32,
   "id": "cd57b1d3",
   "metadata": {
    "ExecuteTime": {
     "end_time": "2022-03-09T21:33:38.052680Z",
     "start_time": "2022-03-09T21:33:38.042263Z"
    }
   },
   "outputs": [
    {
     "data": {
      "text/plain": [
       "Electric    4740\n",
       "Name: mpg, dtype: int64"
      ]
     },
     "execution_count": 32,
     "metadata": {},
     "output_type": "execute_result"
    }
   ],
   "source": [
    "uecars.mpg.value_counts()"
   ]
  },
  {
   "cell_type": "code",
   "execution_count": 33,
   "id": "70a6e100",
   "metadata": {
    "ExecuteTime": {
     "end_time": "2022-03-09T21:33:38.086515Z",
     "start_time": "2022-03-09T21:33:38.056088Z"
    }
   },
   "outputs": [
    {
     "name": "stdout",
     "output_type": "stream",
     "text": [
      "<class 'pandas.core.frame.DataFrame'>\n",
      "Int64Index: 4740 entries, 0 to 4886\n",
      "Data columns (total 28 columns):\n",
      " #   Column         Non-Null Count  Dtype  \n",
      "---  ------         --------------  -----  \n",
      " 0   name           4740 non-null   object \n",
      " 1   name_subtitle  4740 non-null   object \n",
      " 2   year           4740 non-null   int64  \n",
      " 3   price          4740 non-null   float64\n",
      " 4   body           4740 non-null   object \n",
      " 5   mileage        4740 non-null   float64\n",
      " 6   BHP            4740 non-null   float64\n",
      " 7   doors          4740 non-null   object \n",
      " 8   transmission   4740 non-null   object \n",
      " 9   make           4740 non-null   object \n",
      " 10  fuel           4740 non-null   object \n",
      " 11  mpg            4740 non-null   object \n",
      " 12  drivertrain    4740 non-null   object \n",
      " 13  engine         0 non-null      float64\n",
      " 14  owners         4740 non-null   int64  \n",
      " 15  ULEZ           4740 non-null   object \n",
      " 16  dealer_area    3880 non-null   object \n",
      " 17  dealer_city    4740 non-null   object \n",
      " 18  seller1        3777 non-null   float64\n",
      " 19  used           4740 non-null   int64  \n",
      " 20  e_engine_kWh   3046 non-null   float64\n",
      " 21  log_price      4740 non-null   float64\n",
      " 22  log_mileage    4740 non-null   float64\n",
      " 23  orig_name      4740 non-null   object \n",
      " 24  id             4740 non-null   object \n",
      " 25  year_reg       4636 non-null   object \n",
      " 26  link           4740 non-null   object \n",
      " 27  href0          3880 non-null   object \n",
      "dtypes: float64(8), int64(3), object(17)\n",
      "memory usage: 1.0+ MB\n"
     ]
    }
   ],
   "source": [
    "uecars.info()"
   ]
  },
  {
   "cell_type": "markdown",
   "id": "08ac1231",
   "metadata": {},
   "source": [
    "## New cars - not electric"
   ]
  },
  {
   "cell_type": "code",
   "execution_count": 34,
   "id": "345796f1",
   "metadata": {
    "ExecuteTime": {
     "end_time": "2022-03-09T21:33:39.912458Z",
     "start_time": "2022-03-09T21:33:38.090318Z"
    },
    "code_folding": []
   },
   "outputs": [
    {
     "data": {
      "text/plain": [
       "(18906, 20)"
      ]
     },
     "execution_count": 34,
     "metadata": {},
     "output_type": "execute_result"
    }
   ],
   "source": [
    "# Import all detailed files and make new ncars df, including year\n",
    "\n",
    "path = r'/Users/robertdavies/Desktop/DSI/GA_P2/LargeDatasets/raw/df_detailed/'\n",
    "\n",
    "li=[]\n",
    "year_files = glob.glob(path + f\"/*2023_new.csv\")\n",
    "#print(len(year_files),'file(s) to load from', year)\n",
    "for filename in year_files:\n",
    "    df = pd.read_csv(filename, index_col=None, header=0 )\n",
    "    df['YR'] = '2022 new'\n",
    "    df.drop_duplicates(subset=['link'], keep='first', inplace=True)\n",
    "    li.append(df)\n",
    "\n",
    "ncars = pd.concat(li, axis=0, ignore_index=True)\n",
    "ncars.drop_duplicates(subset=['link'], keep='first', inplace=True)\n",
    "ncars.shape  "
   ]
  },
  {
   "cell_type": "code",
   "execution_count": 35,
   "id": "75fe09ae",
   "metadata": {
    "ExecuteTime": {
     "end_time": "2022-03-09T21:33:44.082002Z",
     "start_time": "2022-03-09T21:33:39.916887Z"
    },
    "code_folding": [
     0
    ]
   },
   "outputs": [
    {
     "data": {
      "text/plain": [
       "(18906, 20)"
      ]
     },
     "execution_count": 35,
     "metadata": {},
     "output_type": "execute_result"
    }
   ],
   "source": [
    "#Clean ncars.body\n",
    "\n",
    "#Create df of ncars will null body\n",
    "nabody = ncars[ncars['body'].isnull()].copy()\n",
    "\n",
    "#Encode body column but don't overwrite\n",
    "to_encode = ['body']\n",
    "ncars_e = ncars.copy()\n",
    "for col in to_encode:\n",
    "    le = LabelEncoder()\n",
    "    ncars_e[col] = le.fit_transform(ncars_e[col]) \n",
    "\n",
    "#Iterate through null-body ncars and replace with corresponding modal body value based on name column grouping\n",
    "for index, car in nabody.iterrows():\n",
    "    carname=nabody.loc[index,'name']\n",
    "    body=nabody.loc[index,'body']\n",
    "    nabody.loc[index,'body'] = ncars_e[ncars_e['name']==carname].body.mode()[0]\n",
    "    ncars_e.loc[index,'body'] = ncars_e[ncars_e['name']==carname].body.mode()[0]     \n",
    "\n",
    "#Reverse the encoding    \n",
    "for col in to_encode:\n",
    "    ncars[col] = le.inverse_transform(ncars_e[col]) \n",
    "\n",
    "#After checking the remaining ncars without a body, it is clear that they are all vans!    \n",
    "ncars.body = ['Van' if pd.Series(x).isnull()[0]==True else x for x in ncars.body]        \n",
    "\n",
    "ncars.shape"
   ]
  },
  {
   "cell_type": "code",
   "execution_count": 36,
   "id": "6cbfadc9",
   "metadata": {
    "ExecuteTime": {
     "end_time": "2022-03-09T21:33:44.181765Z",
     "start_time": "2022-03-09T21:33:44.084991Z"
    },
    "code_folding": [
     0
    ]
   },
   "outputs": [
    {
     "data": {
      "text/plain": [
       "(18890, 20)"
      ]
     },
     "execution_count": 36,
     "metadata": {},
     "output_type": "execute_result"
    }
   ],
   "source": [
    "#Clean ncars.BHP, taking values from ncars.engine where necessary. Drop remaining NaN.\n",
    "\n",
    "# Unmerge some of the BHP entries which have engine size in there too.\n",
    "for index, car in ncars[ncars['BHP'].str.contains('L', regex=True, na=False)].iterrows():\n",
    "    ncars.loc[index, 'engine'] = str(ncars.loc[index, 'BHP']).split(' ')[0]\n",
    "    ncars.loc[index, 'BHP'] = str(ncars.loc[index, 'BHP']).split(' ')[1].strip('()') \n",
    "\n",
    "# Drop NaN BHP\n",
    "ncars.dropna(subset=['BHP'],inplace=True)\n",
    "\n",
    "def standardise_bhp(x):\n",
    "    lenbhp = len(str(x).split(' '))\n",
    "    bhp=x\n",
    "    if lenbhp == 1:\n",
    "        if 'BHP' in x:\n",
    "            bhp=float(re.findall('[0-9]+', x)[0])       \n",
    "        elif 'PS' in x:\n",
    "            ps=float(re.findall('[0-9]+', x)[0])\n",
    "            bhp = ps/1.014        \n",
    "    elif lenbhp == 2:\n",
    "        x=str(x.split(' ')[-1])\n",
    "        if 'BHP' in x:\n",
    "            bhp=float(re.findall('[0-9]+', x)[0])      \n",
    "        elif 'PS' in x:\n",
    "            ps=float(re.findall('[0-9]+', x)[0])\n",
    "            bhp = ps/1.014\n",
    "    else:\n",
    "        bhp=np.nan   \n",
    "    return bhp    \n",
    "\n",
    "#Standardise remaining BHP (convert from PS)\n",
    "ncars.BHP = ncars.BHP.apply(lambda x: standardise_bhp(x))\n",
    "\n",
    "ncars.shape"
   ]
  },
  {
   "cell_type": "code",
   "execution_count": 37,
   "id": "d24877d4",
   "metadata": {
    "ExecuteTime": {
     "end_time": "2022-03-09T21:33:45.538231Z",
     "start_time": "2022-03-09T21:33:44.184944Z"
    },
    "code_folding": []
   },
   "outputs": [
    {
     "data": {
      "text/plain": [
       "(18890, 21)"
      ]
     },
     "execution_count": 37,
     "metadata": {},
     "output_type": "execute_result"
    }
   ],
   "source": [
    "#Compile the best location variable. Retain dealer_city and dealer_area. Don't drop remaining NaN.\n",
    "\n",
    "#split href0 into city and area\n",
    "ncars['dealer_city_temp'] = [x.split('/')[3] if type(x)==str and len(x.split('/'))>3 else x for x in ncars.href0]\n",
    "ncars['dealer_area'] = [x.split('/')[2] if type(x)==str and len(x.split('/'))>3 else x for x in ncars.href0]\n",
    "\n",
    "#If there are some seller ratings in seller0, move them to seller1\n",
    "ncars[ncars['seller0'].str.contains('[+-]?([0-9]*[.])?[0-9]+', regex=True, na=False)].seller1 = ncars[ncars['seller0'].str.contains('[+-]?([0-9]*[.])?[0-9]+', regex=True, na=False)].seller0\n",
    "\n",
    "#Make seller ratings in seller0 np.nan\n",
    "ncars.seller0 =[np.nan if '4' in str(x) or '5' in str(x) else x for x in ncars.seller0]\n",
    "\n",
    "#If the seller0 column is np.nan, use the dealer_city \n",
    "for index, car in ncars.iterrows():\n",
    "    if pd.isnull(ncars.loc[index,'seller0']):\n",
    "        ncars.loc[index,'seller0']=ncars.loc[index,'dealer_city_temp']\n",
    "        \n",
    "ncars['dealer_city'] = ncars['seller0']\n",
    "ncars.drop(['seller0','dealer_city_temp'],inplace=True, axis=1)\n",
    "\n",
    "ncars.shape"
   ]
  },
  {
   "cell_type": "code",
   "execution_count": 38,
   "id": "14e72b1a",
   "metadata": {
    "ExecuteTime": {
     "end_time": "2022-03-09T21:33:45.578337Z",
     "start_time": "2022-03-09T21:33:45.540985Z"
    },
    "code_folding": [
     0
    ]
   },
   "outputs": [
    {
     "data": {
      "text/plain": [
       "(18890, 21)"
      ]
     },
     "execution_count": 38,
     "metadata": {},
     "output_type": "execute_result"
    }
   ],
   "source": [
    "# Iterate over missing engine rows and use regex name_subtitle to extract engine size where possible. Convert to float\n",
    "\n",
    "for index, car in ncars[ncars['engine'].isnull()].iterrows():\n",
    "    car_subname = ncars.loc[index, 'name_subtitle']\n",
    "    try:\n",
    "        enginesize = re.findall('([0-9][.][0-9]+)',car_subname)[0]\n",
    "    except: \n",
    "        enginesize = np.nan\n",
    "    ncars.loc[index,'engine'] = float(enginesize)\n",
    "    \n",
    "ncars.engine= ncars.engine.apply(lambda x: float(str(x).replace('L','')))\n",
    "ncars.dropna(subset=['engine'],inplace=True)\n",
    "\n",
    "ncars.shape"
   ]
  },
  {
   "cell_type": "code",
   "execution_count": 39,
   "id": "f0bc39d0",
   "metadata": {
    "ExecuteTime": {
     "end_time": "2022-03-09T21:33:45.873609Z",
     "start_time": "2022-03-09T21:33:45.581190Z"
    },
    "code_folding": [
     0
    ]
   },
   "outputs": [
    {
     "data": {
      "text/plain": [
       "(18890, 22)"
      ]
     },
     "execution_count": 39,
     "metadata": {},
     "output_type": "execute_result"
    }
   ],
   "source": [
    "# Make doors column\n",
    "\n",
    "def extract_drs(x):\n",
    "    drs = re.findall('( [1-8]d[Rr]?)',x, re.I)\n",
    "    if len(drs) > 0:\n",
    "        drs = str(drs[0]).lower()\n",
    "    else:\n",
    "        drs = re.findall('([1-8][ ]?door)',x, re.I)\n",
    "        if len(drs) > 0:\n",
    "            drs = str(drs[0])[0]+'dr'\n",
    "        else:\n",
    "            drs = re.findall('([1-8]dr)',x, re.I)\n",
    "            if len(drs) > 0:\n",
    "                drs = str(drs[0])[0]+'dr'\n",
    "            else:\n",
    "                drs = re.findall('(D-4D)',x, re.I)\n",
    "                if len(drs) > 0:\n",
    "                    drs = '4dr'\n",
    "                else:\n",
    "                    drs='0dr'\n",
    "                \n",
    "    if ('r' or 'R') not in drs:\n",
    "        drs = drs.replace('d','dr')\n",
    "    return drs.strip()\n",
    "     \n",
    "ncars['doors'] = ncars.name_subtitle.apply(lambda x: extract_drs(x))\n",
    "\n",
    "#Create df of ncars with 0 doors\n",
    "zerodoors = ncars[ncars['doors']=='0dr'].copy()\n",
    "\n",
    "#Encode doors column but don't overwrite\n",
    "to_encode = ['doors']\n",
    "ncars_e = ncars.copy()\n",
    "for col in to_encode:\n",
    "    le = LabelEncoder()\n",
    "    ncars_e[col] = le.fit_transform(ncars_e[col]) \n",
    "\n",
    "#Iterate through zero door ncars and replace with corresponding num doors based on name column grouping\n",
    "for index, car in zerodoors.iterrows():\n",
    "    carname=zerodoors.loc[index,'name']\n",
    "    ncars_e.loc[index,'doors'] = ncars_e[ncars_e['name']==carname].doors.mode()[0]     \n",
    "\n",
    "#Reverse the encoding    \n",
    "for col in to_encode:\n",
    "    ncars[col] = le.inverse_transform(ncars_e[col]) \n",
    "\n",
    "#Drop the remaining 226 ncars without door information    \n",
    "ncars.dropna(subset=['doors'],inplace=True)\n",
    "    \n",
    "ncars.shape"
   ]
  },
  {
   "cell_type": "code",
   "execution_count": 40,
   "id": "67849e75",
   "metadata": {
    "ExecuteTime": {
     "end_time": "2022-03-09T21:33:45.884514Z",
     "start_time": "2022-03-09T21:33:45.877034Z"
    },
    "code_folding": [
     0
    ]
   },
   "outputs": [
    {
     "data": {
      "text/plain": [
       "(18890, 22)"
      ]
     },
     "execution_count": 40,
     "metadata": {},
     "output_type": "execute_result"
    }
   ],
   "source": [
    "# Clean ncars.mileage\n",
    "\n",
    "#Drop them - only 283\n",
    "ncars.mileage = '0'\n",
    "\n",
    "ncars.shape"
   ]
  },
  {
   "cell_type": "code",
   "execution_count": 41,
   "id": "7b29f9bc",
   "metadata": {
    "ExecuteTime": {
     "end_time": "2022-03-09T21:33:45.912073Z",
     "start_time": "2022-03-09T21:33:45.887724Z"
    },
    "code_folding": [
     0
    ]
   },
   "outputs": [
    {
     "data": {
      "text/plain": [
       "(18890, 22)"
      ]
     },
     "execution_count": 41,
     "metadata": {},
     "output_type": "execute_result"
    }
   ],
   "source": [
    "# Clean ncars.fuel\n",
    "\n",
    "#Drop them - only 12\n",
    "ncars.dropna(subset=['fuel'],inplace=True)\n",
    "\n",
    "ncars.shape"
   ]
  },
  {
   "cell_type": "code",
   "execution_count": 42,
   "id": "2d763202",
   "metadata": {
    "ExecuteTime": {
     "end_time": "2022-03-09T21:33:45.968900Z",
     "start_time": "2022-03-09T21:33:45.914721Z"
    },
    "code_folding": []
   },
   "outputs": [
    {
     "data": {
      "text/plain": [
       "(18890, 23)"
      ]
     },
     "execution_count": 42,
     "metadata": {},
     "output_type": "execute_result"
    }
   ],
   "source": [
    "# Clean ncars.price, make ncars.ID, clean ncars.year \n",
    "\n",
    "to_dummy=['mpg','drivetrain','make','body','transmission','fuel']\n",
    "\n",
    "ncars.price=ncars.price.apply(lambda x: x.replace('£',''))\n",
    "ncars.price=ncars.price.apply(lambda x: float(x.replace(',','')))\n",
    "ncars['id'] =[x.split('/')[-1] for x in ncars.link]\n",
    "ncars['year_reg']=ncars.year\n",
    "ncars['year']= 2022\n",
    "ncars.drop('YR',inplace=True, axis=1)\n",
    "\n",
    "ncars.shape"
   ]
  },
  {
   "cell_type": "code",
   "execution_count": 43,
   "id": "83bbf9e6",
   "metadata": {
    "ExecuteTime": {
     "end_time": "2022-03-09T21:33:45.976298Z",
     "start_time": "2022-03-09T21:33:45.971654Z"
    },
    "code_folding": [
     0
    ]
   },
   "outputs": [],
   "source": [
    "#Obtain ncars.ll_search <-- Doesn't actually work with nominatim openstreetmap. Probably not needed.\n",
    "\n",
    "# ncars['ll_search']=''\n",
    "# ll_search_series = []\n",
    "# for index, car in tqdm(ncars.iterrows()):\n",
    "#     dc = str(car[19])\n",
    "#     da = str(car[18])\n",
    "#     if dc == 'nan':\n",
    "#         dc = ''\n",
    "#     if da == 'nan':\n",
    "#         da = ''\n",
    "#     car[23] = dc+' '+da\n",
    "#     ll_search_series.append(car[23])\n",
    "# ncars['ll_search'] = ll_search_series\n"
   ]
  },
  {
   "cell_type": "code",
   "execution_count": 44,
   "id": "a2544e6d",
   "metadata": {
    "ExecuteTime": {
     "end_time": "2022-03-09T21:33:45.983963Z",
     "start_time": "2022-03-09T21:33:45.980219Z"
    },
    "code_folding": [
     0
    ]
   },
   "outputs": [],
   "source": [
    "#Iterate over ncars to convert dealer_city to lat/lon. 2s per car makes this a 2+day cell. Running in other workbook. \n",
    "\n",
    "# lat_series = []\n",
    "# lon_series = []\n",
    "\n",
    "# for index, car in tqdm(ncars.iterrows()):\n",
    "#     address = car[19] + ' UK'\n",
    "#     url = 'https://nominatim.openstreetmap.org/search/' + urllib.parse.quote(address) +'?format=json'\n",
    "#     response = requests.get(url).json()\n",
    "#     lat_series.append(response[0][\"lat\"])\n",
    "#     lon_series.append(response[0][\"lon\"])\n",
    "    \n",
    "# ncars['seller_lat']=lat_series\n",
    "# ncars['seller_lon']=lon_series\n",
    "    "
   ]
  },
  {
   "cell_type": "code",
   "execution_count": 45,
   "id": "e6285246",
   "metadata": {
    "ExecuteTime": {
     "end_time": "2022-03-09T21:33:46.738653Z",
     "start_time": "2022-03-09T21:33:45.987843Z"
    },
    "code_folding": [
     0
    ]
   },
   "outputs": [
    {
     "data": {
      "image/png": "[encoded data removed]",
      "text/plain": [
       "<Figure size 1152x288 with 2 Axes>"
      ]
     },
     "metadata": {
      "needs_background": "light"
     },
     "output_type": "display_data"
    }
   ],
   "source": [
    "# Have a peek at the price and mileage distribution\n",
    "\n",
    "ncars['log_price']=ncars.price.apply(lambda x: np.log(x))\n",
    "ncars['mileage']=ncars.mileage.apply(lambda x: float(x))\n",
    "ncars['log_mileage']=ncars.mileage.apply(lambda x: np.log(x))\n",
    "\n",
    "#mask = np.abs((ncars.price - ncars.price.mean(0)) / ncars.price.std(0)) > 3\n",
    "#ncars= ncars[~mask]\n",
    "#ncars.price.plot(kind='hist', bins=50, title='Car Price after outlier removal', xlabel='£');\n",
    "\n",
    "fig, ax = plt.subplots(ncols=2, figsize=(16,4))\n",
    "ax[0].hist(ncars.price, bins=60)\n",
    "ax[1].hist(ncars.log_price, bins=60)\n",
    "ax[0].set_xlabel('£')\n",
    "ax[1].set_xlabel('£')\n",
    "ax[0].set_title('Price')\n",
    "ax[1].set_title('Log price')\n",
    "plt.tight_layout()\n",
    "plt.show()"
   ]
  },
  {
   "cell_type": "code",
   "execution_count": 46,
   "id": "804350d9",
   "metadata": {
    "ExecuteTime": {
     "end_time": "2022-03-09T21:33:48.726844Z",
     "start_time": "2022-03-09T21:33:46.742145Z"
    },
    "code_folding": [
     0,
     5
    ]
   },
   "outputs": [
    {
     "data": {
      "text/plain": [
       "(18890, 26)"
      ]
     },
     "execution_count": 46,
     "metadata": {},
     "output_type": "execute_result"
    }
   ],
   "source": [
    "# Simplify the name column a little. Probably not perfect \n",
    "\n",
    "ncars['orig_name'] = ncars.name\n",
    "ncars['lname']=ncars.name.apply(lambda x: x.lower())\n",
    "\n",
    "body =[\"coupe\", \"convertible\", \"estate\", \"hatchback\", \"MPV\", \"pickup\", \n",
    "       \"SUV\", \"saloon\",\"cabriolet\",\"sedan\"]\n",
    "\n",
    "results = []\n",
    "for index, car in ncars.iterrows():\n",
    "    lname = car[-1]\n",
    "    dummy = lname\n",
    "    for cname in name_list_from_carsized:\n",
    "        if cname in lname:\n",
    "            dummy = cname\n",
    "    for bod in body:\n",
    "        if bod in dummy:\n",
    "            dummy = re.sub(' '+bod,'',dummy)\n",
    "    results.append(dummy)\n",
    "results\n",
    "\n",
    "ncars['name']=results\n",
    "ncars=ncars.drop('lname', axis=1)\n",
    "\n",
    "ncars.shape"
   ]
  },
  {
   "cell_type": "code",
   "execution_count": 47,
   "id": "3eb0f40a",
   "metadata": {
    "ExecuteTime": {
     "end_time": "2022-03-09T21:33:48.739132Z",
     "start_time": "2022-03-09T21:33:48.730263Z"
    },
    "code_folding": [
     0
    ]
   },
   "outputs": [
    {
     "data": {
      "text/plain": [
       "(18890, 28)"
      ]
     },
     "execution_count": 47,
     "metadata": {},
     "output_type": "execute_result"
    }
   ],
   "source": [
    "# Add ncars.used and ncars.e_engine_kWh columns to be compatible with other datasets \n",
    "\n",
    "ncars['used']=0\n",
    "ncars['e_engine_kWh']= np.nan\n",
    "\n",
    "ncars.shape"
   ]
  },
  {
   "cell_type": "code",
   "execution_count": 48,
   "id": "b2dc1bd4",
   "metadata": {
    "ExecuteTime": {
     "end_time": "2022-03-09T21:33:49.126025Z",
     "start_time": "2022-03-09T21:33:48.743318Z"
    },
    "code_folding": []
   },
   "outputs": [],
   "source": [
    "# Output clean used cars data \n",
    "ncars=ncars[['name','name_subtitle','year','price','body','mileage','BHP','doors'\n",
    "            ,'transmission','make','fuel','mpg','drivertrain','engine','owners'\n",
    "            ,'ULEZ','dealer_area','dealer_city','seller1','used', 'e_engine_kWh'\n",
    "            ,'log_price','log_mileage','orig_name','id','year_reg','link','href0']]\n",
    "ncars_abspath = r'/Users/robertdavies/Desktop/DSI/GA_P2/LargeDatasets/00_clean_new_cars.csv'\n",
    "ncars.to_csv(ncars_abspath, index=False, header=ncars.columns )"
   ]
  },
  {
   "cell_type": "code",
   "execution_count": 49,
   "id": "c7c6e2fb",
   "metadata": {
    "ExecuteTime": {
     "end_time": "2022-03-09T21:33:49.187606Z",
     "start_time": "2022-03-09T21:33:49.128769Z"
    }
   },
   "outputs": [
    {
     "name": "stdout",
     "output_type": "stream",
     "text": [
      "<class 'pandas.core.frame.DataFrame'>\n",
      "Int64Index: 18890 entries, 0 to 50386\n",
      "Data columns (total 28 columns):\n",
      " #   Column         Non-Null Count  Dtype  \n",
      "---  ------         --------------  -----  \n",
      " 0   name           18890 non-null  object \n",
      " 1   name_subtitle  18890 non-null  object \n",
      " 2   year           18890 non-null  int64  \n",
      " 3   price          18890 non-null  float64\n",
      " 4   body           18890 non-null  object \n",
      " 5   mileage        18890 non-null  float64\n",
      " 6   BHP            18890 non-null  float64\n",
      " 7   doors          18890 non-null  object \n",
      " 8   transmission   18890 non-null  object \n",
      " 9   make           18890 non-null  object \n",
      " 10  fuel           18890 non-null  object \n",
      " 11  mpg            18890 non-null  object \n",
      " 12  drivertrain    18890 non-null  object \n",
      " 13  engine         18890 non-null  float64\n",
      " 14  owners         0 non-null      float64\n",
      " 15  ULEZ           18780 non-null  object \n",
      " 16  dealer_area    16203 non-null  object \n",
      " 17  dealer_city    18686 non-null  object \n",
      " 18  seller1        16203 non-null  float64\n",
      " 19  used           18890 non-null  int64  \n",
      " 20  e_engine_kWh   0 non-null      float64\n",
      " 21  log_price      18890 non-null  float64\n",
      " 22  log_mileage    18890 non-null  float64\n",
      " 23  orig_name      18890 non-null  object \n",
      " 24  id             18890 non-null  object \n",
      " 25  year_reg       0 non-null      float64\n",
      " 26  link           18890 non-null  object \n",
      " 27  href0          16203 non-null  object \n",
      "dtypes: float64(10), int64(2), object(16)\n",
      "memory usage: 4.7+ MB\n"
     ]
    }
   ],
   "source": [
    "ncars.info()"
   ]
  },
  {
   "cell_type": "markdown",
   "id": "a024e410",
   "metadata": {},
   "source": [
    "## New cars - electric"
   ]
  },
  {
   "cell_type": "code",
   "execution_count": 50,
   "id": "0d8e8ea2",
   "metadata": {
    "ExecuteTime": {
     "end_time": "2022-03-09T21:33:49.261128Z",
     "start_time": "2022-03-09T21:33:49.192794Z"
    },
    "code_folding": [
     0
    ]
   },
   "outputs": [
    {
     "data": {
      "text/plain": [
       "(2816, 20)"
      ]
     },
     "execution_count": 50,
     "metadata": {},
     "output_type": "execute_result"
    }
   ],
   "source": [
    "# Import all detailed files and make new ncars df, including year\n",
    "\n",
    "path = r'/Users/robertdavies/Desktop/DSI/GA_P2/LargeDatasets/raw/df_detailed_ev/'\n",
    "\n",
    "li=[]\n",
    "year_files = glob.glob(path + f\"/*2023_electric_new.csv\")\n",
    "#print(len(year_files),'file(s) to load from', year)\n",
    "for filename in year_files:\n",
    "    df = pd.read_csv(filename, index_col=None, header=0 )\n",
    "    df['YR'] = '2022 new'\n",
    "    df.drop_duplicates(subset=['link'], keep='first', inplace=True)\n",
    "    li.append(df)\n",
    "\n",
    "necars = pd.concat(li, axis=0, ignore_index=True)\n",
    "necars.drop_duplicates(subset=['link'], keep='first', inplace=True)\n",
    "necars.shape  "
   ]
  },
  {
   "cell_type": "code",
   "execution_count": 51,
   "id": "d409000f",
   "metadata": {
    "ExecuteTime": {
     "end_time": "2022-03-09T21:33:49.273506Z",
     "start_time": "2022-03-09T21:33:49.264191Z"
    },
    "code_folding": [
     0
    ]
   },
   "outputs": [
    {
     "data": {
      "text/plain": [
       "(2816, 20)"
      ]
     },
     "execution_count": 51,
     "metadata": {},
     "output_type": "execute_result"
    }
   ],
   "source": [
    "# Body is fine. No cleaning needed.\n",
    "\n",
    "necars.shape"
   ]
  },
  {
   "cell_type": "code",
   "execution_count": 52,
   "id": "1362f097",
   "metadata": {
    "ExecuteTime": {
     "end_time": "2022-03-09T21:33:49.304186Z",
     "start_time": "2022-03-09T21:33:49.279273Z"
    },
    "code_folding": [
     0,
     5
    ]
   },
   "outputs": [
    {
     "data": {
      "text/plain": [
       "(2768, 20)"
      ]
     },
     "execution_count": 52,
     "metadata": {},
     "output_type": "execute_result"
    }
   ],
   "source": [
    "# Clean BHP.\n",
    "\n",
    "# Drop NaN BHP\n",
    "necars.dropna(subset=['BHP'],inplace=True)\n",
    "\n",
    "def standardise_bhp(x):\n",
    "    lenbhp = len(str(x).split(' '))\n",
    "    bhp=x\n",
    "    if lenbhp == 1:\n",
    "        if 'BHP' in x:\n",
    "            bhp=float(re.findall('[0-9]+', x)[0])       \n",
    "        elif 'PS' in x:\n",
    "            ps=float(re.findall('[0-9]+', x)[0])\n",
    "            bhp = ps/1.014        \n",
    "    elif lenbhp == 2:\n",
    "        x=str(x.split(' ')[-1])\n",
    "        if 'BHP' in x:\n",
    "            bhp=float(re.findall('[0-9]+', x)[0])      \n",
    "        elif 'PS' in x:\n",
    "            ps=float(re.findall('[0-9]+', x)[0])\n",
    "            bhp = ps/1.014\n",
    "    else:\n",
    "        bhp=np.nan   \n",
    "    return bhp    \n",
    "\n",
    "#Standardise remaining BHP (convert from PS)\n",
    "necars.BHP = necars.BHP.apply(lambda x: standardise_bhp(x))\n",
    "\n",
    "necars.shape"
   ]
  },
  {
   "cell_type": "code",
   "execution_count": 53,
   "id": "761771a6",
   "metadata": {
    "ExecuteTime": {
     "end_time": "2022-03-09T21:33:49.568608Z",
     "start_time": "2022-03-09T21:33:49.307835Z"
    },
    "code_folding": []
   },
   "outputs": [
    {
     "data": {
      "text/plain": [
       "(2768, 21)"
      ]
     },
     "execution_count": 53,
     "metadata": {},
     "output_type": "execute_result"
    }
   ],
   "source": [
    "#Compile the best location variable. Retain dealer_city and dealer_area. Don't drop remaining NaN.\n",
    "\n",
    "#split href0 into city and area\n",
    "necars['dealer_city_temp'] = [x.split('/')[3] if type(x)==str and len(x.split('/'))>3 else x for x in necars.href0]\n",
    "necars['dealer_area'] = [x.split('/')[2] if type(x)==str and len(x.split('/'))>3 else x for x in necars.href0]\n",
    "\n",
    "#If there are some seller ratings in seller0, move them to seller1\n",
    "necars[necars['seller0'].str.contains('[+-]?([0-9]*[.])?[0-9]+', regex=True, na=False)].seller1 = necars[necars['seller0'].str.contains('[+-]?([0-9]*[.])?[0-9]+', regex=True, na=False)].seller0\n",
    "\n",
    "#Make seller ratings in seller0 np.nan\n",
    "necars.seller0 =[np.nan if '4' in str(x) or '5' in str(x) else x for x in necars.seller0]\n",
    "\n",
    "#If the seller0 column is np.nan, use the dealer_city \n",
    "for index, car in necars.iterrows():\n",
    "    if pd.isnull(necars.loc[index,'seller0']):\n",
    "        necars.loc[index,'seller0']=necars.loc[index,'dealer_city_temp']\n",
    "    #Tiny number of cars don't have a location, and they're all from one dealer in Oldbury.    \n",
    "    if pd.isnull(necars.loc[index,'seller0']):\n",
    "        necars.loc[index,'seller0']= 'Oldbury'\n",
    "        \n",
    "necars['dealer_city'] = necars['seller0']\n",
    "necars.drop(['seller0','dealer_city_temp'],inplace=True, axis=1)\n",
    "\n",
    "necars.shape"
   ]
  },
  {
   "cell_type": "code",
   "execution_count": 54,
   "id": "41c01111",
   "metadata": {
    "ExecuteTime": {
     "end_time": "2022-03-09T21:33:50.072985Z",
     "start_time": "2022-03-09T21:33:49.571539Z"
    },
    "code_folding": [
     0
    ]
   },
   "outputs": [
    {
     "data": {
      "text/plain": [
       "(2768, 22)"
      ]
     },
     "execution_count": 54,
     "metadata": {},
     "output_type": "execute_result"
    }
   ],
   "source": [
    "# Populate necars.e_engine_kWh from name_subtitle ~20% NaN. Not great but BHP supersedes it.\n",
    "\n",
    "necars['e_engine_kWh']=''\n",
    "necars['engine']=np.nan\n",
    "\n",
    "for index, car in necars.iterrows():\n",
    "    car_subname = necars.loc[index, 'name_subtitle']\n",
    "    try:\n",
    "        eenginesize = re.findall('[\\d]+[.]?[\\d]+[ ]?kwh',car_subname, flags=re.I)[0]\n",
    "    except: \n",
    "        eenginesize = np.nan\n",
    "    necars.loc[index,'e_engine_kWh'] = eenginesize\n",
    "    \n",
    "necars.e_engine_kWh= necars.e_engine_kWh.apply(lambda x: float(str(x).lower().replace('kwh','')))\n",
    "#necars.dropna(subset=['engine'],inplace=True)\n",
    "\n",
    "necars.shape"
   ]
  },
  {
   "cell_type": "code",
   "execution_count": 55,
   "id": "7f80bc3e",
   "metadata": {
    "ExecuteTime": {
     "end_time": "2022-03-09T21:33:50.098341Z",
     "start_time": "2022-03-09T21:33:50.076484Z"
    },
    "code_folding": [
     0
    ]
   },
   "outputs": [
    {
     "data": {
      "text/plain": [
       "(2764, 23)"
      ]
     },
     "execution_count": 55,
     "metadata": {},
     "output_type": "execute_result"
    }
   ],
   "source": [
    "# Make doors column. Drop 4 without info. \n",
    "     \n",
    "necars['doors'] = necars.name_subtitle.apply(lambda x: extract_drs(x))\n",
    "\n",
    "# Drop the remaining 4 necars without door information    \n",
    "necars.drop(necars[necars.doors=='0dr'].index, inplace=True)\n",
    "\n",
    "necars.shape"
   ]
  },
  {
   "cell_type": "code",
   "execution_count": 56,
   "id": "df65e9e0",
   "metadata": {
    "ExecuteTime": {
     "end_time": "2022-03-09T21:33:50.127261Z",
     "start_time": "2022-03-09T21:33:50.101457Z"
    },
    "code_folding": []
   },
   "outputs": [
    {
     "data": {
      "text/plain": [
       "(2764, 24)"
      ]
     },
     "execution_count": 56,
     "metadata": {},
     "output_type": "execute_result"
    }
   ],
   "source": [
    "# Clean necars.price, make necars.ID, clean necars.year \n",
    "to_dummy=['mpg','drivetrain','make','body','transmission','fuel']\n",
    "\n",
    "necars.price=necars.price.apply(lambda x: x.replace('£',''))\n",
    "necars.price=necars.price.apply(lambda x: float(x.replace(',','')))\n",
    "necars['id'] =[x.split('/')[-1] for x in necars.link]\n",
    "necars['year_reg']=necars.YR\n",
    "necars['year']=2022\n",
    "necars.drop('YR',inplace=True, axis=1)\n",
    "necars.owners=int(0)\n",
    "necars.ULEZ='ULEZ'\n",
    "\n",
    "\n",
    "necars.shape"
   ]
  },
  {
   "cell_type": "code",
   "execution_count": 57,
   "id": "2ab3b5d4",
   "metadata": {
    "ExecuteTime": {
     "end_time": "2022-03-09T21:33:50.136224Z",
     "start_time": "2022-03-09T21:33:50.131004Z"
    },
    "code_folding": [
     0
    ]
   },
   "outputs": [],
   "source": [
    "# Set necars.mileage = 0. Set necars.used = 0.\n",
    "\n",
    "necars['mileage']= 0\n",
    "necars['used']=0\n"
   ]
  },
  {
   "cell_type": "code",
   "execution_count": 58,
   "id": "b04d8a9d",
   "metadata": {
    "ExecuteTime": {
     "end_time": "2022-03-09T21:33:50.766869Z",
     "start_time": "2022-03-09T21:33:50.140287Z"
    },
    "code_folding": []
   },
   "outputs": [
    {
     "data": {
      "image/png": "[encoded data removed]",
      "text/plain": [
       "<Figure size 1152x288 with 2 Axes>"
      ]
     },
     "metadata": {
      "needs_background": "light"
     },
     "output_type": "display_data"
    }
   ],
   "source": [
    "# Have a peek at the price and mileage distribution\n",
    "\n",
    "necars['log_price']=necars.price.apply(lambda x: np.log(x))\n",
    "necars['mileage']=necars.mileage.apply(lambda x: float(x))\n",
    "necars['log_mileage']=necars.mileage.apply(lambda x: np.log(x))\n",
    "\n",
    "#mask = np.abs((ncars.price - ncars.price.mean(0)) / ncars.price.std(0)) > 3\n",
    "#ncars= ncars[~mask]\n",
    "#ncars.price.plot(kind='hist', bins=50, title='Car Price after outlier removal', xlabel='£');\n",
    "\n",
    "fig, ax = plt.subplots(ncols=2, figsize=(16,4))\n",
    "ax[0].hist(necars.price, bins=60)\n",
    "ax[1].hist(necars.log_price, bins=60)\n",
    "ax[0].set_xlabel('£')\n",
    "ax[1].set_xlabel('£')\n",
    "ax[0].set_title('Price')\n",
    "ax[1].set_title('Log price')\n",
    "plt.tight_layout()\n",
    "plt.show()"
   ]
  },
  {
   "cell_type": "code",
   "execution_count": 59,
   "id": "35b40bd8",
   "metadata": {
    "ExecuteTime": {
     "end_time": "2022-03-09T21:33:51.081430Z",
     "start_time": "2022-03-09T21:33:50.770713Z"
    },
    "code_folding": [
     5
    ]
   },
   "outputs": [
    {
     "data": {
      "text/plain": [
       "(2764, 28)"
      ]
     },
     "execution_count": 59,
     "metadata": {},
     "output_type": "execute_result"
    }
   ],
   "source": [
    "# Simplify the name column a little. Probably some room for improvement here but it will be used when merging \n",
    "\n",
    "necars['orig_name'] = necars.name\n",
    "necars['lname']=necars.name.apply(lambda x: x.lower())\n",
    "\n",
    "body =[\"coupe\", \"convertible\", \"estate\", \"hatchback\", \"MPV\", \"pickup\", \n",
    "        \"SUV\", \"saloon\",\"cabriolet\",\"sedan\"]\n",
    "\n",
    "results = []\n",
    "for index, car in necars.iterrows():\n",
    "    lname = car[-1]\n",
    "    dummy = lname\n",
    "    for cname in name_list_from_carsized:\n",
    "        if cname in lname:\n",
    "            dummy = cname\n",
    "    for bod in body:\n",
    "        if bod in dummy:\n",
    "            dummy = re.sub(' '+bod,'',dummy)\n",
    "    results.append(dummy)\n",
    "\n",
    "necars['name']=results\n",
    "necars=necars.drop('lname', axis=1)\n",
    "\n",
    "necars.shape"
   ]
  },
  {
   "cell_type": "code",
   "execution_count": 60,
   "id": "a02c6ef3",
   "metadata": {
    "ExecuteTime": {
     "end_time": "2022-03-09T21:33:51.151243Z",
     "start_time": "2022-03-09T21:33:51.085053Z"
    },
    "code_folding": []
   },
   "outputs": [],
   "source": [
    "# Output clean used cars data \n",
    "\n",
    "# Sort the order of the columns.\n",
    "necars=necars[['name','name_subtitle','year','price','body','mileage','BHP','doors'\n",
    "            ,'transmission','make','fuel','mpg','drivertrain','engine','owners'\n",
    "            ,'ULEZ','dealer_area','dealer_city','seller1','used', 'e_engine_kWh'\n",
    "            ,'log_price','log_mileage','orig_name','id','year_reg','link','href0']]\n",
    "necars_abspath = r'/Users/robertdavies/Desktop/DSI/GA_P2/LargeDatasets/00_clean_new_electric_cars.csv'\n",
    "necars.to_csv(necars_abspath, index=False, header=necars.columns )"
   ]
  },
  {
   "cell_type": "code",
   "execution_count": 61,
   "id": "1d37e1aa",
   "metadata": {
    "ExecuteTime": {
     "end_time": "2022-03-09T21:33:51.179805Z",
     "start_time": "2022-03-09T21:33:51.153938Z"
    },
    "scrolled": true
   },
   "outputs": [
    {
     "name": "stdout",
     "output_type": "stream",
     "text": [
      "<class 'pandas.core.frame.DataFrame'>\n",
      "Int64Index: 2764 entries, 0 to 2815\n",
      "Data columns (total 28 columns):\n",
      " #   Column         Non-Null Count  Dtype  \n",
      "---  ------         --------------  -----  \n",
      " 0   name           2764 non-null   object \n",
      " 1   name_subtitle  2764 non-null   object \n",
      " 2   year           2764 non-null   int64  \n",
      " 3   price          2764 non-null   float64\n",
      " 4   body           2764 non-null   object \n",
      " 5   mileage        2764 non-null   float64\n",
      " 6   BHP            2764 non-null   float64\n",
      " 7   doors          2764 non-null   object \n",
      " 8   transmission   2764 non-null   object \n",
      " 9   make           2764 non-null   object \n",
      " 10  fuel           2764 non-null   object \n",
      " 11  mpg            2764 non-null   object \n",
      " 12  drivertrain    2764 non-null   object \n",
      " 13  engine         0 non-null      float64\n",
      " 14  owners         2764 non-null   int64  \n",
      " 15  ULEZ           2764 non-null   object \n",
      " 16  dealer_area    2415 non-null   object \n",
      " 17  dealer_city    2764 non-null   object \n",
      " 18  seller1        2415 non-null   float64\n",
      " 19  used           2764 non-null   int64  \n",
      " 20  e_engine_kWh   2297 non-null   float64\n",
      " 21  log_price      2764 non-null   float64\n",
      " 22  log_mileage    2764 non-null   float64\n",
      " 23  orig_name      2764 non-null   object \n",
      " 24  id             2764 non-null   object \n",
      " 25  year_reg       2764 non-null   object \n",
      " 26  link           2764 non-null   object \n",
      " 27  href0          2415 non-null   object \n",
      "dtypes: float64(8), int64(3), object(17)\n",
      "memory usage: 626.2+ KB\n"
     ]
    }
   ],
   "source": [
    "necars.info()"
   ]
  },
  {
   "cell_type": "markdown",
   "id": "097f1bcb",
   "metadata": {},
   "source": [
    "# Combine dataframes"
   ]
  },
  {
   "cell_type": "markdown",
   "id": "6439786d",
   "metadata": {},
   "source": [
    "OK, so we have cleaned the data in four batches, now I want to combine it into a single DataFrame.\n",
    "\n",
    "The four batches so far have already been engineered to have the same series of variables in the same order, so I can concatenate them."
   ]
  },
  {
   "cell_type": "markdown",
   "id": "83abfbb2",
   "metadata": {},
   "source": [
    "## Combine input data"
   ]
  },
  {
   "cell_type": "markdown",
   "id": "45af462a",
   "metadata": {},
   "source": [
    "One large file is easier to work with than four small ones, so now it's time to concatenate them all."
   ]
  },
  {
   "cell_type": "code",
   "execution_count": 62,
   "id": "59be26c3",
   "metadata": {
    "ExecuteTime": {
     "end_time": "2022-03-09T21:33:55.371354Z",
     "start_time": "2022-03-09T21:33:51.183414Z"
    }
   },
   "outputs": [
    {
     "name": "stdout",
     "output_type": "stream",
     "text": [
      "DataFrame shape: (400245, 28)\n"
     ]
    }
   ],
   "source": [
    "# Read and cat clean cars data \n",
    "\n",
    "# Each of my absolute paths for  the datasets cleaned so far. If you're trying to recreate this project\n",
    "# yourself then this will need to be tailored.\n",
    "car_dataframes = [ucars_abspath, ncars_abspath, necars_abspath, uecars_abspath]\n",
    "li=[]\n",
    "for filename in car_dataframes:\n",
    "    df = pd.read_csv(filename, index_col=None, header=0 )\n",
    "    # Drop duplicates\n",
    "    df.drop_duplicates(subset=['link'], keep='first', inplace=True)\n",
    "    li.append(df)\n",
    "\n",
    "# Concatenate the four dataframes into one.     \n",
    "cars = pd.concat(li, axis=0, ignore_index=True)\n",
    "cars.drop_duplicates(subset=['id'], keep='first', inplace=True)\n",
    "print('DataFrame shape:',cars.shape)"
   ]
  },
  {
   "cell_type": "code",
   "execution_count": 63,
   "id": "9348f659",
   "metadata": {
    "ExecuteTime": {
     "end_time": "2022-03-09T21:33:56.505939Z",
     "start_time": "2022-03-09T21:33:55.374327Z"
    }
   },
   "outputs": [
    {
     "name": "stdout",
     "output_type": "stream",
     "text": [
      "<class 'pandas.core.frame.DataFrame'>\n",
      "Int64Index: 400245 entries, 0 to 400305\n",
      "Data columns (total 28 columns):\n",
      " #   Column         Non-Null Count   Dtype  \n",
      "---  ------         --------------   -----  \n",
      " 0   name           400245 non-null  object \n",
      " 1   name_subtitle  400245 non-null  object \n",
      " 2   year           400245 non-null  int64  \n",
      " 3   price          400245 non-null  float64\n",
      " 4   body           400245 non-null  object \n",
      " 5   mileage        400245 non-null  float64\n",
      " 6   BHP            400245 non-null  float64\n",
      " 7   doors          400245 non-null  object \n",
      " 8   transmission   400245 non-null  object \n",
      " 9   make           400245 non-null  object \n",
      " 10  fuel           400245 non-null  object \n",
      " 11  mpg            400245 non-null  object \n",
      " 12  drivertrain    400245 non-null  object \n",
      " 13  engine         392741 non-null  float64\n",
      " 14  owners         199447 non-null  float64\n",
      " 15  ULEZ           352088 non-null  object \n",
      " 16  dealer_area    340545 non-null  object \n",
      " 17  dealer_city    399769 non-null  object \n",
      " 18  seller1        329526 non-null  float64\n",
      " 19  used           400245 non-null  int64  \n",
      " 20  e_engine_kWh   5343 non-null    float64\n",
      " 21  log_price      400245 non-null  float64\n",
      " 22  log_mileage    400245 non-null  float64\n",
      " 23  orig_name      400245 non-null  object \n",
      " 24  id             400245 non-null  int64  \n",
      " 25  year_reg       373067 non-null  object \n",
      " 26  link           400245 non-null  object \n",
      " 27  href0          340545 non-null  object \n",
      "dtypes: float64(9), int64(3), object(16)\n",
      "memory usage: 88.6+ MB\n"
     ]
    }
   ],
   "source": [
    "cars.info()"
   ]
  },
  {
   "cell_type": "code",
   "execution_count": 64,
   "id": "67e7c9a6",
   "metadata": {
    "ExecuteTime": {
     "end_time": "2022-03-09T21:33:56.842109Z",
     "start_time": "2022-03-09T21:33:56.510855Z"
    }
   },
   "outputs": [
    {
     "data": {
      "text/html": [
       "<div>\n",
       "<style scoped>\n",
       "    .dataframe tbody tr th:only-of-type {\n",
       "        vertical-align: middle;\n",
       "    }\n",
       "\n",
       "    .dataframe tbody tr th {\n",
       "        vertical-align: top;\n",
       "    }\n",
       "\n",
       "    .dataframe thead th {\n",
       "        text-align: right;\n",
       "    }\n",
       "</style>\n",
       "<table border=\"1\" class=\"dataframe\">\n",
       "  <thead>\n",
       "    <tr style=\"text-align: right;\">\n",
       "      <th></th>\n",
       "      <th>year</th>\n",
       "      <th>price</th>\n",
       "      <th>mileage</th>\n",
       "      <th>BHP</th>\n",
       "      <th>engine</th>\n",
       "      <th>owners</th>\n",
       "      <th>seller1</th>\n",
       "      <th>used</th>\n",
       "      <th>e_engine_kWh</th>\n",
       "      <th>log_price</th>\n",
       "      <th>log_mileage</th>\n",
       "      <th>id</th>\n",
       "    </tr>\n",
       "  </thead>\n",
       "  <tbody>\n",
       "    <tr>\n",
       "      <th>count</th>\n",
       "      <td>400245.000000</td>\n",
       "      <td>4.002450e+05</td>\n",
       "      <td>4.002450e+05</td>\n",
       "      <td>400245.000000</td>\n",
       "      <td>392741.000000</td>\n",
       "      <td>199447.000000</td>\n",
       "      <td>329526.000000</td>\n",
       "      <td>400245.000000</td>\n",
       "      <td>5343.000000</td>\n",
       "      <td>400245.000000</td>\n",
       "      <td>4.002450e+05</td>\n",
       "      <td>4.002450e+05</td>\n",
       "    </tr>\n",
       "    <tr>\n",
       "      <th>mean</th>\n",
       "      <td>2016.663406</td>\n",
       "      <td>1.930479e+04</td>\n",
       "      <td>3.787096e+04</td>\n",
       "      <td>156.053268</td>\n",
       "      <td>1.734427</td>\n",
       "      <td>1.795444</td>\n",
       "      <td>4.636698</td>\n",
       "      <td>0.945908</td>\n",
       "      <td>55.656410</td>\n",
       "      <td>9.647099</td>\n",
       "      <td>-inf</td>\n",
       "      <td>2.021445e+14</td>\n",
       "    </tr>\n",
       "    <tr>\n",
       "      <th>std</th>\n",
       "      <td>3.652162</td>\n",
       "      <td>1.319212e+04</td>\n",
       "      <td>3.327608e+04</td>\n",
       "      <td>69.251285</td>\n",
       "      <td>0.556279</td>\n",
       "      <td>1.172630</td>\n",
       "      <td>0.442237</td>\n",
       "      <td>0.226199</td>\n",
       "      <td>19.113811</td>\n",
       "      <td>0.723010</td>\n",
       "      <td>NaN</td>\n",
       "      <td>4.517598e+10</td>\n",
       "    </tr>\n",
       "    <tr>\n",
       "      <th>min</th>\n",
       "      <td>1994.000000</td>\n",
       "      <td>2.500000e+02</td>\n",
       "      <td>0.000000e+00</td>\n",
       "      <td>1.000000</td>\n",
       "      <td>0.600000</td>\n",
       "      <td>0.000000</td>\n",
       "      <td>1.000000</td>\n",
       "      <td>0.000000</td>\n",
       "      <td>11.000000</td>\n",
       "      <td>5.521461</td>\n",
       "      <td>-inf</td>\n",
       "      <td>2.015062e+14</td>\n",
       "    </tr>\n",
       "    <tr>\n",
       "      <th>25%</th>\n",
       "      <td>2015.000000</td>\n",
       "      <td>1.099100e+04</td>\n",
       "      <td>1.347300e+04</td>\n",
       "      <td>113.000000</td>\n",
       "      <td>1.400000</td>\n",
       "      <td>1.000000</td>\n",
       "      <td>4.500000</td>\n",
       "      <td>1.000000</td>\n",
       "      <td>42.000000</td>\n",
       "      <td>9.304832</td>\n",
       "      <td>9.508443e+00</td>\n",
       "      <td>2.021110e+14</td>\n",
       "    </tr>\n",
       "    <tr>\n",
       "      <th>50%</th>\n",
       "      <td>2018.000000</td>\n",
       "      <td>1.724900e+04</td>\n",
       "      <td>2.833300e+04</td>\n",
       "      <td>138.067061</td>\n",
       "      <td>1.600000</td>\n",
       "      <td>1.000000</td>\n",
       "      <td>4.700000</td>\n",
       "      <td>1.000000</td>\n",
       "      <td>50.000000</td>\n",
       "      <td>9.755509</td>\n",
       "      <td>1.025178e+01</td>\n",
       "      <td>2.021121e+14</td>\n",
       "    </tr>\n",
       "    <tr>\n",
       "      <th>75%</th>\n",
       "      <td>2019.000000</td>\n",
       "      <td>2.450000e+04</td>\n",
       "      <td>5.400000e+04</td>\n",
       "      <td>187.376726</td>\n",
       "      <td>2.000000</td>\n",
       "      <td>2.000000</td>\n",
       "      <td>4.900000</td>\n",
       "      <td>1.000000</td>\n",
       "      <td>71.000000</td>\n",
       "      <td>10.106428</td>\n",
       "      <td>1.089674e+01</td>\n",
       "      <td>2.022011e+14</td>\n",
       "    </tr>\n",
       "    <tr>\n",
       "      <th>max</th>\n",
       "      <td>2022.000000</td>\n",
       "      <td>1.250000e+06</td>\n",
       "      <td>1.113000e+06</td>\n",
       "      <td>972.386588</td>\n",
       "      <td>5.500000</td>\n",
       "      <td>26.000000</td>\n",
       "      <td>5.000000</td>\n",
       "      <td>1.000000</td>\n",
       "      <td>125.000000</td>\n",
       "      <td>14.038654</td>\n",
       "      <td>1.392257e+01</td>\n",
       "      <td>2.022021e+14</td>\n",
       "    </tr>\n",
       "  </tbody>\n",
       "</table>\n",
       "</div>"
      ],
      "text/plain": [
       "                year         price       mileage            BHP  \\\n",
       "count  400245.000000  4.002450e+05  4.002450e+05  400245.000000   \n",
       "mean     2016.663406  1.930479e+04  3.787096e+04     156.053268   \n",
       "std         3.652162  1.319212e+04  3.327608e+04      69.251285   \n",
       "min      1994.000000  2.500000e+02  0.000000e+00       1.000000   \n",
       "25%      2015.000000  1.099100e+04  1.347300e+04     113.000000   \n",
       "50%      2018.000000  1.724900e+04  2.833300e+04     138.067061   \n",
       "75%      2019.000000  2.450000e+04  5.400000e+04     187.376726   \n",
       "max      2022.000000  1.250000e+06  1.113000e+06     972.386588   \n",
       "\n",
       "              engine         owners        seller1           used  \\\n",
       "count  392741.000000  199447.000000  329526.000000  400245.000000   \n",
       "mean        1.734427       1.795444       4.636698       0.945908   \n",
       "std         0.556279       1.172630       0.442237       0.226199   \n",
       "min         0.600000       0.000000       1.000000       0.000000   \n",
       "25%         1.400000       1.000000       4.500000       1.000000   \n",
       "50%         1.600000       1.000000       4.700000       1.000000   \n",
       "75%         2.000000       2.000000       4.900000       1.000000   \n",
       "max         5.500000      26.000000       5.000000       1.000000   \n",
       "\n",
       "       e_engine_kWh      log_price   log_mileage            id  \n",
       "count   5343.000000  400245.000000  4.002450e+05  4.002450e+05  \n",
       "mean      55.656410       9.647099          -inf  2.021445e+14  \n",
       "std       19.113811       0.723010           NaN  4.517598e+10  \n",
       "min       11.000000       5.521461          -inf  2.015062e+14  \n",
       "25%       42.000000       9.304832  9.508443e+00  2.021110e+14  \n",
       "50%       50.000000       9.755509  1.025178e+01  2.021121e+14  \n",
       "75%       71.000000      10.106428  1.089674e+01  2.022011e+14  \n",
       "max      125.000000      14.038654  1.392257e+01  2.022021e+14  "
      ]
     },
     "execution_count": 64,
     "metadata": {},
     "output_type": "execute_result"
    }
   ],
   "source": [
    "cars.describe()"
   ]
  },
  {
   "cell_type": "code",
   "execution_count": 65,
   "id": "214d6e8f",
   "metadata": {
    "ExecuteTime": {
     "end_time": "2022-03-09T21:33:56.898121Z",
     "start_time": "2022-03-09T21:33:56.849153Z"
    }
   },
   "outputs": [
    {
     "data": {
      "text/html": [
       "<div>\n",
       "<style scoped>\n",
       "    .dataframe tbody tr th:only-of-type {\n",
       "        vertical-align: middle;\n",
       "    }\n",
       "\n",
       "    .dataframe tbody tr th {\n",
       "        vertical-align: top;\n",
       "    }\n",
       "\n",
       "    .dataframe thead th {\n",
       "        text-align: right;\n",
       "    }\n",
       "</style>\n",
       "<table border=\"1\" class=\"dataframe\">\n",
       "  <thead>\n",
       "    <tr style=\"text-align: right;\">\n",
       "      <th></th>\n",
       "      <th>name</th>\n",
       "      <th>name_subtitle</th>\n",
       "      <th>year</th>\n",
       "      <th>price</th>\n",
       "      <th>body</th>\n",
       "      <th>mileage</th>\n",
       "      <th>BHP</th>\n",
       "      <th>doors</th>\n",
       "      <th>transmission</th>\n",
       "      <th>make</th>\n",
       "      <th>...</th>\n",
       "      <th>seller1</th>\n",
       "      <th>used</th>\n",
       "      <th>e_engine_kWh</th>\n",
       "      <th>log_price</th>\n",
       "      <th>log_mileage</th>\n",
       "      <th>orig_name</th>\n",
       "      <th>id</th>\n",
       "      <th>year_reg</th>\n",
       "      <th>link</th>\n",
       "      <th>href0</th>\n",
       "    </tr>\n",
       "  </thead>\n",
       "  <tbody>\n",
       "    <tr>\n",
       "      <th>160338</th>\n",
       "      <td>ford fiesta</td>\n",
       "      <td>Titanium Hatchback 5dr Petrol Manual 97 g/km 9...</td>\n",
       "      <td>2017</td>\n",
       "      <td>12991.0</td>\n",
       "      <td>Hatchback</td>\n",
       "      <td>27480.0</td>\n",
       "      <td>98.619329</td>\n",
       "      <td>5dr</td>\n",
       "      <td>Manual</td>\n",
       "      <td>Ford</td>\n",
       "      <td>...</td>\n",
       "      <td>4.7</td>\n",
       "      <td>1</td>\n",
       "      <td>NaN</td>\n",
       "      <td>9.472012</td>\n",
       "      <td>10.221214</td>\n",
       "      <td>Ford Fiesta</td>\n",
       "      <td>202201201567638</td>\n",
       "      <td>2017 (67 reg)</td>\n",
       "      <td>https://www.autotrader.co.uk/car-details/20220...</td>\n",
       "      <td>/dealers/berkshire/wokingham/think-ford-woking...</td>\n",
       "    </tr>\n",
       "    <tr>\n",
       "      <th>392314</th>\n",
       "      <td>volkswagen t-cross</td>\n",
       "      <td>T-Cross SE 1.0 TSI 110PS 6-spe 5dr</td>\n",
       "      <td>2022</td>\n",
       "      <td>23095.0</td>\n",
       "      <td>SUV</td>\n",
       "      <td>0.0</td>\n",
       "      <td>108.481262</td>\n",
       "      <td>5dr</td>\n",
       "      <td>Manual</td>\n",
       "      <td>Volkswagen</td>\n",
       "      <td>...</td>\n",
       "      <td>3.0</td>\n",
       "      <td>0</td>\n",
       "      <td>NaN</td>\n",
       "      <td>10.047371</td>\n",
       "      <td>-inf</td>\n",
       "      <td>Volkswagen T-Cross</td>\n",
       "      <td>202201281867246</td>\n",
       "      <td>NaN</td>\n",
       "      <td>https://www.autotrader.co.uk/classified/advert...</td>\n",
       "      <td>/dealers/west-yorkshire/bradford/jct600-volksw...</td>\n",
       "    </tr>\n",
       "    <tr>\n",
       "      <th>105124</th>\n",
       "      <td>peugeot 308</td>\n",
       "      <td>1.6 THP GT (s/s) 5dr</td>\n",
       "      <td>2015</td>\n",
       "      <td>11990.0</td>\n",
       "      <td>Hatchback</td>\n",
       "      <td>38210.0</td>\n",
       "      <td>205.000000</td>\n",
       "      <td>5dr</td>\n",
       "      <td>Manual</td>\n",
       "      <td>Peugeot</td>\n",
       "      <td>...</td>\n",
       "      <td>5.0</td>\n",
       "      <td>1</td>\n",
       "      <td>NaN</td>\n",
       "      <td>9.391828</td>\n",
       "      <td>10.550853</td>\n",
       "      <td>Peugeot 308</td>\n",
       "      <td>202201091161974</td>\n",
       "      <td>2015 (65 reg)</td>\n",
       "      <td>https://www.autotrader.co.uk/car-details/20220...</td>\n",
       "      <td>/dealers/buckinghamshire/high-wycombe/autohave...</td>\n",
       "    </tr>\n",
       "    <tr>\n",
       "      <th>236602</th>\n",
       "      <td>mercedes-benz cla class</td>\n",
       "      <td>CLA 220d AMG Line Night Edition 2.1 4dr</td>\n",
       "      <td>2018</td>\n",
       "      <td>22990.0</td>\n",
       "      <td>Saloon</td>\n",
       "      <td>57404.0</td>\n",
       "      <td>167.652860</td>\n",
       "      <td>4dr</td>\n",
       "      <td>Automatic</td>\n",
       "      <td>Mercedes-Benz</td>\n",
       "      <td>...</td>\n",
       "      <td>4.7</td>\n",
       "      <td>1</td>\n",
       "      <td>NaN</td>\n",
       "      <td>10.042815</td>\n",
       "      <td>10.957869</td>\n",
       "      <td>Mercedes-Benz Cla Class</td>\n",
       "      <td>202201191510217</td>\n",
       "      <td>2018 (68 reg)</td>\n",
       "      <td>https://www.autotrader.co.uk/car-details/20220...</td>\n",
       "      <td>/dealers/norwich/heigham-street/mercedes-benz-...</td>\n",
       "    </tr>\n",
       "    <tr>\n",
       "      <th>320180</th>\n",
       "      <td>hyundai kona</td>\n",
       "      <td>1.6T GDi Blue Drive Premium GT 4WD DCT 5dr</td>\n",
       "      <td>2019</td>\n",
       "      <td>20998.0</td>\n",
       "      <td>SUV</td>\n",
       "      <td>19500.0</td>\n",
       "      <td>174.556213</td>\n",
       "      <td>5dr</td>\n",
       "      <td>Automatic</td>\n",
       "      <td>Hyundai</td>\n",
       "      <td>...</td>\n",
       "      <td>NaN</td>\n",
       "      <td>1</td>\n",
       "      <td>NaN</td>\n",
       "      <td>9.952182</td>\n",
       "      <td>9.878170</td>\n",
       "      <td>Hyundai Kona</td>\n",
       "      <td>202201211593395</td>\n",
       "      <td>2019 (19 reg)</td>\n",
       "      <td>https://www.autotrader.co.uk/car-details/20220...</td>\n",
       "      <td>/dealers/north-humberside/hessle/carsupermarke...</td>\n",
       "    </tr>\n",
       "  </tbody>\n",
       "</table>\n",
       "<p>5 rows × 28 columns</p>\n",
       "</div>"
      ],
      "text/plain": [
       "                           name  \\\n",
       "160338              ford fiesta   \n",
       "392314       volkswagen t-cross   \n",
       "105124              peugeot 308   \n",
       "236602  mercedes-benz cla class   \n",
       "320180             hyundai kona   \n",
       "\n",
       "                                            name_subtitle  year    price  \\\n",
       "160338  Titanium Hatchback 5dr Petrol Manual 97 g/km 9...  2017  12991.0   \n",
       "392314                 T-Cross SE 1.0 TSI 110PS 6-spe 5dr  2022  23095.0   \n",
       "105124                               1.6 THP GT (s/s) 5dr  2015  11990.0   \n",
       "236602            CLA 220d AMG Line Night Edition 2.1 4dr  2018  22990.0   \n",
       "320180         1.6T GDi Blue Drive Premium GT 4WD DCT 5dr  2019  20998.0   \n",
       "\n",
       "             body  mileage         BHP doors transmission           make  ...  \\\n",
       "160338  Hatchback  27480.0   98.619329   5dr       Manual           Ford  ...   \n",
       "392314        SUV      0.0  108.481262   5dr       Manual     Volkswagen  ...   \n",
       "105124  Hatchback  38210.0  205.000000   5dr       Manual        Peugeot  ...   \n",
       "236602     Saloon  57404.0  167.652860   4dr    Automatic  Mercedes-Benz  ...   \n",
       "320180        SUV  19500.0  174.556213   5dr    Automatic        Hyundai  ...   \n",
       "\n",
       "       seller1 used e_engine_kWh  log_price  log_mileage  \\\n",
       "160338     4.7    1          NaN   9.472012    10.221214   \n",
       "392314     3.0    0          NaN  10.047371         -inf   \n",
       "105124     5.0    1          NaN   9.391828    10.550853   \n",
       "236602     4.7    1          NaN  10.042815    10.957869   \n",
       "320180     NaN    1          NaN   9.952182     9.878170   \n",
       "\n",
       "                      orig_name               id       year_reg  \\\n",
       "160338              Ford Fiesta  202201201567638  2017 (67 reg)   \n",
       "392314       Volkswagen T-Cross  202201281867246            NaN   \n",
       "105124              Peugeot 308  202201091161974  2015 (65 reg)   \n",
       "236602  Mercedes-Benz Cla Class  202201191510217  2018 (68 reg)   \n",
       "320180             Hyundai Kona  202201211593395  2019 (19 reg)   \n",
       "\n",
       "                                                     link  \\\n",
       "160338  https://www.autotrader.co.uk/car-details/20220...   \n",
       "392314  https://www.autotrader.co.uk/classified/advert...   \n",
       "105124  https://www.autotrader.co.uk/car-details/20220...   \n",
       "236602  https://www.autotrader.co.uk/car-details/20220...   \n",
       "320180  https://www.autotrader.co.uk/car-details/20220...   \n",
       "\n",
       "                                                    href0  \n",
       "160338  /dealers/berkshire/wokingham/think-ford-woking...  \n",
       "392314  /dealers/west-yorkshire/bradford/jct600-volksw...  \n",
       "105124  /dealers/buckinghamshire/high-wycombe/autohave...  \n",
       "236602  /dealers/norwich/heigham-street/mercedes-benz-...  \n",
       "320180  /dealers/north-humberside/hessle/carsupermarke...  \n",
       "\n",
       "[5 rows x 28 columns]"
      ]
     },
     "execution_count": 65,
     "metadata": {},
     "output_type": "execute_result"
    }
   ],
   "source": [
    "cars.sample(5)"
   ]
  },
  {
   "cell_type": "code",
   "execution_count": 66,
   "id": "9b3ac440",
   "metadata": {
    "ExecuteTime": {
     "end_time": "2022-03-09T21:34:07.379485Z",
     "start_time": "2022-03-09T21:33:56.901528Z"
    },
    "code_folding": []
   },
   "outputs": [],
   "source": [
    "# Output all cars data - still containsa a few NaNs\n",
    "cars=cars[['name','name_subtitle','year','price','body','mileage','BHP','doors'\n",
    "            ,'transmission','make','fuel','mpg','drivertrain','engine','owners'\n",
    "            ,'ULEZ','dealer_area','dealer_city','seller1','used', 'e_engine_kWh'\n",
    "            ,'log_price','log_mileage','orig_name','id','year_reg','link','href0']]\n",
    "cars_abspath = r'/Users/robertdavies/Desktop/DSI/GA_P2/LargeDatasets/00_all_cars.csv'\n",
    "cars.to_csv(cars_abspath, index=False, header=cars.columns )"
   ]
  },
  {
   "cell_type": "markdown",
   "id": "3977f1a8",
   "metadata": {},
   "source": [
    "This file (above) is the input data to the [EDA](#EDA-on-used-cars) in section in 4 of this Notebook, ans also is the input data to the modelling in Notebook 5 of 6."
   ]
  },
  {
   "cell_type": "markdown",
   "id": "8b33de7d",
   "metadata": {},
   "source": [
    "## Join county, latitude and longitude"
   ]
  },
  {
   "cell_type": "markdown",
   "id": "642f0d43",
   "metadata": {},
   "source": [
    "Merging latitude and longitude information first, then county information second to the dataframe. The lat/lon merge is a one-one merge based on car ID. The county merge is then a many-to-one merge based on rounded lat/lon figures.\n",
    "\n",
    "All GeoCoding is performed in Notebook 03_GeoCoding, where .csv files are created/condition for merging. \n",
    "\n",
    "Note that this location information was not included in the first version of the model. It was part of the further work which I undertook when experimenting with ways to improve model performance after the first version. "
   ]
  },
  {
   "cell_type": "code",
   "execution_count": 67,
   "id": "13d65bee",
   "metadata": {
    "ExecuteTime": {
     "end_time": "2022-03-09T21:34:07.971352Z",
     "start_time": "2022-03-09T21:34:07.382655Z"
    },
    "code_folding": []
   },
   "outputs": [
    {
     "data": {
      "text/plain": [
       "(398983, 3)"
      ]
     },
     "execution_count": 67,
     "metadata": {},
     "output_type": "execute_result"
    }
   ],
   "source": [
    "# Import all latlon files and make ll dataframe \n",
    "\n",
    "path = r'/Users/robertdavies/Desktop/DSI/GA_P2/LargeDatasets/latlon/'\n",
    "\n",
    "li=[]\n",
    "files = glob.glob(path + f\"/*.csv\")\n",
    "for filename in files:\n",
    "    df = pd.read_csv(filename, index_col=None, header=0 )\n",
    "    li.append(df)\n",
    "\n",
    "ll = pd.concat(li, axis=0, ignore_index=True)\n",
    "ll.drop_duplicates(subset=['id'], keep='first', inplace=True)\n",
    "ll = ll[['id','dealer_lat','dealer_lon']]\n",
    "ll.shape    "
   ]
  },
  {
   "cell_type": "code",
   "execution_count": 68,
   "id": "9b122372",
   "metadata": {
    "ExecuteTime": {
     "end_time": "2022-03-09T21:34:08.581681Z",
     "start_time": "2022-03-09T21:34:07.973924Z"
    },
    "code_folding": []
   },
   "outputs": [
    {
     "data": {
      "text/plain": [
       "(400245, 30)"
      ]
     },
     "execution_count": 68,
     "metadata": {},
     "output_type": "execute_result"
    }
   ],
   "source": [
    "# Merge cars and lat/lon df on 'id'. One-to-one merge.\n",
    "\n",
    "cars = pd.merge(\n",
    "    cars,\n",
    "    ll,\n",
    "    how=\"left\",\n",
    "    on='id',\n",
    "    sort=False,\n",
    "    suffixes=(\"_x\", \"_y\"),\n",
    "    copy=True,\n",
    "    indicator=False,\n",
    "    validate=\"one_to_one\"\n",
    ")\n",
    "\n",
    "cars.shape"
   ]
  },
  {
   "cell_type": "code",
   "execution_count": 69,
   "id": "59543522",
   "metadata": {
    "ExecuteTime": {
     "end_time": "2022-03-09T21:34:09.507696Z",
     "start_time": "2022-03-09T21:34:08.585202Z"
    }
   },
   "outputs": [
    {
     "name": "stdout",
     "output_type": "stream",
     "text": [
      "<class 'pandas.core.frame.DataFrame'>\n",
      "Int64Index: 400245 entries, 0 to 400244\n",
      "Data columns (total 30 columns):\n",
      " #   Column         Non-Null Count   Dtype  \n",
      "---  ------         --------------   -----  \n",
      " 0   name           400245 non-null  object \n",
      " 1   name_subtitle  400245 non-null  object \n",
      " 2   year           400245 non-null  int64  \n",
      " 3   price          400245 non-null  float64\n",
      " 4   body           400245 non-null  object \n",
      " 5   mileage        400245 non-null  float64\n",
      " 6   BHP            400245 non-null  float64\n",
      " 7   doors          400245 non-null  object \n",
      " 8   transmission   400245 non-null  object \n",
      " 9   make           400245 non-null  object \n",
      " 10  fuel           400245 non-null  object \n",
      " 11  mpg            400245 non-null  object \n",
      " 12  drivertrain    400245 non-null  object \n",
      " 13  engine         392741 non-null  float64\n",
      " 14  owners         199447 non-null  float64\n",
      " 15  ULEZ           352088 non-null  object \n",
      " 16  dealer_area    340545 non-null  object \n",
      " 17  dealer_city    399769 non-null  object \n",
      " 18  seller1        329526 non-null  float64\n",
      " 19  used           400245 non-null  int64  \n",
      " 20  e_engine_kWh   5343 non-null    float64\n",
      " 21  log_price      400245 non-null  float64\n",
      " 22  log_mileage    400245 non-null  float64\n",
      " 23  orig_name      400245 non-null  object \n",
      " 24  id             400245 non-null  int64  \n",
      " 25  year_reg       373067 non-null  object \n",
      " 26  link           400245 non-null  object \n",
      " 27  href0          340545 non-null  object \n",
      " 28  dealer_lat     398695 non-null  float64\n",
      " 29  dealer_lon     398695 non-null  float64\n",
      "dtypes: float64(11), int64(3), object(16)\n",
      "memory usage: 94.7+ MB\n"
     ]
    }
   ],
   "source": [
    "cars.info()"
   ]
  },
  {
   "cell_type": "code",
   "execution_count": 70,
   "id": "19a2b263",
   "metadata": {
    "ExecuteTime": {
     "end_time": "2022-03-09T21:34:09.544266Z",
     "start_time": "2022-03-09T21:34:09.512265Z"
    }
   },
   "outputs": [
    {
     "data": {
      "text/plain": [
       "Index(['original_ll', 'geocode', 'county', 'postcode', 'postcode_short',\n",
       "       'dealer_lat', 'dealer_lon', 'dealer_lat_rnd', 'dealer_lon_rnd'],\n",
       "      dtype='object')"
      ]
     },
     "execution_count": 70,
     "metadata": {},
     "output_type": "execute_result"
    }
   ],
   "source": [
    "# Read counties csv file prepared in 03_GeoCoding\n",
    "\n",
    "counties = pd.read_csv('/Users/robertdavies/Desktop/DSI/GA_P2/LargeDatasets/04_merge_counties.csv')\n",
    "# Observe counties columns\n",
    "counties.columns"
   ]
  },
  {
   "cell_type": "code",
   "execution_count": 71,
   "id": "f801faf3",
   "metadata": {
    "ExecuteTime": {
     "end_time": "2022-03-09T21:34:09.557154Z",
     "start_time": "2022-03-09T21:34:09.548661Z"
    }
   },
   "outputs": [
    {
     "data": {
      "text/plain": [
       "Index(['name', 'name_subtitle', 'year', 'price', 'body', 'mileage', 'BHP',\n",
       "       'doors', 'transmission', 'make', 'fuel', 'mpg', 'drivertrain', 'engine',\n",
       "       'owners', 'ULEZ', 'dealer_area', 'dealer_city', 'seller1', 'used',\n",
       "       'e_engine_kWh', 'log_price', 'log_mileage', 'orig_name', 'id',\n",
       "       'year_reg', 'link', 'href0', 'dealer_lat', 'dealer_lon'],\n",
       "      dtype='object')"
      ]
     },
     "execution_count": 71,
     "metadata": {},
     "output_type": "execute_result"
    }
   ],
   "source": [
    "# Observe cars columns\n",
    "cars.columns"
   ]
  },
  {
   "cell_type": "code",
   "execution_count": 72,
   "id": "2dea998e",
   "metadata": {
    "ExecuteTime": {
     "end_time": "2022-03-09T21:34:10.225272Z",
     "start_time": "2022-03-09T21:34:09.561038Z"
    }
   },
   "outputs": [],
   "source": [
    "# Generate rounded lat/lon in cars dataframe to match counties. This rounding is approx accurate to 1 m\n",
    "cars['dealer_lat_rnd']=cars.dealer_lat.apply(lambda x: round(x,5))\n",
    "cars['dealer_lon_rnd']=cars.dealer_lon.apply(lambda x: round(x,5))"
   ]
  },
  {
   "cell_type": "code",
   "execution_count": 73,
   "id": "3e07e4cc",
   "metadata": {
    "ExecuteTime": {
     "end_time": "2022-03-09T21:34:10.909938Z",
     "start_time": "2022-03-09T21:34:10.228384Z"
    },
    "code_folding": []
   },
   "outputs": [],
   "source": [
    "# Left merge counties data into cars dataframe based on rounded lat/lon. Many-to-one merge. \n",
    "cars = pd.merge(\n",
    "    cars,\n",
    "    counties,\n",
    "    how=\"left\",\n",
    "    left_on=['dealer_lat_rnd','dealer_lon_rnd'],\n",
    "    right_on=['dealer_lat_rnd','dealer_lon_rnd'],\n",
    "    sort=False,\n",
    "    suffixes=(\"\", \"_y\"),\n",
    "    copy=True,\n",
    "    indicator=False,\n",
    ")"
   ]
  },
  {
   "cell_type": "code",
   "execution_count": 74,
   "id": "8de30b93",
   "metadata": {
    "ExecuteTime": {
     "end_time": "2022-03-09T21:34:12.203717Z",
     "start_time": "2022-03-09T21:34:10.913516Z"
    }
   },
   "outputs": [
    {
     "name": "stdout",
     "output_type": "stream",
     "text": [
      "<class 'pandas.core.frame.DataFrame'>\n",
      "Int64Index: 400245 entries, 0 to 400244\n",
      "Data columns (total 39 columns):\n",
      " #   Column          Non-Null Count   Dtype  \n",
      "---  ------          --------------   -----  \n",
      " 0   name            400245 non-null  object \n",
      " 1   name_subtitle   400245 non-null  object \n",
      " 2   year            400245 non-null  int64  \n",
      " 3   price           400245 non-null  float64\n",
      " 4   body            400245 non-null  object \n",
      " 5   mileage         400245 non-null  float64\n",
      " 6   BHP             400245 non-null  float64\n",
      " 7   doors           400245 non-null  object \n",
      " 8   transmission    400245 non-null  object \n",
      " 9   make            400245 non-null  object \n",
      " 10  fuel            400245 non-null  object \n",
      " 11  mpg             400245 non-null  object \n",
      " 12  drivertrain     400245 non-null  object \n",
      " 13  engine          392741 non-null  float64\n",
      " 14  owners          199447 non-null  float64\n",
      " 15  ULEZ            352088 non-null  object \n",
      " 16  dealer_area     340545 non-null  object \n",
      " 17  dealer_city     399769 non-null  object \n",
      " 18  seller1         329526 non-null  float64\n",
      " 19  used            400245 non-null  int64  \n",
      " 20  e_engine_kWh    5343 non-null    float64\n",
      " 21  log_price       400245 non-null  float64\n",
      " 22  log_mileage     400245 non-null  float64\n",
      " 23  orig_name       400245 non-null  object \n",
      " 24  id              400245 non-null  int64  \n",
      " 25  year_reg        373067 non-null  object \n",
      " 26  link            400245 non-null  object \n",
      " 27  href0           340545 non-null  object \n",
      " 28  dealer_lat      398695 non-null  float64\n",
      " 29  dealer_lon      398695 non-null  float64\n",
      " 30  dealer_lat_rnd  398695 non-null  float64\n",
      " 31  dealer_lon_rnd  398695 non-null  float64\n",
      " 32  original_ll     398695 non-null  object \n",
      " 33  geocode         398695 non-null  object \n",
      " 34  county          398695 non-null  object \n",
      " 35  postcode        398695 non-null  object \n",
      " 36  postcode_short  386212 non-null  object \n",
      " 37  dealer_lat_y    398695 non-null  float64\n",
      " 38  dealer_lon_y    398695 non-null  float64\n",
      "dtypes: float64(15), int64(3), object(21)\n",
      "memory usage: 122.1+ MB\n"
     ]
    }
   ],
   "source": [
    "cars.info()"
   ]
  },
  {
   "cell_type": "markdown",
   "id": "296ffaf0",
   "metadata": {},
   "source": [
    "Note that only 398695/400245 cars have lat/lon/county data. Pretty good. "
   ]
  },
  {
   "cell_type": "code",
   "execution_count": 75,
   "id": "6db5a0eb",
   "metadata": {
    "ExecuteTime": {
     "end_time": "2022-03-09T21:34:12.590998Z",
     "start_time": "2022-03-09T21:34:12.206342Z"
    }
   },
   "outputs": [],
   "source": [
    "# Drop extra columns no longer needed\n",
    "cars.drop(labels=['dealer_lat_rnd', 'dealer_lon_rnd', 'original_ll',\n",
    "       'dealer_lat_y', 'dealer_lon_y'], axis=1, inplace=True)"
   ]
  },
  {
   "cell_type": "code",
   "execution_count": 76,
   "id": "820ceeed",
   "metadata": {
    "ExecuteTime": {
     "end_time": "2022-03-09T21:34:12.619006Z",
     "start_time": "2022-03-09T21:34:12.593312Z"
    }
   },
   "outputs": [
    {
     "data": {
      "text/plain": [
       "Greater London             32808\n",
       "West Midlands              32761\n",
       "West Yorkshire             18519\n",
       "Greater Manchester         17016\n",
       "Surrey                     12955\n",
       "                           ...  \n",
       "Argyll and Bute Council       33\n",
       "Isle of Wight                 26\n",
       "Na h-Eileanan an Iar           3\n",
       "Orkney Islands                 1\n",
       "Shetland Islands               1\n",
       "Name: county, Length: 136, dtype: int64"
      ]
     },
     "execution_count": 76,
     "metadata": {},
     "output_type": "execute_result"
    }
   ],
   "source": [
    "# Quick look at car counts in each county. It looks as expected - Most in London, least in Shetland and Orkney!\n",
    "cars.county.value_counts()"
   ]
  },
  {
   "cell_type": "code",
   "execution_count": 77,
   "id": "22afc053",
   "metadata": {
    "ExecuteTime": {
     "end_time": "2022-03-09T21:34:24.648677Z",
     "start_time": "2022-03-09T21:34:12.622205Z"
    }
   },
   "outputs": [],
   "source": [
    "# Output all cars data with lat&lon and county - still containsa a few NaNs\n",
    "cars=cars[['name','name_subtitle','year','price','body','mileage','BHP','doors'\n",
    "            ,'transmission','make','fuel','mpg','drivertrain','engine','owners'\n",
    "            ,'ULEZ','county','dealer_area','dealer_city'\n",
    "            ,'dealer_lat','dealer_lon','geocode'\n",
    "            ,'county', 'postcode', 'postcode_short','seller1','used', 'e_engine_kWh'\n",
    "            ,'log_price','log_mileage','orig_name','id','year_reg','link','href0']]\n",
    "cars_abspath = r'/Users/robertdavies/Desktop/DSI/GA_P2/LargeDatasets/00_all_cars_ll.csv'\n",
    "cars.to_csv(cars_abspath, index=False, header=cars.columns )"
   ]
  },
  {
   "cell_type": "code",
   "execution_count": 78,
   "id": "42b20a83",
   "metadata": {
    "ExecuteTime": {
     "end_time": "2022-03-09T21:34:25.882681Z",
     "start_time": "2022-03-09T21:34:24.651702Z"
    }
   },
   "outputs": [
    {
     "name": "stdout",
     "output_type": "stream",
     "text": [
      "<class 'pandas.core.frame.DataFrame'>\n",
      "Int64Index: 400245 entries, 0 to 400244\n",
      "Data columns (total 35 columns):\n",
      " #   Column          Non-Null Count   Dtype  \n",
      "---  ------          --------------   -----  \n",
      " 0   name            400245 non-null  object \n",
      " 1   name_subtitle   400245 non-null  object \n",
      " 2   year            400245 non-null  int64  \n",
      " 3   price           400245 non-null  float64\n",
      " 4   body            400245 non-null  object \n",
      " 5   mileage         400245 non-null  float64\n",
      " 6   BHP             400245 non-null  float64\n",
      " 7   doors           400245 non-null  object \n",
      " 8   transmission    400245 non-null  object \n",
      " 9   make            400245 non-null  object \n",
      " 10  fuel            400245 non-null  object \n",
      " 11  mpg             400245 non-null  object \n",
      " 12  drivertrain     400245 non-null  object \n",
      " 13  engine          392741 non-null  float64\n",
      " 14  owners          199447 non-null  float64\n",
      " 15  ULEZ            352088 non-null  object \n",
      " 16  county          398695 non-null  object \n",
      " 17  dealer_area     340545 non-null  object \n",
      " 18  dealer_city     399769 non-null  object \n",
      " 19  dealer_lat      398695 non-null  float64\n",
      " 20  dealer_lon      398695 non-null  float64\n",
      " 21  geocode         398695 non-null  object \n",
      " 22  county          398695 non-null  object \n",
      " 23  postcode        398695 non-null  object \n",
      " 24  postcode_short  386212 non-null  object \n",
      " 25  seller1         329526 non-null  float64\n",
      " 26  used            400245 non-null  int64  \n",
      " 27  e_engine_kWh    5343 non-null    float64\n",
      " 28  log_price       400245 non-null  float64\n",
      " 29  log_mileage     400245 non-null  float64\n",
      " 30  orig_name       400245 non-null  object \n",
      " 31  id              400245 non-null  int64  \n",
      " 32  year_reg        373067 non-null  object \n",
      " 33  link            400245 non-null  object \n",
      " 34  href0           340545 non-null  object \n",
      "dtypes: float64(11), int64(3), object(21)\n",
      "memory usage: 109.9+ MB\n"
     ]
    }
   ],
   "source": [
    "# A final look at the cars data frame info before I move onto merging the car size data from \n",
    "# Notebook 02_Carsized_scrape\n",
    "cars.info()"
   ]
  },
  {
   "cell_type": "markdown",
   "id": "ec097b60",
   "metadata": {},
   "source": [
    "## Merging the car size details"
   ]
  },
  {
   "cell_type": "markdown",
   "id": "01b227e4",
   "metadata": {},
   "source": [
    "Now I merge in the car dimension information from Notebook 02_Carsized_scrape.\n",
    "\n",
    "Note that this cars size data isn't actually used in the primary modelling, it was considered further work which was used to improve the model after the first version had been finished. "
   ]
  },
  {
   "cell_type": "code",
   "execution_count": 79,
   "id": "2d1ba2c2",
   "metadata": {
    "ExecuteTime": {
     "end_time": "2022-03-09T21:34:51.113446Z",
     "start_time": "2022-03-09T21:34:25.885941Z"
    },
    "code_folding": []
   },
   "outputs": [],
   "source": [
    "# Read all car data \n",
    "\n",
    "abspath = r'/Users/robertdavies/Desktop/DSI/GA_P2/LargeDatasets/00_all_cars_ll.csv'\n",
    "dfcars = pd.read_csv(abspath)\n",
    "\n",
    "abspath = r'/Users/robertdavies/Desktop/DSI/GA_P2/LargeDatasets/02_carsized_dims_for_merge.csv'\n",
    "dfsize = pd.read_csv(abspath)\n",
    "\n",
    "# A small number of string manipulations to improve merging of two dataframes using name column as one of the labels.\n",
    "# Note that most of these are simple american/english naming conventions. This doesn't capture them all - there are\n",
    "# still a number of failed matches between the dataframes as you'll see later, but it's OK for now. If I had more\n",
    "# time I would go through it in more detail.\n",
    "\n",
    "# Iterate over rows in the dfcars dataframe and replace some string elements, creating a match_name columns at the \n",
    "# end\n",
    "match_name=[]\n",
    "for index, car in dfcars.iterrows():\n",
    "    name = car[0]\n",
    "    name = name.replace('series','')\n",
    "    name = name.replace('-',' ')\n",
    "    name = name.replace('class','')\n",
    "    name = name.replace('hatch','cooper')\n",
    "    name = name.replace('mini','mini cooper')\n",
    "    name = name.replace('cooper cooper','cooper')\n",
    "    name = name.replace('cooper clubman','clubman')\n",
    "    name = name.replace('cooper countryman','countryman')\n",
    "    name = name.replace('jazz','jazz fit')\n",
    "    name = name.strip()\n",
    "    name = name.replace('mercedes benz','mercedes-benz')\n",
    "    match_name.append(name)\n",
    "dfcars['match_name']=match_name"
   ]
  },
  {
   "cell_type": "code",
   "execution_count": 80,
   "id": "bee16a1b",
   "metadata": {
    "ExecuteTime": {
     "end_time": "2022-03-09T21:34:51.122486Z",
     "start_time": "2022-03-09T21:34:51.116282Z"
    },
    "scrolled": true
   },
   "outputs": [
    {
     "data": {
      "text/plain": [
       "Index(['name', 'name_subtitle', 'year', 'price', 'body', 'mileage', 'BHP',\n",
       "       'doors', 'transmission', 'make', 'fuel', 'mpg', 'drivertrain', 'engine',\n",
       "       'owners', 'ULEZ', 'county', 'dealer_area', 'dealer_city', 'dealer_lat',\n",
       "       'dealer_lon', 'geocode', 'county.1', 'postcode', 'postcode_short',\n",
       "       'seller1', 'used', 'e_engine_kWh', 'log_price', 'log_mileage',\n",
       "       'orig_name', 'id', 'year_reg', 'link', 'href0', 'match_name'],\n",
       "      dtype='object')"
      ]
     },
     "execution_count": 80,
     "metadata": {},
     "output_type": "execute_result"
    }
   ],
   "source": [
    "# Observe columns\n",
    "dfcars.columns"
   ]
  },
  {
   "cell_type": "code",
   "execution_count": 81,
   "id": "f06eb321",
   "metadata": {
    "ExecuteTime": {
     "end_time": "2022-03-09T21:34:52.168701Z",
     "start_time": "2022-03-09T21:34:51.125606Z"
    },
    "code_folding": []
   },
   "outputs": [
    {
     "name": "stdout",
     "output_type": "stream",
     "text": [
      "All data size (400245, 44)\n",
      "Null cargo data size (48402, 44)\n"
     ]
    }
   ],
   "source": [
    "# Merge dfcars with dfsize on match_name, body and year. Many-to-one merge.\n",
    "\n",
    "cars_size = pd.merge(\n",
    "    dfcars,\n",
    "    dfsize,\n",
    "    how=\"left\",\n",
    "    left_on=['match_name','body','year'],\n",
    "    right_on=['name','body','year'],\n",
    "    sort=False,\n",
    "    suffixes=(\"_x\", \"_y\"),\n",
    "    copy=True,\n",
    "    indicator=False,\n",
    ")\n",
    "\n",
    "# Drop duplicates as a precaution. Likely not needed.\n",
    "cars_size.drop_duplicates(subset='id', keep='first',inplace=True)\n",
    "print('All data size',cars_size.shape)\n",
    "\n",
    "# Evaluate the number of failed matches. \n",
    "failed_match = cars_size[cars_size.cargo_volume_L.isnull()].copy()\n",
    "failed_match.drop_duplicates(subset='id', keep='first',inplace=True)\n",
    "print('Null cargo data size',failed_match.shape)"
   ]
  },
  {
   "cell_type": "markdown",
   "id": "ba45f88a",
   "metadata": {},
   "source": [
    "Around 12.5% of cars do not have corresponding dimensions. This isn't great but it isn't criminal either.\n",
    "\n",
    "Below I have a look at which sort of cars are not matched, but I don't have the time to fix them here. It's just for awareness."
   ]
  },
  {
   "cell_type": "code",
   "execution_count": 82,
   "id": "5b3aba43",
   "metadata": {
    "ExecuteTime": {
     "end_time": "2022-03-09T21:34:52.207367Z",
     "start_time": "2022-03-09T21:34:52.191184Z"
    },
    "code_folding": []
   },
   "outputs": [
    {
     "data": {
      "text/plain": [
       "bmw 2 series         1876\n",
       "vauxhall insignia    1419\n",
       "vauxhall zafira      1324\n",
       "skoda octavia        1192\n",
       "ford mondeo           992\n",
       "ford c-max            871\n",
       "abarth 595            789\n",
       "citroen c4 cactus     757\n",
       "ford s-max            733\n",
       "audi s3               702\n",
       "Name: name_x, dtype: int64"
      ]
     },
     "execution_count": 82,
     "metadata": {},
     "output_type": "execute_result"
    }
   ],
   "source": [
    "# Failed match value counts\n",
    "failed_match['name_x'].value_counts(dropna=False).head(10)"
   ]
  },
  {
   "cell_type": "code",
   "execution_count": 83,
   "id": "e9d7c8e0",
   "metadata": {
    "ExecuteTime": {
     "end_time": "2022-03-09T21:34:52.267606Z",
     "start_time": "2022-03-09T21:34:52.210807Z"
    }
   },
   "outputs": [
    {
     "data": {
      "text/html": [
       "<div>\n",
       "<style scoped>\n",
       "    .dataframe tbody tr th:only-of-type {\n",
       "        vertical-align: middle;\n",
       "    }\n",
       "\n",
       "    .dataframe tbody tr th {\n",
       "        vertical-align: top;\n",
       "    }\n",
       "\n",
       "    .dataframe thead th {\n",
       "        text-align: right;\n",
       "    }\n",
       "</style>\n",
       "<table border=\"1\" class=\"dataframe\">\n",
       "  <thead>\n",
       "    <tr style=\"text-align: right;\">\n",
       "      <th></th>\n",
       "      <th>name_x</th>\n",
       "      <th>name_subtitle</th>\n",
       "      <th>year</th>\n",
       "      <th>price</th>\n",
       "      <th>body</th>\n",
       "      <th>mileage</th>\n",
       "      <th>BHP</th>\n",
       "      <th>doors</th>\n",
       "      <th>transmission</th>\n",
       "      <th>make</th>\n",
       "      <th>...</th>\n",
       "      <th>href0</th>\n",
       "      <th>match_name</th>\n",
       "      <th>name_y</th>\n",
       "      <th>wheelbase_cm</th>\n",
       "      <th>length_cm</th>\n",
       "      <th>width_cm</th>\n",
       "      <th>height_cm</th>\n",
       "      <th>ground_clearance_cm</th>\n",
       "      <th>cargo_volume_L</th>\n",
       "      <th>max_cargo_volume_L</th>\n",
       "    </tr>\n",
       "  </thead>\n",
       "  <tbody>\n",
       "    <tr>\n",
       "      <th>191866</th>\n",
       "      <td>bmw 2 series</td>\n",
       "      <td>220d M Sport 5dr [Nav] Step Auto 2.0</td>\n",
       "      <td>2018</td>\n",
       "      <td>21745.0</td>\n",
       "      <td>MPV</td>\n",
       "      <td>24908.0</td>\n",
       "      <td>190.000000</td>\n",
       "      <td>5dr</td>\n",
       "      <td>Automatic</td>\n",
       "      <td>BMW</td>\n",
       "      <td>...</td>\n",
       "      <td>NaN</td>\n",
       "      <td>bmw 2</td>\n",
       "      <td>NaN</td>\n",
       "      <td>NaN</td>\n",
       "      <td>NaN</td>\n",
       "      <td>NaN</td>\n",
       "      <td>NaN</td>\n",
       "      <td>NaN</td>\n",
       "      <td>NaN</td>\n",
       "      <td>NaN</td>\n",
       "    </tr>\n",
       "    <tr>\n",
       "      <th>306385</th>\n",
       "      <td>bmw 2 series</td>\n",
       "      <td>220d xDrive M Sport Active Tourer 2.0 5dr</td>\n",
       "      <td>2019</td>\n",
       "      <td>26850.0</td>\n",
       "      <td>MPV</td>\n",
       "      <td>20386.0</td>\n",
       "      <td>190.000000</td>\n",
       "      <td>5dr</td>\n",
       "      <td>Automatic</td>\n",
       "      <td>BMW</td>\n",
       "      <td>...</td>\n",
       "      <td>/dealers/oxfordshire/oxford/north-oxford-bmw-2...</td>\n",
       "      <td>bmw 2</td>\n",
       "      <td>NaN</td>\n",
       "      <td>NaN</td>\n",
       "      <td>NaN</td>\n",
       "      <td>NaN</td>\n",
       "      <td>NaN</td>\n",
       "      <td>NaN</td>\n",
       "      <td>NaN</td>\n",
       "      <td>NaN</td>\n",
       "    </tr>\n",
       "    <tr>\n",
       "      <th>202767</th>\n",
       "      <td>bmw 2 series</td>\n",
       "      <td>2.0 220D xDrive SE Active Tourer 5dr</td>\n",
       "      <td>2018</td>\n",
       "      <td>23000.0</td>\n",
       "      <td>MPV</td>\n",
       "      <td>12060.0</td>\n",
       "      <td>190.000000</td>\n",
       "      <td>5dr</td>\n",
       "      <td>Automatic</td>\n",
       "      <td>BMW</td>\n",
       "      <td>...</td>\n",
       "      <td>/dealers/greater-london/london/cargiant-13713?...</td>\n",
       "      <td>bmw 2</td>\n",
       "      <td>NaN</td>\n",
       "      <td>NaN</td>\n",
       "      <td>NaN</td>\n",
       "      <td>NaN</td>\n",
       "      <td>NaN</td>\n",
       "      <td>NaN</td>\n",
       "      <td>NaN</td>\n",
       "      <td>NaN</td>\n",
       "    </tr>\n",
       "    <tr>\n",
       "      <th>204536</th>\n",
       "      <td>bmw 2 series</td>\n",
       "      <td>1.5 218i Sport Gran Tourer Auto (s/s) 5dr</td>\n",
       "      <td>2018</td>\n",
       "      <td>19999.0</td>\n",
       "      <td>MPV</td>\n",
       "      <td>30000.0</td>\n",
       "      <td>134.122288</td>\n",
       "      <td>5dr</td>\n",
       "      <td>Automatic</td>\n",
       "      <td>BMW</td>\n",
       "      <td>...</td>\n",
       "      <td>NaN</td>\n",
       "      <td>bmw 2</td>\n",
       "      <td>NaN</td>\n",
       "      <td>NaN</td>\n",
       "      <td>NaN</td>\n",
       "      <td>NaN</td>\n",
       "      <td>NaN</td>\n",
       "      <td>NaN</td>\n",
       "      <td>NaN</td>\n",
       "      <td>NaN</td>\n",
       "    </tr>\n",
       "    <tr>\n",
       "      <th>202779</th>\n",
       "      <td>bmw 2 series</td>\n",
       "      <td>220d Xdrive Luxury Gran Tourer 2 2.0 5dr</td>\n",
       "      <td>2018</td>\n",
       "      <td>21499.0</td>\n",
       "      <td>MPV</td>\n",
       "      <td>35630.0</td>\n",
       "      <td>190.000000</td>\n",
       "      <td>5dr</td>\n",
       "      <td>Automatic</td>\n",
       "      <td>BMW</td>\n",
       "      <td>...</td>\n",
       "      <td>/dealers/northumberland/newcastle-upon-tyne/di...</td>\n",
       "      <td>bmw 2</td>\n",
       "      <td>NaN</td>\n",
       "      <td>NaN</td>\n",
       "      <td>NaN</td>\n",
       "      <td>NaN</td>\n",
       "      <td>NaN</td>\n",
       "      <td>NaN</td>\n",
       "      <td>NaN</td>\n",
       "      <td>NaN</td>\n",
       "    </tr>\n",
       "  </tbody>\n",
       "</table>\n",
       "<p>5 rows × 44 columns</p>\n",
       "</div>"
      ],
      "text/plain": [
       "              name_x                              name_subtitle  year  \\\n",
       "191866  bmw 2 series       220d M Sport 5dr [Nav] Step Auto 2.0  2018   \n",
       "306385  bmw 2 series  220d xDrive M Sport Active Tourer 2.0 5dr  2019   \n",
       "202767  bmw 2 series       2.0 220D xDrive SE Active Tourer 5dr  2018   \n",
       "204536  bmw 2 series  1.5 218i Sport Gran Tourer Auto (s/s) 5dr  2018   \n",
       "202779  bmw 2 series   220d Xdrive Luxury Gran Tourer 2 2.0 5dr  2018   \n",
       "\n",
       "          price body  mileage         BHP doors transmission make  ...  \\\n",
       "191866  21745.0  MPV  24908.0  190.000000   5dr    Automatic  BMW  ...   \n",
       "306385  26850.0  MPV  20386.0  190.000000   5dr    Automatic  BMW  ...   \n",
       "202767  23000.0  MPV  12060.0  190.000000   5dr    Automatic  BMW  ...   \n",
       "204536  19999.0  MPV  30000.0  134.122288   5dr    Automatic  BMW  ...   \n",
       "202779  21499.0  MPV  35630.0  190.000000   5dr    Automatic  BMW  ...   \n",
       "\n",
       "                                                    href0 match_name name_y  \\\n",
       "191866                                                NaN      bmw 2    NaN   \n",
       "306385  /dealers/oxfordshire/oxford/north-oxford-bmw-2...      bmw 2    NaN   \n",
       "202767  /dealers/greater-london/london/cargiant-13713?...      bmw 2    NaN   \n",
       "204536                                                NaN      bmw 2    NaN   \n",
       "202779  /dealers/northumberland/newcastle-upon-tyne/di...      bmw 2    NaN   \n",
       "\n",
       "        wheelbase_cm  length_cm width_cm height_cm ground_clearance_cm  \\\n",
       "191866           NaN        NaN      NaN       NaN                 NaN   \n",
       "306385           NaN        NaN      NaN       NaN                 NaN   \n",
       "202767           NaN        NaN      NaN       NaN                 NaN   \n",
       "204536           NaN        NaN      NaN       NaN                 NaN   \n",
       "202779           NaN        NaN      NaN       NaN                 NaN   \n",
       "\n",
       "       cargo_volume_L  max_cargo_volume_L  \n",
       "191866            NaN                 NaN  \n",
       "306385            NaN                 NaN  \n",
       "202767            NaN                 NaN  \n",
       "204536            NaN                 NaN  \n",
       "202779            NaN                 NaN  \n",
       "\n",
       "[5 rows x 44 columns]"
      ]
     },
     "execution_count": 83,
     "metadata": {},
     "output_type": "execute_result"
    }
   ],
   "source": [
    "# There are a few failed matches, but at this stage I have to let it go. If I was being paid I could fix these.\n",
    "failed_match[failed_match.cargo_volume_L.isnull()].match_name.value_counts(dropna=False).head(50)\n",
    "failed_match[failed_match.match_name=='bmw 2'].sample(5)"
   ]
  },
  {
   "cell_type": "code",
   "execution_count": 84,
   "id": "55133be1",
   "metadata": {
    "ExecuteTime": {
     "end_time": "2022-03-09T21:34:52.277661Z",
     "start_time": "2022-03-09T21:34:52.271351Z"
    }
   },
   "outputs": [
    {
     "data": {
      "text/plain": [
       "(400245, 44)"
      ]
     },
     "execution_count": 84,
     "metadata": {},
     "output_type": "execute_result"
    }
   ],
   "source": [
    "# cars_size shape before dropping nans\n",
    "cars_size.shape"
   ]
  },
  {
   "cell_type": "code",
   "execution_count": 85,
   "id": "288ca2fc",
   "metadata": {
    "ExecuteTime": {
     "end_time": "2022-03-09T21:34:53.059657Z",
     "start_time": "2022-03-09T21:34:52.282157Z"
    },
    "code_folding": []
   },
   "outputs": [
    {
     "data": {
      "text/plain": [
       "(335824, 44)"
      ]
     },
     "execution_count": 85,
     "metadata": {},
     "output_type": "execute_result"
    }
   ],
   "source": [
    "# cars_size shape after dropping nans\n",
    "\n",
    "cars_size.dropna(subset = ['cargo_volume_L'], inplace=True)\n",
    "cars_size.dropna(subset = ['dealer_lat'], inplace=True)\n",
    "cars_size.dropna(subset = ['dealer_lon'], inplace=True)\n",
    "cars_size.dropna(subset = ['county'], inplace=True)\n",
    "\n",
    "cars_size = cars_size[cars_size.cargo_volume_L!=0.0].copy()\n",
    "cars_size.shape"
   ]
  },
  {
   "cell_type": "code",
   "execution_count": 86,
   "id": "961f0326",
   "metadata": {
    "ExecuteTime": {
     "end_time": "2022-03-09T21:34:53.081987Z",
     "start_time": "2022-03-09T21:34:53.067743Z"
    }
   },
   "outputs": [
    {
     "data": {
      "text/plain": [
       "Index(['name_x', 'name_subtitle', 'year', 'price', 'body', 'mileage', 'BHP',\n",
       "       'doors', 'transmission', 'make', 'fuel', 'mpg', 'drivertrain', 'engine',\n",
       "       'owners', 'ULEZ', 'county', 'dealer_area', 'dealer_city', 'dealer_lat',\n",
       "       'dealer_lon', 'geocode', 'county.1', 'postcode', 'postcode_short',\n",
       "       'seller1', 'used', 'e_engine_kWh', 'log_price', 'log_mileage',\n",
       "       'orig_name', 'id', 'year_reg', 'link', 'href0', 'match_name', 'name_y',\n",
       "       'wheelbase_cm', 'length_cm', 'width_cm', 'height_cm',\n",
       "       'ground_clearance_cm', 'cargo_volume_L', 'max_cargo_volume_L'],\n",
       "      dtype='object')"
      ]
     },
     "execution_count": 86,
     "metadata": {},
     "output_type": "execute_result"
    }
   ],
   "source": [
    "cars_size.columns"
   ]
  },
  {
   "cell_type": "code",
   "execution_count": 87,
   "id": "6128e403",
   "metadata": {
    "ExecuteTime": {
     "end_time": "2022-03-09T21:35:03.966900Z",
     "start_time": "2022-03-09T21:34:53.085846Z"
    },
    "code_folding": []
   },
   "outputs": [],
   "source": [
    "# Output all cars data with lat&lon and boot size stats - still containsa a few NaNs but 335824 is\n",
    "# a good number of car listings to use for modelling in further work! \n",
    "\n",
    "cars_size.columns = ['name', 'name_subtitle', 'year', 'price', 'body', 'mileage', 'BHP',\n",
    "       'doors', 'transmission', 'make', 'fuel', 'mpg', 'drivertrain', 'engine',\n",
    "       'owners', 'ULEZ', 'county', 'dealer_area', 'dealer_city', 'dealer_lat',\n",
    "       'dealer_lon', 'geocode', 'county', 'postcode', 'postcode_short',\n",
    "       'seller1', 'used', 'e_engine_kWh', 'log_price', 'log_mileage',\n",
    "       'orig_name', 'id', 'year_reg', 'link', 'href0', 'match_name', 'name_y',\n",
    "       'wheelbase_cm', 'length_cm', 'width_cm', 'height_cm',\n",
    "       'ground_clearance_cm', 'cargo_volume_L', 'max_cargo_volume_L']\n",
    "\n",
    "cars_size=cars_size[['name','name_subtitle','year','price','body','mileage','BHP','doors'\n",
    "            ,'transmission','make','fuel','mpg','drivertrain','engine','owners'\n",
    "            ,'ULEZ','dealer_area','dealer_city','geocode', 'county', 'postcode', 'postcode_short'\n",
    "            ,'dealer_lat','dealer_lon','seller1','used', 'e_engine_kWh'\n",
    "            ,'log_price','log_mileage','orig_name','id','year_reg','link','href0'\n",
    "            ,'wheelbase_cm', 'length_cm', 'width_cm'\n",
    "            ,'height_cm', 'ground_clearance_cm', 'cargo_volume_L']]\n",
    "cars_abspath = r'/Users/robertdavies/Desktop/DSI/GA_P2/LargeDatasets/02_cars_with_location_and_size.csv'\n",
    "cars_size.to_csv(cars_abspath, index=False, header=cars_size.columns )"
   ]
  },
  {
   "cell_type": "code",
   "execution_count": 88,
   "id": "3ee5a163",
   "metadata": {
    "ExecuteTime": {
     "end_time": "2022-03-09T21:35:05.109818Z",
     "start_time": "2022-03-09T21:35:03.969235Z"
    }
   },
   "outputs": [
    {
     "name": "stdout",
     "output_type": "stream",
     "text": [
      "<class 'pandas.core.frame.DataFrame'>\n",
      "Int64Index: 335824 entries, 171 to 400243\n",
      "Data columns (total 41 columns):\n",
      " #   Column               Non-Null Count   Dtype  \n",
      "---  ------               --------------   -----  \n",
      " 0   name                 335824 non-null  object \n",
      " 1   name_subtitle        335824 non-null  object \n",
      " 2   year                 335824 non-null  int64  \n",
      " 3   price                335824 non-null  float64\n",
      " 4   body                 335824 non-null  object \n",
      " 5   mileage              335824 non-null  float64\n",
      " 6   BHP                  335824 non-null  float64\n",
      " 7   doors                335824 non-null  object \n",
      " 8   transmission         335824 non-null  object \n",
      " 9   make                 335824 non-null  object \n",
      " 10  fuel                 335824 non-null  object \n",
      " 11  mpg                  335824 non-null  object \n",
      " 12  drivertrain          335824 non-null  object \n",
      " 13  engine               330407 non-null  float64\n",
      " 14  owners               165740 non-null  float64\n",
      " 15  ULEZ                 300816 non-null  object \n",
      " 16  dealer_area          288075 non-null  object \n",
      " 17  dealer_city          335824 non-null  object \n",
      " 18  geocode              335824 non-null  object \n",
      " 19  county               335824 non-null  object \n",
      " 20  county               335824 non-null  object \n",
      " 21  postcode             335824 non-null  object \n",
      " 22  postcode_short       325290 non-null  object \n",
      " 23  dealer_lat           335824 non-null  float64\n",
      " 24  dealer_lon           335824 non-null  float64\n",
      " 25  seller1              278140 non-null  float64\n",
      " 26  used                 335824 non-null  int64  \n",
      " 27  e_engine_kWh         3643 non-null    float64\n",
      " 28  log_price            335824 non-null  float64\n",
      " 29  log_mileage          335824 non-null  float64\n",
      " 30  orig_name            335824 non-null  object \n",
      " 31  id                   335824 non-null  int64  \n",
      " 32  year_reg             314334 non-null  object \n",
      " 33  link                 335824 non-null  object \n",
      " 34  href0                288075 non-null  object \n",
      " 35  wheelbase_cm         335824 non-null  float64\n",
      " 36  length_cm            335824 non-null  float64\n",
      " 37  width_cm             335824 non-null  float64\n",
      " 38  height_cm            335824 non-null  float64\n",
      " 39  ground_clearance_cm  335824 non-null  float64\n",
      " 40  cargo_volume_L       335824 non-null  float64\n",
      "dtypes: float64(17), int64(3), object(21)\n",
      "memory usage: 107.6+ MB\n"
     ]
    }
   ],
   "source": [
    "# One final look at the dataframe info which will be used for the 2nd version of modelling\n",
    "cars_size.info()"
   ]
  },
  {
   "cell_type": "markdown",
   "id": "5c60b123",
   "metadata": {
    "tags": []
   },
   "source": [
    "# EDA on used cars"
   ]
  },
  {
   "cell_type": "markdown",
   "id": "b03ea02a",
   "metadata": {},
   "source": [
    "This section contains a general exploration of the **used car** data, before the lat/lon, county and boot size information were added. This is the data which have been used for modelling in the first version of the model. "
   ]
  },
  {
   "cell_type": "markdown",
   "id": "6d961271",
   "metadata": {
    "tags": []
   },
   "source": [
    "## Pretty general interest plots"
   ]
  },
  {
   "cell_type": "markdown",
   "id": "7a29a811",
   "metadata": {},
   "source": [
    "The aim of this section is to provide a general overview of the used car data which has been scraped. I'll look at some distributions of the continuous variables and try to evaluate how some of the categorical variables might be impacting used car price."
   ]
  },
  {
   "cell_type": "code",
   "execution_count": 89,
   "id": "99696302",
   "metadata": {
    "ExecuteTime": {
     "end_time": "2022-03-09T21:35:08.704527Z",
     "start_time": "2022-03-09T21:35:05.113437Z"
    },
    "code_folding": []
   },
   "outputs": [
    {
     "name": "stdout",
     "output_type": "stream",
     "text": [
      "All cars (400245, 28)\n",
      "Used cars (378595, 28)\n"
     ]
    }
   ],
   "source": [
    "# Read clean used cars data \n",
    "\n",
    "abspath = r'/Users/robertdavies/Desktop/DSI/GA_P2/LargeDatasets/00_all_cars.csv'\n",
    "df = pd.read_csv(abspath)\n",
    "print('All cars',df.shape)\n",
    "# Drop new cars - not part of my model\n",
    "df = df[df['used']==1]\n",
    "print('Used cars',df.shape)"
   ]
  },
  {
   "cell_type": "code",
   "execution_count": 90,
   "id": "04b7f554-9c5c-49cc-99d6-54c7fbeaa7d7",
   "metadata": {
    "ExecuteTime": {
     "end_time": "2022-03-09T21:35:10.007564Z",
     "start_time": "2022-03-09T21:35:08.707622Z"
    },
    "code_folding": []
   },
   "outputs": [
    {
     "data": {
      "image/png": "[encoded data removed]",
      "text/plain": [
       "<Figure size 1152x432 with 1 Axes>"
      ]
     },
     "metadata": {
      "needs_background": "light"
     },
     "output_type": "display_data"
    }
   ],
   "source": [
    "# Plot of make frequency. Note that car brand==car make. With hindsight I wish I used the term brand but it's too\n",
    "# late to change it now.\n",
    "\n",
    "# Groupby car make sort the counted values. \n",
    "df.groupby(by='make')['name'].count().sort_values(ascending=False).head(30).reset_index()\n",
    "\n",
    "# Plot with seaborn\n",
    "fig, ax = plt.subplots(nrows = 1, ncols = 1, figsize=(16,6))\n",
    "sns.barplot(x=\"make\", y=\"name\", data=df.groupby(by='make')['name'].count().sort_values(ascending=False).head(30).reset_index()\n",
    "            ,palette='husl').set_title('Top 30 most common used cars brands for sale on AutoTrader')\n",
    "ax.set_xlabel('Make')\n",
    "ax.set_ylabel('Count')\n",
    "ax.tick_params(axis='x', rotation=60)\n",
    "plt.tight_layout()\n",
    "# Save to pdf\n",
    "plt.savefig('carbrandcount.pdf',bbox_inches='tight')\n",
    "plt.show()\n"
   ]
  },
  {
   "cell_type": "markdown",
   "id": "093a23a7",
   "metadata": {},
   "source": [
    "A BMW is the most common used car for sale in the UK at the start of February 2022, with over 35,000 used BMWs on the market. This makes up just under 10% of all used cars on AutoTrader. German brands in general are rather popular with 4/5 of the most common brands being German! \n",
    "\n",
    "94% of used cars can be described by the top 23 brands. At this stage I do not drop data from the car brands which are poorly represented, but later just before the modelling (in Notebook 05_modelling) I drop brands with less than 200 used cars recorded."
   ]
  },
  {
   "cell_type": "code",
   "execution_count": 91,
   "id": "7f973748-d1b0-4652-b1c2-02488b1fa4a6",
   "metadata": {
    "ExecuteTime": {
     "end_time": "2022-03-09T21:35:14.451602Z",
     "start_time": "2022-03-09T21:35:10.010711Z"
    },
    "code_folding": [
     0
    ]
   },
   "outputs": [
    {
     "data": {
      "image/png": "[encoded data removed]",
      "text/plain": [
       "<Figure size 1152x1080 with 3 Axes>"
      ]
     },
     "metadata": {
      "needs_background": "light"
     },
     "output_type": "display_data"
    }
   ],
   "source": [
    "# Plot of pridce distributions by categorical variables using Seaborn - remove outliers first in log space \n",
    "# X-axis is presented in log form because it can show better distribution differentiation. \n",
    "\n",
    "dfo=df.copy()\n",
    "mask = np.abs((dfo.log_price - dfo.log_price.mean(0)) / dfo.log_price.std(0)) > 3\n",
    "dfo= dfo[~mask]\n",
    "\n",
    "\n",
    "fig, ax = plt.subplots(nrows=3, figsize=(16,15))\n",
    "sns.histplot(data=dfo[dfo.year>2020], x=\"log_price\",hue=\"body\",palette='husl',bins=50, legend=True, ax=ax[0]).set_title('Distribution of log-price by body type for cars < 2 years old')\n",
    "ax[0].set_xlabel('Log-price (£)')\n",
    "ax[0].set_ylabel('Count')\n",
    "sns.histplot(data=dfo[dfo.year>2020], x=\"log_price\",hue=\"transmission\",palette='husl',bins=50, legend=True, ax=ax[1]).set_title('Distribution of log-price by transmission type for cars < 2 years old')\n",
    "ax[1].set_xlabel('Log-price (£)')\n",
    "ax[1].set_ylabel('Count')\n",
    "sns.histplot(data=dfo[dfo.year>2020], x=\"log_price\",hue=\"fuel\",palette='husl',bins=50, legend=True, ax=ax[2]).set_title('Distribution of log-price by fuel type for cars < 2 years old')\n",
    "ax[2].set_xlabel('Log-price (£)')\n",
    "ax[2].set_ylabel('Count')\n",
    "plt.tight_layout()\n",
    "plt.show()"
   ]
  },
  {
   "cell_type": "markdown",
   "id": "62a092d5",
   "metadata": {},
   "source": [
    "It is clear that some of these categorical variables will be useful in predicting the price of a used car - manual gearboxes are clearly cheaper than automatic ones.\n",
    "\n",
    "It's a little harder to draw conclusions from the other two plots. It can be seen that hatchback cars are generally cheaper, with SUV cars more expensive than hatchbacks, but other body types are generally less represented and generally overlay on the distribution plot. In terms of fuel type, it looks like petrol cars are the cheapest, with electric cars being more expensive, less represented. \n",
    "\n",
    "None of these insights are surprising. I'm happy with the start of this data analysis."
   ]
  },
  {
   "cell_type": "markdown",
   "id": "058ce230",
   "metadata": {},
   "source": [
    "In these three categorical variables presented it looks like transmission variable provides the best information on car price. Automatic cars are clearly more expensive than manual cars."
   ]
  },
  {
   "cell_type": "markdown",
   "id": "956a7300",
   "metadata": {},
   "source": [
    "In the plots below I try to capture the average mileage, average price and count of cars when divided by different categorical variables. It has mostly worked well, although I haven't been able to make the size of the dots in the key look neat. The general idea is still conveyed by the plot so I have retained these. Interpretation will be below."
   ]
  },
  {
   "cell_type": "code",
   "execution_count": 92,
   "id": "8d9e5625-04fb-462c-81a1-f6da559288e1",
   "metadata": {
    "ExecuteTime": {
     "end_time": "2022-03-09T21:35:16.319394Z",
     "start_time": "2022-03-09T21:35:14.454958Z"
    },
    "code_folding": [
     0
    ]
   },
   "outputs": [
    {
     "data": {
      "image/png": "[encoded data removed]",
      "text/plain": [
       "<Figure size 720x1080 with 3 Axes>"
      ]
     },
     "metadata": {
      "needs_background": "light"
     },
     "output_type": "display_data"
    }
   ],
   "source": [
    "# Plot of avergae price and mileage figures for categorical variables\n",
    "\n",
    "plotdf1 = df[df.year>2020].groupby(by='fuel')[['price','mileage','doors']].agg({'price':'mean', 'mileage':'mean','doors':'count'}).reset_index()\n",
    "plotdf1 = plotdf1[plotdf1.fuel!='Bi Fuel']\n",
    "plotdf1.columns = ['Fuel','price','mileage','Count']\n",
    "plotdf2 = df[df.year>2020].groupby(by='transmission')[['price','mileage','doors']].agg({'price':'mean', 'mileage':'mean','doors':'count'}).reset_index()\n",
    "plotdf2.columns = ['Transmission','price','mileage','Count']\n",
    "\n",
    "plotdf3 = df[df.year>2020].groupby(by='body')[['price','mileage','doors']].agg({'price':'mean', 'mileage':'mean','doors':'count'}).reset_index()\n",
    "plotdf3.columns = ['Body','price','mileage','Count']\n",
    "\n",
    "fig, ax = plt.subplots(nrows=3,figsize=(10,15))\n",
    "sns.scatterplot(data=plotdf1, x=\"price\", y=\"mileage\", hue=\"Fuel\", size='Count',\n",
    "                sizes=(300, 1500), alpha=.5,palette='husl', ax=ax[2], \n",
    "                ).set_title('Average mileage and average price by fuel type for cars < 2 years old')\n",
    "ax[2].set_xlabel('Mean price (£)')\n",
    "ax[2].set_ylabel('Mean mileage')\n",
    "sns.scatterplot(data=plotdf2, x=\"price\", y=\"mileage\", hue=\"Transmission\",\n",
    "                size='Count',sizes=(300, 1500), alpha=.5,palette='husl', ax=ax[1], \n",
    "                ).set_title('Average mileage and average price by transmission type for cars < 2 years old')\n",
    "ax[1].set_xlabel('Mean price (£)')\n",
    "ax[1].set_ylabel('Mean mileage')\n",
    "sns.scatterplot(data=plotdf3, x=\"price\", y=\"mileage\", hue=\"Body\",size='Count',\n",
    "                sizes=(300, 1500), alpha=.5,palette='husl', ax=ax[0], \n",
    "                ).set_title('Average mileage and average price by body type for cars < 2 years old')\n",
    "ax[0].set_xlabel('Mean price (£)')\n",
    "ax[0].set_ylabel('Mean mileage')\n",
    "for i in range(0,3):\n",
    "    ax[i].legend(bbox_to_anchor=(1.05, 1), loc=2, borderaxespad=0.)\n",
    "    ax[i].set_ylim(3000,7000)\n",
    "    ax[i].set_xlim(15000,60000)\n",
    "    ax[i].tick_params(axis='x', rotation=30)   \n",
    "plt.tight_layout()\n",
    "plt.show()"
   ]
  },
  {
   "cell_type": "markdown",
   "id": "74fadacd",
   "metadata": {},
   "source": [
    "From the top plot where data are divided by car body type:\n",
    "* Saloons less than 2 years old have run up the most miles, around 6000 on average.\n",
    "* Hatchbacks less than 2 years old are the cheapest on average of all body types, with Coupe cars being the most expensive.\n",
    "* SUVs are the most populous used car less than 2 years old on the market.\n",
    "\n",
    "From the mid plot where data are divided by transmission type:\n",
    "* Used automatic cars under 2 years old are more common than used manual cars under 2 years old.\n",
    "* Used automatic cars under 2 years old are more expensive than used manual cars under 2 years old.\n",
    "* Used automatic cars under 2 years old generally have more miles on them than used manual cars under 2 years old.\n",
    "\n",
    "From the bottom plot where data are divided by fuel type:\n",
    "* Used electric cars under 2 years old generally have fewer miles on them than other fuel types. Diesel hybrid cars are the other end of the spectrum. \n",
    "* Used petrol cars are the most populous fuel type for cars less than 2 years old.\n",
    "* Petrol is the cheapest fuel type and Diesel plug-in hybrid cars are the most expensive fuel types for used cars less than 2 years old."
   ]
  },
  {
   "cell_type": "markdown",
   "id": "d8bb5977",
   "metadata": {},
   "source": [
    "The plot below begins to look at the distribution of car price by each make/brand. This is done for the 16 most popular brands. "
   ]
  },
  {
   "cell_type": "code",
   "execution_count": 93,
   "id": "3fe5dd40",
   "metadata": {
    "ExecuteTime": {
     "end_time": "2022-03-09T21:35:21.595454Z",
     "start_time": "2022-03-09T21:35:16.324596Z"
    }
   },
   "outputs": [
    {
     "data": {
      "image/png": "[encoded data removed]",
      "text/plain": [
       "<Figure size 1152x1008 with 2 Axes>"
      ]
     },
     "metadata": {
      "needs_background": "light"
     },
     "output_type": "display_data"
    }
   ],
   "source": [
    "# Plot top 16 car brands - outliers removed in log-space\n",
    "\n",
    "# Obtain top 16 brands\n",
    "top16makes = list(df.make.value_counts().head(16).reset_index()['index'])\n",
    "# Save to a dataframe\n",
    "plotdf1 = df[df.make.isin(top16makes)]\n",
    "# Remove outliers from log_price data. Outliers are defined as being outside of 3 standard deviations from the mean.\n",
    "# There was no major work put into evaluating whether or not this definition is good/true. It could be an area\n",
    "# for improvement in future if required.\n",
    "mask = np.abs((plotdf1.log_price - plotdf1.log_price.mean(0))) / plotdf1.log_price.std(0) > 3\n",
    "plotdf1= plotdf1[~mask]\n",
    "\n",
    "# Use Seaborn to plot a series of plots.\n",
    "# Row 1 presents boxplots with a y-axis in terms of price\n",
    "# Row 2 presents boxplots with a y-axis in terms of log-price\n",
    "# Row 3 presents barplot of average price with y-axis in terms of price\n",
    "fig, ax = plt.subplots(nrows = 2, ncols = 1, figsize=(16,14))\n",
    "sns.boxplot(x='make', y='price', data=plotdf1, ax=ax[0],palette='husl').set_title('Make vs Price for 16 most common used cars')\n",
    "ax[0].set_xlabel('Make')\n",
    "ax[0].set_ylabel('Price (£)')\n",
    "# sns.boxplot(x='make', y='log_price', data=plotdf1,ax=ax[1],palette='husl').set_title('Make vs Log-Price for 16 most common used cars')\n",
    "# ax[1].set_xlabel('Make')\n",
    "# ax[1].set_ylabel('Log-Price (£)')\n",
    "sns.barplot(x=\"make\", y=\"price\", data=plotdf1, ax=ax[1],palette='husl').set_title('Make vs average Price for 16 most common used cars')\n",
    "ax[1].set_xlabel('Make')\n",
    "ax[1].set_ylabel('Price (£)')\n",
    "for i in range(0,2):\n",
    "    ax[i].tick_params(axis='x', rotation=30)\n",
    "plt.tight_layout()\n",
    "plt.show()"
   ]
  },
  {
   "cell_type": "markdown",
   "id": "fad4a5a5",
   "metadata": {},
   "source": [
    "These plots tell the same story in a number of different ways:\n",
    "* Land Rover, Mercedes-Benz and Volvo stand out as the most expensive brands, with Vauxhall and Renault the cheapest. This can be identified by the average prices in the bottom bar plot or by the median prices in each box plot.\n",
    "* The skew in the top series of box plots, where the y-axis is in units of price tells of which brands also cater to the high-end car market --> Greater skew means more high performance cars.\n",
    "    * For each brand, their prime market price range will lie between the 1st and 3rd interquartile ranges.\n",
    "    * Land Rover, Mercedes-Benz, Audi, and BMW clearly have a greater skew and so also have a high end car offering besides their prime market. The same cannot be said for brands like Mini."
   ]
  },
  {
   "cell_type": "code",
   "execution_count": 94,
   "id": "946614b3",
   "metadata": {
    "ExecuteTime": {
     "end_time": "2022-03-09T21:35:21.756805Z",
     "start_time": "2022-03-09T21:35:21.597598Z"
    },
    "code_folding": []
   },
   "outputs": [
    {
     "name": "stdout",
     "output_type": "stream",
     "text": [
      "name                                                  toyota hilux\n",
      "name_subtitle            3.0 D-4D Invincible Double Cab Pickup 4dr\n",
      "year                                                          2014\n",
      "price                                                     100000.0\n",
      "body                                                        Pickup\n",
      "mileage                                                   190000.0\n",
      "BHP                                                          171.0\n",
      "doors                                                          4dr\n",
      "transmission                                             Automatic\n",
      "make                                                        Toyota\n",
      "fuel                                                        Diesel\n",
      "mpg                                                        OVER_30\n",
      "drivertrain                                       Four Wheel Drive\n",
      "engine                                                         3.0\n",
      "owners                                                         1.0\n",
      "ULEZ                                                           NaN\n",
      "dealer_area                                         leicestershire\n",
      "dealer_city                                              leicester\n",
      "seller1                                                        4.2\n",
      "used                                                             1\n",
      "e_engine_kWh                                                   NaN\n",
      "log_price                                                11.512925\n",
      "log_mileage                                              12.154779\n",
      "orig_name                                             Toyota Hilux\n",
      "id                                                 202112160583633\n",
      "year_reg                                             2014 (14 reg)\n",
      "link             https://www.autotrader.co.uk/car-details/20211...\n",
      "href0            /dealers/leicestershire/leicester/auto-investm...\n",
      "Name: 84789, dtype: object\n",
      "https://www.autotrader.co.uk/car-details/202112160583633\n"
     ]
    }
   ],
   "source": [
    "# Checking outlier code. This code can be used to filter on a variable and sort to obtain a printout of the details\n",
    "# for the most expensive car with that search criteria.\n",
    "\n",
    "# Unfortunately over time some of the car listings have been removed from AutoTrader, as they sell, so I can't\n",
    "# always return the listing. Stale data!\n",
    "f= df[df.make=='Toyota'].sort_values(by='log_price',ascending=False).head(1)\n",
    "for index, car in f.iterrows():\n",
    "    print(car)\n",
    "    print(car[-2])"
   ]
  },
  {
   "cell_type": "code",
   "execution_count": 95,
   "id": "a9340cdb",
   "metadata": {
    "ExecuteTime": {
     "end_time": "2022-03-09T21:35:28.099691Z",
     "start_time": "2022-03-09T21:35:21.760393Z"
    },
    "code_folding": [],
    "tags": []
   },
   "outputs": [
    {
     "data": {
      "image/png": "[encoded data removed]",
      "text/plain": [
       "<Figure size 1152x1008 with 2 Axes>"
      ]
     },
     "metadata": {
      "needs_background": "light"
     },
     "output_type": "display_data"
    }
   ],
   "source": [
    "# Plot used car price by year - outliers removed in log-space \n",
    "\n",
    "# Remove outliers from log_price data. Outliers are defined as being outside of 3 standard deviations from the mean.\n",
    "# There was no major work put into evaluating whether or not this definition is good/true. It could be an area\n",
    "# for improvement in future if required.\n",
    "mask = np.abs((df.log_price - df.log_price.mean(0))) / df.log_price.std(0) > 3\n",
    "plotdf2= df[~mask]\n",
    "\n",
    "# Use Seaborn to plot a series of plots.\n",
    "# Row 1 presents boxplots with a y-axis in terms of price\n",
    "# Row 2 presents boxplots with a y-axis in terms of log-price\n",
    "# Row 3 presents barplot of average price with y-axis in terms of price\n",
    "fig, ax = plt.subplots(nrows = 2, ncols = 1, figsize=(16,14))\n",
    "sns.boxplot(x='year', y='price', data=plotdf2, ax=ax[0]).set_title('Year vs Price')\n",
    "ax[0].set_xlabel('Year')\n",
    "ax[0].set_ylabel('Price (£)')\n",
    "# sns.boxplot(x='year', y='log_price', data=plotdf2,ax=ax[1]).set_title('Year vs Log-Price')\n",
    "# ax[1].set_xlabel('Year')\n",
    "# ax[1].set_ylabel('Log-Price (£)')\n",
    "sns.barplot(x=\"year\", y=\"price\", data=plotdf2, ax=ax[1]).set_title('Year vs average Price')\n",
    "ax[1].set_xlabel('Year')\n",
    "ax[1].set_ylabel('Price (£)')\n",
    "for i in range(0,2):\n",
    "    ax[i].tick_params(axis='x', rotation=30)\n",
    "plt.tight_layout()\n",
    "plt.show()"
   ]
  },
  {
   "cell_type": "markdown",
   "id": "e14a97a4",
   "metadata": {},
   "source": [
    "These plots describe the relationship between price and age of a car. \n",
    "* Price can be seen to decease as the car year approaches 2003, before a slight increase in average price. This must be the vintage car factor being introduced. \n",
    "* The relationship between age and price is non-linear. This is already causing alarm bells in terms of lienar regression assumptions.\n",
    "* Note that confidence bounds (black bar at top of bars in bar plot) are wider for newer cars and older cars as the sample size within each year is greatly reduced. There is a single car from 1994."
   ]
  },
  {
   "cell_type": "markdown",
   "id": "a63e1f9b",
   "metadata": {},
   "source": [
    "This concludes the high-level EDA of the dataset. None of the plots have been particularly surprising. Some of my personal pieces of interest are bulleted below:\n",
    "* It was interesting to see the non-linear relationship between used car price and age.\n",
    "* It was interesting to see that used electric vehicles have the least miles on them after two years of use.\n",
    "* It was interesting to identify the car bands which also offer high-end cars outside of their main market.\n",
    "\n",
    "From here I'm going to have a look at some of the distributions of the continuous variables in the dataset, and work on justifying some feature selection for the modelling going forward."
   ]
  },
  {
   "cell_type": "markdown",
   "id": "3d749c5e",
   "metadata": {},
   "source": [
    "## Distribution and collinearity evaluation"
   ]
  },
  {
   "cell_type": "markdown",
   "id": "16ea3858",
   "metadata": {},
   "source": [
    "The continuous variables in the dataset are price, mileage, BHP, year and engine size. I'm going to look at some distributions and evaluate them for multicollinearity. \n",
    "\n",
    "Multicollinearity and the problems associated are explained really nicely in this [link.](https://blog.minitab.com/en/understanding-statistics/handling-multicollinearity-in-regression-analysis)"
   ]
  },
  {
   "cell_type": "code",
   "execution_count": 96,
   "id": "4503a877",
   "metadata": {
    "ExecuteTime": {
     "end_time": "2022-03-09T21:35:33.034137Z",
     "start_time": "2022-03-09T21:35:28.103319Z"
    },
    "code_folding": [
     0
    ]
   },
   "outputs": [
    {
     "data": {
      "image/png": "[encoded data removed]",
      "text/plain": [
       "<Figure size 864x1152 with 8 Axes>"
      ]
     },
     "metadata": {
      "needs_background": "light"
     },
     "output_type": "display_data"
    }
   ],
   "source": [
    "# Seaborn plots of continuous variables\n",
    "\n",
    "# Remove some outliers from these distributions to observe trends better on the plots below.\n",
    "mask1 = np.abs((df.log_price - df.log_price.mean())) / df.log_price.std() > 3\n",
    "dfplot= df[~mask1]\n",
    "mask2 = np.abs((dfplot.log_mileage - dfplot.log_mileage.mean())) / dfplot.log_mileage.std() > 3\n",
    "dfplot= dfplot[~mask2]\n",
    "mask3 = np.abs((dfplot.BHP - dfplot.BHP.mean())) / dfplot.BHP.std() > 6\n",
    "dfplot= dfplot[~mask3]\n",
    "\n",
    "# Plot a series of histograms using Seaborn and subplots.\n",
    "fig, ax = plt.subplots(nrows=4, ncols=2, figsize=(12,16))\n",
    "sns.histplot(data=dfplot.price, bins=60, color='skyblue',ax=ax[0,0]).set_title('Price distribution after outlier removal')\n",
    "sns.histplot(data=dfplot.log_price, bins=60, color='skyblue',ax=ax[0,1]).set_title('Log of Price distribution after outlier removal')\n",
    "sns.histplot(data=dfplot.mileage, bins=60, color='skyblue',ax=ax[1,0]).set_title('Mileage distribution after outlier removal')\n",
    "sns.histplot(data=dfplot.log_mileage, bins=60, color='skyblue',ax=ax[1,1]).set_title('Log of Mileage distribution after outlier removal')\n",
    "sns.histplot(data=dfplot.BHP, bins=60, color='skyblue',ax=ax[2,0]).set_title('BHP distribution')\n",
    "sns.histplot(data=dfplot.BHP.apply(lambda x: np.log(x)), bins=60, color='skyblue',ax=ax[2,1]).set_title('Log of BHP distribution')\n",
    "sns.histplot(data=dfplot.engine, bins=20, color='skyblue',ax=ax[3,0]).set_title('Engine size distribution (L)')\n",
    "sns.histplot(data=dfplot.year, bins=22, color='skyblue',ax=ax[3,1]).set_title('Year distribution')\n",
    "ax[3,1].set_xlim(2000,2022)\n",
    "plt.tight_layout()\n",
    "plt.show()"
   ]
  },
  {
   "cell_type": "markdown",
   "id": "251f0b17",
   "metadata": {},
   "source": [
    "It's clear that none of these continuous variables have a particularly normal distribution. For this reason, although they will be tested, I don't expect linear regression methods to be the best option for modelling within this project.\n",
    "\n",
    "Taking the log of year, mileage and BHP serves to bring them closer to a normal distribution, with maybe th eexception of BHP. I will used log-price and log-mileage variables in the linear modelling methods. "
   ]
  },
  {
   "cell_type": "markdown",
   "id": "1d916837",
   "metadata": {
    "ExecuteTime": {
     "end_time": "2022-03-08T15:24:52.070455Z",
     "start_time": "2022-03-08T15:24:52.067154Z"
    }
   },
   "source": [
    "Below I have generated some heatmaps of Pearson correlation stats between different variables within the dataset."
   ]
  },
  {
   "cell_type": "code",
   "execution_count": 97,
   "id": "c2deea96",
   "metadata": {
    "ExecuteTime": {
     "end_time": "2022-03-09T21:35:33.521478Z",
     "start_time": "2022-03-09T21:35:33.037396Z"
    },
    "code_folding": [],
    "tags": []
   },
   "outputs": [
    {
     "data": {
      "image/png": "[encoded data removed]",
      "text/plain": [
       "<Figure size 576x504 with 2 Axes>"
      ]
     },
     "metadata": {
      "needs_background": "light"
     },
     "output_type": "display_data"
    }
   ],
   "source": [
    "# Heatmap before dummies\n",
    "\n",
    "# Select variabls I want to compute correlation statistics for\n",
    "tocorr=['log_price','log_mileage','year','engine','BHP','owners']\n",
    "plt.rcParams[\"figure.figsize\"] = (8,7)\n",
    "# Mask the diagonals\n",
    "mask =np.zeros_like(df[tocorr].corr())\n",
    "mask[np.triu_indices_from(mask)] = True\n",
    "# Seaborn used to make the heatmap of the correlation matrix\n",
    "sns.heatmap(df[tocorr].corr(), vmin=-1, vmax=1, cmap='vlag', annot=True, mask=mask)\n",
    "plt.title('Heatmap before dummies added')\n",
    "plt.show()"
   ]
  },
  {
   "cell_type": "markdown",
   "id": "5e96ef9c",
   "metadata": {},
   "source": [
    "It looks like there's some significant correlation between engine and BHP. I don't want to use highly correlated predictors, and I don't want to venture into Principal Component Analysis (PCA) so I'm going to have to drop one - Engine. \n",
    "\n",
    "This is fortunate actually because engine units are inconsistent between electric cars and conventional cars. Teslas don't have 3.0L engines! I will drop the engine column and it won't be used in modelling.\n",
    "\n",
    "Whilst PCA is a really interesting avenue to go down, it also makes interpretation of the resulting predictors/model much more difficult and would not help with my project objectives."
   ]
  },
  {
   "cell_type": "code",
   "execution_count": 98,
   "id": "85429bf7",
   "metadata": {
    "ExecuteTime": {
     "end_time": "2022-03-09T21:35:33.559008Z",
     "start_time": "2022-03-09T21:35:33.524754Z"
    },
    "code_folding": []
   },
   "outputs": [
    {
     "data": {
      "text/plain": [
       "log_price           0\n",
       "log_mileage         0\n",
       "year                0\n",
       "engine           4740\n",
       "BHP                 0\n",
       "owners         181912\n",
       "dtype: int64"
      ]
     },
     "execution_count": 98,
     "metadata": {},
     "output_type": "execute_result"
    }
   ],
   "source": [
    "#Checking for null values \n",
    "df[tocorr].isnull().sum()"
   ]
  },
  {
   "cell_type": "markdown",
   "id": "cde26e3b",
   "metadata": {},
   "source": [
    "The 4740 null engine values are the electric cars in the dataset.\n",
    "\n",
    "As well as dropping the engine column, I'm going to have to drop the owners column. This just wasn't populated enough on AutoTrader and has 45% NaN values. I believe that this isn't something I'd be willing to share if the car I was trying to sell had many owners, thus the data, or presence of data, would be biased and highly unreliable anyway. "
   ]
  },
  {
   "cell_type": "code",
   "execution_count": 99,
   "id": "efede237",
   "metadata": {
    "ExecuteTime": {
     "end_time": "2022-03-09T21:35:33.915015Z",
     "start_time": "2022-03-09T21:35:33.567579Z"
    },
    "code_folding": []
   },
   "outputs": [
    {
     "data": {
      "image/png": "[encoded data removed]",
      "text/plain": [
       "<Figure size 360x288 with 2 Axes>"
      ]
     },
     "metadata": {
      "needs_background": "light"
     },
     "output_type": "display_data"
    }
   ],
   "source": [
    "# Heatmap after dropping engine and owners\n",
    "\n",
    "tocorr=['log_price','log_mileage','year','BHP']\n",
    "plt.rcParams[\"figure.figsize\"] = (5,4)\n",
    "mask =np.zeros_like(df[tocorr].corr())\n",
    "mask[np.triu_indices_from(mask)] = True\n",
    "sns.heatmap(df[tocorr].corr(), vmin=-1, vmax=1, cmap='vlag', annot=True, mask=mask)\n",
    "plt.title('Heatmap with final continuous variables for modelling')\n",
    "plt.show()"
   ]
  },
  {
   "cell_type": "markdown",
   "id": "55a54dee",
   "metadata": {},
   "source": [
    "Some of these correlation statistics are still quite high, but there are none >0.8 or <-0.8 now so I'll proceed.\n",
    "\n",
    "Below I assess the Variance Inflation Factor for my remaining continuous variables to evaluate multicollinearity.\n",
    "\n",
    "The Variance Inflation Factor (VIF) is a measure of colinearity among predictor variables within a multiple regression. It is calculated by taking the the ratio of the variance of all a given model's betas divide by the variane of a single beta if it were fit alone."
   ]
  },
  {
   "cell_type": "code",
   "execution_count": 100,
   "id": "30c0d526",
   "metadata": {
    "ExecuteTime": {
     "end_time": "2022-03-09T21:35:34.261880Z",
     "start_time": "2022-03-09T21:35:33.918904Z"
    },
    "code_folding": []
   },
   "outputs": [
    {
     "name": "stdout",
     "output_type": "stream",
     "text": [
      "VIF stats: \n",
      " const          585118.638545\n",
      "log_mileage         1.733264\n",
      "year                1.745992\n",
      "BHP                 1.014354\n",
      "dtype: float64 \n",
      "\n"
     ]
    }
   ],
   "source": [
    "# Modelling without dummies  - assess VIF \n",
    "\n",
    "# Define X and y\n",
    "X = df[['log_mileage','year','BHP']]\n",
    "\n",
    "# Great link on multicollinearity\n",
    "# https://blog.minitab.com/en/understanding-statistics/handling-multicollinearity-in-regression-analysis\n",
    "\n",
    "# If VIF=1 then there's no multicollinearity\n",
    "# If VIF>5 then there's significant multicollinearity and it will be a problem\n",
    "\n",
    "Xvif = add_constant(X)\n",
    "VIF = pd.Series([variance_inflation_factor(Xvif.values, i) \n",
    "               for i in range(Xvif.shape[1])], \n",
    "              index=Xvif.columns)\n",
    "print('VIF stats: \\n',VIF,'\\n')"
   ]
  },
  {
   "cell_type": "markdown",
   "id": "7ddb37cc",
   "metadata": {},
   "source": [
    "Since the VIFs are all <5, specifically <2, I conclude that the remaining continuous variables are not overly correlated. This bodes well for model building. \n",
    "\n",
    "The continuous variables being progressed to modelling are `price` (target variable),`year`,`BHP` and `mileage`. Note that for the linear models the target variable will be `log_price` and the `log_mileage` will be used.\n"
   ]
  },
  {
   "cell_type": "code",
   "execution_count": 101,
   "id": "74bf5e90-8b34-4360-929a-3c12da3082a0",
   "metadata": {
    "ExecuteTime": {
     "end_time": "2022-03-09T21:35:35.718719Z",
     "start_time": "2022-03-09T21:35:34.265431Z"
    },
    "code_folding": [],
    "tags": []
   },
   "outputs": [
    {
     "data": {
      "text/html": [
       "<div>\n",
       "<style scoped>\n",
       "    .dataframe tbody tr th:only-of-type {\n",
       "        vertical-align: middle;\n",
       "    }\n",
       "\n",
       "    .dataframe tbody tr th {\n",
       "        vertical-align: top;\n",
       "    }\n",
       "\n",
       "    .dataframe thead th {\n",
       "        text-align: right;\n",
       "    }\n",
       "</style>\n",
       "<table border=\"1\" class=\"dataframe\">\n",
       "  <thead>\n",
       "    <tr style=\"text-align: right;\">\n",
       "      <th></th>\n",
       "      <th>categorical1</th>\n",
       "      <th>categorical2</th>\n",
       "      <th>chi2_statistic</th>\n",
       "      <th>p-value</th>\n",
       "      <th>degrees_of_freedom</th>\n",
       "    </tr>\n",
       "  </thead>\n",
       "  <tbody>\n",
       "    <tr>\n",
       "      <th>0</th>\n",
       "      <td>drivertrain</td>\n",
       "      <td>make</td>\n",
       "      <td>300836.176103</td>\n",
       "      <td>0.0</td>\n",
       "      <td>122</td>\n",
       "    </tr>\n",
       "    <tr>\n",
       "      <th>1</th>\n",
       "      <td>drivertrain</td>\n",
       "      <td>body</td>\n",
       "      <td>213636.324160</td>\n",
       "      <td>0.0</td>\n",
       "      <td>16</td>\n",
       "    </tr>\n",
       "    <tr>\n",
       "      <th>2</th>\n",
       "      <td>drivertrain</td>\n",
       "      <td>transmission</td>\n",
       "      <td>94245.449378</td>\n",
       "      <td>0.0</td>\n",
       "      <td>2</td>\n",
       "    </tr>\n",
       "    <tr>\n",
       "      <th>3</th>\n",
       "      <td>drivertrain</td>\n",
       "      <td>fuel</td>\n",
       "      <td>57479.277298</td>\n",
       "      <td>0.0</td>\n",
       "      <td>14</td>\n",
       "    </tr>\n",
       "    <tr>\n",
       "      <th>4</th>\n",
       "      <td>drivertrain</td>\n",
       "      <td>doors</td>\n",
       "      <td>137283.344829</td>\n",
       "      <td>0.0</td>\n",
       "      <td>8</td>\n",
       "    </tr>\n",
       "    <tr>\n",
       "      <th>5</th>\n",
       "      <td>make</td>\n",
       "      <td>body</td>\n",
       "      <td>293153.567222</td>\n",
       "      <td>0.0</td>\n",
       "      <td>488</td>\n",
       "    </tr>\n",
       "    <tr>\n",
       "      <th>6</th>\n",
       "      <td>make</td>\n",
       "      <td>transmission</td>\n",
       "      <td>108665.291193</td>\n",
       "      <td>0.0</td>\n",
       "      <td>61</td>\n",
       "    </tr>\n",
       "    <tr>\n",
       "      <th>7</th>\n",
       "      <td>make</td>\n",
       "      <td>fuel</td>\n",
       "      <td>298334.596129</td>\n",
       "      <td>0.0</td>\n",
       "      <td>427</td>\n",
       "    </tr>\n",
       "    <tr>\n",
       "      <th>8</th>\n",
       "      <td>make</td>\n",
       "      <td>doors</td>\n",
       "      <td>206251.379448</td>\n",
       "      <td>0.0</td>\n",
       "      <td>244</td>\n",
       "    </tr>\n",
       "    <tr>\n",
       "      <th>9</th>\n",
       "      <td>body</td>\n",
       "      <td>transmission</td>\n",
       "      <td>41010.800991</td>\n",
       "      <td>0.0</td>\n",
       "      <td>8</td>\n",
       "    </tr>\n",
       "    <tr>\n",
       "      <th>10</th>\n",
       "      <td>body</td>\n",
       "      <td>fuel</td>\n",
       "      <td>64327.647838</td>\n",
       "      <td>0.0</td>\n",
       "      <td>56</td>\n",
       "    </tr>\n",
       "    <tr>\n",
       "      <th>11</th>\n",
       "      <td>body</td>\n",
       "      <td>doors</td>\n",
       "      <td>763536.539002</td>\n",
       "      <td>0.0</td>\n",
       "      <td>32</td>\n",
       "    </tr>\n",
       "    <tr>\n",
       "      <th>12</th>\n",
       "      <td>transmission</td>\n",
       "      <td>fuel</td>\n",
       "      <td>46845.218990</td>\n",
       "      <td>0.0</td>\n",
       "      <td>7</td>\n",
       "    </tr>\n",
       "    <tr>\n",
       "      <th>13</th>\n",
       "      <td>transmission</td>\n",
       "      <td>doors</td>\n",
       "      <td>30123.217817</td>\n",
       "      <td>0.0</td>\n",
       "      <td>4</td>\n",
       "    </tr>\n",
       "    <tr>\n",
       "      <th>14</th>\n",
       "      <td>fuel</td>\n",
       "      <td>doors</td>\n",
       "      <td>33016.210586</td>\n",
       "      <td>0.0</td>\n",
       "      <td>28</td>\n",
       "    </tr>\n",
       "  </tbody>\n",
       "</table>\n",
       "</div>"
      ],
      "text/plain": [
       "    categorical1  categorical2  chi2_statistic  p-value  degrees_of_freedom\n",
       "0    drivertrain          make   300836.176103      0.0                 122\n",
       "1    drivertrain          body   213636.324160      0.0                  16\n",
       "2    drivertrain  transmission    94245.449378      0.0                   2\n",
       "3    drivertrain          fuel    57479.277298      0.0                  14\n",
       "4    drivertrain         doors   137283.344829      0.0                   8\n",
       "5           make          body   293153.567222      0.0                 488\n",
       "6           make  transmission   108665.291193      0.0                  61\n",
       "7           make          fuel   298334.596129      0.0                 427\n",
       "8           make         doors   206251.379448      0.0                 244\n",
       "9           body  transmission    41010.800991      0.0                   8\n",
       "10          body          fuel    64327.647838      0.0                  56\n",
       "11          body         doors   763536.539002      0.0                  32\n",
       "12  transmission          fuel    46845.218990      0.0                   7\n",
       "13  transmission         doors    30123.217817      0.0                   4\n",
       "14          fuel         doors    33016.210586      0.0                  28"
      ]
     },
     "execution_count": 101,
     "metadata": {},
     "output_type": "execute_result"
    }
   ],
   "source": [
    "# Chi2 independence tests have been calculated for categorical variables\n",
    "\n",
    "# In hindsight, with the domain knowldge that I have, I might be able to just state that I know these categorical\n",
    "# variables to be independent of each other. \n",
    "\n",
    "# Great link on chi2 test for independence https://www.jmp.com/en_be/statistics-knowledge-portal/chi-square-test/chi-square-test-of-independence.html\n",
    "\n",
    "results=[]\n",
    "categoricals = ['drivertrain','make','body','transmission','fuel','doors']\n",
    "for x in itertools.combinations(('drivertrain','make','body','transmission','fuel','doors'), 2):\n",
    "    categoricalv1 = x[0]\n",
    "    categoricalv2 = x[1]\n",
    "    cross_tab = pd.crosstab(df[categoricalv1], df[categoricalv2])\n",
    "    chi2 = stats.chi2_contingency(cross_tab)\n",
    "    results.append([x[0],x[1],chi2[0],round(chi2[1],4),chi2[2]])\n",
    "    chi2df = pd.DataFrame(results, columns = ['categorical1','categorical2','chi2_statistic','p-value','degrees_of_freedom'])  \n",
    "    \n",
    "chi2df"
   ]
  },
  {
   "cell_type": "markdown",
   "id": "623fa10f",
   "metadata": {},
   "source": [
    "I'll have to admit that this is hard work for me. I don't use statistics and hypothesis testing frequently enough to be completely comfortable with it, but I'm aware that it can be done, how it can be done and that it can be valuable.\n",
    "\n",
    "The requirements for a valid chi2 independence test are :\n",
    "* *Data values that are a simple random sample from the population of interest.*\n",
    "* *Two categorical or nominal variables. Don't use the independence test with continuous variables that define the category combinations. However, the counts for the combinations of the two categorical variables will be continuous.*\n",
    "* *For each combination of the levels of the two variables, we need at least five expected values. When we have fewer than five for any one combination, the test results are not reliable.*\n",
    "\n",
    "These requirements have been met in this circumstance so we can use the test to determine independence of the categorical variables within this project.\n",
    "\n",
    "For each row in the dataframe above, I understand the null hypothesis to be that 'categorical1 and categorical2 are unrelated'. With the returned p-value of 0.0 each time, I am able to accept the null hypothesis with great confidence, i.e. the categorical variables are indeed unrelated. Hooray!"
   ]
  },
  {
   "cell_type": "markdown",
   "id": "6bef0435",
   "metadata": {},
   "source": [
    "You may have noticed that I've only computed chi<sup>2</sup> stats for a handful of categorical variables. \n",
    "\n",
    "These are the categorical variables that I intend to use in the modelling stage of this project: `fuel`,`doors`,`transmission`,`body`,`make`,`drivetrain`. \n",
    "\n",
    "Below is a list of the additional variables in my dataframe, both continuous and categorical, which will not be used in the fist modelling phase, and the associated reason as to why I've chosen not to use them.\n",
    "\n",
    "* `name` - 1206 unique elements in the name variable but it would require extensive cleaning and is likely captured by other more measurable statistics.\n",
    "* `name_subtitle` - Free form text box which has been used extensively in data cleaning, now I have all the good information from this unstructured field\n",
    "* `mpg` - This measurement doesn't translate from conventional to electric vehicles and so has been rejected\n",
    "* `engine` - This measurement doesn't translate from conventional to electric vehicles and so has been rejected\n",
    "* `owners` - Not a reliably entered field on AutoTrader.co.uk, better to leave it out\n",
    "* `ULEZ` - Again, this field is not fully populated and I have little confidence in it as ULEZ is not important to a car dealer in Glasgow (Yet!).\n",
    "* `dealer_area` - This has been scraped together from the dealer href below. It's not used in the first version of modelling but after some extensive geocoding (see Notebook 3/5) it has been used to obtain Dealer County. This will feature in future work.\n",
    "* `dealer_city` - This has been scraped together from the dealer href below. It's not used in the first version of modelling but after some extensive geocoding (see Notebook 3/5) it has been used to obtain Dealer County. This will feature in future work.\n",
    "* `seller1` - Dealer rating was not populated enough to be useful. \n",
    "* `e_engine_kW` - This measurement doesn't translate from conventional to electric vehicles and so has been rejected\n",
    "* `id` - Just a unique identifier from AutoTrader. Not useful in modelling.\n",
    "* `year_reg` - The information is captured in the year variable.\n",
    "* `link` - Main purpose is for me to check car listings against the website if they are still on there. Not useful for modelling.\n",
    "* `href` - This contained the dealer city/area as discussed above. Not useful in modelling."
   ]
  },
  {
   "cell_type": "markdown",
   "id": "5955eec6",
   "metadata": {
    "ExecuteTime": {
     "end_time": "2022-03-08T20:01:18.262275Z",
     "start_time": "2022-03-08T20:01:17.245631Z"
    },
    "code_folding": []
   },
   "source": [
    "I think that concludes my distribution and collinearity evaluation. I've confirmed that there is not substantial multicollinearity between the continuous variables, and I've confirmed that there is no substantial multicollinearity between the categorical variables. \n",
    "\n",
    "I'm aware that for completeness that I should confirm that there's no multicollinearity between the continuous and categorical variables, but that becomes messy. \n",
    "* I've looked into the *Point Biserial* correlation, but opted not to pursue this because only one of my categorical variables (Transmission) is dichotomous. \n",
    "* The alternative to the *Point Biserial* correlation is to look at implementing Logistic Regression to understand if there is a relationship between the categorical and the continuous variable. I simply have too many continuous/categorical variables to implement this in my project time frame and so have opted not to. "
   ]
  },
  {
   "cell_type": "markdown",
   "id": "4fe0405f",
   "metadata": {},
   "source": [
    "This concludes Notebook 4 of 5. "
   ]
  }
 ],
 "metadata": {
  "kernelspec": {
   "display_name": "used_cars_env",
   "language": "python",
   "name": "used_cars_env"
  },
  "language_info": {
   "codemirror_mode": {
    "name": "ipython",
    "version": 3
   },
   "file_extension": ".py",
   "mimetype": "text/x-python",
   "name": "python",
   "nbconvert_exporter": "python",
   "pygments_lexer": "ipython3",
   "version": "3.9.7"
  },
  "toc": {
   "base_numbering": 1,
   "nav_menu": {},
   "number_sections": true,
   "sideBar": true,
   "skip_h1_title": false,
   "title_cell": "Table of Contents",
   "title_sidebar": "Contents",
   "toc_cell": false,
   "toc_position": {
    "height": "calc(100% - 180px)",
    "left": "10px",
    "top": "150px",
    "width": "377.969px"
   },
   "toc_section_display": true,
   "toc_window_display": true
  },
  "toc-autonumbering": true,
  "toc-showtags": false
 },
 "nbformat": 4,
 "nbformat_minor": 5
}
