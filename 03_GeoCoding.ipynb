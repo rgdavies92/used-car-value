{
 "cells": [
  {
   "cell_type": "markdown",
   "id": "a6d7d7d9",
   "metadata": {},
   "source": [
    "# Notebook Context\n",
    "\n",
    "This is 3 of 6 Jupyter Notebooks associated with the used car project.\n",
    "\n",
    "This Notebook covers the GeoCoding aspect of the project which, in the end, was found to not improve model performance at all. How disappointing! The modelling results can be observed in notebook [06_Modelling_version2](https://github.com/rgdavies92/used-car-value/blob/main/06_Modelling_version2.ipynb)."
   ]
  },
  {
   "cell_type": "markdown",
   "id": "d00e1b61",
   "metadata": {},
   "source": [
    "# GeoCoding to obtain latitude and longitude from car listing information"
   ]
  },
  {
   "cell_type": "code",
   "execution_count": 1,
   "id": "53e65aae",
   "metadata": {
    "ExecuteTime": {
     "end_time": "2022-03-04T22:44:01.029229Z",
     "start_time": "2022-03-04T22:44:00.325285Z"
    }
   },
   "outputs": [],
   "source": [
    "# Import packages\n",
    "\n",
    "import pandas as pd\n",
    "import glob\n",
    "import numpy as np\n",
    "import regex\n",
    "import re\n",
    "from tqdm import tqdm\n",
    "import urllib.parse\n",
    "from urllib.request import urlopen\n",
    "import json\n",
    "import datetime \n",
    "import time\n",
    "from bs4 import BeautifulSoup\n",
    "import warnings\n",
    "import pprint\n",
    "import googlemaps\n",
    "from geopy.geocoders import Nominatim\n",
    "from datetime import datetime\n",
    "warnings.simplefilter(action='ignore', category=FutureWarning)"
   ]
  },
  {
   "cell_type": "code",
   "execution_count": 2,
   "id": "b28d4928",
   "metadata": {
    "ExecuteTime": {
     "end_time": "2022-03-04T22:44:03.407318Z",
     "start_time": "2022-03-04T22:44:01.031005Z"
    }
   },
   "outputs": [
    {
     "data": {
      "text/html": [
       "<div>\n",
       "<style scoped>\n",
       "    .dataframe tbody tr th:only-of-type {\n",
       "        vertical-align: middle;\n",
       "    }\n",
       "\n",
       "    .dataframe tbody tr th {\n",
       "        vertical-align: top;\n",
       "    }\n",
       "\n",
       "    .dataframe thead th {\n",
       "        text-align: right;\n",
       "    }\n",
       "</style>\n",
       "<table border=\"1\" class=\"dataframe\">\n",
       "  <thead>\n",
       "    <tr style=\"text-align: right;\">\n",
       "      <th></th>\n",
       "      <th>name</th>\n",
       "      <th>name_subtitle</th>\n",
       "      <th>year</th>\n",
       "      <th>price</th>\n",
       "      <th>body</th>\n",
       "      <th>mileage</th>\n",
       "      <th>BHP</th>\n",
       "      <th>doors</th>\n",
       "      <th>transmission</th>\n",
       "      <th>make</th>\n",
       "      <th>...</th>\n",
       "      <th>seller1</th>\n",
       "      <th>used</th>\n",
       "      <th>e_engine_kWh</th>\n",
       "      <th>log_price</th>\n",
       "      <th>log_mileage</th>\n",
       "      <th>orig_name</th>\n",
       "      <th>id</th>\n",
       "      <th>year_reg</th>\n",
       "      <th>link</th>\n",
       "      <th>href0</th>\n",
       "    </tr>\n",
       "  </thead>\n",
       "  <tbody>\n",
       "    <tr>\n",
       "      <th>191831</th>\n",
       "      <td>hyundai tucson</td>\n",
       "      <td>1.7 CRDi Blue Drive Premium 5dr 2WD Diesel Estate</td>\n",
       "      <td>2018</td>\n",
       "      <td>17000.0</td>\n",
       "      <td>SUV</td>\n",
       "      <td>43161.0</td>\n",
       "      <td>114.398422</td>\n",
       "      <td>5dr</td>\n",
       "      <td>Manual</td>\n",
       "      <td>Hyundai</td>\n",
       "      <td>...</td>\n",
       "      <td>4.7</td>\n",
       "      <td>1</td>\n",
       "      <td>NaN</td>\n",
       "      <td>9.740969</td>\n",
       "      <td>10.672693</td>\n",
       "      <td>Hyundai Tucson</td>\n",
       "      <td>202112010102988</td>\n",
       "      <td>2018 (18 reg)</td>\n",
       "      <td>https://www.autotrader.co.uk/car-details/20211...</td>\n",
       "      <td>/dealers/midlothian/edinburgh/edinburgh-west-h...</td>\n",
       "    </tr>\n",
       "    <tr>\n",
       "      <th>129006</th>\n",
       "      <td>audi a5</td>\n",
       "      <td>3.0 TDI 245 Quattro S Line 2dr S Tronic [Nav]</td>\n",
       "      <td>2016</td>\n",
       "      <td>20049.0</td>\n",
       "      <td>Coupe</td>\n",
       "      <td>18222.0</td>\n",
       "      <td>242.000000</td>\n",
       "      <td>2dr</td>\n",
       "      <td>Automatic</td>\n",
       "      <td>Audi</td>\n",
       "      <td>...</td>\n",
       "      <td>4.4</td>\n",
       "      <td>1</td>\n",
       "      <td>NaN</td>\n",
       "      <td>9.905935</td>\n",
       "      <td>9.810385</td>\n",
       "      <td>Audi A5</td>\n",
       "      <td>202201061069660</td>\n",
       "      <td>2016 (65 reg)</td>\n",
       "      <td>https://www.autotrader.co.uk/car-details/20220...</td>\n",
       "      <td>/dealers/yorkshire/york/affordable-cars-presti...</td>\n",
       "    </tr>\n",
       "    <tr>\n",
       "      <th>153949</th>\n",
       "      <td>volkswagen polo</td>\n",
       "      <td>Volkswagen Polo 1.2 TSI 90 Match Edition 5dr DSG</td>\n",
       "      <td>2017</td>\n",
       "      <td>13599.0</td>\n",
       "      <td>Hatchback</td>\n",
       "      <td>26168.0</td>\n",
       "      <td>89.000000</td>\n",
       "      <td>5dr</td>\n",
       "      <td>Automatic</td>\n",
       "      <td>Volkswagen</td>\n",
       "      <td>...</td>\n",
       "      <td>4.9</td>\n",
       "      <td>1</td>\n",
       "      <td>NaN</td>\n",
       "      <td>9.517752</td>\n",
       "      <td>10.172293</td>\n",
       "      <td>Volkswagen Polo</td>\n",
       "      <td>202111249885913</td>\n",
       "      <td>2017 (67 reg)</td>\n",
       "      <td>https://www.autotrader.co.uk/car-details/20211...</td>\n",
       "      <td>/dealers/staffordshire/cannock/available-car-s...</td>\n",
       "    </tr>\n",
       "    <tr>\n",
       "      <th>208607</th>\n",
       "      <td>vauxhall astra</td>\n",
       "      <td>Vauxhall Astra Estate 1.6 CDTi 110 Tech Line N...</td>\n",
       "      <td>2018</td>\n",
       "      <td>12299.0</td>\n",
       "      <td>Estate</td>\n",
       "      <td>39141.0</td>\n",
       "      <td>108.481262</td>\n",
       "      <td>5dr</td>\n",
       "      <td>Manual</td>\n",
       "      <td>Vauxhall</td>\n",
       "      <td>...</td>\n",
       "      <td>4.9</td>\n",
       "      <td>1</td>\n",
       "      <td>NaN</td>\n",
       "      <td>9.417273</td>\n",
       "      <td>10.574926</td>\n",
       "      <td>Vauxhall Astra</td>\n",
       "      <td>202201181466676</td>\n",
       "      <td>2018 (18 reg)</td>\n",
       "      <td>https://www.autotrader.co.uk/car-details/20220...</td>\n",
       "      <td>/dealers/staffordshire/cannock/available-car-s...</td>\n",
       "    </tr>\n",
       "    <tr>\n",
       "      <th>211958</th>\n",
       "      <td>volkswagen golf</td>\n",
       "      <td>1.4 TSI S 5dr</td>\n",
       "      <td>2018</td>\n",
       "      <td>14490.0</td>\n",
       "      <td>Hatchback</td>\n",
       "      <td>31004.0</td>\n",
       "      <td>123.274162</td>\n",
       "      <td>5dr</td>\n",
       "      <td>Manual</td>\n",
       "      <td>Volkswagen</td>\n",
       "      <td>...</td>\n",
       "      <td>4.7</td>\n",
       "      <td>1</td>\n",
       "      <td>NaN</td>\n",
       "      <td>9.581214</td>\n",
       "      <td>10.341872</td>\n",
       "      <td>Volkswagen Golf</td>\n",
       "      <td>202112160564574</td>\n",
       "      <td>2018 (18 reg)</td>\n",
       "      <td>https://www.autotrader.co.uk/car-details/20211...</td>\n",
       "      <td>/dealers/neath-port-talbot/port-talbot/sinclai...</td>\n",
       "    </tr>\n",
       "  </tbody>\n",
       "</table>\n",
       "<p>5 rows × 28 columns</p>\n",
       "</div>"
      ],
      "text/plain": [
       "                   name                                      name_subtitle  \\\n",
       "191831   hyundai tucson  1.7 CRDi Blue Drive Premium 5dr 2WD Diesel Estate   \n",
       "129006          audi a5      3.0 TDI 245 Quattro S Line 2dr S Tronic [Nav]   \n",
       "153949  volkswagen polo   Volkswagen Polo 1.2 TSI 90 Match Edition 5dr DSG   \n",
       "208607   vauxhall astra  Vauxhall Astra Estate 1.6 CDTi 110 Tech Line N...   \n",
       "211958  volkswagen golf                                      1.4 TSI S 5dr   \n",
       "\n",
       "        year    price       body  mileage         BHP doors transmission  \\\n",
       "191831  2018  17000.0        SUV  43161.0  114.398422   5dr       Manual   \n",
       "129006  2016  20049.0      Coupe  18222.0  242.000000   2dr    Automatic   \n",
       "153949  2017  13599.0  Hatchback  26168.0   89.000000   5dr    Automatic   \n",
       "208607  2018  12299.0     Estate  39141.0  108.481262   5dr       Manual   \n",
       "211958  2018  14490.0  Hatchback  31004.0  123.274162   5dr       Manual   \n",
       "\n",
       "              make  ... seller1 used e_engine_kWh  log_price  log_mileage  \\\n",
       "191831     Hyundai  ...     4.7    1          NaN   9.740969    10.672693   \n",
       "129006        Audi  ...     4.4    1          NaN   9.905935     9.810385   \n",
       "153949  Volkswagen  ...     4.9    1          NaN   9.517752    10.172293   \n",
       "208607    Vauxhall  ...     4.9    1          NaN   9.417273    10.574926   \n",
       "211958  Volkswagen  ...     4.7    1          NaN   9.581214    10.341872   \n",
       "\n",
       "              orig_name               id       year_reg  \\\n",
       "191831   Hyundai Tucson  202112010102988  2018 (18 reg)   \n",
       "129006          Audi A5  202201061069660  2016 (65 reg)   \n",
       "153949  Volkswagen Polo  202111249885913  2017 (67 reg)   \n",
       "208607   Vauxhall Astra  202201181466676  2018 (18 reg)   \n",
       "211958  Volkswagen Golf  202112160564574  2018 (18 reg)   \n",
       "\n",
       "                                                     link  \\\n",
       "191831  https://www.autotrader.co.uk/car-details/20211...   \n",
       "129006  https://www.autotrader.co.uk/car-details/20220...   \n",
       "153949  https://www.autotrader.co.uk/car-details/20211...   \n",
       "208607  https://www.autotrader.co.uk/car-details/20220...   \n",
       "211958  https://www.autotrader.co.uk/car-details/20211...   \n",
       "\n",
       "                                                    href0  \n",
       "191831  /dealers/midlothian/edinburgh/edinburgh-west-h...  \n",
       "129006  /dealers/yorkshire/york/affordable-cars-presti...  \n",
       "153949  /dealers/staffordshire/cannock/available-car-s...  \n",
       "208607  /dealers/staffordshire/cannock/available-car-s...  \n",
       "211958  /dealers/neath-port-talbot/port-talbot/sinclai...  \n",
       "\n",
       "[5 rows x 28 columns]"
      ]
     },
     "execution_count": 2,
     "metadata": {},
     "output_type": "execute_result"
    }
   ],
   "source": [
    "# Import cleaned cars data\n",
    "\n",
    "abspath = r'/Users/robertdavies/Desktop/DSI/GA_P2/LargeDatasets/00_all_cars.csv'\n",
    "df = pd.read_csv(abspath)\n",
    "df.sample(5)"
   ]
  },
  {
   "cell_type": "code",
   "execution_count": 3,
   "id": "00719c53",
   "metadata": {
    "ExecuteTime": {
     "end_time": "2022-03-04T22:44:03.416052Z",
     "start_time": "2022-03-04T22:44:03.409000Z"
    },
    "code_folding": [
     0
    ]
   },
   "outputs": [],
   "source": [
    "# Define function which uses nominamtim to return lat/lon for each car area\n",
    "\n",
    "# This function takes a low (l) and high (h) index as parameters for which to return latitude and longitude\n",
    "# It takes a VERY long time, at approximately 2s per car. I would recommend running it in swaths.\n",
    "# The function will output a csv containing car.name, car.id, car.dealer_city, car.dealet_lat and car.dealer_lon\n",
    "# which can be merged with the cleaned car data. This process is done in Notebook 04.\n",
    "def get_latlon_to_csv_used(l, h):\n",
    "    lat_series = []\n",
    "    lon_series = []\n",
    "    # dealer city holder\n",
    "    dc = []\n",
    "    # car ID holder\n",
    "    cid = []\n",
    "    name = []\n",
    "    # subset the car dataframe based on the index of rows that you want to obtain lat lon for\n",
    "    ldf = df.loc[l:h,['name','id','dealer_city']]\n",
    "\n",
    "    for index, car in ldf.iterrows():\n",
    "        try:\n",
    "            address = car[-1] + ' UK'\n",
    "            # Indert the dealer_city and 'UK' into the nominatim search\n",
    "            url = 'https://nominatim.openstreetmap.org/search/' + urllib.parse.quote(address) +'?format=json'\n",
    "            response = requests.get(url).json()\n",
    "            # Extract the relevant lat/lon data from the json response.\n",
    "            lat_series.append(' '+str(response[0][\"lat\"]))\n",
    "            lon_series.append(' '+str(response[0][\"lon\"]))\n",
    "            # Append corresponding car details for merge later\n",
    "            cid.append(car[-2])\n",
    "            dc.append(car[-1])\n",
    "            name.append(car[-3])\n",
    "        except:\n",
    "            pass\n",
    "\n",
    "    # throw complete entries into a dataframe and output to csv.     \n",
    "    odf = pd.DataFrame({'name': name,\n",
    "                       'id': cid,\n",
    "                       'dealer_city':dc,\n",
    "                       'dealer_lat':lat_series,\n",
    "                        'dealer_lon':lon_series})    \n",
    "    now = (datetime.datetime.now().strftime(\"%d%B_%I%M%p\"))\n",
    "    filepathdf=f'df_latlon/{l}_{h}_{now}_latlon_used.csv'\n",
    "    odf.to_csv(filepathdf, index=False, header=odf.columns )   \n",
    "    # Function also returns the dataframe\n",
    "    return odf"
   ]
  },
  {
   "cell_type": "code",
   "execution_count": 4,
   "id": "badb7d0e",
   "metadata": {
    "ExecuteTime": {
     "end_time": "2022-03-04T22:44:03.421757Z",
     "start_time": "2022-03-04T22:44:03.419289Z"
    },
    "code_folding": [
     0
    ]
   },
   "outputs": [],
   "source": [
    "# Call function for a managable subset of the dataset. Managable is situation dependent! \n",
    "\n",
    "# In hindsight I might have tried to run this for unique dealer_city entries only and then \n",
    "# did a one-many merge afterwards rather than this computationally expensive way. Fortunately \n",
    "# time wasn't an issue for me. \n",
    "\n",
    "# df_example = get_latlon_to_csv_used(0,10)"
   ]
  },
  {
   "cell_type": "markdown",
   "id": "2f238d88",
   "metadata": {},
   "source": [
    "# GeoCoding to obtain Dealer County from latitude and longitude"
   ]
  },
  {
   "cell_type": "code",
   "execution_count": 5,
   "id": "ea795ec5",
   "metadata": {
    "ExecuteTime": {
     "end_time": "2022-03-04T22:44:06.516867Z",
     "start_time": "2022-03-04T22:44:03.423271Z"
    }
   },
   "outputs": [],
   "source": [
    "# Load the accumulated car data\n",
    "abspath = r'/Users/robertdavies/Desktop/DSI/GA_P2/LargeDatasets/00_all_cars_ll.csv'\n",
    "df = pd.read_csv(abspath)"
   ]
  },
  {
   "cell_type": "code",
   "execution_count": 6,
   "id": "d6c6d5a6",
   "metadata": {
    "ExecuteTime": {
     "end_time": "2022-03-04T22:44:06.524494Z",
     "start_time": "2022-03-04T22:44:06.519315Z"
    }
   },
   "outputs": [
    {
     "data": {
      "text/plain": [
       "Index(['name', 'name_subtitle', 'year', 'price', 'body', 'mileage', 'BHP',\n",
       "       'doors', 'transmission', 'make', 'fuel', 'mpg', 'drivertrain', 'engine',\n",
       "       'owners', 'ULEZ', 'county', 'dealer_area', 'dealer_city', 'dealer_lat',\n",
       "       'dealer_lon', 'geocode', 'county.1', 'postcode', 'postcode_short',\n",
       "       'postcode_shortest', 'seller1', 'used', 'e_engine_kWh', 'log_price',\n",
       "       'log_mileage', 'orig_name', 'id', 'year_reg', 'link', 'href0'],\n",
       "      dtype='object')"
      ]
     },
     "execution_count": 6,
     "metadata": {},
     "output_type": "execute_result"
    }
   ],
   "source": [
    "df.columns"
   ]
  },
  {
   "cell_type": "code",
   "execution_count": 7,
   "id": "a8004404",
   "metadata": {
    "ExecuteTime": {
     "end_time": "2022-03-04T22:44:23.790545Z",
     "start_time": "2022-03-04T22:44:06.526827Z"
    }
   },
   "outputs": [
    {
     "data": {
      "text/plain": [
       "3270"
      ]
     },
     "execution_count": 7,
     "metadata": {},
     "output_type": "execute_result"
    }
   ],
   "source": [
    "# Iterate through the latitude and longitude columns to extract unique occurences\n",
    "dealer_latlon = []\n",
    "for index, car in df.iterrows():\n",
    "    latlon =  [car[-17],car[-16]]\n",
    "    if latlon not in dealer_latlon:\n",
    "        dealer_latlon.append(latlon)\n",
    "len(dealer_latlon)"
   ]
  },
  {
   "cell_type": "code",
   "execution_count": 8,
   "id": "b47eeaff",
   "metadata": {
    "ExecuteTime": {
     "end_time": "2022-03-04T22:44:23.804854Z",
     "start_time": "2022-03-04T22:44:23.792028Z"
    }
   },
   "outputs": [
    {
     "data": {
      "text/plain": [
       "1720"
      ]
     },
     "execution_count": 8,
     "metadata": {},
     "output_type": "execute_result"
    }
   ],
   "source": [
    "len(df.dealer_lat.value_counts())"
   ]
  },
  {
   "cell_type": "code",
   "execution_count": 9,
   "id": "c773f0e1",
   "metadata": {
    "ExecuteTime": {
     "end_time": "2022-03-04T22:44:23.815841Z",
     "start_time": "2022-03-04T22:44:23.809420Z"
    }
   },
   "outputs": [
    {
     "data": {
      "text/plain": [
       "[[52.688227, -2.0324197],\n",
       " [52.3679896, -2.7193114],\n",
       " [53.92023225, -1.824272287202847],\n",
       " [52.5847949, -1.9822687],\n",
       " [50.9025349, -1.404189]]"
      ]
     },
     "execution_count": 9,
     "metadata": {},
     "output_type": "execute_result"
    }
   ],
   "source": [
    "dealer_latlon[:5]"
   ]
  },
  {
   "cell_type": "code",
   "execution_count": 10,
   "id": "9e82b281",
   "metadata": {
    "ExecuteTime": {
     "end_time": "2022-03-04T22:44:23.826344Z",
     "start_time": "2022-03-04T22:44:23.821119Z"
    }
   },
   "outputs": [],
   "source": [
    "abspath = r'/Users/robertdavies/Desktop/DSI/GA_P2/LargeDatasets/counties.csv'\n",
    "counties = pd.read_csv(abspath)"
   ]
  },
  {
   "cell_type": "code",
   "execution_count": 15,
   "id": "acda0680",
   "metadata": {
    "ExecuteTime": {
     "end_time": "2022-03-04T22:58:43.591126Z",
     "start_time": "2022-03-04T22:44:23.856242Z"
    }
   },
   "outputs": [
    {
     "name": "stderr",
     "output_type": "stream",
     "text": [
      "100%|███████████████████████████████████████████| 3270/3270 [14:19<00:00,  3.80it/s]\n"
     ]
    }
   ],
   "source": [
    "# Define my geocoder\n",
    "geolocator = Nominatim(user_agent=\"geoapiExercises\")\n",
    "\n",
    "# Make holding lists for the original lat/lon and the returned geocode\n",
    "geocode = []\n",
    "original_ll = []\n",
    "\n",
    "# Loop over all 3740 unique lat/lon locations\n",
    "for ll in tqdm(dealer_latlon):\n",
    "    try:\n",
    "        geocode.append(geolocator.reverse(str(ll[0])+\",\"+str(ll[1])))\n",
    "        original_ll.append(ll)\n",
    "    except:\n",
    "        geocode.append('bad result')\n",
    "        original_ll.append(ll)"
   ]
  },
  {
   "cell_type": "code",
   "execution_count": 16,
   "id": "355d7040",
   "metadata": {
    "ExecuteTime": {
     "end_time": "2022-03-04T22:58:43.599919Z",
     "start_time": "2022-03-04T22:58:43.593909Z"
    }
   },
   "outputs": [
    {
     "name": "stdout",
     "output_type": "stream",
     "text": [
      "3270\n",
      "3270\n",
      "3270\n"
     ]
    }
   ],
   "source": [
    "print(len(dealer_latlon))\n",
    "print(len(original_ll))\n",
    "print(len(geocode))"
   ]
  },
  {
   "cell_type": "code",
   "execution_count": 17,
   "id": "46e41be8",
   "metadata": {
    "ExecuteTime": {
     "end_time": "2022-03-04T22:58:43.613876Z",
     "start_time": "2022-03-04T22:58:43.603768Z"
    }
   },
   "outputs": [],
   "source": [
    "df_base = pd.DataFrame({'base_ll':dealer_latlon,'original_ll':original_ll,'geocode':geocode})"
   ]
  },
  {
   "cell_type": "code",
   "execution_count": 18,
   "id": "fde271ae",
   "metadata": {
    "ExecuteTime": {
     "end_time": "2022-03-04T22:58:43.629473Z",
     "start_time": "2022-03-04T22:58:43.616228Z"
    }
   },
   "outputs": [
    {
     "data": {
      "text/html": [
       "<div>\n",
       "<style scoped>\n",
       "    .dataframe tbody tr th:only-of-type {\n",
       "        vertical-align: middle;\n",
       "    }\n",
       "\n",
       "    .dataframe tbody tr th {\n",
       "        vertical-align: top;\n",
       "    }\n",
       "\n",
       "    .dataframe thead th {\n",
       "        text-align: right;\n",
       "    }\n",
       "</style>\n",
       "<table border=\"1\" class=\"dataframe\">\n",
       "  <thead>\n",
       "    <tr style=\"text-align: right;\">\n",
       "      <th></th>\n",
       "      <th>base_ll</th>\n",
       "      <th>original_ll</th>\n",
       "      <th>geocode</th>\n",
       "    </tr>\n",
       "  </thead>\n",
       "  <tbody>\n",
       "    <tr>\n",
       "      <th>2318</th>\n",
       "      <td>[nan, nan]</td>\n",
       "      <td>[nan, nan]</td>\n",
       "      <td>bad result</td>\n",
       "    </tr>\n",
       "    <tr>\n",
       "      <th>2261</th>\n",
       "      <td>[nan, nan]</td>\n",
       "      <td>[nan, nan]</td>\n",
       "      <td>bad result</td>\n",
       "    </tr>\n",
       "    <tr>\n",
       "      <th>2223</th>\n",
       "      <td>[nan, nan]</td>\n",
       "      <td>[nan, nan]</td>\n",
       "      <td>bad result</td>\n",
       "    </tr>\n",
       "    <tr>\n",
       "      <th>775</th>\n",
       "      <td>[53.6975234, -2.2004698]</td>\n",
       "      <td>[53.6975234, -2.2004698]</td>\n",
       "      <td>(Bacup, Manor Street, Rockliffe, Bacup, Rossen...</td>\n",
       "    </tr>\n",
       "    <tr>\n",
       "      <th>2311</th>\n",
       "      <td>[nan, nan]</td>\n",
       "      <td>[nan, nan]</td>\n",
       "      <td>bad result</td>\n",
       "    </tr>\n",
       "  </tbody>\n",
       "</table>\n",
       "</div>"
      ],
      "text/plain": [
       "                       base_ll               original_ll  \\\n",
       "2318                [nan, nan]                [nan, nan]   \n",
       "2261                [nan, nan]                [nan, nan]   \n",
       "2223                [nan, nan]                [nan, nan]   \n",
       "775   [53.6975234, -2.2004698]  [53.6975234, -2.2004698]   \n",
       "2311                [nan, nan]                [nan, nan]   \n",
       "\n",
       "                                                geocode  \n",
       "2318                                         bad result  \n",
       "2261                                         bad result  \n",
       "2223                                         bad result  \n",
       "775   (Bacup, Manor Street, Rockliffe, Bacup, Rossen...  \n",
       "2311                                         bad result  "
      ]
     },
     "execution_count": 18,
     "metadata": {},
     "output_type": "execute_result"
    }
   ],
   "source": [
    "df_base.sample(5)"
   ]
  },
  {
   "cell_type": "code",
   "execution_count": 19,
   "id": "03d50b6f",
   "metadata": {
    "ExecuteTime": {
     "end_time": "2022-03-04T22:58:43.640433Z",
     "start_time": "2022-03-04T22:58:43.631515Z"
    }
   },
   "outputs": [
    {
     "name": "stdout",
     "output_type": "stream",
     "text": [
      "Number of bad results is: (1550, 3)\n"
     ]
    }
   ],
   "source": [
    "# Count the number of bad results\n",
    "print('Number of bad results is:',df_base[df_base.geocode=='bad result'].shape)\n",
    "\n",
    "# Drop all bad results, these won't be useful\n",
    "df_base = df_base[df_base.geocode!='bad result'].copy()"
   ]
  },
  {
   "cell_type": "code",
   "execution_count": 20,
   "id": "ca1b97c6",
   "metadata": {
    "ExecuteTime": {
     "end_time": "2022-03-04T22:58:43.864898Z",
     "start_time": "2022-03-04T22:58:43.642538Z"
    }
   },
   "outputs": [],
   "source": [
    "# Add county column with all results as 'bad_Result'\n",
    "df_base['county']= 'bad result'\n",
    "\n",
    "# Iterate over rows in df_base and check for one of the counties in the address holder\n",
    "# If it's in there, then assign the county to df_base.county\n",
    "for index, loc in df_base.iterrows():\n",
    "    address = str(loc[-2])\n",
    "    for county in counties.County:\n",
    "        if county in address:\n",
    "            df_base.loc[index,'county'] = county\n",
    "                     "
   ]
  },
  {
   "cell_type": "code",
   "execution_count": 21,
   "id": "544ebbb3",
   "metadata": {
    "ExecuteTime": {
     "end_time": "2022-03-04T22:58:43.881194Z",
     "start_time": "2022-03-04T22:58:43.867356Z"
    }
   },
   "outputs": [
    {
     "data": {
      "text/html": [
       "<div>\n",
       "<style scoped>\n",
       "    .dataframe tbody tr th:only-of-type {\n",
       "        vertical-align: middle;\n",
       "    }\n",
       "\n",
       "    .dataframe tbody tr th {\n",
       "        vertical-align: top;\n",
       "    }\n",
       "\n",
       "    .dataframe thead th {\n",
       "        text-align: right;\n",
       "    }\n",
       "</style>\n",
       "<table border=\"1\" class=\"dataframe\">\n",
       "  <thead>\n",
       "    <tr style=\"text-align: right;\">\n",
       "      <th></th>\n",
       "      <th>base_ll</th>\n",
       "      <th>original_ll</th>\n",
       "      <th>geocode</th>\n",
       "      <th>county</th>\n",
       "    </tr>\n",
       "  </thead>\n",
       "  <tbody>\n",
       "    <tr>\n",
       "      <th>266</th>\n",
       "      <td>[52.2274533, 0.4853366]</td>\n",
       "      <td>[52.2274533, 0.4853366]</td>\n",
       "      <td>(Chapel Row, Church Street, Ashley, East Cambr...</td>\n",
       "      <td>Cambridgeshire</td>\n",
       "    </tr>\n",
       "    <tr>\n",
       "      <th>1450</th>\n",
       "      <td>[50.526735200000005, -3.755984991182407]</td>\n",
       "      <td>[50.526735200000005, -3.755984991182407]</td>\n",
       "      <td>(Ashburton, Teignbridge, Devon, South West Eng...</td>\n",
       "      <td>Devon</td>\n",
       "    </tr>\n",
       "    <tr>\n",
       "      <th>687</th>\n",
       "      <td>[55.069836, -3.6092292]</td>\n",
       "      <td>[55.069836, -3.6092292]</td>\n",
       "      <td>(Fleshers, Loreburn Street, Troqueer, Dumfries...</td>\n",
       "      <td>Dumfries and Galloway</td>\n",
       "    </tr>\n",
       "    <tr>\n",
       "      <th>388</th>\n",
       "      <td>[51.9925394, -2.156016959290844]</td>\n",
       "      <td>[51.9925394, -2.156016959290844]</td>\n",
       "      <td>(71-73, Barton Street, Priors Park, Tewkesbury...</td>\n",
       "      <td>Gloucestershire</td>\n",
       "    </tr>\n",
       "    <tr>\n",
       "      <th>1168</th>\n",
       "      <td>[51.7299485, -3.1359867]</td>\n",
       "      <td>[51.7299485, -3.1359867]</td>\n",
       "      <td>(Abertillery Library, Castle Street, Abertille...</td>\n",
       "      <td>bad result</td>\n",
       "    </tr>\n",
       "  </tbody>\n",
       "</table>\n",
       "</div>"
      ],
      "text/plain": [
       "                                       base_ll  \\\n",
       "266                    [52.2274533, 0.4853366]   \n",
       "1450  [50.526735200000005, -3.755984991182407]   \n",
       "687                    [55.069836, -3.6092292]   \n",
       "388           [51.9925394, -2.156016959290844]   \n",
       "1168                  [51.7299485, -3.1359867]   \n",
       "\n",
       "                                   original_ll  \\\n",
       "266                    [52.2274533, 0.4853366]   \n",
       "1450  [50.526735200000005, -3.755984991182407]   \n",
       "687                    [55.069836, -3.6092292]   \n",
       "388           [51.9925394, -2.156016959290844]   \n",
       "1168                  [51.7299485, -3.1359867]   \n",
       "\n",
       "                                                geocode                 county  \n",
       "266   (Chapel Row, Church Street, Ashley, East Cambr...         Cambridgeshire  \n",
       "1450  (Ashburton, Teignbridge, Devon, South West Eng...                  Devon  \n",
       "687   (Fleshers, Loreburn Street, Troqueer, Dumfries...  Dumfries and Galloway  \n",
       "388   (71-73, Barton Street, Priors Park, Tewkesbury...        Gloucestershire  \n",
       "1168  (Abertillery Library, Castle Street, Abertille...             bad result  "
      ]
     },
     "execution_count": 21,
     "metadata": {},
     "output_type": "execute_result"
    }
   ],
   "source": [
    "df_base.sample(5)"
   ]
  },
  {
   "cell_type": "code",
   "execution_count": 22,
   "id": "cdc4aa73",
   "metadata": {
    "ExecuteTime": {
     "end_time": "2022-03-04T22:58:44.054829Z",
     "start_time": "2022-03-04T22:58:43.883306Z"
    }
   },
   "outputs": [],
   "source": [
    "# Add postcode_short column with all results as 'bad_Result'\n",
    "df_base['postcode']= 'bad result'\n",
    "df_base['postcode_short']= 'bad result'\n",
    "\n",
    "# Iterate over rows in df_base and use RegEx to extract postcodes from the address where possible\n",
    "for index, loc in df_base.iterrows():\n",
    "    address = str(loc[-4])\n",
    "    try:\n",
    "        po = re.findall('[A-Z][A-Z]?[0-9][0-9]?[ ]?[0-9][A-Z][A-Z]', address)[0]\n",
    "        df_base.loc[index,'postcode'] = po\n",
    "    except:\n",
    "        pass\n",
    "\n",
    "# Use a lambda function to pinch off just the start of the postcode    \n",
    "df_base['postcode_short']=df_base.postcode.apply(lambda x: (x[:-3]).strip())"
   ]
  },
  {
   "cell_type": "code",
   "execution_count": 23,
   "id": "5944d19e",
   "metadata": {
    "ExecuteTime": {
     "end_time": "2022-03-04T22:58:44.073033Z",
     "start_time": "2022-03-04T22:58:44.057227Z"
    }
   },
   "outputs": [
    {
     "data": {
      "text/html": [
       "<div>\n",
       "<style scoped>\n",
       "    .dataframe tbody tr th:only-of-type {\n",
       "        vertical-align: middle;\n",
       "    }\n",
       "\n",
       "    .dataframe tbody tr th {\n",
       "        vertical-align: top;\n",
       "    }\n",
       "\n",
       "    .dataframe thead th {\n",
       "        text-align: right;\n",
       "    }\n",
       "</style>\n",
       "<table border=\"1\" class=\"dataframe\">\n",
       "  <thead>\n",
       "    <tr style=\"text-align: right;\">\n",
       "      <th></th>\n",
       "      <th>base_ll</th>\n",
       "      <th>original_ll</th>\n",
       "      <th>geocode</th>\n",
       "      <th>county</th>\n",
       "      <th>postcode</th>\n",
       "      <th>postcode_short</th>\n",
       "    </tr>\n",
       "  </thead>\n",
       "  <tbody>\n",
       "    <tr>\n",
       "      <th>1833</th>\n",
       "      <td>[52.0735984, -4.1548796]</td>\n",
       "      <td>[52.0735984, -4.1548796]</td>\n",
       "      <td>(Llanybydder, Sir Gaerfyrddin / Carmarthenshir...</td>\n",
       "      <td>Carmarthenshire</td>\n",
       "      <td>SA40 9RX</td>\n",
       "      <td>SA40</td>\n",
       "    </tr>\n",
       "    <tr>\n",
       "      <th>1213</th>\n",
       "      <td>[51.5285171, 0.4772824]</td>\n",
       "      <td>[51.5285171, 0.4772824]</td>\n",
       "      <td>(Wharf Road, Fobbing, Thurrock, East of Englan...</td>\n",
       "      <td>bad result</td>\n",
       "      <td>SS17 9JN</td>\n",
       "      <td>SS17</td>\n",
       "    </tr>\n",
       "    <tr>\n",
       "      <th>674</th>\n",
       "      <td>[51.6441535, -0.3622403]</td>\n",
       "      <td>[51.6441535, -0.3622403]</td>\n",
       "      <td>(Bushey Country Club, High Street, Bushey, Bus...</td>\n",
       "      <td>Hertfordshire</td>\n",
       "      <td>WD23 1TT</td>\n",
       "      <td>WD23</td>\n",
       "    </tr>\n",
       "    <tr>\n",
       "      <th>18</th>\n",
       "      <td>[51.2715316, -0.3414523511290909]</td>\n",
       "      <td>[51.2715316, -0.3414523511290909]</td>\n",
       "      <td>(Norbury Park House, Druids Grove, Mickleham, ...</td>\n",
       "      <td>Surrey</td>\n",
       "      <td>RH5 6ER</td>\n",
       "      <td>RH5</td>\n",
       "    </tr>\n",
       "    <tr>\n",
       "      <th>635</th>\n",
       "      <td>[55.8455828, -4.4239646]</td>\n",
       "      <td>[55.8455828, -4.4239646]</td>\n",
       "      <td>(Paisley Cenotaph, Dyer's Wynd, Castlehead, Pa...</td>\n",
       "      <td>Renfrewshire</td>\n",
       "      <td>PA1 1BG</td>\n",
       "      <td>PA1</td>\n",
       "    </tr>\n",
       "  </tbody>\n",
       "</table>\n",
       "</div>"
      ],
      "text/plain": [
       "                                base_ll                        original_ll  \\\n",
       "1833           [52.0735984, -4.1548796]           [52.0735984, -4.1548796]   \n",
       "1213            [51.5285171, 0.4772824]            [51.5285171, 0.4772824]   \n",
       "674            [51.6441535, -0.3622403]           [51.6441535, -0.3622403]   \n",
       "18    [51.2715316, -0.3414523511290909]  [51.2715316, -0.3414523511290909]   \n",
       "635            [55.8455828, -4.4239646]           [55.8455828, -4.4239646]   \n",
       "\n",
       "                                                geocode           county  \\\n",
       "1833  (Llanybydder, Sir Gaerfyrddin / Carmarthenshir...  Carmarthenshire   \n",
       "1213  (Wharf Road, Fobbing, Thurrock, East of Englan...       bad result   \n",
       "674   (Bushey Country Club, High Street, Bushey, Bus...    Hertfordshire   \n",
       "18    (Norbury Park House, Druids Grove, Mickleham, ...           Surrey   \n",
       "635   (Paisley Cenotaph, Dyer's Wynd, Castlehead, Pa...     Renfrewshire   \n",
       "\n",
       "      postcode postcode_short  \n",
       "1833  SA40 9RX           SA40  \n",
       "1213  SS17 9JN           SS17  \n",
       "674   WD23 1TT           WD23  \n",
       "18     RH5 6ER            RH5  \n",
       "635    PA1 1BG            PA1  "
      ]
     },
     "execution_count": 23,
     "metadata": {},
     "output_type": "execute_result"
    }
   ],
   "source": [
    "df_base.sample(5)"
   ]
  },
  {
   "cell_type": "code",
   "execution_count": 24,
   "id": "998ac1ed",
   "metadata": {
    "ExecuteTime": {
     "end_time": "2022-03-04T22:58:44.083490Z",
     "start_time": "2022-03-04T22:58:44.074600Z"
    }
   },
   "outputs": [
    {
     "data": {
      "text/plain": [
       "bad res    114\n",
       "LE9          4\n",
       "OX5          4\n",
       "SA6          3\n",
       "CO13         3\n",
       "          ... \n",
       "TF9          1\n",
       "NR19         1\n",
       "WS7          1\n",
       "EN10         1\n",
       "GL17         1\n",
       "Name: postcode_short, Length: 1405, dtype: int64"
      ]
     },
     "execution_count": 24,
     "metadata": {},
     "output_type": "execute_result"
    }
   ],
   "source": [
    "df_base.postcode_short.value_counts()"
   ]
  },
  {
   "cell_type": "markdown",
   "id": "bc16b524",
   "metadata": {},
   "source": [
    "Good so far - there are only 114 areas that I haven't been able to get a postcode for. \n",
    "\n",
    "Now I'll try a different method to get some values for them."
   ]
  },
  {
   "cell_type": "code",
   "execution_count": 25,
   "id": "bd9c415b",
   "metadata": {
    "ExecuteTime": {
     "end_time": "2022-03-04T22:58:44.089342Z",
     "start_time": "2022-03-04T22:58:44.085262Z"
    }
   },
   "outputs": [],
   "source": [
    "# Make a new dataframe, just of the bas results\n",
    "df_base_bad = df_base[df_base.postcode_short=='bad res'].copy()"
   ]
  },
  {
   "cell_type": "code",
   "execution_count": 26,
   "id": "099d5141",
   "metadata": {
    "ExecuteTime": {
     "end_time": "2022-03-04T22:58:44.104351Z",
     "start_time": "2022-03-04T22:58:44.091040Z"
    }
   },
   "outputs": [
    {
     "data": {
      "text/html": [
       "<div>\n",
       "<style scoped>\n",
       "    .dataframe tbody tr th:only-of-type {\n",
       "        vertical-align: middle;\n",
       "    }\n",
       "\n",
       "    .dataframe tbody tr th {\n",
       "        vertical-align: top;\n",
       "    }\n",
       "\n",
       "    .dataframe thead th {\n",
       "        text-align: right;\n",
       "    }\n",
       "</style>\n",
       "<table border=\"1\" class=\"dataframe\">\n",
       "  <thead>\n",
       "    <tr style=\"text-align: right;\">\n",
       "      <th></th>\n",
       "      <th>base_ll</th>\n",
       "      <th>original_ll</th>\n",
       "      <th>geocode</th>\n",
       "      <th>county</th>\n",
       "      <th>postcode</th>\n",
       "      <th>postcode_short</th>\n",
       "    </tr>\n",
       "  </thead>\n",
       "  <tbody>\n",
       "    <tr>\n",
       "      <th>833</th>\n",
       "      <td>[50.84279555, -3.3689405321011514]</td>\n",
       "      <td>[50.84279555, -3.3689405321011514]</td>\n",
       "      <td>(Cullompton, Mid Devon, Devon, South West Engl...</td>\n",
       "      <td>Devon</td>\n",
       "      <td>bad result</td>\n",
       "      <td>bad res</td>\n",
       "    </tr>\n",
       "    <tr>\n",
       "      <th>1550</th>\n",
       "      <td>[52.4035742, -1.8451962]</td>\n",
       "      <td>[52.4035742, -1.8451962]</td>\n",
       "      <td>(Shirley, Haslucks Green Road, Haslucks Green,...</td>\n",
       "      <td>West Midlands</td>\n",
       "      <td>bad result</td>\n",
       "      <td>bad res</td>\n",
       "    </tr>\n",
       "    <tr>\n",
       "      <th>557</th>\n",
       "      <td>[55.7743458, -3.9184134]</td>\n",
       "      <td>[55.7743458, -3.9184134]</td>\n",
       "      <td>(Wishaw (N Lanarks), before Stewarton Street, ...</td>\n",
       "      <td>North Lanarkshire</td>\n",
       "      <td>bad result</td>\n",
       "      <td>bad res</td>\n",
       "    </tr>\n",
       "    <tr>\n",
       "      <th>453</th>\n",
       "      <td>[51.0107646, -4.199478523283679]</td>\n",
       "      <td>[51.0107646, -4.199478523283679]</td>\n",
       "      <td>(Kynock Industrial Estate, Bideford, Torridge,...</td>\n",
       "      <td>Devon</td>\n",
       "      <td>bad result</td>\n",
       "      <td>bad res</td>\n",
       "    </tr>\n",
       "    <tr>\n",
       "      <th>1361</th>\n",
       "      <td>[53.3650134, -1.5432431]</td>\n",
       "      <td>[53.3650134, -1.5432431]</td>\n",
       "      <td>(Christ Church Fulwood, Canterbury Avenue, Ful...</td>\n",
       "      <td>bad result</td>\n",
       "      <td>bad result</td>\n",
       "      <td>bad res</td>\n",
       "    </tr>\n",
       "  </tbody>\n",
       "</table>\n",
       "</div>"
      ],
      "text/plain": [
       "                                 base_ll                         original_ll  \\\n",
       "833   [50.84279555, -3.3689405321011514]  [50.84279555, -3.3689405321011514]   \n",
       "1550            [52.4035742, -1.8451962]            [52.4035742, -1.8451962]   \n",
       "557             [55.7743458, -3.9184134]            [55.7743458, -3.9184134]   \n",
       "453     [51.0107646, -4.199478523283679]    [51.0107646, -4.199478523283679]   \n",
       "1361            [53.3650134, -1.5432431]            [53.3650134, -1.5432431]   \n",
       "\n",
       "                                                geocode             county  \\\n",
       "833   (Cullompton, Mid Devon, Devon, South West Engl...              Devon   \n",
       "1550  (Shirley, Haslucks Green Road, Haslucks Green,...      West Midlands   \n",
       "557   (Wishaw (N Lanarks), before Stewarton Street, ...  North Lanarkshire   \n",
       "453   (Kynock Industrial Estate, Bideford, Torridge,...              Devon   \n",
       "1361  (Christ Church Fulwood, Canterbury Avenue, Ful...         bad result   \n",
       "\n",
       "        postcode postcode_short  \n",
       "833   bad result        bad res  \n",
       "1550  bad result        bad res  \n",
       "557   bad result        bad res  \n",
       "453   bad result        bad res  \n",
       "1361  bad result        bad res  "
      ]
     },
     "execution_count": 26,
     "metadata": {},
     "output_type": "execute_result"
    }
   ],
   "source": [
    "df_base_bad.sample(5)"
   ]
  },
  {
   "cell_type": "code",
   "execution_count": 27,
   "id": "490cf28f",
   "metadata": {
    "ExecuteTime": {
     "end_time": "2022-03-04T22:58:44.112648Z",
     "start_time": "2022-03-04T22:58:44.106430Z"
    },
    "code_folding": [
     2
    ]
   },
   "outputs": [],
   "source": [
    "# This time I use a getplace function which makes a call to the Google maps API. I've had to remove my \n",
    "# Key so it's not in the project. You can make your own for free.\n",
    "def getpostcode(lat, lon):\n",
    "    # Function takes lat and lon as input parameters and uses them and my API key to craft the url\n",
    "    url = \"https://maps.googleapis.com/maps/api/geocode/json?key=YOURKEYHERE\"\n",
    "    url += \"&latlng=%s,%s&sensor=false\" % (lat, lon)\n",
    "    v = urlopen(url).read()\n",
    "    # Load the returned json\n",
    "    j = json.loads(v)\n",
    "    # The json returns many different options. First I'll look through the first element for a postcode\n",
    "    components = j['results'][0]['address_components']\n",
    "    # Initialise empty results. Use bad result again for postcode\n",
    "    country = town = county = None\n",
    "    postcode = 'bad result'\n",
    "    for c in components:\n",
    "        if 'administrative_area_level_2' in c['types']:\n",
    "            county = c['long_name']\n",
    "        if \"country\" in c['types']:\n",
    "            country = c['long_name']\n",
    "        if \"postal_code\" in c['types']:\n",
    "            postcode = c['long_name']\n",
    "        if \"postal_town\" in c['types']:\n",
    "            town = c['long_name']\n",
    "\n",
    "    # If the postcode is still 'bad result' then the first elementof json didn't contain a postcode. \n",
    "    # Try second element of json.   \n",
    "    if postcode == 'bad result':\n",
    "        components = j['results'][1]['address_components']\n",
    "        for c in components:\n",
    "            if 'administrative_area_level_2' in c['types']:\n",
    "                county = c['long_name']\n",
    "            if \"country\" in c['types']:\n",
    "                country = c['long_name']\n",
    "            if \"postal_code\" in c['types']:\n",
    "                postcode = c['long_name']\n",
    "    \n",
    "    # I've muted this function to return the postcode only as that's all I'm interested in at this stage.\n",
    "    return postcode #, town, county, country"
   ]
  },
  {
   "cell_type": "code",
   "execution_count": 28,
   "id": "390287b4",
   "metadata": {
    "ExecuteTime": {
     "end_time": "2022-03-04T22:59:04.923796Z",
     "start_time": "2022-03-04T22:58:44.120503Z"
    }
   },
   "outputs": [],
   "source": [
    "df_base_bad['postcode']='bad result'\n",
    "# Iterate over rows in the bad postcode dataframe. For each row, run the getpostcode function and use .loc\n",
    "# to assign the returned postcode to the df_base dataframe\n",
    "for index, row in df_base_bad.iterrows():\n",
    "    lat = row[1][0]\n",
    "    lon = row[1][1]\n",
    "    try:\n",
    "        df_base.loc[index,'postcode'] = getpostcode(lat, lon)\n",
    "    except:\n",
    "        df_base.loc[index,'postcode'] = ' bad result'\n",
    "        \n",
    "df_base['postcode_short']=df_base.postcode.apply(lambda x: (x[:-3]).strip())"
   ]
  },
  {
   "cell_type": "code",
   "execution_count": 29,
   "id": "c6fdd6c2",
   "metadata": {
    "ExecuteTime": {
     "end_time": "2022-03-04T22:59:04.945505Z",
     "start_time": "2022-03-04T22:59:04.926009Z"
    }
   },
   "outputs": [
    {
     "data": {
      "text/html": [
       "<div>\n",
       "<style scoped>\n",
       "    .dataframe tbody tr th:only-of-type {\n",
       "        vertical-align: middle;\n",
       "    }\n",
       "\n",
       "    .dataframe tbody tr th {\n",
       "        vertical-align: top;\n",
       "    }\n",
       "\n",
       "    .dataframe thead th {\n",
       "        text-align: right;\n",
       "    }\n",
       "</style>\n",
       "<table border=\"1\" class=\"dataframe\">\n",
       "  <thead>\n",
       "    <tr style=\"text-align: right;\">\n",
       "      <th></th>\n",
       "      <th>base_ll</th>\n",
       "      <th>original_ll</th>\n",
       "      <th>geocode</th>\n",
       "      <th>county</th>\n",
       "      <th>postcode</th>\n",
       "      <th>postcode_short</th>\n",
       "    </tr>\n",
       "  </thead>\n",
       "  <tbody>\n",
       "    <tr>\n",
       "      <th>143</th>\n",
       "      <td>[54.8518781, -1.8333741]</td>\n",
       "      <td>[54.8518781, -1.8333741]</td>\n",
       "      <td>(Eyesite - Finlays, Middle Street, Consett, Co...</td>\n",
       "      <td>Durham</td>\n",
       "      <td>DH8 5AB</td>\n",
       "      <td>DH8</td>\n",
       "    </tr>\n",
       "    <tr>\n",
       "      <th>380</th>\n",
       "      <td>[51.5754602, 0.4757363]</td>\n",
       "      <td>[51.5754602, 0.4757363]</td>\n",
       "      <td>(Bonnygate, Basildon, Essex, East of England, ...</td>\n",
       "      <td>Essex</td>\n",
       "      <td>SS14 2QN</td>\n",
       "      <td>SS14</td>\n",
       "    </tr>\n",
       "    <tr>\n",
       "      <th>1071</th>\n",
       "      <td>[51.713353, -3.445555]</td>\n",
       "      <td>[51.713353, -3.445555]</td>\n",
       "      <td>(St Elvan's, Church Street, Gadlys, Aberdare E...</td>\n",
       "      <td>bad result</td>\n",
       "      <td>CF44 7AB</td>\n",
       "      <td>CF44</td>\n",
       "    </tr>\n",
       "    <tr>\n",
       "      <th>1854</th>\n",
       "      <td>[52.6133558, -2.4827324]</td>\n",
       "      <td>[52.6133558, -2.4827324]</td>\n",
       "      <td>(Broseley House, High Street, Broseley, Shrops...</td>\n",
       "      <td>West Midlands</td>\n",
       "      <td>TF12 5EZ</td>\n",
       "      <td>TF12</td>\n",
       "    </tr>\n",
       "    <tr>\n",
       "      <th>1604</th>\n",
       "      <td>[51.5910395, -0.1420768]</td>\n",
       "      <td>[51.5910395, -0.1420768]</td>\n",
       "      <td>(Bus Depot, A504, Muswell Hill, London Borough...</td>\n",
       "      <td>Greater London</td>\n",
       "      <td>N10 1DF</td>\n",
       "      <td>N10</td>\n",
       "    </tr>\n",
       "  </tbody>\n",
       "</table>\n",
       "</div>"
      ],
      "text/plain": [
       "                       base_ll               original_ll  \\\n",
       "143   [54.8518781, -1.8333741]  [54.8518781, -1.8333741]   \n",
       "380    [51.5754602, 0.4757363]   [51.5754602, 0.4757363]   \n",
       "1071    [51.713353, -3.445555]    [51.713353, -3.445555]   \n",
       "1854  [52.6133558, -2.4827324]  [52.6133558, -2.4827324]   \n",
       "1604  [51.5910395, -0.1420768]  [51.5910395, -0.1420768]   \n",
       "\n",
       "                                                geocode          county  \\\n",
       "143   (Eyesite - Finlays, Middle Street, Consett, Co...          Durham   \n",
       "380   (Bonnygate, Basildon, Essex, East of England, ...           Essex   \n",
       "1071  (St Elvan's, Church Street, Gadlys, Aberdare E...      bad result   \n",
       "1854  (Broseley House, High Street, Broseley, Shrops...   West Midlands   \n",
       "1604  (Bus Depot, A504, Muswell Hill, London Borough...  Greater London   \n",
       "\n",
       "      postcode postcode_short  \n",
       "143    DH8 5AB            DH8  \n",
       "380   SS14 2QN           SS14  \n",
       "1071  CF44 7AB           CF44  \n",
       "1854  TF12 5EZ           TF12  \n",
       "1604   N10 1DF            N10  "
      ]
     },
     "execution_count": 29,
     "metadata": {},
     "output_type": "execute_result"
    }
   ],
   "source": [
    "df_base.sample(5)"
   ]
  },
  {
   "cell_type": "code",
   "execution_count": 30,
   "id": "2e758807",
   "metadata": {
    "ExecuteTime": {
     "end_time": "2022-03-04T22:59:04.957214Z",
     "start_time": "2022-03-04T22:59:04.947468Z"
    }
   },
   "outputs": [
    {
     "data": {
      "text/plain": [
       "WS11 1AE    1\n",
       "KY1 4RR     1\n",
       "SL6 2JP     1\n",
       "EH26 8HN    1\n",
       "NP23 6ET    1\n",
       "           ..\n",
       "SW8 2JL     1\n",
       "GL13 9BP    1\n",
       "ST15 8AD    1\n",
       "BA11 1PU    1\n",
       "GL17 9SE    1\n",
       "Name: postcode, Length: 1720, dtype: int64"
      ]
     },
     "execution_count": 30,
     "metadata": {},
     "output_type": "execute_result"
    }
   ],
   "source": [
    "df_base.postcode.value_counts()"
   ]
  },
  {
   "cell_type": "markdown",
   "id": "93b68dd1",
   "metadata": {},
   "source": [
    "Great, no more bad results in the postcode column. But there are in the county column. Now I go through the same procedure for them."
   ]
  },
  {
   "cell_type": "code",
   "execution_count": 31,
   "id": "77fca9fb",
   "metadata": {
    "ExecuteTime": {
     "end_time": "2022-03-04T22:59:04.969229Z",
     "start_time": "2022-03-04T22:59:04.959647Z"
    }
   },
   "outputs": [
    {
     "data": {
      "text/plain": [
       "bad result          218\n",
       "Greater London      187\n",
       "West Midlands        80\n",
       "Surrey               62\n",
       "Kent                 53\n",
       "                   ... \n",
       "East Ayrshire         2\n",
       "Orkney Islands        1\n",
       "Glasgow City          1\n",
       "Fermanagh             1\n",
       "Shetland Islands      1\n",
       "Name: county, Length: 79, dtype: int64"
      ]
     },
     "execution_count": 31,
     "metadata": {},
     "output_type": "execute_result"
    }
   ],
   "source": [
    "df_base.county.value_counts()"
   ]
  },
  {
   "cell_type": "code",
   "execution_count": 32,
   "id": "1eb724fb",
   "metadata": {
    "ExecuteTime": {
     "end_time": "2022-03-04T22:59:04.980259Z",
     "start_time": "2022-03-04T22:59:04.971293Z"
    },
    "code_folding": []
   },
   "outputs": [],
   "source": [
    "# Make a new dataframe just of the bad results\n",
    "df_base_bad2 = df_base[df_base.county=='bad result'].copy()\n",
    "\n",
    "def getcounty(lat, lon):\n",
    "    # Function takes lat and lon as input parameters and uses them and my API key to craft the url\n",
    "    url = \"https://maps.googleapis.com/maps/api/geocode/json?key=YOURKEYHERE\"\n",
    "    url += \"&latlng=%s,%s&sensor=false\" % (lat, lon)\n",
    "    v = urlopen(url).read()\n",
    "    # Load the returned json\n",
    "    j = json.loads(v)\n",
    "    # The json returns many different options. First I'll look through the first element for a postcode\n",
    "    components = j['results'][0]['address_components']\n",
    "    # Use bad result again for county\n",
    "    county = 'bad result'\n",
    "    for c in components:\n",
    "        if 'administrative_area_level_2' in c['types']:\n",
    "            county = c['long_name']\n",
    "\n",
    "    # If the county is still 'bad result' then the first element of json didn't contain a postcode. \n",
    "    # Try second element of json.   \n",
    "    if county == 'bad result':\n",
    "        components = j['results'][1]['address_components']\n",
    "        for c in components:\n",
    "            if 'administrative_area_level_2' in c['types']:\n",
    "                county = c['long_name']\n",
    "    return county "
   ]
  },
  {
   "cell_type": "code",
   "execution_count": 33,
   "id": "6fede801",
   "metadata": {
    "ExecuteTime": {
     "end_time": "2022-03-04T22:59:42.343060Z",
     "start_time": "2022-03-04T22:59:04.982018Z"
    }
   },
   "outputs": [],
   "source": [
    "# Iterate over rows in the bad county dataframe. For each row, run the getcounty function and use .loc\n",
    "# to assign the returned county to the df_base dataframe\n",
    "\n",
    "for index, row in df_base_bad2.iterrows():\n",
    "    lat = row[1][0]\n",
    "    lon = row[1][1]\n",
    "    try:\n",
    "        df_base.loc[index,'county'] = getcounty(lat, lon)\n",
    "    except:\n",
    "        df_base.loc[index,'county'] = ' bad result'"
   ]
  },
  {
   "cell_type": "code",
   "execution_count": 34,
   "id": "eb94ac89",
   "metadata": {
    "ExecuteTime": {
     "end_time": "2022-03-04T22:59:42.370104Z",
     "start_time": "2022-03-04T22:59:42.346015Z"
    }
   },
   "outputs": [
    {
     "data": {
      "text/html": [
       "<div>\n",
       "<style scoped>\n",
       "    .dataframe tbody tr th:only-of-type {\n",
       "        vertical-align: middle;\n",
       "    }\n",
       "\n",
       "    .dataframe tbody tr th {\n",
       "        vertical-align: top;\n",
       "    }\n",
       "\n",
       "    .dataframe thead th {\n",
       "        text-align: right;\n",
       "    }\n",
       "</style>\n",
       "<table border=\"1\" class=\"dataframe\">\n",
       "  <thead>\n",
       "    <tr style=\"text-align: right;\">\n",
       "      <th></th>\n",
       "      <th>base_ll</th>\n",
       "      <th>original_ll</th>\n",
       "      <th>geocode</th>\n",
       "      <th>county</th>\n",
       "      <th>postcode</th>\n",
       "      <th>postcode_short</th>\n",
       "    </tr>\n",
       "  </thead>\n",
       "  <tbody>\n",
       "    <tr>\n",
       "      <th>1694</th>\n",
       "      <td>[53.6905487, -1.8394265]</td>\n",
       "      <td>[53.6905487, -1.8394265]</td>\n",
       "      <td>(Elland, Exley Lane, Elland, Calderdale, West ...</td>\n",
       "      <td>West Yorkshire</td>\n",
       "      <td>HX5 9HP</td>\n",
       "      <td>HX5</td>\n",
       "    </tr>\n",
       "    <tr>\n",
       "      <th>1847</th>\n",
       "      <td>[51.46773895, -0.4587800741571181]</td>\n",
       "      <td>[51.46773895, -0.4587800741571181]</td>\n",
       "      <td>(London Heathrow Airport, Stanhope Heath, Stan...</td>\n",
       "      <td>Surrey</td>\n",
       "      <td>TW19 7PL</td>\n",
       "      <td>TW19</td>\n",
       "    </tr>\n",
       "    <tr>\n",
       "      <th>3013</th>\n",
       "      <td>[52.9325093, -1.1897308455681412]</td>\n",
       "      <td>[52.9325093, -1.1897308455681412]</td>\n",
       "      <td>(Beeston Sidings Nature Reserve, Dr Stewart Ad...</td>\n",
       "      <td>Nottinghamshire</td>\n",
       "      <td>NG90 1BS</td>\n",
       "      <td>NG90</td>\n",
       "    </tr>\n",
       "    <tr>\n",
       "      <th>1601</th>\n",
       "      <td>[55.8949497, -3.4642933]</td>\n",
       "      <td>[55.8949497, -3.4642933]</td>\n",
       "      <td>(230, Main Street, Calderwood, East Calder, We...</td>\n",
       "      <td>West Lothian</td>\n",
       "      <td>EH53 0EW</td>\n",
       "      <td>EH53</td>\n",
       "    </tr>\n",
       "    <tr>\n",
       "      <th>264</th>\n",
       "      <td>[50.7651261, -1.8145483592492209]</td>\n",
       "      <td>[50.7651261, -1.8145483592492209]</td>\n",
       "      <td>(Christchurch Road, Hurn, Bournemouth, Christc...</td>\n",
       "      <td>Dorset</td>\n",
       "      <td>BH23 6AE</td>\n",
       "      <td>BH23</td>\n",
       "    </tr>\n",
       "  </tbody>\n",
       "</table>\n",
       "</div>"
      ],
      "text/plain": [
       "                                 base_ll                         original_ll  \\\n",
       "1694            [53.6905487, -1.8394265]            [53.6905487, -1.8394265]   \n",
       "1847  [51.46773895, -0.4587800741571181]  [51.46773895, -0.4587800741571181]   \n",
       "3013   [52.9325093, -1.1897308455681412]   [52.9325093, -1.1897308455681412]   \n",
       "1601            [55.8949497, -3.4642933]            [55.8949497, -3.4642933]   \n",
       "264    [50.7651261, -1.8145483592492209]   [50.7651261, -1.8145483592492209]   \n",
       "\n",
       "                                                geocode           county  \\\n",
       "1694  (Elland, Exley Lane, Elland, Calderdale, West ...   West Yorkshire   \n",
       "1847  (London Heathrow Airport, Stanhope Heath, Stan...           Surrey   \n",
       "3013  (Beeston Sidings Nature Reserve, Dr Stewart Ad...  Nottinghamshire   \n",
       "1601  (230, Main Street, Calderwood, East Calder, We...     West Lothian   \n",
       "264   (Christchurch Road, Hurn, Bournemouth, Christc...           Dorset   \n",
       "\n",
       "      postcode postcode_short  \n",
       "1694   HX5 9HP            HX5  \n",
       "1847  TW19 7PL           TW19  \n",
       "3013  NG90 1BS           NG90  \n",
       "1601  EH53 0EW           EH53  \n",
       "264   BH23 6AE           BH23  "
      ]
     },
     "execution_count": 34,
     "metadata": {},
     "output_type": "execute_result"
    }
   ],
   "source": [
    "df_base.sample(5)"
   ]
  },
  {
   "cell_type": "code",
   "execution_count": 35,
   "id": "f08f5cb6",
   "metadata": {
    "ExecuteTime": {
     "end_time": "2022-03-04T22:59:42.379546Z",
     "start_time": "2022-03-04T22:59:42.373027Z"
    }
   },
   "outputs": [
    {
     "data": {
      "text/plain": [
       "Greater London      187\n",
       "West Midlands        80\n",
       "Surrey               62\n",
       "Kent                 53\n",
       "Hertfordshire        43\n",
       "                   ... \n",
       "Middlesbrough         1\n",
       "bad result            1\n",
       "Newport               1\n",
       "Rutland               1\n",
       "Shetland Islands      1\n",
       "Name: county, Length: 136, dtype: int64"
      ]
     },
     "execution_count": 35,
     "metadata": {},
     "output_type": "execute_result"
    }
   ],
   "source": [
    "df_base.county.value_counts()"
   ]
  },
  {
   "cell_type": "markdown",
   "id": "6b7b7d90",
   "metadata": {},
   "source": [
    "Excellent, no more null counties. All good to write out to a csv for merging in the data cleaning notebook."
   ]
  },
  {
   "cell_type": "code",
   "execution_count": 36,
   "id": "e86d7a88",
   "metadata": {
    "ExecuteTime": {
     "end_time": "2022-03-04T22:59:42.393337Z",
     "start_time": "2022-03-04T22:59:42.381574Z"
    }
   },
   "outputs": [],
   "source": [
    "# Sabve with a more sensible name and add some rounded lat/lon to make merging easy.\n",
    "merge_df = df_base[['original_ll', 'geocode', 'county', 'postcode', 'postcode_short']].copy()\n",
    "merge_df['dealer_lat']=merge_df.original_ll.apply(lambda x: x[0])\n",
    "merge_df['dealer_lon']=merge_df.original_ll.apply(lambda x: x[1])\n",
    "merge_df['dealer_lat_rnd']=merge_df.original_ll.apply(lambda x: round(x[0],5))\n",
    "merge_df['dealer_lon_rnd']=merge_df.original_ll.apply(lambda x: round(x[1],5))"
   ]
  },
  {
   "cell_type": "code",
   "execution_count": 37,
   "id": "d68e8e45",
   "metadata": {
    "ExecuteTime": {
     "end_time": "2022-03-04T22:59:42.399483Z",
     "start_time": "2022-03-04T22:59:42.394945Z"
    }
   },
   "outputs": [
    {
     "data": {
      "text/plain": [
       "Index(['original_ll', 'geocode', 'county', 'postcode', 'postcode_short',\n",
       "       'dealer_lat', 'dealer_lon', 'dealer_lat_rnd', 'dealer_lon_rnd'],\n",
       "      dtype='object')"
      ]
     },
     "execution_count": 37,
     "metadata": {},
     "output_type": "execute_result"
    }
   ],
   "source": [
    "merge_df.columns"
   ]
  },
  {
   "cell_type": "code",
   "execution_count": 38,
   "id": "646ecf98",
   "metadata": {
    "ExecuteTime": {
     "end_time": "2022-03-04T22:59:42.404145Z",
     "start_time": "2022-03-04T22:59:42.401049Z"
    }
   },
   "outputs": [],
   "source": [
    "county_abspath = r'data/04_merge_counties.csv'\n",
    "# merge_df.to_csv(county_abspath, index=False, header=merge_df.columns )"
   ]
  },
  {
   "cell_type": "code",
   "execution_count": 39,
   "id": "303501fd",
   "metadata": {
    "ExecuteTime": {
     "end_time": "2022-03-04T22:59:42.408750Z",
     "start_time": "2022-03-04T22:59:42.406190Z"
    }
   },
   "outputs": [],
   "source": [
    "county_abspath = r'data/04_merge_counties.csv'\n",
    "# merge_df = pd.read_csv(county_abspath)"
   ]
  },
  {
   "cell_type": "code",
   "execution_count": 40,
   "id": "7a72b0e0",
   "metadata": {
    "ExecuteTime": {
     "end_time": "2022-03-04T22:59:42.428215Z",
     "start_time": "2022-03-04T22:59:42.410957Z"
    }
   },
   "outputs": [
    {
     "data": {
      "text/html": [
       "<div>\n",
       "<style scoped>\n",
       "    .dataframe tbody tr th:only-of-type {\n",
       "        vertical-align: middle;\n",
       "    }\n",
       "\n",
       "    .dataframe tbody tr th {\n",
       "        vertical-align: top;\n",
       "    }\n",
       "\n",
       "    .dataframe thead th {\n",
       "        text-align: right;\n",
       "    }\n",
       "</style>\n",
       "<table border=\"1\" class=\"dataframe\">\n",
       "  <thead>\n",
       "    <tr style=\"text-align: right;\">\n",
       "      <th></th>\n",
       "      <th>original_ll</th>\n",
       "      <th>geocode</th>\n",
       "      <th>county</th>\n",
       "      <th>postcode</th>\n",
       "      <th>postcode_short</th>\n",
       "      <th>dealer_lat</th>\n",
       "      <th>dealer_lon</th>\n",
       "      <th>dealer_lat_rnd</th>\n",
       "      <th>dealer_lon_rnd</th>\n",
       "    </tr>\n",
       "  </thead>\n",
       "  <tbody>\n",
       "    <tr>\n",
       "      <th>1869</th>\n",
       "      <td>[55.8832144, -3.1147415]</td>\n",
       "      <td>(High Street, Lasswade, Midlothian, Alba / Sco...</td>\n",
       "      <td>Midlothian</td>\n",
       "      <td>EH18 1ND</td>\n",
       "      <td>EH18</td>\n",
       "      <td>55.883214</td>\n",
       "      <td>-3.114742</td>\n",
       "      <td>55.88321</td>\n",
       "      <td>-3.11474</td>\n",
       "    </tr>\n",
       "    <tr>\n",
       "      <th>820</th>\n",
       "      <td>[52.9889575, -2.2026103]</td>\n",
       "      <td>(Flash Lane, Trent Vale, Stoke, Stoke-on-Trent...</td>\n",
       "      <td>West Midlands</td>\n",
       "      <td>ST4 5QZ</td>\n",
       "      <td>ST4</td>\n",
       "      <td>52.988957</td>\n",
       "      <td>-2.202610</td>\n",
       "      <td>52.98896</td>\n",
       "      <td>-2.20261</td>\n",
       "    </tr>\n",
       "    <tr>\n",
       "      <th>54</th>\n",
       "      <td>[51.4058006, -0.1640787]</td>\n",
       "      <td>(Mitcham Fair Green, London Road, Mitcham, Lon...</td>\n",
       "      <td>Greater London</td>\n",
       "      <td>CR4 2JD</td>\n",
       "      <td>CR4</td>\n",
       "      <td>51.405801</td>\n",
       "      <td>-0.164079</td>\n",
       "      <td>51.40580</td>\n",
       "      <td>-0.16408</td>\n",
       "    </tr>\n",
       "    <tr>\n",
       "      <th>972</th>\n",
       "      <td>[51.4625524, -0.2167462]</td>\n",
       "      <td>(Robert Dyas, 126,128, Putney High Street, Put...</td>\n",
       "      <td>Greater London</td>\n",
       "      <td>SW15 1RG</td>\n",
       "      <td>SW15</td>\n",
       "      <td>51.462552</td>\n",
       "      <td>-0.216746</td>\n",
       "      <td>51.46255</td>\n",
       "      <td>-0.21675</td>\n",
       "    </tr>\n",
       "    <tr>\n",
       "      <th>1474</th>\n",
       "      <td>[52.0357457, -2.4287821]</td>\n",
       "      <td>(Ashmead, Woodleigh Road, Ledbury, Herefordshi...</td>\n",
       "      <td>West Midlands</td>\n",
       "      <td>HR8 2BL</td>\n",
       "      <td>HR8</td>\n",
       "      <td>52.035746</td>\n",
       "      <td>-2.428782</td>\n",
       "      <td>52.03575</td>\n",
       "      <td>-2.42878</td>\n",
       "    </tr>\n",
       "    <tr>\n",
       "      <th>282</th>\n",
       "      <td>[52.6040015, 0.3809631901097164]</td>\n",
       "      <td>(Bexwell Road, Downham Market, King's Lynn and...</td>\n",
       "      <td>Down</td>\n",
       "      <td>PE38 9LH</td>\n",
       "      <td>PE38</td>\n",
       "      <td>52.604002</td>\n",
       "      <td>0.380963</td>\n",
       "      <td>52.60400</td>\n",
       "      <td>0.38096</td>\n",
       "    </tr>\n",
       "    <tr>\n",
       "      <th>2247</th>\n",
       "      <td>[51.4795563, -3.7040704]</td>\n",
       "      <td>(Victoria Avenue, Porthcawl, Bridgend, Cymru /...</td>\n",
       "      <td>Bridgend County Borough</td>\n",
       "      <td>CF36 3HG</td>\n",
       "      <td>CF36</td>\n",
       "      <td>51.479556</td>\n",
       "      <td>-3.704070</td>\n",
       "      <td>51.47956</td>\n",
       "      <td>-3.70407</td>\n",
       "    </tr>\n",
       "    <tr>\n",
       "      <th>95</th>\n",
       "      <td>[51.8784385, -0.4152837]</td>\n",
       "      <td>(NatWest, George Street, Park Town, Luton, Eas...</td>\n",
       "      <td>Luton</td>\n",
       "      <td>LU1 2AQ</td>\n",
       "      <td>LU1</td>\n",
       "      <td>51.878439</td>\n",
       "      <td>-0.415284</td>\n",
       "      <td>51.87844</td>\n",
       "      <td>-0.41528</td>\n",
       "    </tr>\n",
       "    <tr>\n",
       "      <th>885</th>\n",
       "      <td>[53.1394364, -4.2769751]</td>\n",
       "      <td>(Castell Caernarfon, Stryd y Jêl  /  Shirehall...</td>\n",
       "      <td>Gwynedd</td>\n",
       "      <td>LL55 2AY</td>\n",
       "      <td>LL55</td>\n",
       "      <td>53.139436</td>\n",
       "      <td>-4.276975</td>\n",
       "      <td>53.13944</td>\n",
       "      <td>-4.27698</td>\n",
       "    </tr>\n",
       "    <tr>\n",
       "      <th>147</th>\n",
       "      <td>[53.3645138, -3.0507757]</td>\n",
       "      <td>(Prenton Dell Road, Prenton, Wirral, North Wes...</td>\n",
       "      <td>Merseyside</td>\n",
       "      <td>CH43 3BT</td>\n",
       "      <td>CH43</td>\n",
       "      <td>53.364514</td>\n",
       "      <td>-3.050776</td>\n",
       "      <td>53.36451</td>\n",
       "      <td>-3.05078</td>\n",
       "    </tr>\n",
       "  </tbody>\n",
       "</table>\n",
       "</div>"
      ],
      "text/plain": [
       "                           original_ll  \\\n",
       "1869          [55.8832144, -3.1147415]   \n",
       "820           [52.9889575, -2.2026103]   \n",
       "54            [51.4058006, -0.1640787]   \n",
       "972           [51.4625524, -0.2167462]   \n",
       "1474          [52.0357457, -2.4287821]   \n",
       "282   [52.6040015, 0.3809631901097164]   \n",
       "2247          [51.4795563, -3.7040704]   \n",
       "95            [51.8784385, -0.4152837]   \n",
       "885           [53.1394364, -4.2769751]   \n",
       "147           [53.3645138, -3.0507757]   \n",
       "\n",
       "                                                geocode  \\\n",
       "1869  (High Street, Lasswade, Midlothian, Alba / Sco...   \n",
       "820   (Flash Lane, Trent Vale, Stoke, Stoke-on-Trent...   \n",
       "54    (Mitcham Fair Green, London Road, Mitcham, Lon...   \n",
       "972   (Robert Dyas, 126,128, Putney High Street, Put...   \n",
       "1474  (Ashmead, Woodleigh Road, Ledbury, Herefordshi...   \n",
       "282   (Bexwell Road, Downham Market, King's Lynn and...   \n",
       "2247  (Victoria Avenue, Porthcawl, Bridgend, Cymru /...   \n",
       "95    (NatWest, George Street, Park Town, Luton, Eas...   \n",
       "885   (Castell Caernarfon, Stryd y Jêl  /  Shirehall...   \n",
       "147   (Prenton Dell Road, Prenton, Wirral, North Wes...   \n",
       "\n",
       "                       county  postcode postcode_short  dealer_lat  \\\n",
       "1869               Midlothian  EH18 1ND           EH18   55.883214   \n",
       "820             West Midlands   ST4 5QZ            ST4   52.988957   \n",
       "54             Greater London   CR4 2JD            CR4   51.405801   \n",
       "972            Greater London  SW15 1RG           SW15   51.462552   \n",
       "1474            West Midlands   HR8 2BL            HR8   52.035746   \n",
       "282                      Down  PE38 9LH           PE38   52.604002   \n",
       "2247  Bridgend County Borough  CF36 3HG           CF36   51.479556   \n",
       "95                      Luton   LU1 2AQ            LU1   51.878439   \n",
       "885                   Gwynedd  LL55 2AY           LL55   53.139436   \n",
       "147                Merseyside  CH43 3BT           CH43   53.364514   \n",
       "\n",
       "      dealer_lon  dealer_lat_rnd  dealer_lon_rnd  \n",
       "1869   -3.114742        55.88321        -3.11474  \n",
       "820    -2.202610        52.98896        -2.20261  \n",
       "54     -0.164079        51.40580        -0.16408  \n",
       "972    -0.216746        51.46255        -0.21675  \n",
       "1474   -2.428782        52.03575        -2.42878  \n",
       "282     0.380963        52.60400         0.38096  \n",
       "2247   -3.704070        51.47956        -3.70407  \n",
       "95     -0.415284        51.87844        -0.41528  \n",
       "885    -4.276975        53.13944        -4.27698  \n",
       "147    -3.050776        53.36451        -3.05078  "
      ]
     },
     "execution_count": 40,
     "metadata": {},
     "output_type": "execute_result"
    }
   ],
   "source": [
    "merge_df.sample(10)"
   ]
  },
  {
   "cell_type": "markdown",
   "id": "3ab184d2",
   "metadata": {},
   "source": [
    "There's no more content in this Notebook 3. Geocoding has been used to create dataframes for merging in with the AutoTrader data."
   ]
  }
 ],
 "metadata": {
  "kernelspec": {
   "display_name": "used_cars_env",
   "language": "python",
   "name": "used_cars_env"
  },
  "language_info": {
   "codemirror_mode": {
    "name": "ipython",
    "version": 3
   },
   "file_extension": ".py",
   "mimetype": "text/x-python",
   "name": "python",
   "nbconvert_exporter": "python",
   "pygments_lexer": "ipython3",
   "version": "3.9.7"
  },
  "toc": {
   "base_numbering": 1,
   "nav_menu": {},
   "number_sections": true,
   "sideBar": true,
   "skip_h1_title": false,
   "title_cell": "Table of Contents",
   "title_sidebar": "Contents",
   "toc_cell": false,
   "toc_position": {
    "height": "calc(100% - 180px)",
    "left": "10px",
    "top": "150px",
    "width": "373.111px"
   },
   "toc_section_display": true,
   "toc_window_display": true
  }
 },
 "nbformat": 4,
 "nbformat_minor": 5
}
