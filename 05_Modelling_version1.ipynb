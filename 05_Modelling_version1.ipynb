{
 "cells": [
  {
   "cell_type": "markdown",
   "id": "0e496e6d",
   "metadata": {},
   "source": [
    "# Notebook Context\n",
    "\n",
    "This is 5 of 6 Jupyter Notebooks associated with the used car project.\n",
    "\n",
    "This covers:\n",
    "* The initial model selection where many models are evaluated quickly on a subset of the data to assess which modelling avenues should be pursued.\n",
    "* The full-fidelity modelling on the entire dataset, using the two most promising models from the initial stage.\n",
    "\n",
    "Besides the Python code involved in each of these steps, I've tried to add a text narrative either through markdown, comments or both. I know that this notebook isn't as finely polished as I'd like it to be but it should be very possible to follow my thought process at each stage.\n",
    "\n",
    "Data input to this notebook are cleaned, merged and generally prepared in notebook [04_Data_cleaning_and_EDA](https://github.com/rgdavies92/used-car-value/blob/main/04_Data_cleaning_and_EDA.ipynb)."
   ]
  },
  {
   "cell_type": "markdown",
   "id": "f92b3b94",
   "metadata": {},
   "source": [
    "# Executive Summary\n",
    "\n",
    "\n",
    "<b>1. Project Goals</b>\n",
    "* Generate a predictive model for used car price in the UK in 2022.\n",
    "    * The final model must be interpretable.\n",
    "* Test the hypothesis that when all other car features are equal, a Dacia branded car is cheaper than a Volvo branded car. \n",
    "    * Learn what the model can tell us about car brands.\n",
    "\n",
    "\n",
    "<b>2. Metrics Utilised</b>\n",
    "* The main metric used will be R<sup>2</sup>-score, which is the amount of unexplained variance above the baseline which can be explained by the model. \n",
    "* Supplementary metrics of Root Mean Squared Error (RMSE) and Mean Squared Error (MSE) will be used to further evaluate models. \n",
    "\n",
    "<b>3. Results</b>\n",
    "* A comprehensive used car dataset was scraped from autotrader.co.uk, holding 374,000 used cars appropriate for modelling.\n",
    "* Base versions of 10 different models were evaluated and ranked using a 50,000 row subset of the used car dataset. Two models - LinearRegression() and GradientBoostingRegression() were then selected for further model optimisation on the full dataset and subsequent model evaluation. \n",
    "    * Final LinearRegression() R2 score on the price target was 0.881. \n",
    "    * <b>Final GradientBoostingRegression() R2 score on the price target was 0.953</b>. \n",
    "    * Both models proved to generalise well, with test and train R2 scores within 0.003.\n",
    "    * Of the top 10 predictors/features for each model, 6 of them were predictors/features in common.\n",
    "* ELI5 permutation importance feature has been used to explain and interpret granular detail contained within the GradientBoostingRegression() model which is not evident from the standard gini-based feature importance. \n",
    "* Dummy cars were fed into the GradientBoostingRegression() model and analysed with ELI5 to confirm that <b>a Dacia branded car is indeed cheaper than a Volvo branded car</b>.\n",
    "* No strong evidence has been found to suggest that car sale location impacts sale price, although further work is recommended.\n",
    "    \n",
    "<b>4. Risks/limitations/assumptions</b>\n",
    "* All used car data were gathered over two weeks between January and February 2022. At this moment the second hand car market is artificially inflated due to 'ongoing chip shortages'. As such, the accuracy of all conclusions and insights will fall with time as market conditions change. \n",
    "* Outlier analysis has revealed some data-entry mistakes on autotrader.co.uk. Data-entry mistakes which can be observed as statistical anomalies have been removed from the dataset however this by no means confirms that others don't remain.\n",
    "* When buying a new car there are often a number of tiers to choose from in terms of 'car spec'. Although some engine attributes may be incorporated in the 'BHP' statistic, much of this information is not captured at a used car sale and is not accounted for in this project. For example there is no information on whether a used car has a leather interior with rear view cameras and parking sensors.\n",
    "* Car size variables could be obtained more accurately. At this stage they have been scraped from carsized.com."
   ]
  },
  {
   "cell_type": "code",
   "execution_count": 1,
   "id": "b339640a",
   "metadata": {
    "ExecuteTime": {
     "end_time": "2022-03-09T18:58:35.287996Z",
     "start_time": "2022-03-09T18:58:33.008792Z"
    },
    "code_folding": []
   },
   "outputs": [],
   "source": [
    "# Import modelling libraries\n",
    "\n",
    "import pandas as pd\n",
    "import numpy as np\n",
    "import seaborn as sns\n",
    "import matplotlib.pyplot as plt\n",
    "from sklearn.linear_model import LinearRegression, ElasticNet, Ridge, Lasso\n",
    "from sklearn.model_selection import KFold, cross_val_score, train_test_split\n",
    "from sklearn.metrics import mean_squared_error, r2_score\n",
    "from sklearn.preprocessing import StandardScaler\n",
    "from sklearn.ensemble import AdaBoostRegressor, GradientBoostingRegressor, RandomForestRegressor\n",
    "from sklearn.tree import DecisionTreeRegressor, ExtraTreeRegressor\n",
    "from sklearn.pipeline import Pipeline\n",
    "from sklearn.pipeline import make_pipeline\n",
    "from sklearn.model_selection import GridSearchCV\n",
    "from sklearn.metrics import r2_score \n",
    "from eli5.sklearn import PermutationImportance\n",
    "from eli5 import show_prediction\n",
    "import eli5\n",
    "import xgboost\n",
    "from xgboost import XGBRegressor\n",
    "from IPython.display import Markdown, display\n",
    "def printmd(string):\n",
    "    display(Markdown(string))"
   ]
  },
  {
   "cell_type": "markdown",
   "id": "7cdcb343",
   "metadata": {},
   "source": [
    "# Model selection on 50,000 used cars"
   ]
  },
  {
   "cell_type": "markdown",
   "id": "cd9d4800",
   "metadata": {},
   "source": [
    "First of all, I evaluate a range of models on a random subset of 50,000 rows from the used cars data. This allows for a quick evaluation of model suitability.\n",
    "\n",
    "* Outliers from the used car dataset are removed from the normally distributed log-price target variable.\n",
    "* Car makes/brands with < 50 cars within the subset are dropped to ensure robust predictions.\n",
    "* Columns used for modelling are `price`/`log_price`, `mileage`/`log_mileage`, `BHP`, `year`, `drivetrain`, `make`, `body`, `transmission`, `fuel` and `doors`. \n",
    "    * `price`/`log_price`, `mileage`/`log_mileage`, `BHP` and `year` are continuous.\n",
    "    * `drivetrain`, `make`, `body`, `transmission`, `fuel` and `doors` are one-hot encoded.\n",
    "    * `log_price` and `log_mileage` are used for linear regression models, whilst `price` and `log-mileage` are used for tree-based models. Note that I could have used simple mileage for the tree based models but honestly I forgot to change it back. It makes no difference to decision tree models so I left it. \n",
    "    * Standard scaling is applied to predictors for the linear regression models whilst no scaling is applied for the tree-based models.\n",
    "* Models tested are:\n",
    "    * Linear Regression\n",
    "    * Linear Regression with L1 regularization\n",
    "    * Linear Regression with L2 regularization\n",
    "    * Linear Regression with Elastic Net regularization\n",
    "    * Decision Tree Regression\n",
    "    * Random Forest Regression\n",
    "    * Gradient Boosting Regression\n",
    "    * Ada Boosting Regression with a Decision Tree base model\n",
    "    * Extreme Gradient Boosting Regression\n",
    "* Each model is evaluated by mean R<sup>2</sup> score after 5-fold cross validation on the training set as well as R<sup>2</sup> score on the test set.\n",
    "* Residuals are described using Root Mean Squared Error (RMSE) and Mean Squared Error (MSE).\n",
    "    "
   ]
  },
  {
   "cell_type": "code",
   "execution_count": 2,
   "id": "f001f339",
   "metadata": {
    "ExecuteTime": {
     "end_time": "2022-03-09T18:58:37.621528Z",
     "start_time": "2022-03-09T18:58:35.290972Z"
    },
    "code_folding": [
     0
    ]
   },
   "outputs": [
    {
     "name": "stdout",
     "output_type": "stream",
     "text": [
      "all (400245, 28)\n",
      "used (378595, 28)\n",
      "used_without_outliers (374504, 28)\n"
     ]
    }
   ],
   "source": [
    "# Read clean used cars data from Notebook 04_Data_Cleaning_and_EDA\n",
    "\n",
    "abspath = r'/Users/robertdavies/Desktop/DSI/GA_P2/LargeDatasets/00_all_cars.csv'\n",
    "df = pd.read_csv(abspath)\n",
    "print('all',df.shape)\n",
    "\n",
    "df = df[df['used']==1]\n",
    "print('used',df.shape)\n",
    "\n",
    "# Drop outliers in log-price greater than three standard deviations from the mean\n",
    "mask = np.abs((df.log_price - df.log_price.mean())) / df.log_price.std() > 3\n",
    "df= df[~mask]\n",
    "print('used_without_outliers',df.shape)"
   ]
  },
  {
   "cell_type": "code",
   "execution_count": 3,
   "id": "1610f67c",
   "metadata": {
    "ExecuteTime": {
     "end_time": "2022-03-09T18:58:37.684844Z",
     "start_time": "2022-03-09T18:58:37.623629Z"
    },
    "code_folding": [
     0
    ]
   },
   "outputs": [],
   "source": [
    "# Drop columns not useful in modelling as defined in Notebook 04_Data_Cleaning_and_EDA\n",
    "\n",
    "df = df.drop(labels=['name','name_subtitle','link','seller1',\n",
    "                     'href0','dealer_city','dealer_area','year_reg',\n",
    "                     'orig_name','e_engine_kWh','ULEZ','id','used','owners','engine','mpg'], axis=1)"
   ]
  },
  {
   "cell_type": "code",
   "execution_count": 4,
   "id": "f913683a",
   "metadata": {
    "ExecuteTime": {
     "end_time": "2022-03-09T18:58:37.773253Z",
     "start_time": "2022-03-09T18:58:37.688181Z"
    }
   },
   "outputs": [
    {
     "name": "stdout",
     "output_type": "stream",
     "text": [
      "<class 'pandas.core.frame.DataFrame'>\n",
      "Int64Index: 374504 entries, 0 to 400244\n",
      "Data columns (total 12 columns):\n",
      " #   Column        Non-Null Count   Dtype  \n",
      "---  ------        --------------   -----  \n",
      " 0   year          374504 non-null  int64  \n",
      " 1   price         374504 non-null  float64\n",
      " 2   body          374504 non-null  object \n",
      " 3   mileage       374504 non-null  float64\n",
      " 4   BHP           374504 non-null  float64\n",
      " 5   doors         374504 non-null  object \n",
      " 6   transmission  374504 non-null  object \n",
      " 7   make          374504 non-null  object \n",
      " 8   fuel          374504 non-null  object \n",
      " 9   drivertrain   374504 non-null  object \n",
      " 10  log_price     374504 non-null  float64\n",
      " 11  log_mileage   374504 non-null  float64\n",
      "dtypes: float64(5), int64(1), object(6)\n",
      "memory usage: 37.1+ MB\n"
     ]
    }
   ],
   "source": [
    "df.info()"
   ]
  },
  {
   "cell_type": "code",
   "execution_count": 5,
   "id": "474b789d",
   "metadata": {
    "ExecuteTime": {
     "end_time": "2022-03-09T18:58:37.817720Z",
     "start_time": "2022-03-09T18:58:37.775491Z"
    },
    "code_folding": [
     0
    ]
   },
   "outputs": [],
   "source": [
    "# Drop car makes which have less than 50 cars in the model evaluation subset\n",
    "# This is done to prevent the model interpreting a small number of data points as statistically significant\n",
    "dfsample = df.sample(50000, random_state=1)\n",
    "carnums = dfsample.groupby(by='make')['price'].count().sort_values().reset_index()\n",
    "carmakes = carnums[carnums.price>50].make.to_list()\n",
    "dfsample = dfsample[dfsample.make.isin(carmakes)]"
   ]
  },
  {
   "cell_type": "code",
   "execution_count": 6,
   "id": "439c72a8",
   "metadata": {
    "ExecuteTime": {
     "end_time": "2022-03-09T18:58:37.828905Z",
     "start_time": "2022-03-09T18:58:37.820493Z"
    }
   },
   "outputs": [
    {
     "data": {
      "text/plain": [
       "(49777, 12)"
      ]
     },
     "execution_count": 6,
     "metadata": {},
     "output_type": "execute_result"
    }
   ],
   "source": [
    "dfsample.shape"
   ]
  },
  {
   "cell_type": "markdown",
   "id": "66482330",
   "metadata": {},
   "source": [
    "Before I dive head first into each of the models tested for this project, I'd like to provide a general overview of how it's been done, with a short comment on the assumptions, advantages and disadvantages of each method. \n",
    "\n",
    "9 models have been tested, and they've been described in a sort of model family tree below. \n",
    "* On a high level they can be divided into linear method and tree based methods. \n",
    "* Beyond this I have further divided them into regularisation, ensemble, bagging and boosting methods. I’m not trying to imply that this is the only possibly way to utilise these modelling methods, only expressing that this is how it has been tested for this project.  \n",
    "\n",
    "\n",
    "<img src=\"images/modelselection1.png\" style=\"width: 700px;\"/>\n",
    "\n",
    "\n",
    "**Linear Methods**\n",
    "* Assumptions\n",
    "    * Linearity - all relationships between target and predictor variables are linear.\n",
    "    * Normality - that the target variable follows a normal distribution.\n",
    "    * Homoscedasticity - error terms are constant over the entire feature space.\n",
    "    * Independence - all instances are independent of any other instance.\n",
    "    * Fixed features - variables can all be treated as constants, without any error bounds.\n",
    "    * Absence of multicollinearity - predictor variables are not strongly related to each other.\n",
    "\n",
    "\n",
    "* Advantages\n",
    "    * Ultimate transparency in terms of how predictions are produced.\n",
    "    * Commonly used and well understood - easy to explain to stakeholders.\n",
    "    * Mathematically straight forward. It is possible to find optimal weights for all predictors.\n",
    "\n",
    "\n",
    "* Disadvantages\n",
    "    * Assumptions can be strict and unrealistic. Model performance will suffer if they are not met.\n",
    "    * For any non-linear relationship, a custom made non-linear variable would have to be hand crafted and explicitly given to the model as an input feature.\n",
    "    * Often over-simplifies how complex the real situation is to a linear relationship.\n",
    "    * Interpretation of a weight can sometimes be counter-intuitive due to interactions with other features and complications with multicollinearity. \n",
    "    \n",
    "<br>\n",
    "<br>\n",
    "\n",
    "**Tree Based Methods**\n",
    "* Assumptions\n",
    "    * None! A decision tree will prefer categorical predictors, but in the case on continuous predictors it simply discretises them prior to model building.\n",
    "* Advantages\n",
    "    * If there is a non-linear and complex relationship between target and predictors, a decision tree will outperform a linear regression method.\n",
    "    * The tree structure has a very natural visualisation, with nodes and edges.\n",
    "    * There is no need to transform features. In linear models, it is sometimes necessary to take the logarithm of a feature. A decision tree works equally well with any monotonic transformation of a feature.\n",
    "* Disadvantages\n",
    "    * Trees struggle to deal with linear relationships. Any linear relationship between an input feature and the outcome has to be approximated by splits, creating a step function. This is not efficient. This goes hand in hand with a lack of smoothness.\n",
    "    * As decision trees grow in number of branches, they become far harder to interpret.\n",
    "    "
   ]
  },
  {
   "cell_type": "markdown",
   "id": "3c5ccef0",
   "metadata": {},
   "source": [
    "At this point I'm also going to highlight the difference in workflows for each of the linear and tree based methods.\n",
    "\n",
    "<br>\n",
    "<br>\n",
    "<b>Standardisation</b>\n",
    "\n",
    "For linear methods, standard scaling is applied to the predictor variables, manipulating them to be of a comparable magnitude before input to modelling. For every predictor the mean value is subtracted from each value before dividing by the standard deviation. This allows for the influence of all predictors to be interpreted equally without influence from magnitude.\n",
    "\n",
    "Note that Standard scaling is only applied for the linear regression based models. Scaling is not required for decision tree based models.\n",
    "\n",
    "<br>\n",
    "<br>\n",
    "<b> Grid Searching for model parameters</b>\n",
    "\n",
    "A simple grid search over a subset of some of the modelling parameters has been implemented for each model. Note that these are not the finalised models still, just a proof of concept for each of the methods to provide some quick feedback. \n",
    "\n",
    "<br>\n",
    "<br>\n",
    "<b>Cross Validation</b>\n",
    "\n",
    "Cross validation will be carried out using both train_test_split and the CV component within GridSearchCV. The is to ensure that any produced models generalise well and do not over-fit the data.\n",
    "* For train_test_split I employ a 80/20 train/test split. I also shuffle the target variable and use a random_state to ensure that each model being tested uses the same input data.\n",
    "* Using a cv parameter of 5 within the GridSearchCV tool for each model build ensures that the optimal model parameters are validated by a 5-fold cross validation before being recommended. This again works to prevent over-fitting of data.\n",
    "\n",
    "<br>\n",
    "<br>\n",
    "<b>Model Scoring</b>\n",
    "\n",
    "In order to meet linear regression assumptions, some continuous variables within the modelling process have been log transformed to obtain a normal distribution. As such, the target variable for linear regression models is `log_price` rather than `price`. In order to attain comparability between linear regression models and decision tree models (which have no log-transform required), all model scoring attributes have been computed on the price variable rather than the `log_price` variable. This involves a small amount of logarithmic gymnastics around model scoring metric for the linear methods, but it has been easy enough to implement. With that said, this is just another reason that I prefer working with the decision tree methods in this case.\n",
    "\n",
    "* R<sup>2</sup> score will be the primary metric by which models are evaluated. The R<sup>2</sup> score represents the fraction of unexplained variance above the baseline which can be explained by the model.\n",
    "* RMSE (or RMSD) represents the quadratic mean of the difference between predicted values and true values. It is the square root of the average of squared errors. The effect of each error on RMSE is proportional to the size of the squared error - thus larger errors have disproportionately large effect on RMSE! RMSE has the same units as the quantity being estimated. \n",
    "* MSE represents the average squared difference between predicted values and true values. It is the average of the squares of errors. MSE is described in square units of the quantity being estimated. \n",
    "\n",
    "\n",
    "\n",
    "<img src=\"images/modelselection2.png\" style=\"width: 500px;\"/>\n"
   ]
  },
  {
   "cell_type": "markdown",
   "id": "29e36b7a",
   "metadata": {},
   "source": [
    "## LinearRegression()"
   ]
  },
  {
   "cell_type": "markdown",
   "id": "30731690",
   "metadata": {},
   "source": [
    "Why might I look to use a linear regression model?\n",
    "\n",
    "Having taken a log of the target variable (price) and the mileage predictor there now appears to be a number of (sort of) linear relationships between the continuous predictors in the dataset (see Pairplot below). Although it comes loaded with assumptions, linear regression can be one of the most simple ML models to understand and so is a nice place to start. \n",
    "\n",
    "Linear regression within Sklearn implements an ordinary least squares regression, which works to minimise the residual sum of squares (RSS) to best fit the data. i.e. RSS is the loss function for linear regression."
   ]
  },
  {
   "cell_type": "code",
   "execution_count": 7,
   "id": "97f8e581",
   "metadata": {
    "ExecuteTime": {
     "end_time": "2022-03-09T18:58:49.357677Z",
     "start_time": "2022-03-09T18:58:37.831718Z"
    }
   },
   "outputs": [
    {
     "data": {
      "image/png": "[encoded data removed]",
      "text/plain": [
       "<Figure size 576x576 with 14 Axes>"
      ]
     },
     "metadata": {
      "needs_background": "light"
     },
     "output_type": "display_data"
    }
   ],
   "source": [
    "# Pairplot of continuous features within the 50,000 car random sample\n",
    "g = sns.pairplot(dfsample[['log_price','log_mileage','year','BHP']], kind=\"reg\", corner=True, height=2,\n",
    "                 plot_kws={'line_kws':{'color':'red'}, 'scatter_kws':{'s':1}},\n",
    "                 grid_kws={'diag_sharey':False}, \n",
    "                 diag_kws={'bins':26});\n",
    "g.fig.suptitle(\"Pairplot of continuous features within the dataset\", y=1.05)\n",
    "plt.show()"
   ]
  },
  {
   "cell_type": "markdown",
   "id": "f7111852",
   "metadata": {},
   "source": [
    "I had already alluded to it in notebook 04_Data_Cleaning_and_EDA, but some of these relationships are not perfectly linear. As such, I can expect linear regression methods to be compromised somewhat. The model selection continues to test these methods anyway for completeness."
   ]
  },
  {
   "cell_type": "code",
   "execution_count": 8,
   "id": "e125fcd5",
   "metadata": {
    "ExecuteTime": {
     "end_time": "2022-03-09T18:58:49.436315Z",
     "start_time": "2022-03-09T18:58:49.359347Z"
    },
    "code_folding": []
   },
   "outputs": [
    {
     "name": "stdout",
     "output_type": "stream",
     "text": [
      "Dummified df shape (49777, 60) \n",
      "\n"
     ]
    }
   ],
   "source": [
    "# Preparing train and test datasets for the linear methods.\n",
    "\n",
    "# Subset dfsample to obtain X\n",
    "X = dfsample[['log_price','log_mileage','year','BHP','drivertrain',\n",
    "        'make','body','transmission','fuel','doors']]\n",
    "# Pop target variable - in this case it's the log_price\n",
    "y = X.pop('log_price')\n",
    "# Dummify necessary columns \n",
    "to_dummy=['drivertrain','make','body','transmission','fuel','doors']\n",
    "X= pd.get_dummies(X, columns = to_dummy, drop_first=True)\n",
    "print('Dummified df shape',X.shape,'\\n')\n",
    "\n",
    "# Train test split\n",
    "X_train, X_test, y_train, y_test = train_test_split(X,y,test_size=0.2, shuffle=y, random_state=2)"
   ]
  },
  {
   "cell_type": "code",
   "execution_count": 9,
   "id": "c2ec7f7c",
   "metadata": {
    "ExecuteTime": {
     "end_time": "2022-03-09T18:58:50.116660Z",
     "start_time": "2022-03-09T18:58:49.438152Z"
    }
   },
   "outputs": [
    {
     "name": "stdout",
     "output_type": "stream",
     "text": [
      "Fitting 5 folds for each of 1 candidates, totalling 5 fits\n"
     ]
    },
    {
     "data": {
      "text/markdown": [
       "**LINEAR REGRESSION**"
      ],
      "text/plain": [
       "<IPython.core.display.Markdown object>"
      ]
     },
     "metadata": {},
     "output_type": "display_data"
    },
    {
     "name": "stdout",
     "output_type": "stream",
     "text": [
      "MSE train: 17999211.0349018\n",
      "MSE test: 18670388.451415297\n",
      "RMSE train: 4242.547705671888\n",
      "RMSE test: 4320.9244903626\n",
      "R2 train on log_price: 0.9152230846794147\n",
      "R2 test on log_price: 0.9110485605149862\n",
      "R2 train on price: 0.8731563226038671\n",
      "R2 test on price: 0.8729398361639004\n",
      "\n",
      "\n",
      "Pipeline(steps=[('scaler', StandardScaler()),\n",
      "                ('model', LinearRegression(n_jobs=2))])\n"
     ]
    }
   ],
   "source": [
    "# Modelling with dummies - SKLEARN LinearRegression() \n",
    "\n",
    "# Linear methods require variables to be of similar magnitude so we use standard scalar in the pipeline\n",
    "scaler = StandardScaler()\n",
    "lr = LinearRegression()\n",
    "pipelr = Pipeline(steps=[('scaler',scaler),('model',lr)])\n",
    "\n",
    "params = {'model__copy_X': [True],\n",
    "          'model__fit_intercept': [True],\n",
    "          'model__n_jobs': [2],\n",
    "          'model__normalize': [False],\n",
    "          'model__positive': [False]}\n",
    "\n",
    "gridsearchlr = GridSearchCV(pipelr, params, cv=5, verbose=1)\n",
    "gridsearchlr.fit(X_train, y_train)\n",
    "\n",
    "# LinearRegression Model evaluation stats - converted back to price rather than log-price\n",
    "train_preds = gridsearchlr.predict(X_train)\n",
    "test_preds = gridsearchlr.predict(X_test)\n",
    "printmd('**LINEAR REGRESSION**')\n",
    "print('MSE train:',mean_squared_error(np.exp(y_train), np.exp(train_preds)))\n",
    "print('MSE test:',mean_squared_error(np.exp(y_test), np.exp(test_preds)))\n",
    "print('RMSE train:',np.sqrt((mean_squared_error(np.exp(y_train), np.exp(train_preds)))))\n",
    "print('RMSE test:',np.sqrt((mean_squared_error(np.exp(y_test), np.exp(test_preds)))))\n",
    "print('R2 train on log_price:',gridsearchlr.score(X_train, y_train))\n",
    "print('R2 test on log_price:',gridsearchlr.score(X_test, y_test))\n",
    "print('R2 train on price:',r2_score(np.exp(y_train), np.exp(train_preds)))\n",
    "print('R2 test on price:',r2_score(np.exp(y_test), np.exp(test_preds)))\n",
    "print('\\n')\n",
    "print(gridsearchlr.best_estimator_)\n",
    "\n",
    "# Save stats for summary later\n",
    "lrdict = {'Model': 'Linear Regression', \n",
    "          'MSE Train': mean_squared_error(np.exp(y_train), np.exp(train_preds)),\n",
    "          'MSE Test': mean_squared_error(np.exp(y_test), np.exp(test_preds)),\n",
    "          'RMSE Train': np.sqrt(mean_squared_error(np.exp(y_train), np.exp(train_preds))),\n",
    "          'RMSE Test': np.sqrt(mean_squared_error(np.exp(y_test), np.exp(test_preds))),\n",
    "          'R2 Train': r2_score(np.exp(y_train), np.exp(train_preds)),\n",
    "          'R2 Test': r2_score(np.exp(y_test), np.exp(test_preds)),\n",
    "          'Params': gridsearchlr.best_estimator_\n",
    "         }"
   ]
  },
  {
   "cell_type": "code",
   "execution_count": 10,
   "id": "c20de1b7",
   "metadata": {
    "ExecuteTime": {
     "end_time": "2022-03-09T18:58:50.308548Z",
     "start_time": "2022-03-09T18:58:50.120996Z"
    },
    "scrolled": true
   },
   "outputs": [
    {
     "data": {
      "image/png": "[encoded data removed]",
      "text/plain": [
       "<Figure size 360x360 with 1 Axes>"
      ]
     },
     "metadata": {
      "needs_background": "light"
     },
     "output_type": "display_data"
    }
   ],
   "source": [
    "# Plot residuals as a sanity check\n",
    "lr_resid_50 = np.exp(y_test) - np.exp(test_preds)\n",
    "lr_resid_50.hist(bins=50, figsize=(5,5));"
   ]
  },
  {
   "cell_type": "markdown",
   "id": "22b78b2e",
   "metadata": {},
   "source": [
    "## Lasso()"
   ]
  },
  {
   "cell_type": "markdown",
   "id": "19124821",
   "metadata": {},
   "source": [
    "Why might I look to use a Lasso regression model? Or a linear regression with L1 penalisation added to the loss function.\n",
    "\n",
    "This builds on the RSS loss function in ordinary least squares regression by using the the RSS plus the sum of absolute values of all beta coefficients as the Lasso loss function. This form of regularisation can be useful as a form of feature selection when you have many predictors. "
   ]
  },
  {
   "cell_type": "code",
   "execution_count": 11,
   "id": "59b23ae6",
   "metadata": {
    "ExecuteTime": {
     "end_time": "2022-03-09T18:58:51.854827Z",
     "start_time": "2022-03-09T18:58:50.310502Z"
    },
    "code_folding": [],
    "scrolled": true
   },
   "outputs": [
    {
     "name": "stdout",
     "output_type": "stream",
     "text": [
      "Fitting 5 folds for each of 1 candidates, totalling 5 fits\n"
     ]
    },
    {
     "data": {
      "text/markdown": [
       "**LASSO**"
      ],
      "text/plain": [
       "<IPython.core.display.Markdown object>"
      ]
     },
     "metadata": {},
     "output_type": "display_data"
    },
    {
     "name": "stdout",
     "output_type": "stream",
     "text": [
      "MSE train: 17963472.31764859\n",
      "MSE test: 18627884.296439826\n",
      "RMSE train: 4238.3336722878\n",
      "RMSE test: 4316.003278084926\n",
      "R2 train on log_price: 0.9152130906914714\n",
      "R2 test on log_price: 0.9110742062107353\n",
      "R2 train on price: 0.8734081797721078\n",
      "R2 test on price: 0.8732290955389237\n",
      "\n",
      "\n",
      "Pipeline(steps=[('scaler', StandardScaler()),\n",
      "                ('model', Lasso(alpha=0.0001, max_iter=2000, tol=0.001))])\n"
     ]
    }
   ],
   "source": [
    "# Modelling with dummies - SKLEARN Lasso()\n",
    "\n",
    "# Using train and test data from before \n",
    "\n",
    "# Linear methods require variables to be of similar magnitude so we use standard scalar in the pipeline\n",
    "scaler = StandardScaler()\n",
    "la = Lasso()\n",
    "pipela = Pipeline(steps=[('scaler',scaler),('model',la)])\n",
    "pipela.get_params()\n",
    "\n",
    "params = {'model__alpha': [0.0001],\n",
    "         'model__max_iter': [2000],\n",
    "         'model__tol': [0.001]}\n",
    "\n",
    "gridsearchla= GridSearchCV(pipela, params, cv=5, verbose=1)\n",
    "gridsearchla.fit(X_train, y_train)\n",
    "\n",
    "# Lasso Model evaluation stats - converted back to price rather than log-price\n",
    "train_preds = gridsearchla.predict(X_train)\n",
    "test_preds = gridsearchla.predict(X_test)\n",
    "printmd('**LASSO**')\n",
    "print('MSE train:',mean_squared_error(np.exp(y_train), np.exp(train_preds)))\n",
    "print('MSE test:',mean_squared_error(np.exp(y_test), np.exp(test_preds)))\n",
    "print('RMSE train:',np.sqrt((mean_squared_error(np.exp(y_train), np.exp(train_preds)))))\n",
    "print('RMSE test:',np.sqrt((mean_squared_error(np.exp(y_test), np.exp(test_preds)))))\n",
    "print('R2 train on log_price:',gridsearchla.score(X_train, y_train))\n",
    "print('R2 test on log_price:',gridsearchla.score(X_test, y_test))\n",
    "print('R2 train on price:',r2_score(np.exp(y_train), np.exp(train_preds)))\n",
    "print('R2 test on price:',r2_score(np.exp(y_test), np.exp(test_preds)))\n",
    "print('\\n')\n",
    "print(gridsearchla.best_estimator_)\n",
    "\n",
    "# Save stats for summary later\n",
    "ladict = {'Model': 'Lasso (L1) Regression', \n",
    "          'MSE Train': mean_squared_error(np.exp(y_train), np.exp(train_preds)),\n",
    "          'MSE Test': mean_squared_error(np.exp(y_test), np.exp(test_preds)),\n",
    "          'RMSE Train': np.sqrt(mean_squared_error(np.exp(y_train), np.exp(train_preds))),\n",
    "          'RMSE Test': np.sqrt(mean_squared_error(np.exp(y_test), np.exp(test_preds))), \n",
    "          'R2 Train': r2_score(np.exp(y_train), np.exp(train_preds)),\n",
    "          'R2 Test': r2_score(np.exp(y_test), np.exp(test_preds)),\n",
    "          'Params': gridsearchla.best_estimator_,\n",
    "         }"
   ]
  },
  {
   "cell_type": "code",
   "execution_count": 12,
   "id": "fc1ba1c5",
   "metadata": {
    "ExecuteTime": {
     "end_time": "2022-03-09T18:58:52.022183Z",
     "start_time": "2022-03-09T18:58:51.856592Z"
    }
   },
   "outputs": [
    {
     "data": {
      "image/png": "[encoded data removed]",
      "text/plain": [
       "<Figure size 360x360 with 1 Axes>"
      ]
     },
     "metadata": {
      "needs_background": "light"
     },
     "output_type": "display_data"
    }
   ],
   "source": [
    "# Plot residuals as a sanity check\n",
    "la_resid_50 = np.exp(y_test) - np.exp(test_preds)\n",
    "la_resid_50.hist(bins=50, figsize=(5,5));"
   ]
  },
  {
   "cell_type": "markdown",
   "id": "52b4e577",
   "metadata": {},
   "source": [
    "## Ridge()"
   ]
  },
  {
   "cell_type": "markdown",
   "id": "3d41782b",
   "metadata": {},
   "source": [
    "Why might I look to use a Ridge regression model? Or a linear regression with L2 penalisation added to the loss function.\n",
    "\n",
    "This builds on the RSS loss function in ordinary least squares regression by using the the RSS plus some regularisation constant (Lambda usually) times the sum of squares of all beta coefficients as the Ridge loss function. This form of regularisation can be useful when you have multi-collinnearity within the dataset."
   ]
  },
  {
   "cell_type": "code",
   "execution_count": 13,
   "id": "6dcc11ef",
   "metadata": {
    "ExecuteTime": {
     "end_time": "2022-03-09T18:58:54.216570Z",
     "start_time": "2022-03-09T18:58:52.024253Z"
    },
    "code_folding": []
   },
   "outputs": [
    {
     "name": "stdout",
     "output_type": "stream",
     "text": [
      "Fitting 5 folds for each of 5 candidates, totalling 25 fits\n"
     ]
    },
    {
     "data": {
      "text/markdown": [
       "**RIDGE**"
      ],
      "text/plain": [
       "<IPython.core.display.Markdown object>"
      ]
     },
     "metadata": {},
     "output_type": "display_data"
    },
    {
     "name": "stdout",
     "output_type": "stream",
     "text": [
      "MSE train: 17995717.343221165\n",
      "MSE test: 18667457.328751937\n",
      "RMSE train: 4242.135941152896\n",
      "RMSE test: 4320.585299326\n",
      "R2 train on log_price: 0.9152228405984022\n",
      "R2 test on log_price: 0.9110503397224435\n",
      "R2 train on price: 0.8731809432774955\n",
      "R2 test on price: 0.872959783736325\n",
      "\n",
      "\n",
      "Pipeline(steps=[('scaler', StandardScaler()),\n",
      "                ('model', Ridge(alpha=5, max_iter=200))])\n"
     ]
    }
   ],
   "source": [
    "# Modelling with dummies - SKLEARN Ridge()\n",
    "\n",
    "# Using train and test data from before \n",
    "\n",
    "# Linear methods require variables to be of similar magnitude so we use standard scalar in the pipeline\n",
    "scaler = StandardScaler()\n",
    "rr = Ridge()\n",
    "piperr = Pipeline(steps=[('scaler',scaler),('model',rr)])\n",
    "piperr.get_params()\n",
    "\n",
    "params = {'model__alpha': [0.5,1,5,50,5000],\n",
    "         'model__max_iter': [200],\n",
    "         'model__solver': ['auto'],\n",
    "         'model__tol': [0.001]}\n",
    "\n",
    "gridsearchrr = GridSearchCV(piperr, params, cv=5, verbose=1)\n",
    "gridsearchrr.fit(X_train, y_train)\n",
    "\n",
    "# RIDGE Model evaluation stats - converted back to price rather than log-price\n",
    "train_preds = gridsearchrr.predict(X_train)\n",
    "test_preds = gridsearchrr.predict(X_test)\n",
    "printmd('**RIDGE**')\n",
    "print('MSE train:',mean_squared_error(np.exp(y_train), np.exp(train_preds)))\n",
    "print('MSE test:',mean_squared_error(np.exp(y_test), np.exp(test_preds)))\n",
    "print('RMSE train:',np.sqrt((mean_squared_error(np.exp(y_train), np.exp(train_preds)))))\n",
    "print('RMSE test:',np.sqrt((mean_squared_error(np.exp(y_test), np.exp(test_preds)))))\n",
    "print('R2 train on log_price:',gridsearchrr.score(X_train, y_train))\n",
    "print('R2 test on log_price:',gridsearchrr.score(X_test, y_test))\n",
    "print('R2 train on price:',r2_score(np.exp(y_train), np.exp(train_preds)))\n",
    "print('R2 test on price:',r2_score(np.exp(y_test), np.exp(test_preds)))\n",
    "print('\\n')\n",
    "print(gridsearchrr.best_estimator_)\n",
    "\n",
    "# Save stats for summary later\n",
    "rrdict = {'Model': 'Ridge (L2) Regression', \n",
    "          'MSE Train': mean_squared_error(np.exp(y_train), np.exp(train_preds)),\n",
    "          'MSE Test': mean_squared_error(np.exp(y_test), np.exp(test_preds)),\n",
    "          'RMSE Train': np.sqrt(mean_squared_error(np.exp(y_train), np.exp(train_preds))),\n",
    "          'RMSE Test': np.sqrt(mean_squared_error(np.exp(y_test), np.exp(test_preds))), \n",
    "          'R2 Train': r2_score(np.exp(y_train), np.exp(train_preds)),\n",
    "          'R2 Test': r2_score(np.exp(y_test), np.exp(test_preds)),\n",
    "          'Params': gridsearchrr.best_estimator_\n",
    "         }"
   ]
  },
  {
   "cell_type": "code",
   "execution_count": 14,
   "id": "a89cf66c",
   "metadata": {
    "ExecuteTime": {
     "end_time": "2022-03-09T18:58:54.379509Z",
     "start_time": "2022-03-09T18:58:54.218694Z"
    }
   },
   "outputs": [
    {
     "data": {
      "image/png": "[encoded data removed]",
      "text/plain": [
       "<Figure size 360x360 with 1 Axes>"
      ]
     },
     "metadata": {
      "needs_background": "light"
     },
     "output_type": "display_data"
    }
   ],
   "source": [
    "# Plot residuals as a sanity check\n",
    "rr_resid_50 = np.exp(y_test) - np.exp(test_preds)\n",
    "rr_resid_50.hist(bins=50, figsize=(5,5));"
   ]
  },
  {
   "cell_type": "markdown",
   "id": "92af2548",
   "metadata": {},
   "source": [
    "## ElasticNet() "
   ]
  },
  {
   "cell_type": "markdown",
   "id": "44843ebc",
   "metadata": {},
   "source": [
    "Why might I look to use a Elastic Net regression model? Or a linear regression with both L1 and L2 penalisation added to the loss function.\n",
    "\n",
    "This can combine the best of both worlds. Where the optimum regressor is neither ridge nor lasso, this can blend the two loss functions to find the sweet spot in the middle.  \n"
   ]
  },
  {
   "cell_type": "code",
   "execution_count": 15,
   "id": "41cb45c2",
   "metadata": {
    "ExecuteTime": {
     "end_time": "2022-03-09T18:58:56.818394Z",
     "start_time": "2022-03-09T18:58:54.381350Z"
    },
    "code_folding": [],
    "scrolled": true
   },
   "outputs": [
    {
     "data": {
      "text/markdown": [
       "**ELASTIC NET**"
      ],
      "text/plain": [
       "<IPython.core.display.Markdown object>"
      ]
     },
     "metadata": {},
     "output_type": "display_data"
    },
    {
     "name": "stdout",
     "output_type": "stream",
     "text": [
      "MSE train: 17975964.29026151\n",
      "MSE test: 18644843.841669902\n",
      "RMSE train: 4239.8071053128715\n",
      "RMSE test: 4317.9675591266205\n",
      "R2 train on log_price: 0.915215476698098\n",
      "R2 test on log_price: 0.911065146323224\n",
      "R2 train on price: 0.8733201465943712\n",
      "R2 test on price: 0.8731136784118978\n",
      "\n",
      "\n",
      "Pipeline(steps=[('scaler', StandardScaler()),\n",
      "                ('model', ElasticNet(alpha=0.0001, random_state=1, tol=0.01))])\n"
     ]
    }
   ],
   "source": [
    "# Modelling with dummies - SKLEARN ElasticNet()\n",
    "\n",
    "# Using train and test data from before \n",
    "\n",
    "# Linear methods require variables to be of similar magnitude so we use standard scalar in the pipeline\n",
    "scaler = StandardScaler()\n",
    "en = ElasticNet()\n",
    "pipeen = Pipeline(steps=[('scaler',scaler),('model',en)])\n",
    "pipeen.get_params()\n",
    "\n",
    "params = {'model__alpha': [0.0001], \n",
    "          'model__l1_ratio': [0.5],\n",
    "          'model__max_iter': [1000, 2000],\n",
    "          'model__random_state': [1],\n",
    "          'model__tol': [0.01]}\n",
    "\n",
    "gridsearchen = GridSearchCV(pipeen, params, cv=5, verbose=0)\n",
    "gridsearchen.fit(X_train, y_train)\n",
    "\n",
    "# ELASTIC NET Model evaluation stats - converted back to price rather than log-price\n",
    "train_preds = gridsearchen.predict(X_train)\n",
    "test_preds = gridsearchen.predict(X_test)\n",
    "printmd('**ELASTIC NET**')\n",
    "print('MSE train:',mean_squared_error(np.exp(y_train), np.exp(train_preds)))\n",
    "print('MSE test:',mean_squared_error(np.exp(y_test), np.exp(test_preds)))\n",
    "print('RMSE train:',np.sqrt((mean_squared_error(np.exp(y_train), np.exp(train_preds)))))\n",
    "print('RMSE test:',np.sqrt((mean_squared_error(np.exp(y_test), np.exp(test_preds)))))\n",
    "print('R2 train on log_price:',gridsearchen.score(X_train, y_train))\n",
    "print('R2 test on log_price:',gridsearchen.score(X_test, y_test))\n",
    "print('R2 train on price:',r2_score(np.exp(y_train), np.exp(train_preds)))\n",
    "print('R2 test on price:',r2_score(np.exp(y_test), np.exp(test_preds)))\n",
    "print('\\n')\n",
    "print(gridsearchen.best_estimator_)\n",
    "\n",
    "# Save stats for summary later\n",
    "eldict = {'Model': 'Elastic Net Regression', \n",
    "          'MSE Train': mean_squared_error(np.exp(y_train), np.exp(train_preds)),\n",
    "          'MSE Test': mean_squared_error(np.exp(y_test), np.exp(test_preds)),\n",
    "          'RMSE Train': np.sqrt(mean_squared_error(np.exp(y_train), np.exp(train_preds))),\n",
    "          'RMSE Test': np.sqrt(mean_squared_error(np.exp(y_test), np.exp(test_preds))),\n",
    "          'R2 Train': r2_score(np.exp(y_train), np.exp(train_preds)),\n",
    "          'R2 Test': r2_score(np.exp(y_test), np.exp(test_preds)),\n",
    "          'Params': gridsearchen.best_estimator_\n",
    "         }"
   ]
  },
  {
   "cell_type": "code",
   "execution_count": 16,
   "id": "e07b28d6",
   "metadata": {
    "ExecuteTime": {
     "end_time": "2022-03-09T18:58:56.986668Z",
     "start_time": "2022-03-09T18:58:56.820424Z"
    },
    "code_folding": []
   },
   "outputs": [
    {
     "data": {
      "image/png": "[encoded data removed]",
      "text/plain": [
       "<Figure size 360x360 with 1 Axes>"
      ]
     },
     "metadata": {
      "needs_background": "light"
     },
     "output_type": "display_data"
    }
   ],
   "source": [
    "# Plot residuals\n",
    "en_resid_50 = np.exp(y_test) - np.exp(test_preds)\n",
    "en_resid_50.hist(bins=50, figsize=(5,5));"
   ]
  },
  {
   "cell_type": "markdown",
   "id": "b558ec89",
   "metadata": {},
   "source": [
    "All linear based models, with or without regularisation yield an R<sup>2</sup> score of 0.87. Since the L1 and L2 regularisation yielded very similar reulsts I didn't bother to extensively search for optimum Elastic Net parameters. \n",
    "\n",
    "The LinearRegression() model is a good place to start, but hopefully it can be improved. Next we move onto tree based methods."
   ]
  },
  {
   "cell_type": "markdown",
   "id": "ef0cfc8f",
   "metadata": {},
   "source": [
    "## DecisionTreeRegressor()"
   ]
  },
  {
   "cell_type": "markdown",
   "id": "bf9bbc29",
   "metadata": {},
   "source": [
    "Why might I look to use a decision tree regression model?\n",
    "\n",
    "Where linear regression methods have a number of restrictive conditions on when they can be used, decision tree methods have none! Linear regression and logistic regression models fail in situations where the relationship between features and outcome is nonlinear or where features interact with each other. Time to shine for the decision tree! Tree based models split the data multiple times according to certain cutoff values in the features. Through splitting, different subsets of the dataset are created, with each instance belonging to one subset. The final subsets are called terminal or leaf nodes and the intermediate subsets are called internal nodes or split nodes. To predict the outcome in each leaf node, the average outcome of the training data in this node is used."
   ]
  },
  {
   "cell_type": "code",
   "execution_count": 17,
   "id": "5c978391",
   "metadata": {
    "ExecuteTime": {
     "end_time": "2022-03-09T18:58:57.069728Z",
     "start_time": "2022-03-09T18:58:56.988365Z"
    }
   },
   "outputs": [
    {
     "name": "stdout",
     "output_type": "stream",
     "text": [
      "Dummified df shape (49777, 60) \n",
      "\n"
     ]
    }
   ],
   "source": [
    "# Preparing train and test datasets for the tree based methods. In this case it doesn't matter if the target\n",
    "# variable is normally distributed or not, so I just use price and mileage instead of log_price and log_mileage. \n",
    "\n",
    "# Subset dfsample to obtain X\n",
    "X = dfsample[['price','mileage','year','BHP','drivertrain',\n",
    "        'make','body','transmission','fuel','doors']]\n",
    "# Pop target variable - in this case it's the price\n",
    "y = X.pop('price')\n",
    "# Dummify necessary columns \n",
    "to_dummy=['drivertrain','make','body','transmission','fuel','doors']\n",
    "X= pd.get_dummies(X, columns = to_dummy, drop_first=True)\n",
    "print('Dummified df shape',X.shape,'\\n')\n",
    "\n",
    "# Train test split\n",
    "X_train, X_test, y_train, y_test = train_test_split(X,y,test_size=0.2, shuffle=y, random_state=1)"
   ]
  },
  {
   "cell_type": "markdown",
   "id": "642da3ea",
   "metadata": {},
   "source": [
    "Plain old decision tress such as this one have the problem of over-fitting the data very very easily. To combat this in this instance, I have implemented the max_depth, max_leaf_nodes and min_sample_leaf parameters. I know that if I were to remove these limits I could easily reach a 0.99 R<sup>2</sup> score on the train dataset, but then it likely wouldn't perform as well on the test dataset."
   ]
  },
  {
   "cell_type": "code",
   "execution_count": 18,
   "id": "11b49031",
   "metadata": {
    "ExecuteTime": {
     "end_time": "2022-03-09T19:00:44.251500Z",
     "start_time": "2022-03-09T18:58:57.071995Z"
    },
    "code_folding": []
   },
   "outputs": [
    {
     "name": "stdout",
     "output_type": "stream",
     "text": [
      "Fitting 5 folds for each of 81 candidates, totalling 405 fits\n"
     ]
    },
    {
     "data": {
      "text/markdown": [
       "**DECISION TREE REGRESSOR**"
      ],
      "text/plain": [
       "<IPython.core.display.Markdown object>"
      ]
     },
     "metadata": {},
     "output_type": "display_data"
    },
    {
     "name": "stdout",
     "output_type": "stream",
     "text": [
      "MSE train: 11159314.120068192\n",
      "MSE test: 13370887.9639525\n",
      "RMSE train: 3340.555959727092\n",
      "RMSE test: 3656.6224803707178\n",
      "R2 train: 0.921888826130185\n",
      "R2 test: 0.9066017490190144\n",
      "\n",
      "\n",
      "Pipeline(steps=[('model',\n",
      "                 DecisionTreeRegressor(criterion='friedman_mse', max_depth=50,\n",
      "                                       max_leaf_nodes=1000,\n",
      "                                       min_samples_leaf=25))])\n"
     ]
    }
   ],
   "source": [
    "# Modelling with dummies - SKLEARN DecisionTreeRegressor() \n",
    "\n",
    "# Decision tree methods don't require the predictord variables to be standardised, so I haven't! This workflow is \n",
    "# different to the linear models. It makes the pipeline look a little redundant but I've kept it in out of \n",
    "# consistency\n",
    "dt = DecisionTreeRegressor()\n",
    "pipedt = Pipeline(steps=[('model',dt)])\n",
    "pipedt.get_params()\n",
    "\n",
    "# Parameters to grid search over. \n",
    "params = {'model__criterion': ['mse', 'friedman_mse', 'poisson'],\n",
    "         'model__max_depth': [15,50,100],\n",
    "         'model__max_leaf_nodes': [500,1000,2000],\n",
    "         'model__min_samples_leaf': [25,50,100],\n",
    "         'model__splitter': ['best']}\n",
    "\n",
    "gridsearchdt = GridSearchCV(pipedt, params, cv=5, verbose=1)\n",
    "gridsearchdt.fit(X_train, y_train)\n",
    "\n",
    "# DECISION TREE evaluation stats\n",
    "train_preds = gridsearchdt.predict(X_train)\n",
    "test_preds = gridsearchdt.predict(X_test)\n",
    "printmd('**DECISION TREE REGRESSOR**')\n",
    "print('MSE train:',mean_squared_error(y_train, train_preds))\n",
    "print('MSE test:',mean_squared_error(y_test, test_preds))\n",
    "print('RMSE train:',np.sqrt((mean_squared_error(y_train, train_preds))))\n",
    "print('RMSE test:',np.sqrt((mean_squared_error(y_test, test_preds))))\n",
    "print('R2 train:',gridsearchdt.score(X_train, y_train))\n",
    "print('R2 test:',gridsearchdt.score(X_test, y_test))\n",
    "print('\\n')\n",
    "print(gridsearchdt.best_estimator_)\n",
    "\n",
    "# Save stats for summary later\n",
    "dtdict = {'Model': 'Decision Tree Regressor', \n",
    "          'MSE Train': mean_squared_error(y_train, train_preds),\n",
    "          'MSE Test': mean_squared_error(y_test, test_preds),\n",
    "          'RMSE Train': np.sqrt(mean_squared_error(y_train, train_preds)),\n",
    "          'RMSE Test': np.sqrt(mean_squared_error(y_test, test_preds)),\n",
    "          'R2 Train': gridsearchdt.score(X_train, y_train),\n",
    "          'R2 Test': gridsearchdt.score(X_test, y_test),\n",
    "          'Params': gridsearchdt.best_estimator_\n",
    "         }"
   ]
  },
  {
   "cell_type": "code",
   "execution_count": 19,
   "id": "5c72baa9",
   "metadata": {
    "ExecuteTime": {
     "end_time": "2022-03-09T19:00:44.421617Z",
     "start_time": "2022-03-09T19:00:44.254030Z"
    },
    "code_folding": []
   },
   "outputs": [
    {
     "data": {
      "image/png": "[encoded data removed]",
      "text/plain": [
       "<Figure size 360x360 with 1 Axes>"
      ]
     },
     "metadata": {
      "needs_background": "light"
     },
     "output_type": "display_data"
    }
   ],
   "source": [
    "# Plot residuals as a sanity check\n",
    "dt_resid_50 = y_test - test_preds\n",
    "dt_resid_50.hist(bins=50, figsize=(5,5));"
   ]
  },
  {
   "cell_type": "markdown",
   "id": "b176fc5d",
   "metadata": {},
   "source": [
    "## RandomForestRegressor()"
   ]
  },
  {
   "cell_type": "markdown",
   "id": "daad2f57",
   "metadata": {},
   "source": [
    "Why might I look to use a Random Forest regression model?\n",
    "\n",
    "Random Forests consist of many decision trees - it's a bagging ensemble method. Each decision tree is built using a random subset of observations and predictors to generate the tree. Variability of the trees is introduced in this way. To obtain a prediction for a given observation(car) the observation is run through each of the individual trees in the forest and the final result from all trees is averaged. The sheer number of trees and the randomness involved in generating each one makes results more difficult to interpret than a single decision tree. "
   ]
  },
  {
   "cell_type": "code",
   "execution_count": 20,
   "id": "803f1293",
   "metadata": {
    "ExecuteTime": {
     "end_time": "2022-03-09T19:07:46.778057Z",
     "start_time": "2022-03-09T19:00:44.423548Z"
    },
    "code_folding": []
   },
   "outputs": [
    {
     "name": "stdout",
     "output_type": "stream",
     "text": [
      "Fitting 5 folds for each of 36 candidates, totalling 180 fits\n"
     ]
    },
    {
     "data": {
      "text/markdown": [
       "**RANDOM FOREST REGRESSOR**"
      ],
      "text/plain": [
       "<IPython.core.display.Markdown object>"
      ]
     },
     "metadata": {},
     "output_type": "display_data"
    },
    {
     "name": "stdout",
     "output_type": "stream",
     "text": [
      "MSE train: 2991234.89403683\n",
      "MSE test: 7059899.493318034\n",
      "RMSE train: 1729.5186885480105\n",
      "RMSE test: 2657.047137955598\n",
      "R2 train: 0.979062434628183\n",
      "R2 test: 0.9506852299895769\n",
      "\n",
      "\n",
      "Pipeline(steps=[('model',\n",
      "                 RandomForestRegressor(max_depth=15, max_features=0.5,\n",
      "                                       n_estimators=200, n_jobs=3))])\n"
     ]
    }
   ],
   "source": [
    "# Modelling with dummies - SKLEARN RandomForestRegressor()) \n",
    "\n",
    "rf = RandomForestRegressor()\n",
    "piperf = Pipeline(steps=[('model',rf)])\n",
    "piperf.get_params()\n",
    "\n",
    "# Random forest paraneters to search over. Note that the optimium parameters are printed out below.\n",
    "params = {'model__max_depth': [3,5,8,15],\n",
    "          'model__n_estimators': [50,100,200],\n",
    "          'model__n_jobs': [3],\n",
    "          'model__max_features': [0.3, 0.5, 'auto']}\n",
    "\n",
    "gridsearchrf = GridSearchCV(piperf, params, cv=5, verbose=1)\n",
    "gridsearchrf.fit(X_train, y_train)\n",
    "\n",
    "# SKLEARN Random Forest Model evaluation stats\n",
    "train_preds = gridsearchrf.predict(X_train)\n",
    "test_preds = gridsearchrf.predict(X_test)\n",
    "printmd('**RANDOM FOREST REGRESSOR**')\n",
    "print('MSE train:',mean_squared_error(y_train, train_preds))\n",
    "print('MSE test:',mean_squared_error(y_test, test_preds))\n",
    "print('RMSE train:',np.sqrt(mean_squared_error(y_train, train_preds)))\n",
    "print('RMSE test:',np.sqrt(mean_squared_error(y_test, test_preds)))\n",
    "print('R2 train:',gridsearchrf.score(X_train, y_train))\n",
    "print('R2 test:',gridsearchrf.score(X_test, y_test))\n",
    "print('\\n')\n",
    "print(gridsearchrf.best_estimator_)\n",
    "\n",
    "# Save stats for summary later\n",
    "rfdict = {'Model': 'Random Forrest Regressor', \n",
    "          'MSE Train': mean_squared_error(y_train, train_preds),\n",
    "          'MSE Test': mean_squared_error(y_test, test_preds), \n",
    "          'RMSE Train': np.sqrt(mean_squared_error(y_train, train_preds)),\n",
    "          'RMSE Test': np.sqrt(mean_squared_error(y_test, test_preds)), \n",
    "          'R2 Train': gridsearchrf.score(X_train, y_train),\n",
    "          'R2 Test': gridsearchrf.score(X_test, y_test),\n",
    "          'Params': gridsearchrf.best_estimator_\n",
    "         }"
   ]
  },
  {
   "cell_type": "code",
   "execution_count": 21,
   "id": "d0c7d208",
   "metadata": {
    "ExecuteTime": {
     "end_time": "2022-03-09T19:07:46.998402Z",
     "start_time": "2022-03-09T19:07:46.780279Z"
    }
   },
   "outputs": [
    {
     "data": {
      "image/png": "[encoded data removed]",
      "text/plain": [
       "<Figure size 360x360 with 1 Axes>"
      ]
     },
     "metadata": {
      "needs_background": "light"
     },
     "output_type": "display_data"
    }
   ],
   "source": [
    "# Plot residuals as a sanity check\n",
    "rf_resid_50 = y_test - test_preds\n",
    "rf_resid_50.hist(bins=50, figsize=(5,5));"
   ]
  },
  {
   "cell_type": "markdown",
   "id": "20164727",
   "metadata": {},
   "source": [
    "## AdaBoostRegressor()"
   ]
  },
  {
   "cell_type": "markdown",
   "id": "293b7a9c",
   "metadata": {},
   "source": [
    "Why might I look to use an Adaptive Boosting regression model?\n",
    "\n",
    "First of all, AdaBoost is a boosting ensemble method. It produces a large number of weak learners with a sequential method. These are called stumps because they are decision trees with a single split. It uses a defined learning rate at each step to add more weight to the difficult observations to model and reduce weight on the ones which are already modelled well. This learning rate ensures that many small steps are taken in the model progression. New weak learners (stumps) are added sequentially to focus the training on more the difficult patterns within the data."
   ]
  },
  {
   "cell_type": "code",
   "execution_count": 22,
   "id": "d6dbc205",
   "metadata": {
    "ExecuteTime": {
     "end_time": "2022-03-09T20:57:02.175917Z",
     "start_time": "2022-03-09T19:07:47.000114Z"
    }
   },
   "outputs": [
    {
     "name": "stdout",
     "output_type": "stream",
     "text": [
      "Fitting 5 folds for each of 36 candidates, totalling 180 fits\n"
     ]
    },
    {
     "data": {
      "text/markdown": [
       "**ADA BOOST**"
      ],
      "text/plain": [
       "<IPython.core.display.Markdown object>"
      ]
     },
     "metadata": {},
     "output_type": "display_data"
    },
    {
     "name": "stdout",
     "output_type": "stream",
     "text": [
      "MSE train: 4085892.601358104\n",
      "MSE test: 8381160.442657121\n",
      "RMSE train: 2021.3590975771979\n",
      "RMSE test: 2895.0233924196746\n",
      "R2 train: 0.9714002255009447\n",
      "R2 test: 0.941455965479214\n",
      "Pipeline(steps=[('model',\n",
      "                 AdaBoostRegressor(base_estimator=DecisionTreeRegressor(criterion='friedman_mse',\n",
      "                                                                        max_depth=50,\n",
      "                                                                        max_leaf_nodes=1000,\n",
      "                                                                        min_samples_leaf=25),\n",
      "                                   learning_rate=0.3, n_estimators=100,\n",
      "                                   random_state=1))])\n"
     ]
    }
   ],
   "source": [
    "# Modelling with dummies - SKLEARN AdaBoostRegressor()) \n",
    "\n",
    "modelab = AdaBoostRegressor()\n",
    "pipeab = Pipeline(steps=[('model',modelab)])\n",
    "pipeab.get_params()\n",
    "\n",
    "# I use the decision tree from 3.5 as my base estimator here. \n",
    "params = {'model__base_estimator':[gridsearchdt.best_estimator_.named_steps[\"model\"]],\n",
    "          'model__n_estimators':[50,100,200,400],\n",
    "          'model__learning_rate':[0.1,0.3,0.5],\n",
    "          'model__loss':['linear', 'square', 'exponential'],\n",
    "          'model__random_state':[1]}\n",
    "\n",
    "gridsearchab = GridSearchCV(pipeab, params, cv=5, verbose=1)\n",
    "gridsearchab.fit(X_train, y_train)\n",
    "\n",
    "# SKLEARN AdaBoosting Model evaluation stats\n",
    "train_preds = gridsearchab.predict(X_train)\n",
    "test_preds = gridsearchab.predict(X_test)\n",
    "printmd('**ADA BOOST**')\n",
    "print('MSE train:',mean_squared_error(y_train, train_preds))\n",
    "print('MSE test:',mean_squared_error(y_test, test_preds))\n",
    "print('RMSE train:',np.sqrt(mean_squared_error(y_train, train_preds)))\n",
    "print('RMSE test:',np.sqrt(mean_squared_error(y_test, test_preds)))\n",
    "print('R2 train:',gridsearchab.score(X_train, y_train))\n",
    "print('R2 test:',gridsearchab.score(X_test, y_test))\n",
    "print(gridsearchab.best_estimator_)\n",
    "\n",
    "# Save stats for summary later\n",
    "abdict = {'Model': 'Ada Boosting Regressor', \n",
    "          'MSE Train': mean_squared_error(y_train, train_preds),\n",
    "          'MSE Test': mean_squared_error(y_test, test_preds),\n",
    "          'RMSE Train': np.sqrt(mean_squared_error(y_train, train_preds)),\n",
    "          'RMSE Test': np.sqrt(mean_squared_error(y_test, test_preds)),\n",
    "          'R2 Train': gridsearchab.score(X_train, y_train),\n",
    "          'R2 Test': gridsearchab.score(X_test, y_test),\n",
    "          'Params': gridsearchab.best_estimator_\n",
    "         }"
   ]
  },
  {
   "cell_type": "code",
   "execution_count": 23,
   "id": "95670632",
   "metadata": {
    "ExecuteTime": {
     "end_time": "2022-03-09T20:57:02.529543Z",
     "start_time": "2022-03-09T20:57:02.183285Z"
    }
   },
   "outputs": [
    {
     "data": {
      "image/png": "[encoded data removed]",
      "text/plain": [
       "<Figure size 360x360 with 1 Axes>"
      ]
     },
     "metadata": {
      "needs_background": "light"
     },
     "output_type": "display_data"
    }
   ],
   "source": [
    "# Plot residuals as a sanity check\n",
    "ab_resid_50 = y_test - test_preds\n",
    "ab_resid_50.hist(bins=50, figsize=(5,5));"
   ]
  },
  {
   "cell_type": "markdown",
   "id": "04f7eb53",
   "metadata": {},
   "source": [
    "## GradientBoostingRegressor()"
   ]
  },
  {
   "cell_type": "markdown",
   "id": "ad2f0f67",
   "metadata": {},
   "source": [
    "Why might I look to use a Gradient Boosting regression model?\n",
    "\n",
    "Gradient Boosting is a generalisation of adaptive boosting. It is also a boosting ensemble method. Similarly to AdaBoosting, a series of weak learners are iteratively produced and added to the ensemble model, however this time each weak is larger than a single branch or stump. Gradient Boosting works by first of all predicting the average value for all observations and defining a loss function to be optimised/minimised at each successive step, then weak learners are created to reduce the loss function at each step. After each step the new weak learner is added to the ensemble and the loss function re-evaluated before starting the process again. The model is considered to have converged when progressive steps fail to reduce the loss function.\n",
    "<br>\n",
    "<br>\n",
    "Alternatively, here is my description from a non-technical summary:\n",
    "* Gradient boosting starts with a base prediction by adopting the average value for the target variable before generating sequential predictors which aim to minimise the residuals between the base prediction and the actual values. \n",
    "* Each sequential predictor is scaled by a 'learning factor' before being added to the ensemble. This is usually some small fraction like 0.1 which forces the gradient boosting ensemble model to iteratively take small steps towards a better model with minimised residuals. \n",
    "* Taking many small steps in the right direction results in better predictions with a testing dataset. i.e. lower variance. \n",
    "* The model is considered optimised when adding new scaled predictors to the ensemble fails to reduce the residual"
   ]
  },
  {
   "cell_type": "code",
   "execution_count": 24,
   "id": "6d9a1e7f",
   "metadata": {
    "ExecuteTime": {
     "end_time": "2022-03-09T21:21:38.686126Z",
     "start_time": "2022-03-09T20:57:02.533062Z"
    },
    "code_folding": []
   },
   "outputs": [
    {
     "name": "stdout",
     "output_type": "stream",
     "text": [
      "Fitting 5 folds for each of 18 candidates, totalling 90 fits\n"
     ]
    },
    {
     "data": {
      "text/markdown": [
       "**GRADIENT BOOSTING REGRESSOR**"
      ],
      "text/plain": [
       "<IPython.core.display.Markdown object>"
      ]
     },
     "metadata": {},
     "output_type": "display_data"
    },
    {
     "name": "stdout",
     "output_type": "stream",
     "text": [
      "MSE train: 3169815.4582923306\n",
      "MSE test: 6437115.398542107\n",
      "RMSE train: 1780.3975562475732\n",
      "RMSE test: 2537.1470983256186\n",
      "R2 train: 0.9778124350893004\n",
      "R2 test: 0.9550354979259821\n",
      "\n",
      "\n",
      "Pipeline(steps=[('model',\n",
      "                 GradientBoostingRegressor(max_depth=8, n_estimators=200,\n",
      "                                           n_iter_no_change=20,\n",
      "                                           random_state=1))])\n"
     ]
    }
   ],
   "source": [
    "# Modelling with dummies - SKLEARN GradientBoostingRegressor()) \n",
    "\n",
    "model = GradientBoostingRegressor()\n",
    "pipegb = Pipeline(steps=[('model',model)])\n",
    "pipegb.get_params()\n",
    "\n",
    "params = {'model__n_estimators':[100,200],\n",
    "          'model__max_depth':[3,5,8],\n",
    "          'model__learning_rate':[0.05,0.1,0.2],\n",
    "          'model__random_state':[1],\n",
    "          'model__validation_fraction':[0.1],\n",
    "          'model__n_iter_no_change':[20]}\n",
    "\n",
    "gridsearchgb = GridSearchCV(pipegb, params, cv=5, verbose=1)\n",
    "gridsearchgb.fit(X_train, y_train)\n",
    "\n",
    "# SKLEARN Gradient Boosting Model evaluation stats\n",
    "train_preds = gridsearchgb.predict(X_train)\n",
    "test_preds = gridsearchgb.predict(X_test)\n",
    "printmd('**GRADIENT BOOSTING REGRESSOR**')\n",
    "print('MSE train:',mean_squared_error(y_train, train_preds))\n",
    "print('MSE test:',mean_squared_error(y_test, test_preds))\n",
    "print('RMSE train:',np.sqrt(mean_squared_error(y_train, train_preds)))\n",
    "print('RMSE test:',np.sqrt(mean_squared_error(y_test, test_preds)))\n",
    "print('R2 train:',gridsearchgb.score(X_train, y_train))\n",
    "print('R2 test:',gridsearchgb.score(X_test, y_test))\n",
    "print('\\n')\n",
    "print(gridsearchgb.best_estimator_)\n",
    "\n",
    "# Save stats for summary later\n",
    "gbdict = {'Model': 'Gradient Boosting Regressor', \n",
    "          'MSE Train': mean_squared_error(y_train, train_preds),\n",
    "          'MSE Test': mean_squared_error(y_test, test_preds), \n",
    "          'RMSE Train': np.sqrt(mean_squared_error(y_train, train_preds)),\n",
    "          'RMSE Test': np.sqrt(mean_squared_error(y_test, test_preds)),\n",
    "          'R2 Train': gridsearchgb.score(X_train, y_train),\n",
    "          'R2 Test': gridsearchgb.score(X_test, y_test),\n",
    "          'Params': gridsearchgb.best_estimator_\n",
    "         }"
   ]
  },
  {
   "cell_type": "code",
   "execution_count": 25,
   "id": "b823d2dd",
   "metadata": {
    "ExecuteTime": {
     "end_time": "2022-03-09T21:21:39.131097Z",
     "start_time": "2022-03-09T21:21:38.693715Z"
    },
    "code_folding": [
     0
    ]
   },
   "outputs": [
    {
     "data": {
      "image/png": "[encoded data removed]",
      "text/plain": [
       "<Figure size 360x360 with 1 Axes>"
      ]
     },
     "metadata": {
      "needs_background": "light"
     },
     "output_type": "display_data"
    }
   ],
   "source": [
    "# Plot resiudals as a sanity check\n",
    "gb_resid_50 = y_test - test_preds\n",
    "gb_resid_50.hist(bins=50, figsize=(5,5));"
   ]
  },
  {
   "cell_type": "markdown",
   "id": "cfb6dbec",
   "metadata": {},
   "source": [
    "## XGBRegressor()"
   ]
  },
  {
   "cell_type": "markdown",
   "id": "98dcb51b",
   "metadata": {},
   "source": [
    "Extreme Gradient Boosting is just an extension on the Gradient Boosting method. The main selling point of XGB over GB is that it uses 2nd order partial derivatives of the loss function to provide further detail about the direction of gradient change and how to best minimise the loss function. It's a more flexible library which I honestly haven't been able to explore as thoroughly as I would like. I've included it here in the project but do not progress with it."
   ]
  },
  {
   "cell_type": "code",
   "execution_count": null,
   "id": "cae26307",
   "metadata": {
    "ExecuteTime": {
     "start_time": "2022-03-09T18:58:33.573Z"
    },
    "code_folding": []
   },
   "outputs": [
    {
     "name": "stdout",
     "output_type": "stream",
     "text": [
      "Fitting 5 folds for each of 27 candidates, totalling 135 fits\n"
     ]
    }
   ],
   "source": [
    "# Modelling with dummies - XGBOOST()) \n",
    "\n",
    "xgb = XGBRegressor()\n",
    "pipexgb = Pipeline(steps=[('model',xgb)])\n",
    "pipexgb.get_params()\n",
    "\n",
    "params = {'model__n_estimators':[50,100,200],\n",
    "          'model__max_depth':[3,5,8],\n",
    "          'model__learning_rate':[0.05,0.1,0.2],\n",
    "          'model__random_state':[1],\n",
    "          'model__n_jobs':[3]}\n",
    "\n",
    "gridsearchxgb = GridSearchCV(pipexgb, params, cv=5, verbose=1)\n",
    "gridsearchxgb.fit(X_train, y_train)\n",
    "\n",
    "# XGBOOST Model evaluation stats\n",
    "train_preds = gridsearchxgb.predict(X_train)\n",
    "test_preds = gridsearchxgb.predict(X_test)\n",
    "printmd('**XGBOOSTING REGRESSOR**')\n",
    "print('MSE train:',mean_squared_error(y_train, train_preds))\n",
    "print('MSE test:',mean_squared_error(y_test, test_preds))\n",
    "print('RMSE train:',np.sqrt(mean_squared_error(y_train, train_preds)))\n",
    "print('RMSE test:',np.sqrt(mean_squared_error(y_test, test_preds)))\n",
    "print('R2 train:',gridsearchxgb.score(X_train, y_train))\n",
    "print('R2 test:',gridsearchxgb.score(X_test, y_test))\n",
    "print('\\n')\n",
    "print(gridsearchxgb.best_estimator_)\n",
    "\n",
    "# Save stats for summary later\n",
    "xgbdict = {'Model': 'XGBOOST Regressor', \n",
    "          'MSE Train': mean_squared_error(y_train, train_preds),\n",
    "          'MSE Test': mean_squared_error(y_test, test_preds),\n",
    "          'RMSE Train': np.sqrt(mean_squared_error(y_train, train_preds)),\n",
    "          'RMSE Test': np.sqrt(mean_squared_error(y_test, test_preds)),\n",
    "          'R2 Train': gridsearchxgb.score(X_train, y_train),\n",
    "          'R2 Test': gridsearchxgb.score(X_test, y_test),\n",
    "          'Params': gridsearchxgb.best_estimator_\n",
    "         }"
   ]
  },
  {
   "cell_type": "code",
   "execution_count": null,
   "id": "378724a5",
   "metadata": {
    "ExecuteTime": {
     "start_time": "2022-03-09T18:58:33.581Z"
    }
   },
   "outputs": [],
   "source": [
    "# Plot residuals as a sanity check\n",
    "xgb_resid_50 = y_test - test_preds\n",
    "xgb_resid_50.hist(bins=50, figsize=(5,5));"
   ]
  },
  {
   "cell_type": "markdown",
   "id": "7075bd1e",
   "metadata": {},
   "source": [
    "## Summary of models"
   ]
  },
  {
   "cell_type": "markdown",
   "id": "8aa444bf",
   "metadata": {},
   "source": [
    "Finally I can summarise all of these model scoring statistics in a neat table and plot the residual distributions in one place for comparison."
   ]
  },
  {
   "cell_type": "code",
   "execution_count": null,
   "id": "41ebeaba",
   "metadata": {
    "ExecuteTime": {
     "start_time": "2022-03-09T18:58:33.591Z"
    }
   },
   "outputs": [],
   "source": [
    "pd.DataFrame([lrdict,ladict,rrdict,eldict,dtdict,rfdict,gbdict,abdict,xgbdict])"
   ]
  },
  {
   "cell_type": "markdown",
   "id": "5b2fe66b",
   "metadata": {},
   "source": [
    "We have lots of very good R<sup>2</sup> scores here - the price of a car must be well described by the predictors that were gathered from AutoTrader."
   ]
  },
  {
   "cell_type": "code",
   "execution_count": null,
   "id": "836b95a3",
   "metadata": {
    "ExecuteTime": {
     "start_time": "2022-03-09T18:58:33.597Z"
    },
    "code_folding": [
     0
    ],
    "scrolled": false
   },
   "outputs": [],
   "source": [
    "# Ambitious Residuals plot - needs work on X-axis\n",
    "\n",
    "import numpy as np\n",
    "import pandas as pd\n",
    "import seaborn as sns\n",
    "import matplotlib.pyplot as plt\n",
    "sns.set_theme(style=\"white\", rc={\"axes.facecolor\": (0, 0, 0, 0)})\n",
    "\n",
    "# Make the input data - really clumsy.\n",
    "lr_resid50_df = pd.DataFrame(lr_resid_50)\n",
    "lr_resid50_df['model']='LinearRegression()  R2 = 0.877'\n",
    "lr_resid50_df.columns = ['price', 'model']\n",
    "la_resid50_df = pd.DataFrame(la_resid_50)\n",
    "la_resid50_df['model']='Ridge()  R2 = 0.877'\n",
    "la_resid50_df.columns = ['price', 'model']\n",
    "rr_resid50_df = pd.DataFrame(rr_resid_50)\n",
    "rr_resid50_df['model']='Lasso()  R2 = 0.877'\n",
    "rr_resid50_df.columns = ['price', 'model']\n",
    "en_resid50_df = pd.DataFrame(en_resid_50)\n",
    "en_resid50_df['model']='ElasticNet() R2 = 0.877'\n",
    "en_resid50_df.columns = ['price', 'model']\n",
    "dt_resid50_df = pd.DataFrame(dt_resid_50)\n",
    "dt_resid50_df['model']='DecisionTreeRegressor()  R2 = 0.907'\n",
    "rf_resid50_df = pd.DataFrame(rf_resid_50)\n",
    "rf_resid50_df['model']='RandomForestRegressor()  R2 = 0.951'\n",
    "gb_resid50_df = pd.DataFrame(gb_resid_50)\n",
    "gb_resid50_df['model']='GradientBoostingRegressor()  R2 = 0.956'\n",
    "ab_resid50_df = pd.DataFrame(ab_resid_50)\n",
    "ab_resid50_df['model']='AdaBoostingRegressor()  R2 = 0.941'\n",
    "xgb_resid50_df = pd.DataFrame(xgb_resid_50)\n",
    "xgb_resid50_df['model']='XGBoostRegressor()  R2 = 0.956'\n",
    "\n",
    "tocat=[lr_resid50_df,la_resid50_df,rr_resid50_df,en_resid50_df,dt_resid50_df,\n",
    "       ab_resid50_df,rf_resid50_df,gb_resid50_df,xgb_resid50_df]\n",
    "residplotdf = pd.concat(tocat)\n",
    "residplotdf.columns = ['Residual Price (£)', 'model']\n",
    "\n",
    "# Initialize the FacetGrid object\n",
    "pal = sns.cubehelix_palette(10, rot=-.1, light=.5)\n",
    "g = sns.FacetGrid(residplotdf, row=\"model\", hue=\"model\", aspect=10, height=1, palette=pal)\n",
    "\n",
    "# Draw the densities in a few steps\n",
    "g.map(sns.kdeplot, \"Residual Price (£)\",\n",
    "      bw_adjust=.5, clip_on=True,\n",
    "      fill=True, alpha=1, linewidth=1)\n",
    "g.map(sns.kdeplot, \"Residual Price (£)\", clip_on=False, color=\"w\", lw=2, bw_adjust=.5)\n",
    "\n",
    "# passing color=None to refline() uses the hue mapping\n",
    "#g.refline(y=0, linewidth=2,linestyle=\"-\", color=None, clip_on=False)\n",
    "\n",
    "\n",
    "# Define and use a simple function to label the plot in axes coordinates\n",
    "def label(x, color, label):\n",
    "    ax = plt.gca()\n",
    "    ax.text(0, .2, label, fontweight=\"bold\", color=color,\n",
    "            ha=\"left\", va=\"center\", transform=ax.transAxes)\n",
    "\n",
    "\n",
    "g.map(label, \"Residual Price (£)\")\n",
    "\n",
    "# Set the subplots to overlap\n",
    "g.figure.subplots_adjust(hspace=-.25)\n",
    "#setting xticks\n",
    "\n",
    "ticks = [-10000, 0, 10000]\n",
    "labels = [i for i in ticks]\n",
    "g.set(xticks = ticks, xticklabels = labels)\n",
    "\n",
    "# Remove axes details that don't play well with overlap\n",
    "g.set_titles(\"\")\n",
    "g.set(yticks=[], ylabel=\"\")\n",
    "g.despine(bottom=True, left=True)\n",
    "plt.title('Summary plot of tested models with R2 and residual distribution',x=0.32, y=6.75, fontsize=14)\n",
    "plt.savefig('modelsummary.pdf',bbox_inches='tight')\n",
    "plt.show()"
   ]
  },
  {
   "cell_type": "markdown",
   "id": "be1d17ef",
   "metadata": {},
   "source": [
    "These models are ranked worst to best R<sup>2</sup> score from top to bottom. Here are some observations:\n",
    "\n",
    "* Short and wide residual distributions are bad - these tell of a wide range of price prediction errors.\n",
    "* Tall and narrow residual distributions are good - these tell of price prediction errors much closer to £0.\n",
    "* Tree based methods are performing measurably better than the linear based methods here. This is likely because some of the linear regression assumptions were being violated."
   ]
  },
  {
   "cell_type": "markdown",
   "id": "e5af518c",
   "metadata": {},
   "source": [
    "I have chosen two models to take forwards for modelling on the full used car dataset rather than this 50,000 car subset. These will be the LinearRegression() model and the GradientBoostingRegressor() model. \n",
    "\n",
    "The LinearRegression() model has been chosen because of how interpretable the model outputs are. Remembering that interpretability was one of the primary project objectives.\n",
    "\n",
    "The GradientBoostingRegressor() has been chosen because it performed best. Notice that this parameterisation also generalises very well, with minimal differences between test data scores and train data scores."
   ]
  },
  {
   "cell_type": "markdown",
   "id": "d8dcc3b8",
   "metadata": {},
   "source": [
    "# Modeling on all used cars"
   ]
  },
  {
   "cell_type": "markdown",
   "id": "1e935c72",
   "metadata": {},
   "source": [
    "Now I'm going to progress with a linear regression model and the gradient boosting regressor model from sklearn. The only difference will be that this time models are run on the full dataset, increasing the size of both the train and test datasets. "
   ]
  },
  {
   "cell_type": "markdown",
   "id": "9223e143",
   "metadata": {},
   "source": [
    "## LinearRegression()"
   ]
  },
  {
   "cell_type": "code",
   "execution_count": null,
   "id": "34738ff8",
   "metadata": {
    "ExecuteTime": {
     "start_time": "2022-03-09T18:58:33.606Z"
    },
    "code_folding": []
   },
   "outputs": [],
   "source": [
    "# Read clean used cars data, drop columns not useful in modelling and drop under populated makes\n",
    "\n",
    "abspath = r'/Users/robertdavies/Desktop/DSI/GA_P2/LargeDatasets/00_all_cars.csv'\n",
    "df = pd.read_csv(abspath)\n",
    "print('all',df.shape)\n",
    "\n",
    "# Save copy for reference later\n",
    "refdf = df.copy()\n",
    "\n",
    "# Select used cars only\n",
    "df = df[df['used']==1]\n",
    "print('used',df.shape)\n",
    "\n",
    "# Drop outliers in log-price\n",
    "mask = np.abs((df.log_price - df.log_price.mean())) / df.log_price.std() > 3\n",
    "df= df[~mask]\n",
    "print('used_without_outliers',df.shape)\n",
    "\n",
    "# Drop outliers in log-mileage\n",
    "mask = np.abs((df.log_mileage - df.log_mileage.mean())) / df.log_mileage.std() > 3\n",
    "df= df[~mask]\n",
    "print('used_without_mileage_outliers',df.shape)\n",
    "\n",
    "# Drop outliers in BHP\n",
    "mask = np.abs((df.BHP - df.BHP.mean()) / df.BHP.std()) > 6\n",
    "df= df[~mask]\n",
    "print('used_without_BHP_outliers',df.shape)\n",
    "\n",
    "# Drop columns not used in modelling\n",
    "df = df.drop(labels=['name','name_subtitle','link','seller1',\n",
    "                     'href0','dealer_city','dealer_area','year_reg',\n",
    "                     'orig_name','e_engine_kWh','ULEZ','id','used',\n",
    "                     'owners','engine','mpg'], axis=1)\n",
    "\n",
    "print('used_without_extra_columns', df.shape)\n",
    "\n",
    "# Drop under populated car brands\n",
    "carnums = df.groupby(by='make')['price'].count().sort_values().reset_index()\n",
    "carmakes = carnums[carnums.price>200].make.to_list()\n",
    "df = df[df.make.isin(carmakes)].copy()\n",
    "\n",
    "print('used_without_little_makes', df.shape)\n",
    "\n",
    "# carnumsyear = df.groupby(by='year')['price'].count().sort_values().reset_index()\n",
    "# carsyearnum = carnumsyear[carnumsyear.price>100].year.to_list()\n",
    "# df = df[df.year.isin(carsyearnum)].copy()\n",
    "\n",
    "# print('used_without_little_years', df.shape)"
   ]
  },
  {
   "cell_type": "code",
   "execution_count": null,
   "id": "a5c157dc",
   "metadata": {
    "ExecuteTime": {
     "start_time": "2022-03-09T18:58:33.613Z"
    }
   },
   "outputs": [],
   "source": [
    "df.columns"
   ]
  },
  {
   "cell_type": "markdown",
   "id": "e9f4fa94",
   "metadata": {},
   "source": [
    "### LinearRegression() - Modelling"
   ]
  },
  {
   "cell_type": "code",
   "execution_count": null,
   "id": "a0872535",
   "metadata": {
    "ExecuteTime": {
     "start_time": "2022-03-09T18:58:33.619Z"
    }
   },
   "outputs": [],
   "source": [
    "# Modelling with dummies - SKLEARN LinearRegression() \n",
    "\n",
    "# Select relevant data notice that log_price and log_mileage are used in this linear regression model\n",
    "# for the same reasons described at the start of section 3 - Model selection. \n",
    "X = df[['log_price','log_mileage','year','BHP','drivertrain',\n",
    "        'make','body','transmission','fuel','doors']]\n",
    "\n",
    "# Pop target - log transformed for approximately normal distribution.\n",
    "y = X.pop('log_price')\n",
    "to_dummy=['drivertrain','make','body','transmission','fuel','doors']\n",
    "# Dummify necessary columns\n",
    "X= pd.get_dummies(X, columns = to_dummy, drop_first=True)\n",
    "print('Dummified df shape',X.shape,'\\n')\n",
    "\n",
    "# Train test split\n",
    "X_trainlr, X_testlr, y_trainlr, y_testlr = train_test_split(X,y,test_size=0.2, shuffle=y,random_state=42)\n",
    "\n",
    "# Standard scaling implemented on predictors for the linear regression model\n",
    "scaler = StandardScaler()\n",
    "lr = LinearRegression()\n",
    "pipelr = Pipeline(steps=[('scaler',scaler),('model',lr)])\n",
    "\n",
    "# There are very few parameter options to search over for a simple linear regression!\n",
    "params = {'model__copy_X': [True],\n",
    "          'model__fit_intercept': [True],\n",
    "          'model__n_jobs': [2],\n",
    "          'model__normalize': [False],\n",
    "          'model__positive': [False]}\n",
    "\n",
    "gridsearchlr = GridSearchCV(pipelr, params, cv=5, verbose=1)\n",
    "gridsearchlr.fit(X_trainlr, y_trainlr)\n"
   ]
  },
  {
   "cell_type": "markdown",
   "id": "61457998",
   "metadata": {},
   "source": [
    "### LinearRegression() - Scoring"
   ]
  },
  {
   "cell_type": "code",
   "execution_count": null,
   "id": "2fb8df33",
   "metadata": {
    "ExecuteTime": {
     "start_time": "2022-03-09T18:58:33.627Z"
    }
   },
   "outputs": [],
   "source": [
    "# LinearRegression Model evaluation stats\n",
    "lrtrain_preds = gridsearchlr.predict(X_trainlr)\n",
    "lrtest_preds = gridsearchlr.predict(X_testlr)\n",
    "printmd('**LINEAR REGRESSION**')\n",
    "# Logarithmic gymnastics done around here using NumPy to obtain scores in terms of price rather than log_price.\n",
    "print('MSE train:',mean_squared_error(np.exp(y_trainlr), np.exp(lrtrain_preds)))\n",
    "print('MSE test:',mean_squared_error(np.exp(y_testlr), np.exp(lrtest_preds)))\n",
    "print('RMSE train:',np.sqrt((mean_squared_error(np.exp(y_trainlr), np.exp(lrtrain_preds)))))\n",
    "print('RMSE test:',np.sqrt((mean_squared_error(np.exp(y_testlr), np.exp(lrtest_preds)))))\n",
    "print('R2 train on log_price:',gridsearchlr.score(X_trainlr, y_trainlr))\n",
    "print('R2 test on log_price:',gridsearchlr.score(X_testlr, y_testlr))\n",
    "print('R2 train on price:',r2_score(np.exp(y_trainlr), np.exp(lrtrain_preds)))\n",
    "print('R2 test on price:',r2_score(np.exp(y_testlr), np.exp(lrtest_preds)))\n",
    "print('\\n')\n",
    "print(gridsearchlr.best_estimator_)\n",
    "\n",
    "# Save model evaluation scores\n",
    "lrdict2 = {'Model': 'Linear Regression', \n",
    "          'MSE Train': mean_squared_error(np.exp(y_trainlr), np.exp(lrtrain_preds)),\n",
    "          'MSE Test': mean_squared_error(np.exp(y_testlr), np.exp(lrtest_preds)),\n",
    "          'RMSE Train': np.sqrt(mean_squared_error(np.exp(y_trainlr), np.exp(lrtrain_preds))),\n",
    "          'RMSE Test': np.sqrt(mean_squared_error(np.exp(y_testlr), np.exp(lrtest_preds))),\n",
    "          'R2 Train': r2_score(np.exp(y_trainlr), np.exp(lrtrain_preds)),\n",
    "          'R2 Test': r2_score(np.exp(y_testlr), np.exp(lrtest_preds)),\n",
    "          'Params': gridsearchlr.best_estimator_\n",
    "         }"
   ]
  },
  {
   "cell_type": "markdown",
   "id": "f67e110a",
   "metadata": {},
   "source": [
    "### LinearRegression() - Evaluation and Interpretation"
   ]
  },
  {
   "cell_type": "code",
   "execution_count": null,
   "id": "bf97dc2a",
   "metadata": {
    "ExecuteTime": {
     "start_time": "2022-03-09T18:58:33.633Z"
    },
    "code_folding": [],
    "scrolled": true
   },
   "outputs": [],
   "source": [
    "# Evaluate coefficients form linear regression and place them in a neat dataframe\n",
    "lr_coefs = pd.DataFrame({'variable': X_trainlr.columns,\n",
    "                            'coef': gridsearchlr.best_estimator_.named_steps['model'].coef_,\n",
    "                            'abs_coef': np.abs(gridsearchlr.best_estimator_.named_steps['model'].coef_),\n",
    "                            '1 std dev increase in variable causes X percent change on price':(np.exp(gridsearchlr.best_estimator_.named_steps['model'].coef_)-1)*100})\n",
    "lr_coefs.sort_values('abs_coef', inplace=True, ascending=False)\n",
    "lr_coefs['Percentage increase in price for every 20% increase X'] = np.nan\n",
    "lr_coefs.loc[0,'Percentage increase in price for every 20% increase X'] = ((1.20**(lr_coefs.loc[0,'coef'])-1)*100)\n",
    "# https://data.library.virginia.edu/interpreting-log-transformations-in-a-linear-model/#:~:text=Interpret%20the%20coefficient%20as%20the,variable%20increases%20by%20about%200.20%25.\n",
    "\n",
    "# Plot the beta coefficients\n",
    "fig, ax = plt.subplots(figsize=(10, 5))\n",
    "lr_coefs.coef[:15].plot(kind='barh', color = 'skyblue', ax=ax, alpha=0.5, title='Linear Regression coefficients')\n",
    "ax.set_yticklabels(lr_coefs.variable[:15].values)\n",
    "plt.gca().invert_yaxis()\n",
    "plt.show()"
   ]
  },
  {
   "cell_type": "code",
   "execution_count": null,
   "id": "88139b75",
   "metadata": {
    "ExecuteTime": {
     "start_time": "2022-03-09T18:58:33.638Z"
    },
    "code_folding": []
   },
   "outputs": [],
   "source": [
    "# Plot test predicted vs actual price in both log-space and non. \n",
    "fig, ax = plt.subplots(ncols=2,figsize=(16,8))\n",
    "ax[0].scatter(y_testlr, lrtest_preds, color='skyblue', alpha=0.8, s=1, label = 'y_true - y_hat')\n",
    "ax[0].plot([y_testlr.min(), y_testlr.max()], [y_testlr.min(), y_testlr.max()], c='b',label = 'Perfect model')\n",
    "ax[0].set_title('Actual vs Predicted price')\n",
    "ax[0].set_xlabel(\"Actual price (£)\")\n",
    "ax[0].set_ylabel(\"Predicted price(£)\")\n",
    "ax[0].plot([y_testlr.min(), y_testlr.max()], [y_testlr.mean(), y_testlr.mean()], c='r', label = 'Baseline prediction')\n",
    "ax[1].scatter(np.exp(y_testlr), np.exp(lrtest_preds), color='skyblue', alpha=0.8, s=2,  label = 'y_true - y_hat')\n",
    "ax[1].plot([np.exp(y_testlr).min(), np.exp(y_testlr).max()], [np.exp(y_testlr).min(), np.exp(y_testlr).max()], \n",
    "           c='b', label = 'Perfect model')\n",
    "ax[1].set_title('Actual vs Predicted log-price')\n",
    "ax[1].set_xlabel(\"Actual log-price (£)\")\n",
    "ax[1].set_ylabel(\"Predicted log-price (£)\")\n",
    "ax[1].plot([np.exp(y_testlr).min(), np.exp(y_testlr).max()], [np.exp(y_testlr).mean(), np.exp(y_testlr).mean()], \n",
    "           c='r', label = 'Baseline prediction')\n",
    "ax[0].legend()\n",
    "ax[1].legend()\n",
    "plt.suptitle('Test dataset residual evaluation')\n",
    "for i in range(2):\n",
    "    legend = ax[i].legend()\n",
    "    frame = legend.get_frame()\n",
    "    frame.set_facecolor('white')\n",
    "plt.show()"
   ]
  },
  {
   "cell_type": "markdown",
   "id": "62caa527",
   "metadata": {},
   "source": [
    "These two scatter plots above compare the predicted price to the actual price, both in terms of price and log_price. It can be seen from the right hand plot that the linear regression model yields better predictions for cheaper price cars, with errors generally growing with an increase in the used car price. This is a knock-on effect of predicting log_price rather than price."
   ]
  },
  {
   "cell_type": "code",
   "execution_count": null,
   "id": "db389d31",
   "metadata": {
    "ExecuteTime": {
     "start_time": "2022-03-09T18:58:33.645Z"
    },
    "code_folding": [
     0
    ]
   },
   "outputs": [],
   "source": [
    "# Plot train predicted vs actual price in both log-space and non. \n",
    "\n",
    "fig, ax = plt.subplots(ncols=2,figsize=(16,8))\n",
    "ax[0].scatter(y_trainlr, lrtrain_preds, color='skyblue', alpha=0.8, s=1, label = 'y_true - y_hat')\n",
    "ax[0].plot([y_trainlr.min(), y_trainlr.max()], [y_trainlr.min(), y_trainlr.max()], c='b',label = 'Perfect model')\n",
    "ax[0].set_title('Actual vs Predicted price')\n",
    "ax[0].set_xlabel(\"Actual price (£)\")\n",
    "ax[0].set_ylabel(\"Predicted price(£)\")\n",
    "ax[0].plot([y_trainlr.min(), y_trainlr.max()], [y_trainlr.mean(), y_trainlr.mean()], c='r', label = 'Baseline prediction')\n",
    "ax[1].scatter(np.exp(y_trainlr), np.exp(lrtrain_preds), color='skyblue', alpha=0.8, s=2,  label = 'y_true - y_hat')\n",
    "ax[1].plot([np.exp(y_trainlr).min(), np.exp(y_trainlr).max()], [np.exp(y_trainlr).min(), np.exp(y_trainlr).max()], \n",
    "           c='b', label = 'Perfect model')\n",
    "ax[1].set_title('Actual vs Predicted log-price')\n",
    "ax[1].set_xlabel(\"Actual log-price (£)\")\n",
    "ax[1].set_ylabel(\"Predicted log-price (£)\")\n",
    "ax[1].plot([np.exp(y_trainlr).min(), np.exp(y_trainlr).max()], [np.exp(y_trainlr).mean(), np.exp(y_trainlr).mean()], \n",
    "           c='r', label = 'Baseline prediction')\n",
    "ax[0].legend()\n",
    "ax[1].legend()\n",
    "for i in range(2):\n",
    "    legend = ax[i].legend()\n",
    "    frame = legend.get_frame()\n",
    "    frame.set_facecolor('white')\n",
    "plt.suptitle('Train dataset residual evaluation')\n",
    "plt.show()"
   ]
  },
  {
   "cell_type": "markdown",
   "id": "36448972",
   "metadata": {},
   "source": [
    "The train dataset tells the same story as the test dataset."
   ]
  },
  {
   "cell_type": "code",
   "execution_count": null,
   "id": "8dc5e317",
   "metadata": {
    "ExecuteTime": {
     "start_time": "2022-03-09T18:58:33.652Z"
    },
    "code_folding": []
   },
   "outputs": [],
   "source": [
    "# Display table of coefficients and the translation of their impact on price\n",
    "lr_coefs.sort_values(by='abs_coef', ascending=False).iloc[:,:-1].head(10)"
   ]
  },
  {
   "cell_type": "markdown",
   "id": "a2242c87",
   "metadata": {},
   "source": [
    "Interpreting beta coefficients of the linear regression is complicated by the log transforms and standardisation implemented in modelling. I have followed the stages outlined [here](https://data.library.virginia.edu/interpreting-log-transformations-in-a-linear-model/#:~:text=Interpret%20the%20coefficient%20as%20the,variable%20increases%20by%20about%200.20%25.\n",
    ") to convert the coefficients to real terms that we might be able to handle. \n",
    "\n",
    "The table above should be interpreted as the title of the final column.\n",
    "* An increase in the `year` predictor by one standard deviation would yield a 51.2% increase in car `price`. \n",
    "* An increase in the `log_mileage` predictor by one standard deviation would yield a 8.7% decrease in car `price`. \n",
    "\n",
    "\n",
    "Personally I don't find this easily intuitive without having all of the standard deviations of each original predictor to hand! I'm not going to dwell on this interpretation because I had much greater fun interrogating the gradient boosting regressor output, *and* the model performed better."
   ]
  },
  {
   "cell_type": "code",
   "execution_count": null,
   "id": "b6b0cb14",
   "metadata": {
    "ExecuteTime": {
     "start_time": "2022-03-09T18:58:33.659Z"
    },
    "code_folding": []
   },
   "outputs": [],
   "source": [
    "# Define top_lr_factors for later\n",
    "top_lr_factors = lr_coefs.sort_values(by='abs_coef', ascending=False).head(10).variable.to_list()"
   ]
  },
  {
   "cell_type": "markdown",
   "id": "18f3ebe3",
   "metadata": {},
   "source": [
    "## GradientBoostingRegressor()"
   ]
  },
  {
   "cell_type": "markdown",
   "id": "507c816d",
   "metadata": {},
   "source": [
    "*Why might I look to use a gradient boosting model?*\n",
    "\n",
    "Where linear regression modelling started with a range of assumptions, gradient boosting methods only assume that the target variable is real-valued. This lack of assumptions can make it an appealing method for machine learning. \n",
    "\n",
    "Gradient boosting is a tree based ensemble technique in which the predictors are not made independently, but sequentially. The sequential method works in a way which allows subsequent predictors to learn from mistakes of their previous predictors.\n",
    "\n",
    "<br>\n",
    "<br>\n",
    "<b>Gradient boosting explained</b>\n",
    "\n",
    "* Gradient boosting starts with a base prediction by adopting the average value for the target variable before generating sequential predictors which aim to minimise the residuals between the base prediction and the actual values. \n",
    "* Each sequential predictor is scaled by a 'learning factor' before being added to the ensemble. This is usually some small fraction like 0.1 which forces the gradient boosting ensemble model to iteratively take small steps towards a better model with minimised residuals. \n",
    "* Taking many small steps in the right direction results in better predictions with a testing dataset. i.e. lower variance. \n",
    "* The model is considered optimised when adding new scaled predictors to the ensemble fails to reduce the residuals.\n",
    "\n"
   ]
  },
  {
   "cell_type": "markdown",
   "id": "2c8f0f87",
   "metadata": {},
   "source": [
    "### GradientBoostingRegressor() - Modelling"
   ]
  },
  {
   "cell_type": "code",
   "execution_count": null,
   "id": "cdf5d65b",
   "metadata": {
    "ExecuteTime": {
     "start_time": "2022-03-09T18:58:33.666Z"
    }
   },
   "outputs": [],
   "source": [
    "# Modelling with dummies - SKLEARN GradientBoostingRegressor()) \n",
    "\n",
    "# Select relevant data notice that price and log_mileage are used in this gradient boosting model. I really could\n",
    "# have used mileage instead of log_mileage but honestly I just forgot. I remembered to swap the target from \n",
    "# log_price to price but forgot to swap mileage. It makes no difference to to the gradient boosting model so I \n",
    "# opted to leave it as it is and compensate in any evaluation if/where required.\n",
    "X = df[['price','log_mileage','year','BHP','drivertrain',\n",
    "        'make','body','transmission','fuel','doors']]\n",
    "# Pop the target variable - price this time since it's a tree method\n",
    "y = X.pop('price')\n",
    "to_dummy=['drivertrain','make','body','transmission','fuel','doors']\n",
    "# Dummify the necessary columns\n",
    "X= pd.get_dummies(X, columns = to_dummy, drop_first=True)\n",
    "print('Dummified df shape',X.shape,'\\n')\n",
    "\n",
    "# Train test split\n",
    "X_traingb, X_testgb, y_traingb, y_testgb = train_test_split(X,y,test_size=0.2, shuffle=y, random_state =2)\n",
    "\n",
    "# Standard scaling not required for tree methods\n",
    "model = GradientBoostingRegressor()\n",
    "pipegb = Pipeline(steps=[('model',model)])\n",
    "pipegb.get_params()\n",
    "\n",
    "params = {'model__n_estimators':[50, 100, 200],\n",
    "          'model__max_depth':[3,5],\n",
    "          'model__learning_rate':[0.05, 0.1],\n",
    "          'model__random_state':[1],\n",
    "          'model__validation_fraction':[0.1],\n",
    "          'model__n_iter_no_change':[20]}\n",
    "\n",
    "# criterion{‘f\n",
    "# params = {'model__n_estimators':[200],\n",
    "#           'model__max_depth':[5],\n",
    "#           'model__learning_rate':[0.1],\n",
    "#           'model__random_state':[1],\n",
    "#           'model__validation_fraction':[0.1],\n",
    "#           'model__n_iter_no_change':[20]}riedman_mse’, ‘squared_error’, ‘mse’, ‘mae’}\n",
    "\n",
    "\n",
    "gridsearchgb = GridSearchCV(pipegb, params, cv=5, verbose=1)\n",
    "gridsearchgb.fit(X_traingb, y_traingb)"
   ]
  },
  {
   "cell_type": "markdown",
   "id": "845cf9db",
   "metadata": {},
   "source": [
    "### GradientBoostingRegressor() - Scoring"
   ]
  },
  {
   "cell_type": "code",
   "execution_count": null,
   "id": "27dea340",
   "metadata": {
    "ExecuteTime": {
     "start_time": "2022-03-09T18:58:33.673Z"
    }
   },
   "outputs": [],
   "source": [
    "# Gradient Boosting Model evaluation scores\n",
    "gbtrain_preds = gridsearchgb.predict(X_traingb)\n",
    "gbtest_preds = gridsearchgb.predict(X_testgb)\n",
    "printmd('**GRADIENT BOOSTING REGRESSOR**')\n",
    "print('MSE train:',mean_squared_error(y_traingb, gbtrain_preds))\n",
    "print('MSE test:',mean_squared_error(y_testgb, gbtest_preds))\n",
    "print('RMSE train:',np.sqrt(mean_squared_error(y_traingb, gbtrain_preds)))\n",
    "print('RMSE test:',np.sqrt(mean_squared_error(y_testgb, gbtest_preds)))\n",
    "print('R2 train:',gridsearchgb.score(X_traingb, y_traingb))\n",
    "print('R2 test:',gridsearchgb.score(X_testgb, y_testgb))\n",
    "print('\\n')\n",
    "print(gridsearchgb.best_estimator_)\n",
    "\n",
    "# Save model evaluation scores\n",
    "gbdict2 = {'Model': 'Gradient Boosting Regressor', \n",
    "          'MSE Train': mean_squared_error(y_traingb, gbtrain_preds),\n",
    "          'MSE Test': mean_squared_error(y_testgb, gbtest_preds), \n",
    "          'R2 Train': gridsearchgb.score(X_traingb, y_traingb),\n",
    "          'R2 Test': gridsearchgb.score(X_testgb, y_testgb),\n",
    "          'Params': gridsearchgb.best_estimator_\n",
    "         }"
   ]
  },
  {
   "cell_type": "markdown",
   "id": "ed93a305",
   "metadata": {
    "ExecuteTime": {
     "end_time": "2022-03-09T17:32:06.841053Z",
     "start_time": "2022-03-09T17:32:06.836109Z"
    }
   },
   "source": [
    "0.954 R<sup>2</sup> on the test data and 0.955 R<sup>2</sup> on the train data is good. The model generalises well."
   ]
  },
  {
   "cell_type": "markdown",
   "id": "9e91b688",
   "metadata": {},
   "source": [
    "### GradientBoostingRegressor() - Evaluation and Interpretation"
   ]
  },
  {
   "cell_type": "code",
   "execution_count": null,
   "id": "87955ece",
   "metadata": {
    "ExecuteTime": {
     "start_time": "2022-03-09T18:58:33.681Z"
    },
    "code_folding": [],
    "scrolled": false
   },
   "outputs": [],
   "source": [
    "# Feature importance plot for gradient boosting \n",
    "\n",
    "# FROM SKLEARN\n",
    "# feature_importances_\n",
    "# The impurity-based feature importances.\n",
    "# The higher, the more important the feature. The importance of a feature is computed as the \n",
    "# (normalized) total reduction of the criterion brought by that feature. It is also known as the Gini importance.\n",
    "# Warning: impurity-based feature importances can be misleading for high cardinality features (many unique values)\n",
    "\n",
    "# Make a dataframe of the feature importances\n",
    "gb_coefs = pd.DataFrame({'variable': X_traingb.columns,\n",
    "                            'Feature Importance': gridsearchgb.best_estimator_.named_steps[\"model\"].feature_importances_})\n",
    "\n",
    "# Plot them in descending importance\n",
    "plot = gb_coefs.sort_values(by='Feature Importance', ascending=False).head(30)\n",
    "fig, ax = plt.subplots(figsize=(6, 6))\n",
    "plot['Feature Importance'][:10].plot(kind='barh', color = 'darkblue', ax=ax, alpha=0.9 )\n",
    "ax.set_yticklabels(plot.variable[:10].values)\n",
    "ax.set_title('Gradient Boosting Feature Importance', fontsize=12)\n",
    "plt.gca().invert_yaxis()\n",
    "plt.savefig('featimp.pdf',bbox_inches='tight')\n",
    "plt.show()"
   ]
  },
  {
   "cell_type": "markdown",
   "id": "4c375124",
   "metadata": {},
   "source": [
    "The plot above describes feature importance from Sklearn\n",
    "\n",
    "Decision tree methods can give us feature importances to illuminate what's happening under the hood. The higher the number the more important the predictor was for deciding splits at nodes. Technically, the importance of a feature is computed as the (normalized) total reduction of the criterion brought by that feature. In this case, the criterion is friedman_mse. \n",
    "\n",
    "That means a feature is more important...\n",
    "\n",
    "- if it is used in many different nodes,\n",
    "- if the difference in the measures of Gini or entropy are before and after the split is high\n",
    "\n",
    "Feature importances are normalized in the sense of summing up to one."
   ]
  },
  {
   "cell_type": "code",
   "execution_count": null,
   "id": "05bf42fe",
   "metadata": {
    "ExecuteTime": {
     "start_time": "2022-03-09T18:58:33.687Z"
    },
    "code_folding": [
     0
    ]
   },
   "outputs": [],
   "source": [
    "# Compare top coefficients from LogisticRegression() against top feature importances from GradientBoostingRegressor()\n",
    "top_gb_factors = gb_coefs.sort_values(by='Feature Importance', ascending=False).head(10).variable.to_list()\n",
    "\n",
    "topfeaturedf = pd.DataFrame({'Top Linear Regression coefficients':top_lr_factors,'Top Gradient Boosting Feature Importances':top_gb_factors})\n",
    "topfeaturedf"
   ]
  },
  {
   "cell_type": "markdown",
   "id": "765ebdef",
   "metadata": {},
   "source": [
    "Comparing top features from both models shows that they share 6 out of 10 of them. So similar, but not the same.\n",
    "\n",
    "`year`,`BHP`,`log_mileage`,`transmission_Manual`, `make_Land Rover` and `body_Hatchback` are the predictors in common."
   ]
  },
  {
   "cell_type": "code",
   "execution_count": null,
   "id": "59d62948",
   "metadata": {
    "ExecuteTime": {
     "start_time": "2022-03-09T18:58:33.695Z"
    },
    "code_folding": []
   },
   "outputs": [],
   "source": [
    "# Plot test actual vs predicted price \n",
    "fig, ax = plt.subplots(figsize=(6,6))\n",
    "ax.plot([y_testgb.min(), y_testgb.max()], [y_testgb.min(), y_testgb.max()], c='darkblue',label = 'Perfect model')\n",
    "ax.set_title('Actual vs Predicted price',fontsize=12)\n",
    "ax.set_xlabel(\"Actual price (£)\", fontsize=12)\n",
    "ax.set_ylabel(\"Predicted price(£)\", fontsize=12)\n",
    "plt.hlines(y=y_testgb.mean(), xmin=y_testgb.min(), xmax=y_testgb.max(), linewidth=2, color='skyblue', label = 'Baseline prediction')\n",
    "ax.scatter(y_testgb, gbtest_preds, color='darkred', alpha=0.8, s=1, label = 'True price vs Predicted price')\n",
    "plt.tight_layout()\n",
    "plt.legend()\n",
    "legend = plt.legend()\n",
    "frame = legend.get_frame()\n",
    "frame.set_facecolor('white')\n",
    "plt.savefig('actpred.pdf',bbox_inches='tight')\n",
    "plt.show()"
   ]
  },
  {
   "cell_type": "markdown",
   "id": "c4e7a90c",
   "metadata": {},
   "source": [
    "The plot of true price verses predicted price displays a tighter scattering of predictions than the linear regression model! It could still be said to have reduced performance above £80,000 but that would be being critical."
   ]
  },
  {
   "cell_type": "code",
   "execution_count": null,
   "id": "e470833a",
   "metadata": {
    "ExecuteTime": {
     "start_time": "2022-03-09T18:58:33.701Z"
    },
    "code_folding": []
   },
   "outputs": [],
   "source": [
    "# Evaluate the biggest residuals. This short piece of code looks at the largest 3 prediction errors and prints\n",
    "# out the corresponding vehicle attributes. Over time a lot of these links at the bottom are being removed as the \n",
    "# car sells. How disappointing.\n",
    "resid = np.abs(y_testgb - gbtest_preds)\n",
    "resid.sort_values(ascending=False)\n",
    "\n",
    "sorted_resid = resid.sort_values(ascending=False).reset_index()\n",
    "investigate1 = sorted_resid.iloc[0,0]\n",
    "investigate2 = sorted_resid.iloc[1,0]\n",
    "investigate3 = sorted_resid.iloc[2,0]"
   ]
  },
  {
   "cell_type": "code",
   "execution_count": null,
   "id": "0be0df8b",
   "metadata": {
    "ExecuteTime": {
     "start_time": "2022-03-09T18:58:33.707Z"
    }
   },
   "outputs": [],
   "source": [
    "refdf.columns"
   ]
  },
  {
   "cell_type": "code",
   "execution_count": null,
   "id": "13f04134",
   "metadata": {
    "ExecuteTime": {
     "start_time": "2022-03-09T18:58:33.713Z"
    },
    "code_folding": []
   },
   "outputs": [],
   "source": [
    "# Print structured report of largest residual cars \n",
    "\n",
    "count=0\n",
    "for residual in [investigate1,investigate2,investigate3]:\n",
    "    count+=1\n",
    "    printmd(f'**Bad prediction {count}**')\n",
    "    print(refdf.loc[residual,'orig_name'],'\\t', refdf.loc[residual,'name_subtitle'])\n",
    "    print('Predicted price (£) \\t',round(gridsearchgb.predict(X_testgb.loc[residual,:].array.reshape(1, -1))[0],2))\n",
    "    print('Actual price (£)\\t',refdf.loc[residual,'price'])\n",
    "    print('City: \\t\\t\\t',refdf.loc[residual,'dealer_city'])\n",
    "    print(refdf.loc[residual,'link'])\n",
    "    print('-'*65)"
   ]
  },
  {
   "cell_type": "markdown",
   "id": "12a065cb",
   "metadata": {},
   "source": [
    "OK, so we have a well performing gradient boosting regressor model, but what can we do to make it more interpretable?\n",
    "\n",
    "I have already displayed the feature importances (sometimes call gini-importances) from Scikit-learn, but these don't particularly illuminate why the model is predicting what it's predicting. As I noted before, it's more of an indication of why predictors were most helpful in making making the predictions. \n",
    "\n",
    "Now I'm going to use permutation importance from the ELI5 library to understand the model better."
   ]
  },
  {
   "cell_type": "code",
   "execution_count": null,
   "id": "1efe8122",
   "metadata": {
    "ExecuteTime": {
     "start_time": "2022-03-09T18:58:33.720Z"
    },
    "code_folding": [
     0
    ]
   },
   "outputs": [],
   "source": [
    "# Use permutation importance from ELI5 package to obtain a weight to assign to each predictor\n",
    "perm = PermutationImportance(gridsearchgb).fit(X_testgb, y_testgb)"
   ]
  },
  {
   "cell_type": "code",
   "execution_count": null,
   "id": "2099c50a",
   "metadata": {
    "ExecuteTime": {
     "start_time": "2022-03-09T18:58:33.726Z"
    },
    "code_folding": []
   },
   "outputs": [],
   "source": [
    "# Feature importance from PermutationImportance package\n",
    "\n",
    "# https://stats.stackexchange.com/questions/555949/how-to-interpret-the-feature-importances-for-eli5-show-weights-for-regressio\n",
    "# For a high level overview of how the produced model works, we look at the weights from PermutationImportance\n",
    "# I show the top 63 - That's them all. The eli5.show_weights function outputs a HTML table\n",
    "eli5.show_weights(perm, feature_names = X_testgb.columns.values, top= 63)"
   ]
  },
  {
   "cell_type": "code",
   "execution_count": null,
   "id": "d75c223d",
   "metadata": {
    "ExecuteTime": {
     "start_time": "2022-03-09T18:58:33.732Z"
    },
    "code_folding": [
     0
    ]
   },
   "outputs": [],
   "source": [
    "# Zip together top coefficients for best LR model and best GB model using FI&PI\n",
    "top_gb_factors_pi = pd.DataFrame((zip(X_testgb.columns.tolist(), perm.feature_importances_)), columns= ['variable','fi']).sort_values(by='fi', ascending=False).head(10).variable.to_list()\n",
    "top_gb_factors = gb_coefs.sort_values(by='Feature Importance', ascending=False).head(10).variable.to_list()\n",
    "\n",
    "\n",
    "featurecomp = pd.DataFrame({'rank':range(1,11),'LinearRegression top coefficients':top_lr_factors,'GradientBoostingRegression top features':top_gb_factors, 'GradientBoostingRegression top features from permutation importance':top_gb_factors_pi})\n",
    "featurecomp.set_index('rank', drop=True, inplace=True)\n",
    "featurecomp"
   ]
  },
  {
   "cell_type": "markdown",
   "id": "ade52c8c",
   "metadata": {},
   "source": [
    "Linear regression coefficients and Gradient boosting feature importance have 6 common predictors in their top 10.\n",
    "\n",
    "- `year`, `BHP`, `body_Hatchback`, `make_Land_Rover`, `transmission_Manual` and `log_mileage` \n",
    "\n",
    "Linear regression coefficients and Gradient boosting feature importance from permutation importance have 6 common predictors in their top 10.\n",
    "\n",
    "- `year`, `BHP`, `make_Mercedez-Benz`, `make_Land_Rover`, `transmission_Manual` and `log_mileage` \n",
    "\n",
    "\n",
    "Gradient boosting feature importance and Gradient boosting feature importance from permutation importance have 8 common predictors in their top 10.\n",
    "\n",
    "- `year`, `BHP`, `body_SUV`, `make_Porsche`, `make_Land_Rover`, `transmission_Manual`, `fuel_petrol` and `log_mileage` \n"
   ]
  },
  {
   "cell_type": "code",
   "execution_count": null,
   "id": "1e37715e",
   "metadata": {
    "ExecuteTime": {
     "start_time": "2022-03-09T18:58:33.740Z"
    },
    "code_folding": []
   },
   "outputs": [],
   "source": [
    "# Have a quick look at the feature importance and standard deviation from permutation importance \n",
    "df_fi = pd.DataFrame(dict(feature_names=X_testgb.columns.tolist(),\n",
    "                          feat_imp=perm.feature_importances_, \n",
    "                          std=perm.feature_importances_std_,\n",
    "                          ))\n",
    "df_fi = df_fi.round(4)\n",
    "df_fi.sort_values('feat_imp', ascending=False)"
   ]
  },
  {
   "cell_type": "code",
   "execution_count": null,
   "id": "5ec00e13",
   "metadata": {
    "ExecuteTime": {
     "start_time": "2022-03-09T18:58:33.746Z"
    },
    "code_folding": []
   },
   "outputs": [],
   "source": [
    "# Look at feature importances for a individual car. This is the granular breakdown of why it costs what it costs.\n",
    "\n",
    "# For a look at how a single car has been processed by the model, I can use the eli5.show_prediction utility.\n",
    "# It takes the model as input, and a sample row, in this case I use row 5 from X_test and return the top 10 features\n",
    "show_prediction(gridsearchgb.best_estimator_.named_steps[\"model\"], X_testgb.iloc[24, :], top =16, show_feature_values=True)"
   ]
  },
  {
   "cell_type": "markdown",
   "id": "ada68473",
   "metadata": {},
   "source": [
    "This breakdown is wonderful but not exactly what I want. Notice that this car has the following price impacts for each of the dummified body features:\n",
    "* It is not a Hatchback: +495\n",
    "* It is not a MPV: -82\n",
    "* It is not a Coupe: -127\n",
    "* It is a Saloon: -297\n",
    "* It is not a SUV: -532\n",
    "\n",
    "\n",
    "This is not an exhaustive list, there will be other contributions for each option. Each categorical predictor, like the body example here, could be be collated to one figure. I'm going to write some functions to do just this. "
   ]
  },
  {
   "cell_type": "code",
   "execution_count": null,
   "id": "cb979c05",
   "metadata": {
    "ExecuteTime": {
     "start_time": "2022-03-09T18:58:33.752Z"
    },
    "code_folding": [
     2,
     28,
     67,
     158
    ]
   },
   "outputs": [],
   "source": [
    "# Define functions for ELI5 car analysis \n",
    "# Having looked over these functions again since completing the project I can see many ways that I'd like\n",
    "# to improve them. I'd love to remove the repritive code and make them far more concise, but I also want to \n",
    "# publish this project and move onto a new project in a different area. I'm going to leave them as they are.\n",
    "# with this semi-guilty note attached!\n",
    "\n",
    "def make_groupby_col(feature):\n",
    "    \"\"\"This function is used to help make an informative table in the generate_summary function output\n",
    "    \"\"\"\n",
    "    if 'BHP' in feature:\n",
    "        return 'BHP'\n",
    "    if 'BIAS' in feature:\n",
    "        return 'BIAS'\n",
    "    if 'year' in feature:\n",
    "        return 'year'\n",
    "    if 'transmission' in feature:\n",
    "        return 'transmission'\n",
    "    if 'body' in feature:\n",
    "        return 'body'\n",
    "    if 'drivertrain' in feature:\n",
    "        return 'drivertrain'\n",
    "    if 'mpg' in feature:\n",
    "        return 'mpg'\n",
    "    if 'make' in feature:\n",
    "        return 'make'\n",
    "    if 'doors' in feature:\n",
    "        return 'doors'\n",
    "    if 'fuel' in feature:\n",
    "        return 'fuel'\n",
    "    if 'mileage' in feature:\n",
    "        return 'mileage'\n",
    "    \n",
    "def generate_summary(model, car_details, verbose=False):\n",
    "    \"\"\"\n",
    "    This function uses the eli5.explain_prediction_df to obtain a dataframe of weights\n",
    "    and contributions for each row.\n",
    "    \"\"\"\n",
    "    # Print summarised details of the car\n",
    "    spiel = str(refdf.loc[pd.DataFrame(car_details).columns[0],'orig_name']+' '+refdf.loc[pd.DataFrame(car_details).columns[0],'name_subtitle'])\n",
    "    printmd(f'**Car Summary:  {spiel}**')\n",
    "    # Print out extensive details of the original car IF verbose == True\n",
    "    if verbose==True:\n",
    "        print('Original car')\n",
    "        print(df.loc[pd.DataFrame(car_details).columns[0],:])\n",
    "        print('\\n')\n",
    "    # Print out the predicted car price and the true car price. This involves a call to the model.\n",
    "    print('Predicted price \\t\\t True price')\n",
    "    print('£', round(gridsearchgb.best_estimator_.named_steps[\"model\"].predict(pd.DataFrame(car_details).T)[0],2), \\\n",
    "          '\\t\\t\\t £',df.loc[pd.DataFrame(car_details).columns[0],:][1],'\\n')\n",
    "    print(refdf.loc[pd.DataFrame(car_details).columns[0],'link'])\n",
    "\n",
    "    # Use ELI5, the model and the input car to get price contributions for each of the predictors.\n",
    "    eli5df = eli5.explain_prediction_df(estimator=model, doc=car_details)    \n",
    "    # Define absolute weight for sorting purposes\n",
    "    eli5df['absweight']=eli5df.weight.apply(lambda x: np.abs(x))\n",
    "    # Call function to help define how to group the dummified predictors\n",
    "    eli5df['Predictor']=eli5df.feature.apply(lambda x: make_groupby_col(x))\n",
    "    # Groupby the new Predictor column and sort by absolute weight, descending. \n",
    "    eli5df = eli5df.groupby(by='Predictor').sum().sort_values(by='absweight', ascending=False)\n",
    "    # Create a price column which cumulatively sums the price contributions. \n",
    "    eli5df['price']=eli5df.weight.cumsum()\n",
    "    # Initialise an empty attribute column to be filled in next.\n",
    "    eli5df['attribute']=0\n",
    "\n",
    "    # Add the cars original attributes to the summary dataframe which is being created, using a loc lookup.\n",
    "    for att in ['transmission','body','mileage','BHP','make','year','drivertrain','doors','fuel']:\n",
    "        eli5df.loc[att,'attribute']=df.loc[pd.DataFrame(car_details).columns[0],att]\n",
    "    eli5df.columns =['Price Contribution (£)','value','absweight','Cumulative Car Price (£)','Attribute']\n",
    "    # Return summary dataframe\n",
    "    return eli5df[['Attribute','Price Contribution (£)','Cumulative Car Price (£)']]\n",
    "\n",
    "def make_and_predict_describe_fake_car(year = 2018,\n",
    "                              mileage = 40000,\n",
    "                              BHP = 120,\n",
    "                              body = 'Hatchback', \n",
    "                              transmission = 'Manual', \n",
    "                              make = 'Ford', \n",
    "                              drivetrain = 'Front Wheel Drive',\n",
    "                              drs = '5dr', \n",
    "                              fuel = 'Petrol',\n",
    "                              model = gridsearchgb.best_estimator_.named_steps[\"model\"]):\n",
    "    \"\"\"\n",
    "    This function is used to generate fake cars based on user defined attributes and then predict the price\n",
    "    AND return a price breakdown for those cars when pushed into the given model.\n",
    "    \"\"\"\n",
    "    # Take a sample car from the test dataset to get the structure I want\n",
    "    sample = pd.DataFrame(X_testgb.iloc[20, :]).T\n",
    "    # Initialise empty holding lists\n",
    "    makes=[]\n",
    "    bodys=[]\n",
    "    drivertrains=[]\n",
    "    fuels=[]\n",
    "    doors=[]\n",
    "    transmissions=[]\n",
    "    \n",
    "    # For each dummified categorical variable in the sample car, append them to the appropriate holding list\n",
    "    for x in sample.columns:\n",
    "        if 'make' in x:\n",
    "            makes.append(x)\n",
    "        if 'body' in x:\n",
    "            bodys.append(x)\n",
    "        if 'drivertrain' in x:\n",
    "            drivertrains.append(x)\n",
    "        if 'fuel' in x:\n",
    "            fuels.append(x)\n",
    "        if 'door' in x:\n",
    "            doors.append(x)\n",
    "        if 'transmission' in x:\n",
    "            transmissions.append(x)\n",
    "\n",
    "    # Use list addition to compile a list of all columns        \n",
    "    dummy_cols = [makes + bodys + drivertrains + fuels + doors + transmissions + ['log_mileage','year','BHP']]\n",
    "    # Set all attributes in the car sample to zero.\n",
    "    for x in dummy_cols:\n",
    "        sample.loc[:,x]=0\n",
    "\n",
    "    # Now begin to overwrite the blank samples with the associated entered parameters in the function.\n",
    "    sample['year'] = year\n",
    "    sample['BHP'] = BHP\n",
    "    sample['log_mileage'] = np.log(mileage)\n",
    "    sample[f'body_{body}'] = 1\n",
    "    # Got to be careful with transmission because there are only 2 of them. \n",
    "    if transmission == 'Manual':\n",
    "        sample[f'transmission_Manual'] = 1\n",
    "    else:\n",
    "        sample[f'transmission_Manual'] = 0\n",
    "    sample[f'make_{make}'] = 1\n",
    "    sample[f'drivertrain_{drivetrain}'] = 1\n",
    "    sample[f'fuel_{fuel}'] = 1\n",
    "    sample[f'doors_{drs}'] = 1\n",
    "\n",
    "    # Begin the summary printout\n",
    "    # Print the car model and associated predicted price\n",
    "    printmd(f'**Car Summary for synthetic {make}**')\n",
    "    print('£', round(gridsearchgb.best_estimator_.named_steps[\"model\"].predict(sample.iloc[0,:].array.reshape(1, -1))[0],2))\n",
    "    # Use ELI5, the model and the input car to get price contributions for each of the predictors.\n",
    "    eli5df = eli5.explain_prediction_df(estimator=model, doc=sample.iloc[0,:])    \n",
    "    # Define absolute weight for sorting purposes\n",
    "    eli5df['absweight']=eli5df.weight.apply(lambda x: np.abs(x))\n",
    "    # Call function to help define how to group the dummified predictors  \n",
    "    eli5df['Predictor']=eli5df.feature.apply(lambda x: make_groupby_col(x))\n",
    "    # Groupby the new Predictor column and sort by absolute weight, descending. \n",
    "    eli5df = eli5df.groupby(by='Predictor').sum().sort_values(by='absweight', ascending=False)\n",
    "    # Create a price column which cumulatively sums the price contributions. \n",
    "    eli5df['price']=eli5df.weight.cumsum()\n",
    "    # Initialise an empty attribute column to be filled in next.\n",
    "    eli5df['attribute'] = 0\n",
    "\n",
    "    # Populate attributes with the fake parameters entered to this function  \n",
    "    eli5df.loc['BHP','attribute'] = BHP\n",
    "    eli5df.loc['year','attribute'] = year\n",
    "    eli5df.loc['mileage','attribute'] = mileage\n",
    "    eli5df.loc['transmission','attribute'] = transmission\n",
    "    eli5df.loc['make','attribute'] = make\n",
    "    eli5df.loc['drivertrain','attribute'] = drivetrain\n",
    "    eli5df.loc['doors','attribute'] = drs\n",
    "    eli5df.loc['fuel','attribute'] = fuel  \n",
    "    eli5df.loc['body','attribute'] = body \n",
    "    eli5df.columns=['Price contribution (£)','Attribute Into Model','Absolute Price Contribution','Cumulative Car Price (£)','Attribute']        \n",
    "    # Return summary dataframe for the fake car\n",
    "    return eli5df[['Attribute','Price contribution (£)','Cumulative Car Price (£)']        ]\n",
    "\n",
    "def make_and_predict_fake_car(year = 2018,\n",
    "                              mileage = 40000,\n",
    "                              BHP = 120,\n",
    "                              body = 'Hatchback', \n",
    "                              transmission = 'Manual', \n",
    "                              make = 'Ford', \n",
    "                              drivetrain = 'Front Wheel Drive',\n",
    "                              drs = '5dr', \n",
    "                              fuel = 'Petrol',\n",
    "                              model = gridsearchgb.best_estimator_.named_steps[\"model\"]):\n",
    "    \"\"\"\n",
    "    This function is used to generate fake cars based on user defined attributes and then predict the price\n",
    "    for those cars when pushed into the given model.\n",
    "    \"\"\"\n",
    "    # Take a sample car from the test dataset to get the structure I want\n",
    "    sample = pd.DataFrame(X_testgb.iloc[20, :]).T\n",
    "    # Initialise empty holding lists\n",
    "    makes=[]\n",
    "    bodys=[]\n",
    "    drivertrains=[]\n",
    "    fuels=[]\n",
    "    doors=[]\n",
    "    transmissions=[]\n",
    "\n",
    "    # For each dummified categorical variable in the sample car, append them to the appropriate holding list  \n",
    "    for x in sample.columns:\n",
    "        if 'make' in x:\n",
    "            makes.append(x)\n",
    "        if 'body' in x:\n",
    "            bodys.append(x)\n",
    "        if 'drivertrain' in x:\n",
    "            drivertrains.append(x)\n",
    "        if 'fuel' in x:\n",
    "            fuels.append(x)\n",
    "        if 'door' in x:\n",
    "            doors.append(x)\n",
    "        if 'transmission' in x:\n",
    "            transmissions.append(x)\n",
    "\n",
    "    # Use list addition to compile a list of all columns        \n",
    "    dummy_cols = [makes + bodys + drivertrains + fuels + doors + transmissions + ['log_mileage','year','BHP']]\n",
    "    # Set all attributes in the car sample to zero.\n",
    "    for x in dummy_cols:\n",
    "        sample.loc[:,x]=0\n",
    "\n",
    "    # Now begin to overwrite the blank samples with the associated entered parameters in the function.\n",
    "    sample['year'] = year\n",
    "    sample['BHP'] = BHP\n",
    "    sample['log_mileage'] = np.log(mileage)\n",
    "    sample[f'body_{body}'] = 1\n",
    "    # Got to be careful with transmission because there are only 2 of them. \n",
    "    if transmission == 'Manual':\n",
    "        sample[f'transmission_Manual'] = 1\n",
    "    else:\n",
    "        sample[f'transmission_Manual'] = 0\n",
    "    sample[f'make_{make}'] = 1\n",
    "    sample[f'drivertrain_{drivetrain}'] = 1\n",
    "    sample[f'fuel_{fuel}'] = 1\n",
    "    sample[f'doors_{drs}'] = 1\n",
    "    \n",
    "    # Return the predicted price for the fake car after entering it into the defined model. \n",
    "    return (round(gridsearchgb.best_estimator_.named_steps[\"model\"].predict(sample.iloc[0,:].array.reshape(1, -1))[0],2))\n",
    "    "
   ]
  },
  {
   "cell_type": "markdown",
   "id": "28559c6c",
   "metadata": {},
   "source": [
    "I'm going to show how the `generate_summary` function can work to illuminate exactly what this model is doing 'under the hood'. Using ELI5 I have been able to gain a much better insight into why the model predicts what it does."
   ]
  },
  {
   "cell_type": "code",
   "execution_count": null,
   "id": "8006ad4a",
   "metadata": {
    "ExecuteTime": {
     "start_time": "2022-03-09T18:58:33.760Z"
    }
   },
   "outputs": [],
   "source": [
    "# Look at some car analysis for a random car\n",
    "generate_summary(gridsearchgb.best_estimator_.named_steps[\"model\"],X_testgb.iloc[24, :], verbose=False)"
   ]
  },
  {
   "cell_type": "markdown",
   "id": "48312282",
   "metadata": {},
   "source": [
    "The `generate_summary` function has taken a car listing, returned the true and predicted price, and returned a value breakdown in dataframe format. \n",
    "\n",
    "This value breakdown obtained through some careful manipulation of the ELI5 permutation importance satisfies the [primary objective](#2-executive-summary). Great news.\n",
    "\n",
    "I'm going to take this one step further and put it into a pretty plot which I can share in presentations for this project."
   ]
  },
  {
   "cell_type": "code",
   "execution_count": null,
   "id": "0f990eb6",
   "metadata": {
    "ExecuteTime": {
     "start_time": "2022-03-09T18:58:33.933Z"
    },
    "code_folding": [
     0
    ]
   },
   "outputs": [],
   "source": [
    "# Plot the car value breakdown for this same Mercedes listing \n",
    "\n",
    "# Defining a simple function to return the desired colour of a bar in the coming bar chart depending on whether\n",
    "# or not it's a positive or negative contributor.\n",
    "def red_or_blue(x):\n",
    "    if x>0:\n",
    "        return 'darkblue'\n",
    "    else:\n",
    "        return 'darkred'\n",
    "\n",
    "# Use henerate_summary to create breakdowndf\n",
    "breakdowndf = generate_summary(gridsearchgb.best_estimator_.named_steps[\"model\"],X_testgb.iloc[24, :], verbose=False)\n",
    "# Create an absolute value of price contribution column to be used for sorting\n",
    "breakdowndf['sort']=breakdowndf['Price Contribution (£)'].apply(lambda x: np.abs(x))\n",
    "# Sort the values\n",
    "breakdowndf = breakdowndf.sort_values(by='sort', ascending=False)\n",
    "# Add a colour column to the breakdowndf, to make the plot pretty\n",
    "breakdowndf['colour'] = breakdowndf['Price Contribution (£)'].apply(lambda x: red_or_blue(x))\n",
    "\n",
    "# Plot the horizontal bar\n",
    "plt.rcdefaults()\n",
    "fig, ax = plt.subplots()\n",
    "ax.barh(breakdowndf.index, breakdowndf['Price Contribution (£)'], color='darkblue', edgecolor= 'white', linewidth=2000)\n",
    "barlist = ax.barh(breakdowndf.index, breakdowndf['Price Contribution (£)'], color='darkblue')\n",
    "# Set colour of the bar from the prepped breakdowndf.colour column\n",
    "for i in range(0,10):\n",
    "    barlist[i].set_color(breakdowndf.colour[i])\n",
    "ax.set_xlim(-10000,29000)\n",
    "ax.invert_yaxis()  \n",
    "ax.set_xlabel('Value attributed (£)')\n",
    "ax.set_title('Car Value Breakdown', fontsize=16)\n",
    "ax.axvline(x=0,linewidth=1, color='k')\n",
    "# This manually shifts the labels on each bar - it's not bery good because I have to eyeball it manyally for\n",
    "# each plot. I'd like to improve this in future.\n",
    "shift=[500,500,500,500,-4500,-4500,-4500,-4500,500,400]\n",
    "for i, v in enumerate(round(breakdowndf['Price Contribution (£)'],2)):\n",
    "    ax.text(v + shift[i], i + 00.15, str(v), color='black')\n",
    "plt.tight_layout()\n",
    "plt.show()\n",
    "\n",
    "breakdowndf[['Attribute','Price Contribution (£)','Cumulative Car Price (£)']]"
   ]
  },
  {
   "cell_type": "markdown",
   "id": "78a897fa",
   "metadata": {},
   "source": [
    "I'm really happy with this. £18627 is the average price of a car. This feature is constant in all value breakdowns, then from this point the remaining value discrepancy is attributed to the variability of remaining predictors within the dataset. \n",
    "\n",
    "I'll run the same `generate_summary` function for a different car below and the different car attributes return a new array of price contributions to arrive at the final predicted price."
   ]
  },
  {
   "cell_type": "code",
   "execution_count": null,
   "id": "312bf017",
   "metadata": {
    "ExecuteTime": {
     "start_time": "2022-03-09T18:58:33.953Z"
    },
    "code_folding": [
     0
    ]
   },
   "outputs": [],
   "source": [
    "# Plot the car value breakdown for a sample car, row 40 from the test dataframe.\n",
    "\n",
    "# Use henerate_summary to create breakdowndf\n",
    "breakdowndf = generate_summary(gridsearchgb.best_estimator_.named_steps[\"model\"],X_testgb.iloc[40, :], verbose=False)\n",
    "# Create an absolute value of price contribution column to be used for sorting\n",
    "breakdowndf['sort']=breakdowndf['Price Contribution (£)'].apply(lambda x: np.abs(x))\n",
    "# Sort the values\n",
    "breakdowndf = breakdowndf.sort_values(by='sort', ascending=False)\n",
    "# Add a colour column to the breakdowndf, to make the plot pretty\n",
    "breakdowndf['colour'] = breakdowndf['Price Contribution (£)'].apply(lambda x: red_or_blue(x))\n",
    "\n",
    "# Plot the horizontal bar\n",
    "plt.rcdefaults()\n",
    "fig, ax = plt.subplots()\n",
    "ax.barh(breakdowndf.index, breakdowndf['Price Contribution (£)'], color='darkblue', edgecolor= 'white', linewidth=2000)\n",
    "barlist = ax.barh(breakdowndf.index, breakdowndf['Price Contribution (£)'], color='darkblue')\n",
    "# Set colour of the bar from the prepped breakdowndf.colour column\n",
    "for i in range(0,10):\n",
    "    barlist[i].set_color(breakdowndf.colour[i])\n",
    "ax.set_xlim(-10000,29000)\n",
    "ax.invert_yaxis()  \n",
    "ax.set_xlabel('Value attributed (£)')\n",
    "ax.set_title('Car Value Breakdown', fontsize=16)\n",
    "ax.axvline(x=0,linewidth=1, color='k')\n",
    "# This manually shifts the labels on each bar - it's not bery good because I have to eyeball it manyally for\n",
    "# each plot. I'd like to improve this in future.\n",
    "shift=[500,-5000,500,500,500,-4500,-4500,-4500,-4500,400]\n",
    "for i, v in enumerate(round(breakdowndf['Price Contribution (£)'],2)):\n",
    "    ax.text(v + shift[i], i + 00.15, str(v), color='black')\n",
    "plt.tight_layout()\n",
    "plt.show()\n",
    "\n",
    "breakdowndf[['Attribute','Price Contribution (£)','Cumulative Car Price (£)']]"
   ]
  },
  {
   "cell_type": "markdown",
   "id": "4b82936e",
   "metadata": {},
   "source": [
    "**Obtaining a used car value breakdown like this is something that satisfies the primary project objective.** Furthermore, being able to obtain this sort of insight from the GradientboostingRegressor() makes much of the work done in [4.1 LinearRegression()](#4.1-linear-regression) redundant as the model performance score are inferior to the GradientBoostingRegressor().\n",
    "\n",
    "Now that the primary objective has been satisfied, I'm going to use the `make_and_predict_fake_car` and the `make_and_predict_describe_fake_car` functions to test the hypothesis that:<br><br>\n",
    "    *When all other car attributes are equal, a Dacia branded car is cheaper than a Volvo branded car.*"
   ]
  },
  {
   "cell_type": "code",
   "execution_count": null,
   "id": "0ba23654",
   "metadata": {
    "ExecuteTime": {
     "start_time": "2022-03-09T18:58:33.957Z"
    }
   },
   "outputs": [],
   "source": [
    "# Synthetic Dacia 2018, 30000miles, 120BHP\n",
    "\n",
    "make_and_predict_describe_fake_car(year = 2018,\n",
    "                      mileage = 30000,\n",
    "                      BHP = 120,\n",
    "                      body = 'Hatchback', \n",
    "                      transmission = 'Manual', \n",
    "                      make = 'Dacia', \n",
    "                      drivetrain = 'Front Wheel Drive',\n",
    "                      drs = '5dr', \n",
    "                      fuel = 'Petrol')\n"
   ]
  },
  {
   "cell_type": "code",
   "execution_count": null,
   "id": "e0d6d4ef",
   "metadata": {
    "ExecuteTime": {
     "start_time": "2022-03-09T18:58:33.961Z"
    }
   },
   "outputs": [],
   "source": [
    "# Synthetic Volvo 2018, 30000miles, 120BHP\n",
    "\n",
    "make_and_predict_describe_fake_car(year = 2018,\n",
    "                      mileage = 30000,\n",
    "                      BHP = 120,\n",
    "                      body = 'Hatchback', \n",
    "                      transmission = 'Manual', \n",
    "                      make = 'Volvo', \n",
    "                      drivetrain = 'Front Wheel Drive',\n",
    "                      drs = '5dr', \n",
    "                      fuel = 'Petrol')"
   ]
  },
  {
   "cell_type": "markdown",
   "id": "5f5c8e97",
   "metadata": {},
   "source": [
    "There it is then, for a standard car with the parameters listed below, a Dacia would cost £11439.84 while a Volvo would cost £15134.79. \n",
    "\n",
    "**When all other car attributes are equal, a Dacia branded car is indeed cheaper than a Volvo branded car.**\n",
    "\n",
    "`year = 2018`\n",
    "`mileage = 30000`\n",
    "`BHP = 120`\n",
    "`body = Hatchback `\n",
    "`transmission = Manual `\n",
    "`make = Volvo `\n",
    "`drivetrain = Front Wheel Drive`\n",
    "`drs = 5dr `\n",
    "`fuel = Petrol`"
   ]
  },
  {
   "cell_type": "markdown",
   "id": "1f8df23e",
   "metadata": {},
   "source": [
    "Through curiosity I'm going to take the hypothesis one step further and use the same method to try to obtain an ordered list of car brands in terms of brand price influence."
   ]
  },
  {
   "cell_type": "code",
   "execution_count": null,
   "id": "f4031254",
   "metadata": {
    "ExecuteTime": {
     "start_time": "2022-03-09T18:58:33.966Z"
    },
    "code_folding": [
     0
    ]
   },
   "outputs": [],
   "source": [
    "# Make dummy cars to test hypothesis and dummy car df \n",
    "options = ['Alfa Romeo','Audi','BMW','Chevrolet','Citroen','DS Automobiles','Dacia','Fiat',\n",
    "           'Ford','Honda','Hyundai','Isuzu','Jaguar','Jeep','KIA','Land Rover','Lexus','MG',\n",
    "           'MINI','Mazda','Mercedes-Benz','Mitsubishi','Nissan','Peugeot','Porsche','Renault',\n",
    "           'SEAT','SKODA','Saab','Smart','Ssangyong','Subaru','Suzuki','Tesla','Toyota',\n",
    "           'Vauxhall','Volkswagen','Volvo']  \n",
    "equiv_cars = []\n",
    "# For each of the makes in the list above, run the make_and_predict_fake_car function to obtain an equivalent price.\n",
    "for make in options:\n",
    "    equiv_cars.append(make_and_predict_fake_car(year = 2018, mileage = 30000, BHP = 100, make = make))\n",
    "\n",
    "# Make this into a dataframe    \n",
    "equiv_cars_df = pd.DataFrame({'Make':options,'Price (£)':equiv_cars})\n",
    "# Sort the dataframe based on price\n",
    "equiv_cars_df = equiv_cars_df.sort_values(by='Price (£)', ascending=False)\n",
    "\n",
    "\n",
    "# Plot\n",
    "fig, ax = plt.subplots(figsize=(9,4))\n",
    "ax.bar(equiv_cars_df.Make, equiv_cars_df['Price (£)'], label = 'Predicted price for equivalent car', \n",
    "        width = 0.8, color = 'darkblue', alpha=0.8)\n",
    "barlist = ax.bar(equiv_cars_df.Make, equiv_cars_df['Price (£)'], label = 'Predicted price for equivalent car', \n",
    "        width = 0.8, color = 'darkblue', alpha=0.8)\n",
    "# I have manually labelled the Volvo and Dacia bars dark red, as I want to use this in a presentation later.\n",
    "barlist[9].set_color('darkred')\n",
    "barlist[-3].set_color('darkred')\n",
    "ax.set_title('Predicted price of a standardised car when all attributes are the same but car brand',fontsize=12)\n",
    "ax.set_xlabel(\"Car brand\", fontsize=14)\n",
    "ax.set_ylabel(\"Predicted price (£)\", fontsize=14)\n",
    "ax.set_ylim(4000,30000)\n",
    "plt.tight_layout()\n",
    "plt.xticks(equiv_cars_df.Make, rotation=90)\n",
    "plt.savefig('fakecarbrand.pdf',bbox_inches='tight')\n",
    "plt.show()"
   ]
  },
  {
   "cell_type": "markdown",
   "id": "8cebc452",
   "metadata": {},
   "source": [
    "Ssangyong is the cheapest car brand and Porsche is the most expensive car brand.\n",
    "\n",
    "It would be wise to note at this moment that if a car brand had fewer than 200 cars on the used car market at the time of this project then it was not included in modelling. As such the Lamborghini's and the Bugatti's are not included in this plot."
   ]
  },
  {
   "cell_type": "markdown",
   "id": "8ce984cf",
   "metadata": {},
   "source": [
    "**With this, both the primary and secondary project objectives have been met. That would conclude the modelling stage of this project.**\n",
    "\n",
    "Again, my curiosity got the better of me and I have been tempted to see what my model predicts will happen to the price of my own car over the coming years. I had to make an assumption that I drive 7000 miles a year, and the price forecast doesn't account for any sort of inflation or market conditions, but it's a bit of fun. Some price forecasts are included below. If you're interested the code could be adapted for any car of interest."
   ]
  },
  {
   "cell_type": "code",
   "execution_count": null,
   "id": "be8bb235",
   "metadata": {
    "ExecuteTime": {
     "start_time": "2022-03-09T18:58:33.971Z"
    },
    "code_folding": [
     0
    ]
   },
   "outputs": [],
   "source": [
    "# Plot my polo depreciate over time. There are all sorts of things to think about when making future price \n",
    "# predictions and I don't intend to go into them here. I mention it in more detail in the project readme. \n",
    "\n",
    "polo_price = []\n",
    "yr=2008\n",
    "mil=40000\n",
    "all_miles = []\n",
    "\n",
    "# Loop through the make_and_predict_fake_car 21 times, incrementing the year and adding 7000 miles each year.\n",
    "for i in range(0,21):\n",
    "    polo_price.append(make_and_predict_fake_car(year = yr, \n",
    "                                                mileage = mil,\n",
    "                                                BHP = 64,\n",
    "                                                body = 'Hatchback', \n",
    "                                                transmission = 'Manual', \n",
    "                                                make = 'Volkswagen', \n",
    "                                                drivetrain = 'Front Wheel Drive',\n",
    "                                                drs = '5dr', \n",
    "                                                fuel = 'Petrol'))\n",
    "    all_miles.append(mil)\n",
    "    yr-=1\n",
    "    mil+=7000\n",
    "    \n",
    "polodf = pd.DataFrame({'Year': range(2022,2043), 'Price (£)':polo_price , 'Mileage': all_miles})\n",
    "\n",
    "# Plot the results\n",
    "fig, ax = plt.subplots(figsize=(6,6))\n",
    "ax.set_title('Predicted price of my 2008 VW Polo over time',fontsize=14)\n",
    "ax.set_xlabel(\"Year\", fontsize=13)\n",
    "ax.set_ylabel(\"Predicted price (£)\", fontsize=12)\n",
    "ax.plot(polodf.Year, polodf['Price (£)'], c='darkblue',label = '2008 VW Polo Value')\n",
    "plt.xticks(polodf.Year, rotation=60)\n",
    "ax.set_ylim(1000,5000)\n",
    "plt.tight_layout()\n",
    "plt.show()"
   ]
  },
  {
   "cell_type": "code",
   "execution_count": null,
   "id": "72dd2961",
   "metadata": {
    "ExecuteTime": {
     "start_time": "2022-03-09T18:58:33.974Z"
    },
    "code_folding": [
     0
    ]
   },
   "outputs": [],
   "source": [
    "# Plot George's SAAB depreciate over time. This is just a bit of fun, I had a friend who was interested. \n",
    "\n",
    "saab_price = []\n",
    "yr=2010\n",
    "mil=117000\n",
    "all_miles = []\n",
    "\n",
    "# Loop through the make_and_predict_fake_car 10 times, incrementing the year and adding 7000 miles each year.\n",
    "for i in range(0,10):\n",
    "    saab_price.append(make_and_predict_fake_car(year = yr, \n",
    "                                                mileage = mil,\n",
    "                                                BHP = 156,\n",
    "                                                body = 'Saloon', \n",
    "                                                transmission = 'Automatic', \n",
    "                                                make = 'Saab', \n",
    "                                                drivetrain = 'Front Wheel Drive',\n",
    "                                                drs = '5dr', \n",
    "                                                fuel = 'Diesel'))\n",
    "    all_miles.append(mil)\n",
    "    yr-=1\n",
    "    mil+=7000\n",
    "    \n",
    "saabdf = pd.DataFrame({'Year': range(2022,2032), 'Price (£)':saab_price , 'Mileage': all_miles})\n",
    "\n",
    "fig, ax = plt.subplots(figsize=(5,6))\n",
    "ax.set_title(\"Predicted price of George's SAAB over time\",fontsize=14)\n",
    "ax.set_xlabel(\"Year\", fontsize=13)\n",
    "ax.set_ylabel(\"Predicted price (£)\", fontsize=13)\n",
    "ax.plot(saabdf.Year, saabdf['Price (£)'], c='darkblue',label = '2010 SAAB Value')\n",
    "plt.xticks(saabdf.Year, rotation=60)\n",
    "ax.set_ylim(1000,6000)\n",
    "plt.tight_layout()\n",
    "plt.show()"
   ]
  },
  {
   "cell_type": "markdown",
   "id": "77be26a5",
   "metadata": {},
   "source": [
    "I don't think George was very happy with this forecast, but he shouldn't have bought a SAAB when they're already antiques."
   ]
  }
 ],
 "metadata": {
  "kernelspec": {
   "display_name": "Python 3 (ipykernel)",
   "language": "python",
   "name": "python3"
  },
  "language_info": {
   "codemirror_mode": {
    "name": "ipython",
    "version": 3
   },
   "file_extension": ".py",
   "mimetype": "text/x-python",
   "name": "python",
   "nbconvert_exporter": "python",
   "pygments_lexer": "ipython3",
   "version": "3.9.7"
  },
  "toc": {
   "base_numbering": 1,
   "nav_menu": {},
   "number_sections": true,
   "sideBar": true,
   "skip_h1_title": false,
   "title_cell": "Table of Contents",
   "title_sidebar": "Contents",
   "toc_cell": false,
   "toc_position": {
    "height": "calc(100% - 180px)",
    "left": "10px",
    "top": "150px",
    "width": "377.969px"
   },
   "toc_section_display": true,
   "toc_window_display": true
  },
  "toc-autonumbering": true,
  "toc-showtags": false
 },
 "nbformat": 4,
 "nbformat_minor": 5
}
